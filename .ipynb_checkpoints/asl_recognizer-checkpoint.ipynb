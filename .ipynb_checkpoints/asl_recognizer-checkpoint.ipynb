{
 "cells": [
  {
   "cell_type": "markdown",
   "metadata": {
    "collapsed": true,
    "deletable": true,
    "editable": true
   },
   "source": [
    "# Artificial Intelligence Engineer Nanodegree - Probabilistic Models\n",
    "## Project: Sign Language Recognition System\n",
    "- [Introduction](#intro)\n",
    "- [Part 1 Feature Selection](#part1_tutorial)\n",
    "    - [Tutorial](#part1_tutorial)\n",
    "    - [Features Submission](#part1_submission)\n",
    "    - [Features Unittest](#part1_test)\n",
    "- [Part 2 Train the models](#part2_tutorial)\n",
    "    - [Tutorial](#part2_tutorial)\n",
    "    - [Model Selection Score Submission](#part2_submission)\n",
    "    - [Model Score Unittest](#part2_test)\n",
    "- [Part 3 Build a Recognizer](#part3_tutorial)\n",
    "    - [Tutorial](#part3_tutorial)\n",
    "    - [Recognizer Submission](#part3_submission)\n",
    "    - [Recognizer Unittest](#part3_test)\n",
    "- [Part 4 (OPTIONAL) Improve the WER with Language Models](#part4_info)"
   ]
  },
  {
   "cell_type": "markdown",
   "metadata": {
    "deletable": true,
    "editable": true
   },
   "source": [
    "<a id='intro'></a>\n",
    "## Introduction\n",
    "The overall goal of this project is to build a word recognizer for American Sign Language video sequences, demonstrating the power of probabalistic models.  In particular, this project employs  [hidden Markov models (HMM's)](https://en.wikipedia.org/wiki/Hidden_Markov_model) to analyze a series of measurements taken from videos of American Sign Language (ASL) collected for research (see the [RWTH-BOSTON-104 Database](http://www-i6.informatik.rwth-aachen.de/~dreuw/database-rwth-boston-104.php)).  In this video, the right-hand x and y locations are plotted as the speaker signs the sentence.\n",
    "[![ASLR demo](http://www-i6.informatik.rwth-aachen.de/~dreuw/images/demosample.png)](https://drive.google.com/open?id=0B_5qGuFe-wbhUXRuVnNZVnMtam8)\n",
    "\n",
    "The raw data, train, and test sets are pre-defined.  You will derive a variety of feature sets (explored in Part 1), as well as implement three different model selection criterion to determine the optimal number of hidden states for each word model (explored in Part 2). Finally, in Part 3 you will implement the recognizer and compare the effects the different combinations of feature sets and model selection criteria.  \n",
    "\n",
    "At the end of each Part, complete the submission cells with implementations, answer all questions, and pass the unit tests.  Then submit the completed notebook for review!"
   ]
  },
  {
   "cell_type": "markdown",
   "metadata": {
    "deletable": true,
    "editable": true
   },
   "source": [
    "<a id='part1_tutorial'></a>\n",
    "## PART 1: Data\n",
    "\n",
    "### Features Tutorial\n",
    "##### Load the initial database\n",
    "A data handler designed for this database is provided in the student codebase as the `AslDb` class in the `asl_data` module.  This handler creates the initial [pandas](http://pandas.pydata.org/pandas-docs/stable/) dataframe from the corpus of data included in the `data` directory as well as dictionaries suitable for extracting data in a format friendly to the [hmmlearn](https://hmmlearn.readthedocs.io/en/latest/) library.  We'll use those to create models in Part 2.\n",
    "\n",
    "To start, let's set up the initial database and select an example set of features for the training set.  At the end of Part 1, you will create additional feature sets for experimentation. "
   ]
  },
  {
   "cell_type": "code",
   "execution_count": 1,
   "metadata": {
    "collapsed": false,
    "deletable": true,
    "editable": true
   },
   "outputs": [
    {
     "name": "stdout",
     "output_type": "stream",
     "text": [
      "Index(['left-x', 'left-y', 'right-x', 'right-y', 'nose-x', 'nose-y',\n",
      "       'speaker'],\n",
      "      dtype='object')\n"
     ]
    }
   ],
   "source": [
    "import numpy as np\n",
    "import pandas as pd\n",
    "from asl_data import AslDb\n",
    "\n",
    "import warnings\n",
    "warnings.filterwarnings('ignore')\n",
    "\n",
    "asl = AslDb() # initializes the database\n",
    "asl.df.head() # displays the first five rows of the asl database, indexed by video and frame\n",
    "print(asl.df.keys())"
   ]
  },
  {
   "cell_type": "code",
   "execution_count": 2,
   "metadata": {
    "collapsed": false,
    "deletable": true,
    "editable": true
   },
   "outputs": [
    {
     "data": {
      "text/plain": [
       "left-x         149\n",
       "left-y         181\n",
       "right-x        170\n",
       "right-y        175\n",
       "nose-x         161\n",
       "nose-y          62\n",
       "speaker    woman-1\n",
       "Name: (98, 1), dtype: object"
      ]
     },
     "execution_count": 2,
     "metadata": {},
     "output_type": "execute_result"
    }
   ],
   "source": [
    "asl.df.ix[98,1]  # look at the data available for an individual frame"
   ]
  },
  {
   "cell_type": "markdown",
   "metadata": {
    "deletable": true,
    "editable": true
   },
   "source": [
    "The frame represented by video 98, frame 1 is shown here:\n",
    "![Video 98](http://www-i6.informatik.rwth-aachen.de/~dreuw/database/rwth-boston-104/overview/images/orig/098-start.jpg)"
   ]
  },
  {
   "cell_type": "markdown",
   "metadata": {
    "deletable": true,
    "editable": true
   },
   "source": [
    "##### Feature selection for training the model\n",
    "The objective of feature selection when training a model is to choose the most relevant variables while keeping the model as simple as possible, thus reducing training time.  We can use the raw features already provided or derive our own and add columns to the pandas dataframe `asl.df` for selection. As an example, in the next cell a feature named `'grnd-ry'` is added. This feature is the difference between the right-hand y value and the nose y value, which serves as the \"ground\" right y value. "
   ]
  },
  {
   "cell_type": "code",
   "execution_count": 3,
   "metadata": {
    "collapsed": false,
    "deletable": true,
    "editable": true
   },
   "outputs": [
    {
     "data": {
      "text/html": [
       "<div>\n",
       "<table border=\"1\" class=\"dataframe\">\n",
       "  <thead>\n",
       "    <tr style=\"text-align: right;\">\n",
       "      <th></th>\n",
       "      <th></th>\n",
       "      <th>left-x</th>\n",
       "      <th>left-y</th>\n",
       "      <th>right-x</th>\n",
       "      <th>right-y</th>\n",
       "      <th>nose-x</th>\n",
       "      <th>nose-y</th>\n",
       "      <th>speaker</th>\n",
       "      <th>grnd-ry</th>\n",
       "    </tr>\n",
       "    <tr>\n",
       "      <th>video</th>\n",
       "      <th>frame</th>\n",
       "      <th></th>\n",
       "      <th></th>\n",
       "      <th></th>\n",
       "      <th></th>\n",
       "      <th></th>\n",
       "      <th></th>\n",
       "      <th></th>\n",
       "      <th></th>\n",
       "    </tr>\n",
       "  </thead>\n",
       "  <tbody>\n",
       "    <tr>\n",
       "      <th rowspan=\"5\" valign=\"top\">98</th>\n",
       "      <th>0</th>\n",
       "      <td>149</td>\n",
       "      <td>181</td>\n",
       "      <td>170</td>\n",
       "      <td>175</td>\n",
       "      <td>161</td>\n",
       "      <td>62</td>\n",
       "      <td>woman-1</td>\n",
       "      <td>113</td>\n",
       "    </tr>\n",
       "    <tr>\n",
       "      <th>1</th>\n",
       "      <td>149</td>\n",
       "      <td>181</td>\n",
       "      <td>170</td>\n",
       "      <td>175</td>\n",
       "      <td>161</td>\n",
       "      <td>62</td>\n",
       "      <td>woman-1</td>\n",
       "      <td>113</td>\n",
       "    </tr>\n",
       "    <tr>\n",
       "      <th>2</th>\n",
       "      <td>149</td>\n",
       "      <td>181</td>\n",
       "      <td>170</td>\n",
       "      <td>175</td>\n",
       "      <td>161</td>\n",
       "      <td>62</td>\n",
       "      <td>woman-1</td>\n",
       "      <td>113</td>\n",
       "    </tr>\n",
       "    <tr>\n",
       "      <th>3</th>\n",
       "      <td>149</td>\n",
       "      <td>181</td>\n",
       "      <td>170</td>\n",
       "      <td>175</td>\n",
       "      <td>161</td>\n",
       "      <td>62</td>\n",
       "      <td>woman-1</td>\n",
       "      <td>113</td>\n",
       "    </tr>\n",
       "    <tr>\n",
       "      <th>4</th>\n",
       "      <td>149</td>\n",
       "      <td>181</td>\n",
       "      <td>170</td>\n",
       "      <td>175</td>\n",
       "      <td>161</td>\n",
       "      <td>62</td>\n",
       "      <td>woman-1</td>\n",
       "      <td>113</td>\n",
       "    </tr>\n",
       "  </tbody>\n",
       "</table>\n",
       "</div>"
      ],
      "text/plain": [
       "             left-x  left-y  right-x  right-y  nose-x  nose-y  speaker  \\\n",
       "video frame                                                              \n",
       "98    0         149     181      170      175     161      62  woman-1   \n",
       "      1         149     181      170      175     161      62  woman-1   \n",
       "      2         149     181      170      175     161      62  woman-1   \n",
       "      3         149     181      170      175     161      62  woman-1   \n",
       "      4         149     181      170      175     161      62  woman-1   \n",
       "\n",
       "             grnd-ry  \n",
       "video frame           \n",
       "98    0          113  \n",
       "      1          113  \n",
       "      2          113  \n",
       "      3          113  \n",
       "      4          113  "
      ]
     },
     "execution_count": 3,
     "metadata": {},
     "output_type": "execute_result"
    }
   ],
   "source": [
    "asl.df['grnd-ry'] = asl.df['right-y'] - asl.df['nose-y']\n",
    "asl.df.head()  # the new feature 'grnd-ry' is now in the frames dictionary"
   ]
  },
  {
   "cell_type": "markdown",
   "metadata": {
    "deletable": true,
    "editable": true
   },
   "source": [
    "##### Try it!"
   ]
  },
  {
   "cell_type": "code",
   "execution_count": 4,
   "metadata": {
    "collapsed": false,
    "deletable": true,
    "editable": true
   },
   "outputs": [
    {
     "name": "stdout",
     "output_type": "stream",
     "text": [
      "asl.df sample\n"
     ]
    },
    {
     "data": {
      "text/html": [
       "<div>\n",
       "<table border=\"1\" class=\"dataframe\">\n",
       "  <thead>\n",
       "    <tr style=\"text-align: right;\">\n",
       "      <th></th>\n",
       "      <th></th>\n",
       "      <th>left-x</th>\n",
       "      <th>left-y</th>\n",
       "      <th>right-x</th>\n",
       "      <th>right-y</th>\n",
       "      <th>nose-x</th>\n",
       "      <th>nose-y</th>\n",
       "      <th>speaker</th>\n",
       "      <th>grnd-ry</th>\n",
       "      <th>grnd-rx</th>\n",
       "      <th>grnd-ly</th>\n",
       "      <th>grnd-lx</th>\n",
       "    </tr>\n",
       "    <tr>\n",
       "      <th>video</th>\n",
       "      <th>frame</th>\n",
       "      <th></th>\n",
       "      <th></th>\n",
       "      <th></th>\n",
       "      <th></th>\n",
       "      <th></th>\n",
       "      <th></th>\n",
       "      <th></th>\n",
       "      <th></th>\n",
       "      <th></th>\n",
       "      <th></th>\n",
       "      <th></th>\n",
       "    </tr>\n",
       "  </thead>\n",
       "  <tbody>\n",
       "    <tr>\n",
       "      <th rowspan=\"5\" valign=\"top\">98</th>\n",
       "      <th>0</th>\n",
       "      <td>149</td>\n",
       "      <td>181</td>\n",
       "      <td>170</td>\n",
       "      <td>175</td>\n",
       "      <td>161</td>\n",
       "      <td>62</td>\n",
       "      <td>woman-1</td>\n",
       "      <td>113</td>\n",
       "      <td>9</td>\n",
       "      <td>119</td>\n",
       "      <td>-12</td>\n",
       "    </tr>\n",
       "    <tr>\n",
       "      <th>1</th>\n",
       "      <td>149</td>\n",
       "      <td>181</td>\n",
       "      <td>170</td>\n",
       "      <td>175</td>\n",
       "      <td>161</td>\n",
       "      <td>62</td>\n",
       "      <td>woman-1</td>\n",
       "      <td>113</td>\n",
       "      <td>9</td>\n",
       "      <td>119</td>\n",
       "      <td>-12</td>\n",
       "    </tr>\n",
       "    <tr>\n",
       "      <th>2</th>\n",
       "      <td>149</td>\n",
       "      <td>181</td>\n",
       "      <td>170</td>\n",
       "      <td>175</td>\n",
       "      <td>161</td>\n",
       "      <td>62</td>\n",
       "      <td>woman-1</td>\n",
       "      <td>113</td>\n",
       "      <td>9</td>\n",
       "      <td>119</td>\n",
       "      <td>-12</td>\n",
       "    </tr>\n",
       "    <tr>\n",
       "      <th>3</th>\n",
       "      <td>149</td>\n",
       "      <td>181</td>\n",
       "      <td>170</td>\n",
       "      <td>175</td>\n",
       "      <td>161</td>\n",
       "      <td>62</td>\n",
       "      <td>woman-1</td>\n",
       "      <td>113</td>\n",
       "      <td>9</td>\n",
       "      <td>119</td>\n",
       "      <td>-12</td>\n",
       "    </tr>\n",
       "    <tr>\n",
       "      <th>4</th>\n",
       "      <td>149</td>\n",
       "      <td>181</td>\n",
       "      <td>170</td>\n",
       "      <td>175</td>\n",
       "      <td>161</td>\n",
       "      <td>62</td>\n",
       "      <td>woman-1</td>\n",
       "      <td>113</td>\n",
       "      <td>9</td>\n",
       "      <td>119</td>\n",
       "      <td>-12</td>\n",
       "    </tr>\n",
       "  </tbody>\n",
       "</table>\n",
       "</div>"
      ],
      "text/plain": [
       "             left-x  left-y  right-x  right-y  nose-x  nose-y  speaker  \\\n",
       "video frame                                                              \n",
       "98    0         149     181      170      175     161      62  woman-1   \n",
       "      1         149     181      170      175     161      62  woman-1   \n",
       "      2         149     181      170      175     161      62  woman-1   \n",
       "      3         149     181      170      175     161      62  woman-1   \n",
       "      4         149     181      170      175     161      62  woman-1   \n",
       "\n",
       "             grnd-ry  grnd-rx  grnd-ly  grnd-lx  \n",
       "video frame                                      \n",
       "98    0          113        9      119      -12  \n",
       "      1          113        9      119      -12  \n",
       "      2          113        9      119      -12  \n",
       "      3          113        9      119      -12  \n",
       "      4          113        9      119      -12  "
      ]
     },
     "metadata": {},
     "output_type": "display_data"
    },
    {
     "data": {
      "text/html": [
       "<font color=green>Correct!</font><br/>"
      ],
      "text/plain": [
       "<IPython.core.display.HTML object>"
      ]
     },
     "execution_count": 4,
     "metadata": {},
     "output_type": "execute_result"
    }
   ],
   "source": [
    "from asl_utils import test_features_tryit\n",
    "# TODO add df columns for 'grnd-rx', 'grnd-ly', 'grnd-lx' representing differences between hand and nose locations\n",
    "asl.df['grnd-rx'] = asl.df['right-x'] - asl.df['nose-x']\n",
    "asl.df['grnd-ly'] = asl.df['left-y'] - asl.df['nose-y']\n",
    "asl.df['grnd-lx'] = asl.df['left-x'] - asl.df['nose-x']\n",
    "# test the code\n",
    "test_features_tryit(asl)"
   ]
  },
  {
   "cell_type": "code",
   "execution_count": 5,
   "metadata": {
    "collapsed": false,
    "deletable": true,
    "editable": true
   },
   "outputs": [
    {
     "data": {
      "text/plain": [
       "[9, 113, -12, 119]"
      ]
     },
     "execution_count": 5,
     "metadata": {},
     "output_type": "execute_result"
    }
   ],
   "source": [
    "# collect the features into a list\n",
    "features_ground = ['grnd-rx','grnd-ry','grnd-lx','grnd-ly']\n",
    " #show a single set of features for a given (video, frame) tuple\n",
    "[asl.df.ix[98,1][v] for v in features_ground]"
   ]
  },
  {
   "cell_type": "markdown",
   "metadata": {
    "deletable": true,
    "editable": true
   },
   "source": [
    "##### Build the training set\n",
    "Now that we have a feature list defined, we can pass that list to the `build_training` method to collect the features for all the words in the training set.  Each word in the training set has multiple examples from various videos.  Below we can see the unique words that have been loaded into the training set:"
   ]
  },
  {
   "cell_type": "code",
   "execution_count": 6,
   "metadata": {
    "collapsed": false,
    "deletable": true,
    "editable": true
   },
   "outputs": [
    {
     "name": "stdout",
     "output_type": "stream",
     "text": [
      "Training words: ['JOHN', 'WRITE', 'HOMEWORK', 'IX-1P', 'SEE', 'YESTERDAY', 'IX', 'LOVE', 'MARY', 'CAN', 'GO', 'GO1', 'FUTURE', 'GO2', 'PARTY', 'FUTURE1', 'HIT', 'BLAME', 'FRED', 'FISH', 'WONT', 'EAT', 'BUT', 'CHICKEN', 'VEGETABLE', 'CHINA', 'PEOPLE', 'PREFER', 'BROCCOLI', 'LIKE', 'LEAVE', 'SAY', 'BUY', 'HOUSE', 'KNOW', 'CORN', 'CORN1', 'THINK', 'NOT', 'PAST', 'LIVE', 'CHICAGO', 'CAR', 'SHOULD', 'DECIDE', 'VISIT', 'MOVIE', 'WANT', 'SELL', 'TOMORROW', 'NEXT-WEEK', 'NEW-YORK', 'LAST-WEEK', 'WILL', 'FINISH', 'ANN', 'READ', 'BOOK', 'CHOCOLATE', 'FIND', 'SOMETHING-ONE', 'POSS', 'BROTHER', 'ARRIVE', 'HERE', 'GIVE', 'MAN', 'NEW', 'COAT', 'WOMAN', 'GIVE1', 'HAVE', 'FRANK', 'BREAK-DOWN', 'SEARCH-FOR', 'WHO', 'WHAT', 'LEG', 'FRIEND', 'CANDY', 'BLUE', 'SUE', 'BUY1', 'STOLEN', 'OLD', 'STUDENT', 'VIDEOTAPE', 'BORROW', 'MOTHER', 'POTATO', 'TELL', 'BILL', 'THROW', 'APPLE', 'NAME', 'SHOOT', 'SAY-1P', 'SELF', 'GROUP', 'JANA', 'TOY1', 'MANY', 'TOY', 'ALL', 'BOY', 'TEACHER', 'GIRL', 'BOX', 'GIVE2', 'GIVE3', 'GET', 'PUTASIDE']\n"
     ]
    }
   ],
   "source": [
    "training = asl.build_training(features_ground)\n",
    "print(\"Training words: {}\".format(training.words))"
   ]
  },
  {
   "cell_type": "markdown",
   "metadata": {
    "deletable": true,
    "editable": true
   },
   "source": [
    "The training data in `training` is an object of class `WordsData` defined in the `asl_data` module.  in addition to the `words` list, data can be accessed with the `get_all_sequences`, `get_all_Xlengths`, `get_word_sequences`, and `get_word_Xlengths` methods. We need the `get_word_Xlengths` method to train multiple sequences with the `hmmlearn` library.  In the following example, notice that there are two lists; the first is a concatenation of all the sequences(the X portion) and the second is a list of the sequence lengths(the Lengths portion)."
   ]
  },
  {
   "cell_type": "code",
   "execution_count": 7,
   "metadata": {
    "collapsed": false,
    "deletable": true,
    "editable": true
   },
   "outputs": [
    {
     "data": {
      "text/plain": [
       "(array([[-11,  48,   7, 120],\n",
       "        [-11,  48,   8, 109],\n",
       "        [ -8,  49,  11,  98],\n",
       "        [ -7,  50,   7,  87],\n",
       "        [ -4,  54,   7,  77],\n",
       "        [ -4,  54,   6,  69],\n",
       "        [ -4,  54,   6,  69],\n",
       "        [-13,  52,   6,  69],\n",
       "        [-13,  52,   6,  69],\n",
       "        [ -8,  51,   6,  69],\n",
       "        [ -8,  51,   6,  69],\n",
       "        [ -8,  51,   6,  69],\n",
       "        [ -8,  51,   6,  69],\n",
       "        [ -8,  51,   6,  69],\n",
       "        [-10,  59,   7,  71],\n",
       "        [-15,  64,   9,  77],\n",
       "        [-17,  75,  13,  81],\n",
       "        [ -4,  48,  -4, 113],\n",
       "        [ -2,  53,  -4, 113],\n",
       "        [ -4,  55,   2,  98],\n",
       "        [ -4,  58,   2,  98],\n",
       "        [ -1,  59,   2,  89],\n",
       "        [ -1,  59,  -1,  84],\n",
       "        [ -1,  59,  -1,  84],\n",
       "        [ -7,  63,  -1,  84],\n",
       "        [ -7,  63,  -1,  84],\n",
       "        [ -7,  63,   3,  83],\n",
       "        [ -7,  63,   3,  83],\n",
       "        [ -7,  63,   3,  83],\n",
       "        [ -7,  63,   3,  83],\n",
       "        [ -7,  63,   3,  83],\n",
       "        [ -7,  63,   3,  83],\n",
       "        [ -7,  63,   3,  83],\n",
       "        [ -4,  70,   3,  83],\n",
       "        [ -4,  70,   3,  83],\n",
       "        [ -2,  73,   5,  90],\n",
       "        [ -3,  79,  -4,  96],\n",
       "        [-15,  98,  13, 135],\n",
       "        [ -6,  93,  12, 128],\n",
       "        [ -2,  89,  14, 118],\n",
       "        [  5,  90,  10, 108],\n",
       "        [  4,  86,   7, 105],\n",
       "        [  4,  86,   7, 105],\n",
       "        [  4,  86,  13, 100],\n",
       "        [ -3,  82,  14,  96],\n",
       "        [ -3,  82,  14,  96],\n",
       "        [  6,  89,  16, 100],\n",
       "        [  6,  89,  16, 100],\n",
       "        [  7,  85,  17, 111]]), [17, 20, 12])"
      ]
     },
     "execution_count": 7,
     "metadata": {},
     "output_type": "execute_result"
    }
   ],
   "source": [
    "training.get_word_Xlengths('CHOCOLATE')"
   ]
  },
  {
   "cell_type": "markdown",
   "metadata": {
    "deletable": true,
    "editable": true
   },
   "source": [
    "###### More feature sets\n",
    "So far we have a simple feature set that is enough to get started modeling.  However, we might get better results if we manipulate the raw values a bit more, so we will go ahead and set up some other options now for experimentation later.  For example, we could normalize each speaker's range of motion with grouped statistics using [Pandas stats](http://pandas.pydata.org/pandas-docs/stable/api.html#api-dataframe-stats) functions and [pandas groupby](http://pandas.pydata.org/pandas-docs/stable/generated/pandas.DataFrame.groupby.html).  Below is an example for finding the means of all speaker subgroups."
   ]
  },
  {
   "cell_type": "code",
   "execution_count": 8,
   "metadata": {
    "collapsed": false,
    "deletable": true,
    "editable": true,
    "scrolled": true
   },
   "outputs": [
    {
     "data": {
      "text/html": [
       "<div>\n",
       "<table border=\"1\" class=\"dataframe\">\n",
       "  <thead>\n",
       "    <tr style=\"text-align: right;\">\n",
       "      <th></th>\n",
       "      <th>left-x</th>\n",
       "      <th>left-y</th>\n",
       "      <th>right-x</th>\n",
       "      <th>right-y</th>\n",
       "      <th>nose-x</th>\n",
       "      <th>nose-y</th>\n",
       "      <th>grnd-ry</th>\n",
       "      <th>grnd-rx</th>\n",
       "      <th>grnd-ly</th>\n",
       "      <th>grnd-lx</th>\n",
       "    </tr>\n",
       "    <tr>\n",
       "      <th>speaker</th>\n",
       "      <th></th>\n",
       "      <th></th>\n",
       "      <th></th>\n",
       "      <th></th>\n",
       "      <th></th>\n",
       "      <th></th>\n",
       "      <th></th>\n",
       "      <th></th>\n",
       "      <th></th>\n",
       "      <th></th>\n",
       "    </tr>\n",
       "  </thead>\n",
       "  <tbody>\n",
       "    <tr>\n",
       "      <th>man-1</th>\n",
       "      <td>206.248203</td>\n",
       "      <td>218.679449</td>\n",
       "      <td>155.464350</td>\n",
       "      <td>150.371031</td>\n",
       "      <td>175.031756</td>\n",
       "      <td>61.642600</td>\n",
       "      <td>88.728430</td>\n",
       "      <td>-19.567406</td>\n",
       "      <td>157.036848</td>\n",
       "      <td>31.216447</td>\n",
       "    </tr>\n",
       "    <tr>\n",
       "      <th>woman-1</th>\n",
       "      <td>164.661438</td>\n",
       "      <td>161.271242</td>\n",
       "      <td>151.017865</td>\n",
       "      <td>117.332462</td>\n",
       "      <td>162.655120</td>\n",
       "      <td>57.245098</td>\n",
       "      <td>60.087364</td>\n",
       "      <td>-11.637255</td>\n",
       "      <td>104.026144</td>\n",
       "      <td>2.006318</td>\n",
       "    </tr>\n",
       "    <tr>\n",
       "      <th>woman-2</th>\n",
       "      <td>183.214509</td>\n",
       "      <td>176.527232</td>\n",
       "      <td>156.866295</td>\n",
       "      <td>119.835714</td>\n",
       "      <td>170.318973</td>\n",
       "      <td>58.022098</td>\n",
       "      <td>61.813616</td>\n",
       "      <td>-13.452679</td>\n",
       "      <td>118.505134</td>\n",
       "      <td>12.895536</td>\n",
       "    </tr>\n",
       "  </tbody>\n",
       "</table>\n",
       "</div>"
      ],
      "text/plain": [
       "             left-x      left-y     right-x     right-y      nose-x  \\\n",
       "speaker                                                               \n",
       "man-1    206.248203  218.679449  155.464350  150.371031  175.031756   \n",
       "woman-1  164.661438  161.271242  151.017865  117.332462  162.655120   \n",
       "woman-2  183.214509  176.527232  156.866295  119.835714  170.318973   \n",
       "\n",
       "            nose-y    grnd-ry    grnd-rx     grnd-ly    grnd-lx  \n",
       "speaker                                                          \n",
       "man-1    61.642600  88.728430 -19.567406  157.036848  31.216447  \n",
       "woman-1  57.245098  60.087364 -11.637255  104.026144   2.006318  \n",
       "woman-2  58.022098  61.813616 -13.452679  118.505134  12.895536  "
      ]
     },
     "execution_count": 8,
     "metadata": {},
     "output_type": "execute_result"
    }
   ],
   "source": [
    "df_means = asl.df.groupby('speaker').mean()\n",
    "df_means"
   ]
  },
  {
   "cell_type": "markdown",
   "metadata": {
    "deletable": true,
    "editable": true
   },
   "source": [
    "To select a mean that matches by speaker, use the pandas [map](http://pandas.pydata.org/pandas-docs/stable/generated/pandas.Series.map.html) method:"
   ]
  },
  {
   "cell_type": "code",
   "execution_count": 9,
   "metadata": {
    "collapsed": false,
    "deletable": true,
    "editable": true
   },
   "outputs": [
    {
     "data": {
      "text/html": [
       "<div>\n",
       "<table border=\"1\" class=\"dataframe\">\n",
       "  <thead>\n",
       "    <tr style=\"text-align: right;\">\n",
       "      <th></th>\n",
       "      <th></th>\n",
       "      <th>left-x</th>\n",
       "      <th>left-y</th>\n",
       "      <th>right-x</th>\n",
       "      <th>right-y</th>\n",
       "      <th>nose-x</th>\n",
       "      <th>nose-y</th>\n",
       "      <th>speaker</th>\n",
       "      <th>grnd-ry</th>\n",
       "      <th>grnd-rx</th>\n",
       "      <th>grnd-ly</th>\n",
       "      <th>grnd-lx</th>\n",
       "      <th>right-x-mean</th>\n",
       "      <th>left-x-mean</th>\n",
       "      <th>right-y-mean</th>\n",
       "      <th>left-y-mean</th>\n",
       "    </tr>\n",
       "    <tr>\n",
       "      <th>video</th>\n",
       "      <th>frame</th>\n",
       "      <th></th>\n",
       "      <th></th>\n",
       "      <th></th>\n",
       "      <th></th>\n",
       "      <th></th>\n",
       "      <th></th>\n",
       "      <th></th>\n",
       "      <th></th>\n",
       "      <th></th>\n",
       "      <th></th>\n",
       "      <th></th>\n",
       "      <th></th>\n",
       "      <th></th>\n",
       "      <th></th>\n",
       "      <th></th>\n",
       "    </tr>\n",
       "  </thead>\n",
       "  <tbody>\n",
       "    <tr>\n",
       "      <th rowspan=\"5\" valign=\"top\">98</th>\n",
       "      <th>0</th>\n",
       "      <td>149</td>\n",
       "      <td>181</td>\n",
       "      <td>170</td>\n",
       "      <td>175</td>\n",
       "      <td>161</td>\n",
       "      <td>62</td>\n",
       "      <td>woman-1</td>\n",
       "      <td>113</td>\n",
       "      <td>9</td>\n",
       "      <td>119</td>\n",
       "      <td>-12</td>\n",
       "      <td>151.017865</td>\n",
       "      <td>164.661438</td>\n",
       "      <td>117.332462</td>\n",
       "      <td>161.271242</td>\n",
       "    </tr>\n",
       "    <tr>\n",
       "      <th>1</th>\n",
       "      <td>149</td>\n",
       "      <td>181</td>\n",
       "      <td>170</td>\n",
       "      <td>175</td>\n",
       "      <td>161</td>\n",
       "      <td>62</td>\n",
       "      <td>woman-1</td>\n",
       "      <td>113</td>\n",
       "      <td>9</td>\n",
       "      <td>119</td>\n",
       "      <td>-12</td>\n",
       "      <td>151.017865</td>\n",
       "      <td>164.661438</td>\n",
       "      <td>117.332462</td>\n",
       "      <td>161.271242</td>\n",
       "    </tr>\n",
       "    <tr>\n",
       "      <th>2</th>\n",
       "      <td>149</td>\n",
       "      <td>181</td>\n",
       "      <td>170</td>\n",
       "      <td>175</td>\n",
       "      <td>161</td>\n",
       "      <td>62</td>\n",
       "      <td>woman-1</td>\n",
       "      <td>113</td>\n",
       "      <td>9</td>\n",
       "      <td>119</td>\n",
       "      <td>-12</td>\n",
       "      <td>151.017865</td>\n",
       "      <td>164.661438</td>\n",
       "      <td>117.332462</td>\n",
       "      <td>161.271242</td>\n",
       "    </tr>\n",
       "    <tr>\n",
       "      <th>3</th>\n",
       "      <td>149</td>\n",
       "      <td>181</td>\n",
       "      <td>170</td>\n",
       "      <td>175</td>\n",
       "      <td>161</td>\n",
       "      <td>62</td>\n",
       "      <td>woman-1</td>\n",
       "      <td>113</td>\n",
       "      <td>9</td>\n",
       "      <td>119</td>\n",
       "      <td>-12</td>\n",
       "      <td>151.017865</td>\n",
       "      <td>164.661438</td>\n",
       "      <td>117.332462</td>\n",
       "      <td>161.271242</td>\n",
       "    </tr>\n",
       "    <tr>\n",
       "      <th>4</th>\n",
       "      <td>149</td>\n",
       "      <td>181</td>\n",
       "      <td>170</td>\n",
       "      <td>175</td>\n",
       "      <td>161</td>\n",
       "      <td>62</td>\n",
       "      <td>woman-1</td>\n",
       "      <td>113</td>\n",
       "      <td>9</td>\n",
       "      <td>119</td>\n",
       "      <td>-12</td>\n",
       "      <td>151.017865</td>\n",
       "      <td>164.661438</td>\n",
       "      <td>117.332462</td>\n",
       "      <td>161.271242</td>\n",
       "    </tr>\n",
       "  </tbody>\n",
       "</table>\n",
       "</div>"
      ],
      "text/plain": [
       "             left-x  left-y  right-x  right-y  nose-x  nose-y  speaker  \\\n",
       "video frame                                                              \n",
       "98    0         149     181      170      175     161      62  woman-1   \n",
       "      1         149     181      170      175     161      62  woman-1   \n",
       "      2         149     181      170      175     161      62  woman-1   \n",
       "      3         149     181      170      175     161      62  woman-1   \n",
       "      4         149     181      170      175     161      62  woman-1   \n",
       "\n",
       "             grnd-ry  grnd-rx  grnd-ly  grnd-lx  right-x-mean  left-x-mean  \\\n",
       "video frame                                                                  \n",
       "98    0          113        9      119      -12    151.017865   164.661438   \n",
       "      1          113        9      119      -12    151.017865   164.661438   \n",
       "      2          113        9      119      -12    151.017865   164.661438   \n",
       "      3          113        9      119      -12    151.017865   164.661438   \n",
       "      4          113        9      119      -12    151.017865   164.661438   \n",
       "\n",
       "             right-y-mean  left-y-mean  \n",
       "video frame                             \n",
       "98    0        117.332462   161.271242  \n",
       "      1        117.332462   161.271242  \n",
       "      2        117.332462   161.271242  \n",
       "      3        117.332462   161.271242  \n",
       "      4        117.332462   161.271242  "
      ]
     },
     "execution_count": 9,
     "metadata": {},
     "output_type": "execute_result"
    }
   ],
   "source": [
    "asl.df['right-x-mean']= asl.df['speaker'].map(df_means['right-x'])\n",
    "asl.df['left-x-mean']= asl.df['speaker'].map(df_means['left-x'])\n",
    "asl.df['right-y-mean']= asl.df['speaker'].map(df_means['right-y'])\n",
    "asl.df['left-y-mean']= asl.df['speaker'].map(df_means['left-y'])\n",
    "asl.df.head()"
   ]
  },
  {
   "cell_type": "markdown",
   "metadata": {
    "deletable": true,
    "editable": true
   },
   "source": [
    "##### Try it!"
   ]
  },
  {
   "cell_type": "code",
   "execution_count": 10,
   "metadata": {
    "collapsed": false,
    "deletable": true,
    "editable": true
   },
   "outputs": [
    {
     "name": "stdout",
     "output_type": "stream",
     "text": [
      "df_std\n"
     ]
    },
    {
     "data": {
      "text/html": [
       "<div>\n",
       "<table border=\"1\" class=\"dataframe\">\n",
       "  <thead>\n",
       "    <tr style=\"text-align: right;\">\n",
       "      <th></th>\n",
       "      <th>left-x</th>\n",
       "      <th>left-y</th>\n",
       "      <th>right-x</th>\n",
       "      <th>right-y</th>\n",
       "      <th>nose-x</th>\n",
       "      <th>nose-y</th>\n",
       "      <th>grnd-ry</th>\n",
       "      <th>grnd-rx</th>\n",
       "      <th>grnd-ly</th>\n",
       "      <th>grnd-lx</th>\n",
       "      <th>right-x-mean</th>\n",
       "      <th>left-x-mean</th>\n",
       "      <th>right-y-mean</th>\n",
       "      <th>left-y-mean</th>\n",
       "    </tr>\n",
       "    <tr>\n",
       "      <th>speaker</th>\n",
       "      <th></th>\n",
       "      <th></th>\n",
       "      <th></th>\n",
       "      <th></th>\n",
       "      <th></th>\n",
       "      <th></th>\n",
       "      <th></th>\n",
       "      <th></th>\n",
       "      <th></th>\n",
       "      <th></th>\n",
       "      <th></th>\n",
       "      <th></th>\n",
       "      <th></th>\n",
       "      <th></th>\n",
       "    </tr>\n",
       "  </thead>\n",
       "  <tbody>\n",
       "    <tr>\n",
       "      <th>man-1</th>\n",
       "      <td>15.154425</td>\n",
       "      <td>36.328485</td>\n",
       "      <td>18.901917</td>\n",
       "      <td>54.902340</td>\n",
       "      <td>6.654573</td>\n",
       "      <td>5.520045</td>\n",
       "      <td>53.487999</td>\n",
       "      <td>20.269032</td>\n",
       "      <td>36.572749</td>\n",
       "      <td>15.080360</td>\n",
       "      <td>0.0</td>\n",
       "      <td>0.0</td>\n",
       "      <td>0.0</td>\n",
       "      <td>0.0</td>\n",
       "    </tr>\n",
       "    <tr>\n",
       "      <th>woman-1</th>\n",
       "      <td>17.573442</td>\n",
       "      <td>26.594521</td>\n",
       "      <td>16.459943</td>\n",
       "      <td>34.667787</td>\n",
       "      <td>3.549392</td>\n",
       "      <td>3.538330</td>\n",
       "      <td>33.972660</td>\n",
       "      <td>16.764706</td>\n",
       "      <td>27.117393</td>\n",
       "      <td>17.328941</td>\n",
       "      <td>0.0</td>\n",
       "      <td>0.0</td>\n",
       "      <td>0.0</td>\n",
       "      <td>0.0</td>\n",
       "    </tr>\n",
       "    <tr>\n",
       "      <th>woman-2</th>\n",
       "      <td>15.388711</td>\n",
       "      <td>28.825025</td>\n",
       "      <td>14.890288</td>\n",
       "      <td>39.649111</td>\n",
       "      <td>4.099760</td>\n",
       "      <td>3.416167</td>\n",
       "      <td>39.128572</td>\n",
       "      <td>16.191324</td>\n",
       "      <td>29.320655</td>\n",
       "      <td>15.050938</td>\n",
       "      <td>0.0</td>\n",
       "      <td>0.0</td>\n",
       "      <td>0.0</td>\n",
       "      <td>0.0</td>\n",
       "    </tr>\n",
       "  </tbody>\n",
       "</table>\n",
       "</div>"
      ],
      "text/plain": [
       "            left-x     left-y    right-x    right-y    nose-x    nose-y  \\\n",
       "speaker                                                                   \n",
       "man-1    15.154425  36.328485  18.901917  54.902340  6.654573  5.520045   \n",
       "woman-1  17.573442  26.594521  16.459943  34.667787  3.549392  3.538330   \n",
       "woman-2  15.388711  28.825025  14.890288  39.649111  4.099760  3.416167   \n",
       "\n",
       "           grnd-ry    grnd-rx    grnd-ly    grnd-lx  right-x-mean  \\\n",
       "speaker                                                             \n",
       "man-1    53.487999  20.269032  36.572749  15.080360           0.0   \n",
       "woman-1  33.972660  16.764706  27.117393  17.328941           0.0   \n",
       "woman-2  39.128572  16.191324  29.320655  15.050938           0.0   \n",
       "\n",
       "         left-x-mean  right-y-mean  left-y-mean  \n",
       "speaker                                          \n",
       "man-1            0.0           0.0          0.0  \n",
       "woman-1          0.0           0.0          0.0  \n",
       "woman-2          0.0           0.0          0.0  "
      ]
     },
     "metadata": {},
     "output_type": "display_data"
    },
    {
     "data": {
      "text/html": [
       "<font color=green>Correct!</font><br/>"
      ],
      "text/plain": [
       "<IPython.core.display.HTML object>"
      ]
     },
     "execution_count": 10,
     "metadata": {},
     "output_type": "execute_result"
    }
   ],
   "source": [
    "from asl_utils import test_std_tryit\n",
    "# TODO Create a dataframe named `df_std` with standard deviations grouped by speaker\n",
    "df_std = asl.df.groupby('speaker').std()\n",
    "asl.df['right-x-std']= asl.df['speaker'].map(df_std['right-x'])\n",
    "asl.df['left-x-std']= asl.df['speaker'].map(df_std['left-x'])\n",
    "asl.df['right-y-std']= asl.df['speaker'].map(df_std['right-y'])\n",
    "asl.df['left-y-std']= asl.df['speaker'].map(df_std['left-y'])\n",
    "asl.df.head()\n",
    "# test the code\n",
    "test_std_tryit(df_std)"
   ]
  },
  {
   "cell_type": "markdown",
   "metadata": {
    "deletable": true,
    "editable": true
   },
   "source": [
    "<a id='part1_submission'></a>\n",
    "### Features Implementation Submission\n",
    "Implement four feature sets and answer the question that follows.\n",
    "- normalized Cartesian coordinates\n",
    "    - use *mean* and *standard deviation* statistics and the [standard score](https://en.wikipedia.org/wiki/Standard_score) equation to account for speakers with different heights and arm length\n",
    "    \n",
    "- polar coordinates\n",
    "    - calculate polar coordinates with [Cartesian to polar equations](https://en.wikipedia.org/wiki/Polar_coordinate_system#Converting_between_polar_and_Cartesian_coordinates)\n",
    "    - use the [np.arctan2](https://docs.scipy.org/doc/numpy-1.10.0/reference/generated/numpy.arctan2.html) function and *swap the x and y axes* to move the $0$ to $2\\pi$ discontinuity to 12 o'clock instead of 3 o'clock;  in other words, the normal break in radians value from $0$ to $2\\pi$ occurs directly to the left of the speaker's nose, which may be in the signing area and interfere with results.  By swapping the x and y axes, that discontinuity move to directly above the speaker's head, an area not generally used in signing.\n",
    "\n",
    "- delta difference\n",
    "    - as described in Thad's lecture, use the difference in values between one frame and the next frames as features\n",
    "    - pandas [diff method](http://pandas.pydata.org/pandas-docs/stable/generated/pandas.DataFrame.diff.html) and [fillna method](http://pandas.pydata.org/pandas-docs/stable/generated/pandas.DataFrame.fillna.html) will be helpful for this one\n",
    "\n",
    "- custom features\n",
    "    - These are your own design; combine techniques used above or come up with something else entirely. We look forward to seeing what you come up with! \n",
    "    Some ideas to get you started:\n",
    "        - normalize using a [feature scaling equation](https://en.wikipedia.org/wiki/Feature_scaling)\n",
    "        - normalize the polar coordinates\n",
    "        - adding additional deltas\n"
   ]
  },
  {
   "cell_type": "code",
   "execution_count": 11,
   "metadata": {
    "collapsed": false,
    "deletable": true,
    "editable": true
   },
   "outputs": [],
   "source": [
    "# TODO add features for normalized by speaker values of left, right, x, y\n",
    "# Name these 'norm-rx', 'norm-ry', 'norm-lx', and 'norm-ly'\n",
    "# using Z-score scaling (X-Xmean)/Xstd\n",
    "asl.df['norm-rx'] = (asl.df['right-x'] - asl.df['right-x-mean']) / asl.df['right-x-std']\n",
    "asl.df['norm-ry'] = (asl.df['right-y'] - asl.df['right-y-mean']) / asl.df['right-y-std']\n",
    "asl.df['norm-lx'] = (asl.df['left-x'] - asl.df['left-x-mean']) / asl.df['left-x-std']\n",
    "asl.df['norm-ly'] = (asl.df['left-y'] - asl.df['left-y-mean']) / asl.df['left-y-std']\n",
    "features_norm = ['norm-rx', 'norm-ry', 'norm-lx','norm-ly']"
   ]
  },
  {
   "cell_type": "code",
   "execution_count": 12,
   "metadata": {
    "collapsed": false,
    "deletable": true,
    "editable": true
   },
   "outputs": [],
   "source": [
    "# TODO add features for polar coordinate values where the nose is the origin\n",
    "# Name these 'polar-rr', 'polar-rtheta', 'polar-lr', and 'polar-ltheta'\n",
    "# Note that 'polar-rr' and 'polar-rtheta' refer to the radius and angle\n",
    "asl.df['polar-rr'] = np.sqrt(asl.df['grnd-rx']*asl.df['grnd-rx'] + asl.df['grnd-ry']*asl.df['grnd-ry'])\n",
    "asl.df['polar-lr'] = np.sqrt(asl.df['grnd-lx']*asl.df['grnd-lx'] + asl.df['grnd-ly']*asl.df['grnd-ly'])\n",
    "asl.df['polar-rtheta'] = np.arctan2(asl.df['grnd-rx'],asl.df['grnd-ry'])\n",
    "asl.df['polar-ltheta'] = np.arctan2(asl.df['grnd-lx'],asl.df['grnd-ly'])\n",
    "features_polar = ['polar-rr', 'polar-rtheta', 'polar-lr', 'polar-ltheta']"
   ]
  },
  {
   "cell_type": "code",
   "execution_count": 13,
   "metadata": {
    "collapsed": false,
    "deletable": true,
    "editable": true
   },
   "outputs": [
    {
     "data": {
      "text/html": [
       "<div>\n",
       "<table border=\"1\" class=\"dataframe\">\n",
       "  <thead>\n",
       "    <tr style=\"text-align: right;\">\n",
       "      <th></th>\n",
       "      <th></th>\n",
       "      <th>left-x</th>\n",
       "      <th>left-y</th>\n",
       "      <th>right-x</th>\n",
       "      <th>right-y</th>\n",
       "      <th>nose-x</th>\n",
       "      <th>nose-y</th>\n",
       "      <th>speaker</th>\n",
       "      <th>grnd-ry</th>\n",
       "      <th>grnd-rx</th>\n",
       "      <th>grnd-ly</th>\n",
       "      <th>...</th>\n",
       "      <th>norm-lx</th>\n",
       "      <th>norm-ly</th>\n",
       "      <th>polar-rr</th>\n",
       "      <th>polar-lr</th>\n",
       "      <th>polar-rtheta</th>\n",
       "      <th>polar-ltheta</th>\n",
       "      <th>delta-rx</th>\n",
       "      <th>delta-ry</th>\n",
       "      <th>delta-lx</th>\n",
       "      <th>delta-ly</th>\n",
       "    </tr>\n",
       "    <tr>\n",
       "      <th>video</th>\n",
       "      <th>frame</th>\n",
       "      <th></th>\n",
       "      <th></th>\n",
       "      <th></th>\n",
       "      <th></th>\n",
       "      <th></th>\n",
       "      <th></th>\n",
       "      <th></th>\n",
       "      <th></th>\n",
       "      <th></th>\n",
       "      <th></th>\n",
       "      <th></th>\n",
       "      <th></th>\n",
       "      <th></th>\n",
       "      <th></th>\n",
       "      <th></th>\n",
       "      <th></th>\n",
       "      <th></th>\n",
       "      <th></th>\n",
       "      <th></th>\n",
       "      <th></th>\n",
       "      <th></th>\n",
       "    </tr>\n",
       "  </thead>\n",
       "  <tbody>\n",
       "    <tr>\n",
       "      <th rowspan=\"5\" valign=\"top\">98</th>\n",
       "      <th>0</th>\n",
       "      <td>149</td>\n",
       "      <td>181</td>\n",
       "      <td>170</td>\n",
       "      <td>175</td>\n",
       "      <td>161</td>\n",
       "      <td>62</td>\n",
       "      <td>woman-1</td>\n",
       "      <td>113</td>\n",
       "      <td>9</td>\n",
       "      <td>119</td>\n",
       "      <td>...</td>\n",
       "      <td>-0.891199</td>\n",
       "      <td>0.741835</td>\n",
       "      <td>113.35784</td>\n",
       "      <td>119.603512</td>\n",
       "      <td>0.079478</td>\n",
       "      <td>-0.100501</td>\n",
       "      <td>0.0</td>\n",
       "      <td>0.0</td>\n",
       "      <td>0.0</td>\n",
       "      <td>0.0</td>\n",
       "    </tr>\n",
       "    <tr>\n",
       "      <th>1</th>\n",
       "      <td>149</td>\n",
       "      <td>181</td>\n",
       "      <td>170</td>\n",
       "      <td>175</td>\n",
       "      <td>161</td>\n",
       "      <td>62</td>\n",
       "      <td>woman-1</td>\n",
       "      <td>113</td>\n",
       "      <td>9</td>\n",
       "      <td>119</td>\n",
       "      <td>...</td>\n",
       "      <td>-0.891199</td>\n",
       "      <td>0.741835</td>\n",
       "      <td>113.35784</td>\n",
       "      <td>119.603512</td>\n",
       "      <td>0.079478</td>\n",
       "      <td>-0.100501</td>\n",
       "      <td>0.0</td>\n",
       "      <td>0.0</td>\n",
       "      <td>0.0</td>\n",
       "      <td>0.0</td>\n",
       "    </tr>\n",
       "    <tr>\n",
       "      <th>2</th>\n",
       "      <td>149</td>\n",
       "      <td>181</td>\n",
       "      <td>170</td>\n",
       "      <td>175</td>\n",
       "      <td>161</td>\n",
       "      <td>62</td>\n",
       "      <td>woman-1</td>\n",
       "      <td>113</td>\n",
       "      <td>9</td>\n",
       "      <td>119</td>\n",
       "      <td>...</td>\n",
       "      <td>-0.891199</td>\n",
       "      <td>0.741835</td>\n",
       "      <td>113.35784</td>\n",
       "      <td>119.603512</td>\n",
       "      <td>0.079478</td>\n",
       "      <td>-0.100501</td>\n",
       "      <td>0.0</td>\n",
       "      <td>0.0</td>\n",
       "      <td>0.0</td>\n",
       "      <td>0.0</td>\n",
       "    </tr>\n",
       "    <tr>\n",
       "      <th>3</th>\n",
       "      <td>149</td>\n",
       "      <td>181</td>\n",
       "      <td>170</td>\n",
       "      <td>175</td>\n",
       "      <td>161</td>\n",
       "      <td>62</td>\n",
       "      <td>woman-1</td>\n",
       "      <td>113</td>\n",
       "      <td>9</td>\n",
       "      <td>119</td>\n",
       "      <td>...</td>\n",
       "      <td>-0.891199</td>\n",
       "      <td>0.741835</td>\n",
       "      <td>113.35784</td>\n",
       "      <td>119.603512</td>\n",
       "      <td>0.079478</td>\n",
       "      <td>-0.100501</td>\n",
       "      <td>0.0</td>\n",
       "      <td>0.0</td>\n",
       "      <td>0.0</td>\n",
       "      <td>0.0</td>\n",
       "    </tr>\n",
       "    <tr>\n",
       "      <th>4</th>\n",
       "      <td>149</td>\n",
       "      <td>181</td>\n",
       "      <td>170</td>\n",
       "      <td>175</td>\n",
       "      <td>161</td>\n",
       "      <td>62</td>\n",
       "      <td>woman-1</td>\n",
       "      <td>113</td>\n",
       "      <td>9</td>\n",
       "      <td>119</td>\n",
       "      <td>...</td>\n",
       "      <td>-0.891199</td>\n",
       "      <td>0.741835</td>\n",
       "      <td>113.35784</td>\n",
       "      <td>119.603512</td>\n",
       "      <td>0.079478</td>\n",
       "      <td>-0.100501</td>\n",
       "      <td>0.0</td>\n",
       "      <td>0.0</td>\n",
       "      <td>0.0</td>\n",
       "      <td>0.0</td>\n",
       "    </tr>\n",
       "  </tbody>\n",
       "</table>\n",
       "<p>5 rows × 31 columns</p>\n",
       "</div>"
      ],
      "text/plain": [
       "             left-x  left-y  right-x  right-y  nose-x  nose-y  speaker  \\\n",
       "video frame                                                              \n",
       "98    0         149     181      170      175     161      62  woman-1   \n",
       "      1         149     181      170      175     161      62  woman-1   \n",
       "      2         149     181      170      175     161      62  woman-1   \n",
       "      3         149     181      170      175     161      62  woman-1   \n",
       "      4         149     181      170      175     161      62  woman-1   \n",
       "\n",
       "             grnd-ry  grnd-rx  grnd-ly    ...      norm-lx   norm-ly  \\\n",
       "video frame                               ...                          \n",
       "98    0          113        9      119    ...    -0.891199  0.741835   \n",
       "      1          113        9      119    ...    -0.891199  0.741835   \n",
       "      2          113        9      119    ...    -0.891199  0.741835   \n",
       "      3          113        9      119    ...    -0.891199  0.741835   \n",
       "      4          113        9      119    ...    -0.891199  0.741835   \n",
       "\n",
       "              polar-rr    polar-lr  polar-rtheta  polar-ltheta  delta-rx  \\\n",
       "video frame                                                                \n",
       "98    0      113.35784  119.603512      0.079478     -0.100501       0.0   \n",
       "      1      113.35784  119.603512      0.079478     -0.100501       0.0   \n",
       "      2      113.35784  119.603512      0.079478     -0.100501       0.0   \n",
       "      3      113.35784  119.603512      0.079478     -0.100501       0.0   \n",
       "      4      113.35784  119.603512      0.079478     -0.100501       0.0   \n",
       "\n",
       "             delta-ry  delta-lx  delta-ly  \n",
       "video frame                                \n",
       "98    0           0.0       0.0       0.0  \n",
       "      1           0.0       0.0       0.0  \n",
       "      2           0.0       0.0       0.0  \n",
       "      3           0.0       0.0       0.0  \n",
       "      4           0.0       0.0       0.0  \n",
       "\n",
       "[5 rows x 31 columns]"
      ]
     },
     "execution_count": 13,
     "metadata": {},
     "output_type": "execute_result"
    }
   ],
   "source": [
    "# TODO add features for left, right, x, y differences by one time step, i.e. the \"delta\" values discussed in the lecture\n",
    "# Name these 'delta-rx', 'delta-ry', 'delta-lx', and 'delta-ly'\n",
    "#print(asl.df.speaker)\n",
    "asl.df['delta-rx'] =  asl.df['right-x'].diff().fillna(0)\n",
    "asl.df['delta-ry'] =  asl.df['right-y'].diff().fillna(0)\n",
    "asl.df['delta-lx'] =  asl.df['left-x'].diff().fillna(0)\n",
    "asl.df['delta-ly'] =  asl.df['left-y'].diff().fillna(0)\n",
    "features_delta = ['delta-rx', 'delta-ry', 'delta-lx', 'delta-ly']\n",
    "asl.df.head()"
   ]
  },
  {
   "cell_type": "code",
   "execution_count": 14,
   "metadata": {
    "collapsed": false,
    "deletable": true,
    "editable": true
   },
   "outputs": [
    {
     "data": {
      "text/html": [
       "<div>\n",
       "<table border=\"1\" class=\"dataframe\">\n",
       "  <thead>\n",
       "    <tr style=\"text-align: right;\">\n",
       "      <th></th>\n",
       "      <th></th>\n",
       "      <th>left-x</th>\n",
       "      <th>left-y</th>\n",
       "      <th>right-x</th>\n",
       "      <th>right-y</th>\n",
       "      <th>nose-x</th>\n",
       "      <th>nose-y</th>\n",
       "      <th>speaker</th>\n",
       "      <th>grnd-ry</th>\n",
       "      <th>grnd-rx</th>\n",
       "      <th>grnd-ly</th>\n",
       "      <th>...</th>\n",
       "      <th>norm-lx</th>\n",
       "      <th>norm-ly</th>\n",
       "      <th>polar-rr</th>\n",
       "      <th>polar-lr</th>\n",
       "      <th>polar-rtheta</th>\n",
       "      <th>polar-ltheta</th>\n",
       "      <th>delta-rx</th>\n",
       "      <th>delta-ry</th>\n",
       "      <th>delta-lx</th>\n",
       "      <th>delta-ly</th>\n",
       "    </tr>\n",
       "    <tr>\n",
       "      <th>video</th>\n",
       "      <th>frame</th>\n",
       "      <th></th>\n",
       "      <th></th>\n",
       "      <th></th>\n",
       "      <th></th>\n",
       "      <th></th>\n",
       "      <th></th>\n",
       "      <th></th>\n",
       "      <th></th>\n",
       "      <th></th>\n",
       "      <th></th>\n",
       "      <th></th>\n",
       "      <th></th>\n",
       "      <th></th>\n",
       "      <th></th>\n",
       "      <th></th>\n",
       "      <th></th>\n",
       "      <th></th>\n",
       "      <th></th>\n",
       "      <th></th>\n",
       "      <th></th>\n",
       "      <th></th>\n",
       "    </tr>\n",
       "  </thead>\n",
       "  <tbody>\n",
       "    <tr>\n",
       "      <th rowspan=\"5\" valign=\"top\">98</th>\n",
       "      <th>0</th>\n",
       "      <td>149</td>\n",
       "      <td>181</td>\n",
       "      <td>170</td>\n",
       "      <td>175</td>\n",
       "      <td>161</td>\n",
       "      <td>62</td>\n",
       "      <td>woman-1</td>\n",
       "      <td>113</td>\n",
       "      <td>9</td>\n",
       "      <td>119</td>\n",
       "      <td>...</td>\n",
       "      <td>-0.891199</td>\n",
       "      <td>0.741835</td>\n",
       "      <td>113.35784</td>\n",
       "      <td>119.603512</td>\n",
       "      <td>0.079478</td>\n",
       "      <td>-0.100501</td>\n",
       "      <td>0.0</td>\n",
       "      <td>0.0</td>\n",
       "      <td>0.0</td>\n",
       "      <td>0.0</td>\n",
       "    </tr>\n",
       "    <tr>\n",
       "      <th>1</th>\n",
       "      <td>149</td>\n",
       "      <td>181</td>\n",
       "      <td>170</td>\n",
       "      <td>175</td>\n",
       "      <td>161</td>\n",
       "      <td>62</td>\n",
       "      <td>woman-1</td>\n",
       "      <td>113</td>\n",
       "      <td>9</td>\n",
       "      <td>119</td>\n",
       "      <td>...</td>\n",
       "      <td>-0.891199</td>\n",
       "      <td>0.741835</td>\n",
       "      <td>113.35784</td>\n",
       "      <td>119.603512</td>\n",
       "      <td>0.079478</td>\n",
       "      <td>-0.100501</td>\n",
       "      <td>0.0</td>\n",
       "      <td>0.0</td>\n",
       "      <td>0.0</td>\n",
       "      <td>0.0</td>\n",
       "    </tr>\n",
       "    <tr>\n",
       "      <th>2</th>\n",
       "      <td>149</td>\n",
       "      <td>181</td>\n",
       "      <td>170</td>\n",
       "      <td>175</td>\n",
       "      <td>161</td>\n",
       "      <td>62</td>\n",
       "      <td>woman-1</td>\n",
       "      <td>113</td>\n",
       "      <td>9</td>\n",
       "      <td>119</td>\n",
       "      <td>...</td>\n",
       "      <td>-0.891199</td>\n",
       "      <td>0.741835</td>\n",
       "      <td>113.35784</td>\n",
       "      <td>119.603512</td>\n",
       "      <td>0.079478</td>\n",
       "      <td>-0.100501</td>\n",
       "      <td>0.0</td>\n",
       "      <td>0.0</td>\n",
       "      <td>0.0</td>\n",
       "      <td>0.0</td>\n",
       "    </tr>\n",
       "    <tr>\n",
       "      <th>3</th>\n",
       "      <td>149</td>\n",
       "      <td>181</td>\n",
       "      <td>170</td>\n",
       "      <td>175</td>\n",
       "      <td>161</td>\n",
       "      <td>62</td>\n",
       "      <td>woman-1</td>\n",
       "      <td>113</td>\n",
       "      <td>9</td>\n",
       "      <td>119</td>\n",
       "      <td>...</td>\n",
       "      <td>-0.891199</td>\n",
       "      <td>0.741835</td>\n",
       "      <td>113.35784</td>\n",
       "      <td>119.603512</td>\n",
       "      <td>0.079478</td>\n",
       "      <td>-0.100501</td>\n",
       "      <td>0.0</td>\n",
       "      <td>0.0</td>\n",
       "      <td>0.0</td>\n",
       "      <td>0.0</td>\n",
       "    </tr>\n",
       "    <tr>\n",
       "      <th>4</th>\n",
       "      <td>149</td>\n",
       "      <td>181</td>\n",
       "      <td>170</td>\n",
       "      <td>175</td>\n",
       "      <td>161</td>\n",
       "      <td>62</td>\n",
       "      <td>woman-1</td>\n",
       "      <td>113</td>\n",
       "      <td>9</td>\n",
       "      <td>119</td>\n",
       "      <td>...</td>\n",
       "      <td>-0.891199</td>\n",
       "      <td>0.741835</td>\n",
       "      <td>113.35784</td>\n",
       "      <td>119.603512</td>\n",
       "      <td>0.079478</td>\n",
       "      <td>-0.100501</td>\n",
       "      <td>0.0</td>\n",
       "      <td>0.0</td>\n",
       "      <td>0.0</td>\n",
       "      <td>0.0</td>\n",
       "    </tr>\n",
       "  </tbody>\n",
       "</table>\n",
       "<p>5 rows × 31 columns</p>\n",
       "</div>"
      ],
      "text/plain": [
       "             left-x  left-y  right-x  right-y  nose-x  nose-y  speaker  \\\n",
       "video frame                                                              \n",
       "98    0         149     181      170      175     161      62  woman-1   \n",
       "      1         149     181      170      175     161      62  woman-1   \n",
       "      2         149     181      170      175     161      62  woman-1   \n",
       "      3         149     181      170      175     161      62  woman-1   \n",
       "      4         149     181      170      175     161      62  woman-1   \n",
       "\n",
       "             grnd-ry  grnd-rx  grnd-ly    ...      norm-lx   norm-ly  \\\n",
       "video frame                               ...                          \n",
       "98    0          113        9      119    ...    -0.891199  0.741835   \n",
       "      1          113        9      119    ...    -0.891199  0.741835   \n",
       "      2          113        9      119    ...    -0.891199  0.741835   \n",
       "      3          113        9      119    ...    -0.891199  0.741835   \n",
       "      4          113        9      119    ...    -0.891199  0.741835   \n",
       "\n",
       "              polar-rr    polar-lr  polar-rtheta  polar-ltheta  delta-rx  \\\n",
       "video frame                                                                \n",
       "98    0      113.35784  119.603512      0.079478     -0.100501       0.0   \n",
       "      1      113.35784  119.603512      0.079478     -0.100501       0.0   \n",
       "      2      113.35784  119.603512      0.079478     -0.100501       0.0   \n",
       "      3      113.35784  119.603512      0.079478     -0.100501       0.0   \n",
       "      4      113.35784  119.603512      0.079478     -0.100501       0.0   \n",
       "\n",
       "             delta-ry  delta-lx  delta-ly  \n",
       "video frame                                \n",
       "98    0           0.0       0.0       0.0  \n",
       "      1           0.0       0.0       0.0  \n",
       "      2           0.0       0.0       0.0  \n",
       "      3           0.0       0.0       0.0  \n",
       "      4           0.0       0.0       0.0  \n",
       "\n",
       "[5 rows x 31 columns]"
      ]
     },
     "execution_count": 14,
     "metadata": {},
     "output_type": "execute_result"
    }
   ],
   "source": [
    "# TODO add features of your own design, which may be a combination of the above or something else\n",
    "# Name these whatever you would like\n",
    "\"\"\"\n",
    "asl.df['random-rx'] = np.random.uniform(0.,1.,len(asl.df))\n",
    "asl.df['random-ry'] = np.random.uniform(0.,1.,len(asl.df))\n",
    "asl.df['random-lx'] = np.random.uniform(0.,1.,len(asl.df))\n",
    "asl.df['random-ly'] = np.random.uniform(0.,1.,len(asl.df))\n",
    "# TODO define a list named 'features_custom' for building the training set\n",
    "features_custom = ['random-rx', 'random-ry', 'random-lx', 'random-ly']\n",
    "\"\"\"\n",
    "# TODO define a list named 'features_custom' for building the training set\n",
    "features_custom = ['delta-rx', 'delta-ry', 'delta-lx', 'delta-ly', 'norm-rx', 'norm-ry', 'norm-lx','norm-ly']\n",
    "asl.df.head()"
   ]
  },
  {
   "cell_type": "markdown",
   "metadata": {
    "deletable": true,
    "editable": true
   },
   "source": [
    "**Question 1:**  What custom features did you choose for the features_custom set and why?\n",
    "\n",
    "**Answer 1:**\n",
    "\n",
    "I have chosen random features as a baseline against which to test the other features. Of course I expect these to perform significantly worse than the other feature sets.\n",
    "\n",
    "After working with the random features and getting a WER of ~ 97% I changed the custom features to try and reduce the \n",
    "WER below 60% as required by the project.  Using the suggested features (norm, polar and delta) I could achieve ~ 62% WER.  This suggests that the models are underfitting the training examples.  Increasing the number of features per example could help with this so my custom features consist of a combination of the norm and delta features.  I chose the norm features as these seem the most independent of the person signing and the delta features could capture some information on the relative rates of movements that may be suggestive of a particular word."
   ]
  },
  {
   "cell_type": "markdown",
   "metadata": {
    "deletable": true,
    "editable": true
   },
   "source": [
    "<a id='part1_test'></a>\n",
    "### Features Unit Testing\n",
    "Run the following unit tests as a sanity check on the defined \"ground\", \"norm\", \"polar\", and 'delta\"\n",
    "feature sets.  The test simply looks for some valid values but is not exhaustive.  However, the project should not be submitted if these tests don't pass."
   ]
  },
  {
   "cell_type": "code",
   "execution_count": 15,
   "metadata": {
    "collapsed": false,
    "deletable": true,
    "editable": true
   },
   "outputs": [
    {
     "name": "stderr",
     "output_type": "stream",
     "text": [
      "....\n",
      "----------------------------------------------------------------------\n",
      "Ran 4 tests in 0.020s\n",
      "\n",
      "OK\n"
     ]
    },
    {
     "data": {
      "text/plain": [
       "<unittest.runner.TextTestResult run=4 errors=0 failures=0>"
      ]
     },
     "execution_count": 15,
     "metadata": {},
     "output_type": "execute_result"
    }
   ],
   "source": [
    "import unittest\n",
    "# import numpy as np\n",
    "\n",
    "class TestFeatures(unittest.TestCase):\n",
    "\n",
    "    def test_features_ground(self):\n",
    "        sample = (asl.df.ix[98, 1][features_ground]).tolist()\n",
    "        self.assertEqual(sample, [9, 113, -12, 119])\n",
    "\n",
    "    def test_features_norm(self):\n",
    "        sample = (asl.df.ix[98, 1][features_norm]).tolist()\n",
    "        np.testing.assert_almost_equal(sample, [ 1.153,  1.663, -0.891,  0.742], 3)\n",
    "\n",
    "    def test_features_polar(self):\n",
    "        sample = (asl.df.ix[98,1][features_polar]).tolist()\n",
    "        np.testing.assert_almost_equal(sample, [113.3578, 0.0794, 119.603, -0.1005], 3)\n",
    "\n",
    "    def test_features_delta(self):\n",
    "        sample = (asl.df.ix[98, 0][features_delta]).tolist()\n",
    "        self.assertEqual(sample, [0, 0, 0, 0])\n",
    "        sample = (asl.df.ix[98, 18][features_delta]).tolist()\n",
    "        self.assertTrue(sample in [[-16, -5, -2, 4], [-14, -9, 0, 0]], \"Sample value found was {}\".format(sample))\n",
    "                         \n",
    "suite = unittest.TestLoader().loadTestsFromModule(TestFeatures())\n",
    "unittest.TextTestRunner().run(suite)"
   ]
  },
  {
   "cell_type": "markdown",
   "metadata": {
    "collapsed": true,
    "deletable": true,
    "editable": true
   },
   "source": [
    "<a id='part2_tutorial'></a>\n",
    "## PART 2: Model Selection\n",
    "### Model Selection Tutorial\n",
    "The objective of Model Selection is to tune the number of states for each word HMM prior to testing on unseen data.  In this section you will explore three methods: \n",
    "- Log likelihood using cross-validation folds (CV)\n",
    "- Bayesian Information Criterion (BIC)\n",
    "- Discriminative Information Criterion (DIC) "
   ]
  },
  {
   "cell_type": "markdown",
   "metadata": {
    "deletable": true,
    "editable": true
   },
   "source": [
    "##### Train a single word\n",
    "Now that we have built a training set with sequence data, we can \"train\" models for each word.  As a simple starting example, we train a single word using Gaussian hidden Markov models (HMM).   By using the `fit` method during training, the [Baum-Welch Expectation-Maximization](https://en.wikipedia.org/wiki/Baum%E2%80%93Welch_algorithm) (EM) algorithm is invoked iteratively to find the best estimate for the model *for the number of hidden states specified* from a group of sample seequences. For this example, we *assume* the correct number of hidden states is 3, but that is just a guess.  How do we know what the \"best\" number of states for training is?  We will need to find some model selection technique to choose the best parameter."
   ]
  },
  {
   "cell_type": "code",
   "execution_count": 16,
   "metadata": {
    "collapsed": false,
    "deletable": true,
    "editable": true
   },
   "outputs": [
    {
     "name": "stdout",
     "output_type": "stream",
     "text": [
      "Number of states trained in model for BOOK is 3\n",
      "logL = -2331.1138127433182\n"
     ]
    }
   ],
   "source": [
    "import warnings\n",
    "from hmmlearn.hmm import GaussianHMM\n",
    "\n",
    "def train_a_word(word, num_hidden_states, features):\n",
    "    \n",
    "    warnings.filterwarnings(\"ignore\", category=DeprecationWarning)\n",
    "    training = asl.build_training(features)  \n",
    "    X, lengths = training.get_word_Xlengths(word)\n",
    "    model = GaussianHMM(n_components=num_hidden_states, n_iter=1000).fit(X, lengths)\n",
    "    logL = model.score(X, lengths)\n",
    "    return model, logL\n",
    "\n",
    "demoword = 'BOOK'\n",
    "model, logL = train_a_word(demoword, 3, features_ground)\n",
    "print(\"Number of states trained in model for {} is {}\".format(demoword, model.n_components))\n",
    "print(\"logL = {}\".format(logL))"
   ]
  },
  {
   "cell_type": "markdown",
   "metadata": {
    "deletable": true,
    "editable": true
   },
   "source": [
    "The HMM model has been trained and information can be pulled from the model, including means and variances for each feature and hidden state.  The [log likelihood](http://math.stackexchange.com/questions/892832/why-we-consider-log-likelihood-instead-of-likelihood-in-gaussian-distribution) for any individual sample or group of samples can also be calculated with the `score` method."
   ]
  },
  {
   "cell_type": "code",
   "execution_count": 17,
   "metadata": {
    "collapsed": false,
    "deletable": true,
    "editable": true
   },
   "outputs": [
    {
     "name": "stdout",
     "output_type": "stream",
     "text": [
      "Number of states trained in model for BOOK is 3\n",
      "hidden state #0\n",
      "mean =  [ -3.46504869  50.66686933  14.02391587  52.04731066]\n",
      "variance =  [ 49.12346305  43.04799144  39.35109609  47.24195772]\n",
      "\n",
      "hidden state #1\n",
      "mean =  [ -11.45300909   94.109178     19.03512475  102.2030162 ]\n",
      "variance =  [  77.403668    203.35441965   26.68898447  156.12444034]\n",
      "\n",
      "hidden state #2\n",
      "mean =  [ -1.12415027  69.44164191  17.02866283  77.7231196 ]\n",
      "variance =  [ 19.70434594  16.83041492  30.51552305  11.03678246]\n",
      "\n"
     ]
    }
   ],
   "source": [
    "def show_model_stats(word, model):\n",
    "    print(\"Number of states trained in model for {} is {}\".format(word, model.n_components))    \n",
    "    variance=np.array([np.diag(model.covars_[i]) for i in range(model.n_components)])    \n",
    "    for i in range(model.n_components):  # for each hidden state\n",
    "        print(\"hidden state #{}\".format(i))\n",
    "        print(\"mean = \", model.means_[i])\n",
    "        print(\"variance = \", variance[i])\n",
    "        print()\n",
    "    \n",
    "show_model_stats(demoword, model)"
   ]
  },
  {
   "cell_type": "markdown",
   "metadata": {
    "deletable": true,
    "editable": true
   },
   "source": [
    "##### Try it!\n",
    "Experiment by changing the feature set, word, and/or num_hidden_states values in the next cell to see changes in values.  "
   ]
  },
  {
   "cell_type": "code",
   "execution_count": 18,
   "metadata": {
    "collapsed": false,
    "deletable": true,
    "editable": true
   },
   "outputs": [
    {
     "name": "stdout",
     "output_type": "stream",
     "text": [
      "Number of states trained in model for CHOCOLATE is 3\n",
      "hidden state #0\n",
      "mean =  [ -9.30211403  55.32333876   6.92259936  71.24057775]\n",
      "variance =  [ 16.16920957  46.50917372   3.81388185  15.79446427]\n",
      "\n",
      "hidden state #1\n",
      "mean =  [   0.58333333   87.91666667   12.75        108.5       ]\n",
      "variance =  [  39.41055556   18.74388889    9.855       144.4175    ]\n",
      "\n",
      "hidden state #2\n",
      "mean =  [ -5.40587658  60.1652424    2.32479599  91.3095432 ]\n",
      "variance =  [   7.95073876   64.13103127   13.68077479  129.5912395 ]\n",
      "\n",
      "logL = -601.3291470028632\n"
     ]
    }
   ],
   "source": [
    "my_testword = 'CHOCOLATE'\n",
    "model, logL = train_a_word(my_testword, 3, features_ground) # Experiment here with different parameters\n",
    "show_model_stats(my_testword, model)\n",
    "print(\"logL = {}\".format(logL))"
   ]
  },
  {
   "cell_type": "code",
   "execution_count": 19,
   "metadata": {
    "collapsed": false,
    "deletable": true,
    "editable": true
   },
   "outputs": [
    {
     "name": "stdout",
     "output_type": "stream",
     "text": [
      "Number of states trained in model for CHOCOLATE is 3\n",
      "hidden state #0\n",
      "mean =  [-0.54151701 -0.13549492  0.          0.        ]\n",
      "variance =  [  7.40033314e+00   2.07610444e-01   4.54757788e-04   4.54757788e-04]\n",
      "\n",
      "hidden state #1\n",
      "mean =  [ 2.26955318 -0.2690072  -0.67005544 -9.1341518 ]\n",
      "variance =  [  9.26031519   7.66293533   7.67530134  15.28076516]\n",
      "\n",
      "hidden state #2\n",
      "mean =  [ 0.07434035  4.32590509  1.08475329  2.81908645]\n",
      "variance =  [ 14.12290048  15.39826602  12.40214192  17.46963045]\n",
      "\n",
      "logL = -256.56151832675334\n"
     ]
    }
   ],
   "source": [
    "my_testword = 'CHOCOLATE'\n",
    "model, logL = train_a_word(my_testword, 3, features_delta) # Experiment here with different parameters\n",
    "show_model_stats(my_testword, model)\n",
    "print(\"logL = {}\".format(logL))"
   ]
  },
  {
   "cell_type": "code",
   "execution_count": 20,
   "metadata": {
    "collapsed": false,
    "deletable": true,
    "editable": true
   },
   "outputs": [
    {
     "name": "stdout",
     "output_type": "stream",
     "text": [
      "Number of states trained in model for CHOCOLATE is 4\n",
      "hidden state #0\n",
      "mean =  [   0.58333258   87.91666611   12.75000001  108.49999882]\n",
      "variance =  [  39.4105671    18.74389523    9.85499958  144.41752618]\n",
      "\n",
      "hidden state #1\n",
      "mean =  [ -4.93681705  64.73171915   1.62598519  84.91459657]\n",
      "variance =  [  6.1617479   28.36616959   5.47102461  13.11696032]\n",
      "\n",
      "hidden state #2\n",
      "mean =  [  -6.37712306   51.09867416    3.64009161  104.46268173]\n",
      "variance =  [  10.28220014   12.44316166   27.33390004  106.91029392]\n",
      "\n",
      "hidden state #3\n",
      "mean =  [ -9.23835975  55.307463     6.92298661  71.30538347]\n",
      "variance =  [ 16.30887738  45.97071639   3.76856896  15.98215464]\n",
      "\n",
      "logL = -565.1243334331168\n"
     ]
    }
   ],
   "source": [
    "my_testword = 'CHOCOLATE'\n",
    "model, logL = train_a_word(my_testword, 4, features_ground) # Experiment here with different parameters\n",
    "show_model_stats(my_testword, model)\n",
    "print(\"logL = {}\".format(logL))"
   ]
  },
  {
   "cell_type": "code",
   "execution_count": 21,
   "metadata": {
    "collapsed": false,
    "deletable": true,
    "editable": true
   },
   "outputs": [
    {
     "name": "stdout",
     "output_type": "stream",
     "text": [
      "Number of states trained in model for CHOCOLATE is 2\n",
      "hidden state #0\n",
      "mean =  [   0.58333332   87.91666665   12.75        108.49999997]\n",
      "variance =  [  39.41055582   18.74388903    9.85499999  144.41750059]\n",
      "\n",
      "hidden state #1\n",
      "mean =  [ -6.75675675  58.48648648   3.91891892  84.35135135]\n",
      "variance =  [  14.23840026   63.33116867   15.04775016  181.36330904]\n",
      "\n",
      "logL = -635.4602441290585\n"
     ]
    }
   ],
   "source": [
    "my_testword = 'CHOCOLATE'\n",
    "model, logL = train_a_word(my_testword, 2, features_ground) # Experiment here with different parameters\n",
    "show_model_stats(my_testword, model)\n",
    "print(\"logL = {}\".format(logL))"
   ]
  },
  {
   "cell_type": "code",
   "execution_count": 22,
   "metadata": {
    "collapsed": false,
    "deletable": true,
    "editable": true
   },
   "outputs": [
    {
     "name": "stdout",
     "output_type": "stream",
     "text": [
      "Number of states trained in model for CHOCOLATE is 4\n",
      "hidden state #0\n",
      "mean =  [  2.83210545  -0.58307925  -0.5002342  -10.33228893]\n",
      "variance =  [ 9.97221102  8.57365789  9.08040501  9.22168899]\n",
      "\n",
      "hidden state #1\n",
      "mean =  [ 0.          0.          0.26411255 -0.83378972]\n",
      "variance =  [  4.39790881e-04   4.39790881e-04   2.65711431e+00   4.34840452e+00]\n",
      "\n",
      "hidden state #2\n",
      "mean =  [-1.79145183  2.20484802  0.          0.        ]\n",
      "variance =  [  2.69710624e+01   9.47153709e+00   1.37803730e-03   1.37803730e-03]\n",
      "\n",
      "hidden state #3\n",
      "mean =  [ 0.28571692  5.14285218  0.42857031  5.7142692 ]\n",
      "variance =  [ 17.06263607  19.26672401  15.67485365   7.06272726]\n",
      "\n",
      "logL = -202.21154622071623\n"
     ]
    }
   ],
   "source": [
    "my_testword = 'CHOCOLATE'\n",
    "model, logL = train_a_word(my_testword, 4, features_delta) # Experiment here with different parameters\n",
    "show_model_stats(my_testword, model)\n",
    "print(\"logL = {}\".format(logL))"
   ]
  },
  {
   "cell_type": "markdown",
   "metadata": {
    "deletable": true,
    "editable": true
   },
   "source": [
    "##### Visualize the hidden states\n",
    "We can plot the means and variances for each state and feature.  Try varying the number of states trained for the HMM model and examine the variances.  Are there some models that are \"better\" than others?  How can you tell?  We would like to hear what you think in the classroom online."
   ]
  },
  {
   "cell_type": "code",
   "execution_count": 23,
   "metadata": {
    "collapsed": false,
    "deletable": true,
    "editable": true
   },
   "outputs": [],
   "source": [
    "import matplotlib\n",
    "%matplotlib inline"
   ]
  },
  {
   "cell_type": "code",
   "execution_count": 24,
   "metadata": {
    "collapsed": false,
    "deletable": true,
    "editable": true
   },
   "outputs": [
    {
     "data": {
      "image/png": "[encoded data removed]",
      "text/plain": [
       "<matplotlib.figure.Figure at 0x118c79e80>"
      ]
     },
     "metadata": {},
     "output_type": "display_data"
    },
    {
     "data": {
      "image/png": "[encoded data removed]",
      "text/plain": [
       "<matplotlib.figure.Figure at 0x118c4c160>"
      ]
     },
     "metadata": {},
     "output_type": "display_data"
    },
    {
     "data": {
      "image/png": "[encoded data removed]",
      "text/plain": [
       "<matplotlib.figure.Figure at 0x11c034ef0>"
      ]
     },
     "metadata": {},
     "output_type": "display_data"
    },
    {
     "data": {
      "image/png": "[encoded data removed]",
      "text/plain": [
       "<matplotlib.figure.Figure at 0x11c1f4c50>"
      ]
     },
     "metadata": {},
     "output_type": "display_data"
    }
   ],
   "source": [
    "import math\n",
    "from matplotlib import (cm, pyplot as plt, mlab)\n",
    "\n",
    "def visualize(word, model):\n",
    "    \"\"\" visualize the input model for a particular word \"\"\"\n",
    "    variance=np.array([np.diag(model.covars_[i]) for i in range(model.n_components)])\n",
    "    figures = []\n",
    "    for parm_idx in range(len(model.means_[0])):\n",
    "        xmin = int(min(model.means_[:,parm_idx]) - max(variance[:,parm_idx]))\n",
    "        xmax = int(max(model.means_[:,parm_idx]) + max(variance[:,parm_idx]))\n",
    "        fig, axs = plt.subplots(model.n_components, sharex=True, sharey=False)\n",
    "        colours = cm.rainbow(np.linspace(0, 1, model.n_components))\n",
    "        for i, (ax, colour) in enumerate(zip(axs, colours)):\n",
    "            x = np.linspace(xmin, xmax, 100)\n",
    "            mu = model.means_[i,parm_idx]\n",
    "            sigma = math.sqrt(np.diag(model.covars_[i])[parm_idx])\n",
    "            ax.plot(x, mlab.normpdf(x, mu, sigma), c=colour)\n",
    "            ax.set_title(\"{} feature {} hidden state #{}\".format(word, parm_idx, i))\n",
    "\n",
    "            ax.grid(True)\n",
    "        figures.append(plt)\n",
    "    for p in figures:\n",
    "        p.show()\n",
    "        \n",
    "visualize(my_testword, model)"
   ]
  },
  {
   "cell_type": "markdown",
   "metadata": {
    "deletable": true,
    "editable": true
   },
   "source": [
    "#####  ModelSelector class\n",
    "Review the `SelectorModel` class from the codebase found in the `my_model_selectors.py` module.  It is designed to be a strategy pattern for choosing different model selectors.  For the project submission in this section, subclass `SelectorModel` to implement the following model selectors.  In other words, you will write your own classes/functions in the `my_model_selectors.py` module and run them from this notebook:\n",
    "\n",
    "- `SelectorCV `:  Log likelihood with CV\n",
    "- `SelectorBIC`: BIC \n",
    "- `SelectorDIC`: DIC\n",
    "\n",
    "You will train each word in the training set with a range of values for the number of hidden states, and then score these alternatives with the model selector, choosing the \"best\" according to each strategy. The simple case of training with a constant value for `n_components` can be called using the provided `SelectorConstant` subclass as follow:"
   ]
  },
  {
   "cell_type": "code",
   "execution_count": 25,
   "metadata": {
    "collapsed": false,
    "deletable": true,
    "editable": true
   },
   "outputs": [
    {
     "name": "stdout",
     "output_type": "stream",
     "text": [
      "Number of states trained in model for VEGETABLE is 3\n"
     ]
    }
   ],
   "source": [
    "from my_model_selectors import SelectorConstant\n",
    "\n",
    "training = asl.build_training(features_ground)  # Experiment here with different feature sets defined in part 1\n",
    "word = 'VEGETABLE' # Experiment here with different words\n",
    "model = SelectorConstant(training.get_all_sequences(), training.get_all_Xlengths(), word, n_constant=3).select()\n",
    "print(\"Number of states trained in model for {} is {}\".format(word, model.n_components))"
   ]
  },
  {
   "cell_type": "markdown",
   "metadata": {
    "deletable": true,
    "editable": true
   },
   "source": [
    "##### Cross-validation folds\n",
    "If we simply score the model with the Log Likelihood calculated from the feature sequences it has been trained on, we should expect that more complex models will have higher likelihoods. However, that doesn't tell us which would have a better likelihood score on unseen data.  The model will likely be overfit as complexity is added.  To estimate which topology model is better using only the training data, we can compare scores using cross-validation.  One technique for cross-validation is to break the training set into \"folds\" and rotate which fold is left out of training.  The \"left out\" fold scored.  This gives us a proxy method of finding the best model to use on \"unseen data\". In the following example, a set of word sequences is broken into three folds using the [scikit-learn Kfold](http://scikit-learn.org/stable/modules/generated/sklearn.model_selection.KFold.html) class object. When you implement `SelectorCV`, you will use this technique."
   ]
  },
  {
   "cell_type": "code",
   "execution_count": 26,
   "metadata": {
    "collapsed": false,
    "deletable": true,
    "editable": true
   },
   "outputs": [
    {
     "name": "stdout",
     "output_type": "stream",
     "text": [
      "Train fold indices:[2 3 4 5] Test fold indices:[0 1]\n",
      "Train fold indices:[0 1 4 5] Test fold indices:[2 3]\n",
      "Train fold indices:[0 1 2 3] Test fold indices:[4 5]\n"
     ]
    }
   ],
   "source": [
    "from sklearn.model_selection import KFold\n",
    "\n",
    "training = asl.build_training(features_ground) # Experiment here with different feature sets\n",
    "word = 'VEGETABLE' # Experiment here with different words\n",
    "word_sequences = training.get_word_sequences(word)\n",
    "split_method = KFold()\n",
    "for cv_train_idx, cv_test_idx in split_method.split(word_sequences):\n",
    "    print(\"Train fold indices:{} Test fold indices:{}\".format(cv_train_idx, cv_test_idx))  # view indices of the folds"
   ]
  },
  {
   "cell_type": "markdown",
   "metadata": {
    "deletable": true,
    "editable": true
   },
   "source": [
    "**Tip:** In order to run `hmmlearn` training using the X,lengths tuples on the new folds, subsets must be combined based on the indices given for the folds.  A helper utility has been provided in the `asl_utils` module named `combine_sequences` for this purpose."
   ]
  },
  {
   "cell_type": "markdown",
   "metadata": {
    "deletable": true,
    "editable": true
   },
   "source": [
    "##### Scoring models with other criterion\n",
    "Scoring model topologies with **BIC** balances fit and complexity within the training set for each word.  In the BIC equation, a penalty term penalizes complexity to avoid overfitting, so that it is not necessary to also use cross-validation in the selection process.  There are a number of references on the internet for this criterion.  These [slides](http://www2.imm.dtu.dk/courses/02433/doc/ch6_slides.pdf) include a formula you may find helpful for your implementation.\n",
    "\n",
    "The advantages of scoring model topologies with **DIC** over BIC are presented by Alain Biem in this [reference](http://citeseerx.ist.psu.edu/viewdoc/download?doi=10.1.1.58.6208&rep=rep1&type=pdf) (also found [here](https://pdfs.semanticscholar.org/ed3d/7c4a5f607201f3848d4c02dd9ba17c791fc2.pdf)).  DIC scores the discriminant ability of a training set for one word against competing words.  Instead of a penalty term for complexity, it provides a penalty if model liklihoods for non-matching words are too similar to model likelihoods for the correct word in the word set."
   ]
  },
  {
   "cell_type": "markdown",
   "metadata": {
    "deletable": true,
    "editable": true
   },
   "source": [
    "<a id='part2_submission'></a>\n",
    "### Model Selection Implementation Submission\n",
    "Implement `SelectorCV`, `SelectorBIC`, and `SelectorDIC` classes in the `my_model_selectors.py` module.  Run the selectors on the following five words. Then answer the questions about your results.\n",
    "\n",
    "**Tip:** The `hmmlearn` library may not be able to train or score all models.  Implement try/except contructs as necessary to eliminate non-viable models from consideration."
   ]
  },
  {
   "cell_type": "code",
   "execution_count": 27,
   "metadata": {
    "collapsed": false,
    "deletable": true,
    "editable": true
   },
   "outputs": [],
   "source": [
    "words_to_train = ['FISH', 'BOOK', 'VEGETABLE', 'FUTURE', 'JOHN']\n",
    "import timeit"
   ]
  },
  {
   "cell_type": "code",
   "execution_count": 29,
   "metadata": {
    "collapsed": false,
    "deletable": true,
    "editable": true
   },
   "outputs": [
    {
     "name": "stdout",
     "output_type": "stream",
     "text": [
      "Training complete for FISH with 11 states with time 0.5548794859787449 seconds\n",
      "Training complete for BOOK with 2 states with time 4.64992270199582 seconds\n",
      "Training complete for VEGETABLE with 2 states with time 1.9704741530003957 seconds\n",
      "Training complete for FUTURE with 2 states with time 5.119007387023885 seconds\n",
      "Training complete for JOHN with 3 states with time 44.06289585999912 seconds\n"
     ]
    }
   ],
   "source": [
    "# TODO: Implement SelectorCV in my_model_selector.py\n",
    "from my_model_selectors import SelectorCV\n",
    "\n",
    "training = asl.build_training(features_ground)  # Experiment here with different feature sets defined in part 1\n",
    "sequences = training.get_all_sequences()\n",
    "Xlengths = training.get_all_Xlengths()\n",
    "for word in words_to_train:\n",
    "    #print(word)\n",
    "    start = timeit.default_timer()\n",
    "    model = SelectorCV(sequences, Xlengths, word, \n",
    "                       min_n_components=2, max_n_components=15, random_state = 14).select()\n",
    "    end = timeit.default_timer()-start\n",
    "    if model is not None:\n",
    "        print(\"Training complete for {} with {} states with time {} seconds\".format(word, model.n_components, end))\n",
    "    else:\n",
    "        print(\"Training failed for {}\".format(word))"
   ]
  },
  {
   "cell_type": "code",
   "execution_count": 30,
   "metadata": {
    "collapsed": false,
    "deletable": true,
    "editable": true
   },
   "outputs": [
    {
     "name": "stdout",
     "output_type": "stream",
     "text": [
      "Training complete for FISH with 2 states with time 0.46091217402135953 seconds\n",
      "Training complete for BOOK with 5 states with time 2.1194114420213737 seconds\n",
      "Training complete for VEGETABLE with 2 states with time 0.8044089110335335 seconds\n",
      "Training complete for FUTURE with 7 states with time 2.635228064027615 seconds\n",
      "Training complete for JOHN with 11 states with time 23.15310312603833 seconds\n"
     ]
    }
   ],
   "source": [
    "%load_ext autoreload\n",
    "%autoreload 2\n",
    "# TODO: Implement SelectorBIC in module my_model_selectors.py\n",
    "from my_model_selectors import SelectorBIC\n",
    "\n",
    "training = asl.build_training(features_norm)  # Experiment here with different feature sets defined in part 1\n",
    "sequences = training.get_all_sequences()\n",
    "Xlengths = training.get_all_Xlengths()\n",
    "for word in words_to_train:\n",
    "    start = timeit.default_timer()\n",
    "    model = SelectorBIC(sequences, Xlengths, word, \n",
    "                    min_n_components=2, max_n_components=15, random_state = 14).select()\n",
    "    end = timeit.default_timer()-start\n",
    "    if model is not None:\n",
    "        print(\"Training complete for {} with {} states with time {} seconds\".format(word, model.n_components, end))\n",
    "    else:\n",
    "        print(\"Training failed for {}\".format(word))"
   ]
  },
  {
   "cell_type": "code",
   "execution_count": 31,
   "metadata": {
    "collapsed": false,
    "deletable": true,
    "editable": true
   },
   "outputs": [
    {
     "name": "stdout",
     "output_type": "stream",
     "text": [
      "Training complete for FISH with 3 states with time 1.0783531329943798 seconds\n",
      "Training complete for BOOK with 3 states with time 5.214571609045379 seconds\n",
      "Training complete for VEGETABLE with 3 states with time 3.402114053023979 seconds\n",
      "Training complete for FUTURE with 3 states with time 5.435321555007249 seconds\n",
      "Training complete for JOHN with 3 states with time 26.509897289040964 seconds\n"
     ]
    }
   ],
   "source": [
    "# TODO: Implement SelectorDIC in module my_model_selectors.py\n",
    "from my_model_selectors import SelectorDIC\n",
    "\n",
    "training = asl.build_training(features_ground)  # Experiment here with different feature sets defined in part 1\n",
    "sequences = training.get_all_sequences()\n",
    "Xlengths = training.get_all_Xlengths()\n",
    "for word in words_to_train:\n",
    "    start = timeit.default_timer()\n",
    "    model = SelectorDIC(sequences, Xlengths, word, \n",
    "                    min_n_components=2, max_n_components=15, random_state = 14).select()\n",
    "    end = timeit.default_timer()-start\n",
    "    if model is not None:\n",
    "        print(\"Training complete for {} with {} states with time {} seconds\".format(word, model.n_components, end))\n",
    "    else:\n",
    "        print(\"Training failed for {}\".format(word))"
   ]
  },
  {
   "cell_type": "markdown",
   "metadata": {
    "deletable": true,
    "editable": true
   },
   "source": [
    "**Question 2:**  Compare and contrast the possible advantages and disadvantages of the various model selectors implemented.\n",
    "\n",
    "**Answer 2:**\n",
    "\n",
    "I know of cross validation from past experience with machine learning.  It initially seems like the best choice as it uses a small validation set that gives an independent estimate of performance.  So poor performance on the validation set would indicate the trained model has overfit the training data.  While good performance on the validation set would indicate the a good model has been trained.  However, this is all dependent on the validation set being truly representative of all the data we expect to see.  This will perhaps be the downfall here, some words have so few examples that the training and validation set are very small and the trained model is not general enough to apply to unseen data, or we get a noisy measure of the expected performance from the validation set.\n",
    "\n",
    "In contrast to CV, BIC and DIC seem more akin to regularisation in machine learning to me.  They both seek to actively penalise models that are complex.  CV is more passive in this sense.  BIC and DIC do not estimate the expected performance on the test set by measuring perfomance on held out data which coould lead to overfiting the training set, however given the size of the sample for many words, and the inaccurate performance measure that CV might provide this could be an advantage here.  BIC attempts to find the simplest model that explains the data while DIC tries to find the model that is the least likely to have generated the other words.  The fact that DIC considers the other classes seems like an advantage.\n",
    "\n",
    "**References**\n",
    "\n",
    "http://www2.imm.dtu.dk/courses/02433/doc/ch6_slides.pdf\n",
    "\n",
    "http://citeseerx.ist.psu.edu/viewdoc/download?doi=10.1.1.58.6208&rep=rep1&type=pdf"
   ]
  },
  {
   "cell_type": "markdown",
   "metadata": {
    "deletable": true,
    "editable": true
   },
   "source": [
    "<a id='part2_test'></a>\n",
    "### Model Selector Unit Testing\n",
    "Run the following unit tests as a sanity check on the implemented model selectors.  The test simply looks for valid interfaces  but is not exhaustive. However, the project should not be submitted if these tests don't pass."
   ]
  },
  {
   "cell_type": "code",
   "execution_count": 32,
   "metadata": {
    "collapsed": false,
    "deletable": true,
    "editable": true
   },
   "outputs": [
    {
     "name": "stderr",
     "output_type": "stream",
     "text": [
      "....\n",
      "----------------------------------------------------------------------\n",
      "Ran 4 tests in 57.993s\n",
      "\n",
      "OK\n"
     ]
    },
    {
     "data": {
      "text/plain": [
       "<unittest.runner.TextTestResult run=4 errors=0 failures=0>"
      ]
     },
     "execution_count": 32,
     "metadata": {},
     "output_type": "execute_result"
    }
   ],
   "source": [
    "from asl_test_model_selectors import TestSelectors\n",
    "suite = unittest.TestLoader().loadTestsFromModule(TestSelectors())\n",
    "unittest.TextTestRunner().run(suite)"
   ]
  },
  {
   "cell_type": "markdown",
   "metadata": {
    "collapsed": false,
    "deletable": true,
    "editable": true
   },
   "source": [
    "<a id='part3_tutorial'></a>\n",
    "## PART 3: Recognizer\n",
    "The objective of this section is to \"put it all together\".  Using the four feature sets created and the three model selectors, you will experiment with the models and present your results.  Instead of training only five specific words as in the previous section, train the entire set with a feature set and model selector strategy.  \n",
    "### Recognizer Tutorial\n",
    "##### Train the full training set\n",
    "The following example trains the entire set with the example `features_ground` and `SelectorConstant` features and model selector.  Use this pattern for you experimentation and final submission cells.\n",
    "\n"
   ]
  },
  {
   "cell_type": "code",
   "execution_count": 33,
   "metadata": {
    "collapsed": false,
    "deletable": true,
    "editable": true
   },
   "outputs": [
    {
     "name": "stdout",
     "output_type": "stream",
     "text": [
      "The autoreload extension is already loaded. To reload it, use:\n",
      "  %reload_ext autoreload\n",
      "Number of word models returned = 112\n"
     ]
    }
   ],
   "source": [
    "# autoreload for automatically reloading changes made in my_model_selectors and my_recognizer\n",
    "%load_ext autoreload\n",
    "%autoreload 2\n",
    "\n",
    "from my_model_selectors import SelectorConstant\n",
    "\n",
    "def train_all_words(features, model_selector):\n",
    "    training = asl.build_training(features)  # Experiment here with different feature sets defined in part 1\n",
    "    sequences = training.get_all_sequences()\n",
    "    Xlengths = training.get_all_Xlengths()\n",
    "    model_dict = {}\n",
    "    for word in training.words:\n",
    "        model = model_selector(sequences, Xlengths, word, \n",
    "                        n_constant=3).select()\n",
    "        model_dict[word]=model\n",
    "    return model_dict\n",
    "\n",
    "models = train_all_words(features_ground, SelectorConstant)\n",
    "print(\"Number of word models returned = {}\".format(len(models)))"
   ]
  },
  {
   "cell_type": "markdown",
   "metadata": {
    "deletable": true,
    "editable": true
   },
   "source": [
    "##### Load the test set\n",
    "The `build_test` method in `ASLdb` is similar to the `build_training` method already presented, but there are a few differences:\n",
    "- the object is type `SinglesData` \n",
    "- the internal dictionary keys are the index of the test word rather than the word itself\n",
    "- the getter methods are `get_all_sequences`, `get_all_Xlengths`, `get_item_sequences` and `get_item_Xlengths`"
   ]
  },
  {
   "cell_type": "code",
   "execution_count": 34,
   "metadata": {
    "collapsed": false,
    "deletable": true,
    "editable": true
   },
   "outputs": [
    {
     "name": "stdout",
     "output_type": "stream",
     "text": [
      "Number of test set items: 178\n",
      "Number of test set sentences: 40\n"
     ]
    }
   ],
   "source": [
    "test_set = asl.build_test(features_ground)\n",
    "print(\"Number of test set items: {}\".format(test_set.num_items))\n",
    "print(\"Number of test set sentences: {}\".format(len(test_set.sentences_index)))"
   ]
  },
  {
   "cell_type": "markdown",
   "metadata": {
    "deletable": true,
    "editable": true
   },
   "source": [
    "<a id='part3_submission'></a>\n",
    "### Recognizer Implementation Submission\n",
    "For the final project submission, students must implement a recognizer following guidance in the `my_recognizer.py` module.  Experiment with the four feature sets and the three model selection methods (that's 12 possible combinations). You can add and remove cells for experimentation or run the recognizers locally in some other way during your experiments, but retain the results for your discussion.  For submission, you will provide code cells of **only three** interesting combinations for your discussion (see questions below). At least one of these should produce a word error rate of less than 60%, i.e. WER < 0.60 . \n",
    "\n",
    "**Tip:** The hmmlearn library may not be able to train or score all models.  Implement try/except contructs as necessary to eliminate non-viable models from consideration."
   ]
  },
  {
   "cell_type": "code",
   "execution_count": 35,
   "metadata": {
    "collapsed": false,
    "deletable": true,
    "editable": true
   },
   "outputs": [],
   "source": [
    "# TODO implement the recognize method in my_recognizer\n",
    "from my_recognizer import recognize\n",
    "from asl_utils import show_errors"
   ]
  },
  {
   "cell_type": "code",
   "execution_count": 36,
   "metadata": {
    "collapsed": false,
    "deletable": true,
    "editable": true
   },
   "outputs": [
    {
     "name": "stdout",
     "output_type": "stream",
     "text": [
      "\n",
      "**** WER = 0.6741573033707865\n",
      "Total correct: 58 out of 178\n",
      "Video  Recognized                                                    Correct\n",
      "=====================================================================================================\n",
      "    2: *GO *BOOK *ARRIVE                                             JOHN WRITE HOMEWORK\n",
      "    7: *SOMETHING-ONE *GO1 *IX CAN                                   JOHN CAN GO CAN\n",
      "   12: JOHN *HAVE *WHAT CAN                                          JOHN CAN GO CAN\n",
      "   21: JOHN *HOMEWORK *NEW *PREFER *CAR *CAR *FUTURE *EAT            JOHN FISH WONT EAT BUT CAN EAT CHICKEN\n",
      "   25: *FRANK *TELL *LOVE *TELL *LOVE                                JOHN LIKE IX IX IX\n",
      "   28: *FRANK *TELL *LOVE *TELL *LOVE                                JOHN LIKE IX IX IX\n",
      "   30: *SHOULD LIKE *GO *GO *GO                                      JOHN LIKE IX IX IX\n",
      "   36: *VISIT VEGETABLE *YESTERDAY *GIVE *MARY *MARY                 MARY VEGETABLE KNOW IX LIKE CORN1\n",
      "   40: *SUE *GIVE *CORN *VEGETABLE *GO                               JOHN IX THINK MARY LOVE\n",
      "   43: *FRANK *GO BUY HOUSE                                          JOHN MUST BUY HOUSE\n",
      "   50: *FRANK *SEE BUY CAR *SOMETHING-ONE                            FUTURE JOHN BUY CAR SHOULD\n",
      "   54: JOHN SHOULD *WHO BUY HOUSE                                    JOHN SHOULD NOT BUY HOUSE\n",
      "   57: *MARY *VISIT VISIT *VISIT                                     JOHN DECIDE VISIT MARY\n",
      "   67: *LIKE FUTURE NOT BUY HOUSE                                    JOHN FUTURE NOT BUY HOUSE\n",
      "   71: JOHN *FINISH VISIT MARY                                       JOHN WILL VISIT MARY\n",
      "   74: *IX *VISIT *GO *GO                                            JOHN NOT VISIT MARY\n",
      "   77: *JOHN BLAME *LOVE                                             ANN BLAME MARY\n",
      "   84: *LOVE *ARRIVE *HOMEWORK BOOK                                  IX-1P FIND SOMETHING-ONE BOOK\n",
      "   89: *GIVE *GIVE GIVE *IX IX *ARRIVE *BOOK                         JOHN IX GIVE MAN IX NEW COAT\n",
      "   90: *SOMETHING-ONE *SOMETHING-ONE IX *IX WOMAN *COAT              JOHN GIVE IX SOMETHING-ONE WOMAN BOOK\n",
      "   92: *FRANK GIVE *WOMAN *WOMAN WOMAN BOOK                          JOHN GIVE IX SOMETHING-ONE WOMAN BOOK\n",
      "  100: POSS NEW CAR BREAK-DOWN                                       POSS NEW CAR BREAK-DOWN\n",
      "  105: *FRANK *VEGETABLE                                             JOHN LEG\n",
      "  107: *SHOULD *IX FRIEND *GO *JANA                                  JOHN POSS FRIEND HAVE CANDY\n",
      "  108: *GIVE *LOVE                                                   WOMAN ARRIVE\n",
      "  113: IX CAR *CAR *IX *IX                                           IX CAR BLUE SUE BUY\n",
      "  119: *PREFER *BUY1 IX *BLAME *IX                                   SUE BUY IX CAR BLUE\n",
      "  122: JOHN *GIVE1 *COAT                                             JOHN READ BOOK\n",
      "  139: *SHOULD *BUY1 *CAR *BLAME BOOK                                JOHN BUY WHAT YESTERDAY BOOK\n",
      "  142: *FRANK *STUDENT YESTERDAY *TEACHER BOOK                       JOHN BUY YESTERDAY WHAT BOOK\n",
      "  158: LOVE *MARY WHO                                                LOVE JOHN WHO\n",
      "  167: *MARY IX *VISIT *WOMAN *LOVE                                  JOHN IX SAY LOVE MARY\n",
      "  171: *VISIT *VISIT BLAME                                           JOHN MARY BLAME\n",
      "  174: *CAN *GIVE3 GIVE1 *APPLE *WHAT                                PEOPLE GROUP GIVE1 JANA TOY\n",
      "  181: *BLAME ARRIVE                                                 JOHN ARRIVE\n",
      "  184: *GIVE1 BOY *GIVE1 TEACHER APPLE                               ALL BOY GIVE TEACHER APPLE\n",
      "  189: *JANA *SOMETHING-ONE *YESTERDAY *WHAT                         JOHN GIVE GIRL BOX\n",
      "  193: JOHN *SOMETHING-ONE *YESTERDAY BOX                            JOHN GIVE GIRL BOX\n",
      "  199: *LOVE CHOCOLATE WHO                                           LIKE CHOCOLATE WHO\n",
      "  201: JOHN *GIVE *GIVE *LOVE *ARRIVE HOUSE                          JOHN TELL MARY IX-1P BUY HOUSE\n"
     ]
    }
   ],
   "source": [
    "# TODO Choose a feature set and model selector\n",
    "features = features_ground # change as needed\n",
    "#model_selector = SelectorConstant # change as needed\n",
    "model_selector = SelectorDIC\n",
    "\n",
    "# TODO Recognize the test set and display the result with the show_errors method\n",
    "models = train_all_words(features, model_selector)\n",
    "#print(models)\n",
    "test_set = asl.build_test(features)\n",
    "probabilities, guesses = recognize(models, test_set)\n",
    "show_errors(guesses, test_set)"
   ]
  },
  {
   "cell_type": "code",
   "execution_count": 37,
   "metadata": {
    "collapsed": false,
    "deletable": true,
    "editable": true
   },
   "outputs": [
    {
     "name": "stdout",
     "output_type": "stream",
     "text": [
      "\n",
      "**** WER = 0.5561797752808989\n",
      "Total correct: 79 out of 178\n",
      "Video  Recognized                                                    Correct\n",
      "=====================================================================================================\n",
      "    2: JOHN WRITE HOMEWORK                                           JOHN WRITE HOMEWORK\n",
      "    7: JOHN *STUDENT GO *HAVE                                        JOHN CAN GO CAN\n",
      "   12: JOHN CAN *GO1 CAN                                             JOHN CAN GO CAN\n",
      "   21: JOHN *JOHN *JOHN *MARY *CAR *CAR *FUTURE *MARY                JOHN FISH WONT EAT BUT CAN EAT CHICKEN\n",
      "   25: *MARY *LOVE *LOVE *LIKE IX                                    JOHN LIKE IX IX IX\n",
      "   28: *MARY *MARY *LOVE IX IX                                       JOHN LIKE IX IX IX\n",
      "   30: JOHN *MARY IX *MARY IX                                        JOHN LIKE IX IX IX\n",
      "   36: MARY *JOHN *FUTURE IX *MARY *MARY                             MARY VEGETABLE KNOW IX LIKE CORN1\n",
      "   40: *MARY IX *MARY MARY *MARY                                     JOHN IX THINK MARY LOVE\n",
      "   43: JOHN *JOHN BUY HOUSE                                          JOHN MUST BUY HOUSE\n",
      "   50: *FRANK *POSS BUY *WHAT *IX                                    FUTURE JOHN BUY CAR SHOULD\n",
      "   54: JOHN *JOHN *WHO BUY HOUSE                                     JOHN SHOULD NOT BUY HOUSE\n",
      "   57: *MARY *JOHN *IX *IX                                           JOHN DECIDE VISIT MARY\n",
      "   67: JOHN *IX *JOHN BUY HOUSE                                      JOHN FUTURE NOT BUY HOUSE\n",
      "   71: JOHN *SOMETHING-ONE VISIT MARY                                JOHN WILL VISIT MARY\n",
      "   74: JOHN *WHO *MARY MARY                                          JOHN NOT VISIT MARY\n",
      "   77: *IX BLAME *LOVE                                               ANN BLAME MARY\n",
      "   84: *IX *HAVE *IX BOOK                                            IX-1P FIND SOMETHING-ONE BOOK\n",
      "   89: *MARY IX *IX *IX IX NEW *BREAK-DOWN                           JOHN IX GIVE MAN IX NEW COAT\n",
      "   90: *MARY *IX IX SOMETHING-ONE WOMAN BOOK                         JOHN GIVE IX SOMETHING-ONE WOMAN BOOK\n",
      "   92: JOHN *IX *SOMETHING-ONE SOMETHING-ONE WOMAN BOOK              JOHN GIVE IX SOMETHING-ONE WOMAN BOOK\n",
      "  100: POSS NEW CAR BREAK-DOWN                                       POSS NEW CAR BREAK-DOWN\n",
      "  105: JOHN *JOHN                                                    JOHN LEG\n",
      "  107: JOHN *IX *HAVE *MARY *MARY                                    JOHN POSS FRIEND HAVE CANDY\n",
      "  108: *LOVE *GO                                                     WOMAN ARRIVE\n",
      "  113: *JOHN CAR *MARY *JOHN *BOX                                    IX CAR BLUE SUE BUY\n",
      "  119: *WHO *BUY1 IX *NEW *FUTURE                                    SUE BUY IX CAR BLUE\n",
      "  122: JOHN *BOOK BOOK                                               JOHN READ BOOK\n",
      "  139: JOHN *NEW WHAT YESTERDAY *LOVE                                JOHN BUY WHAT YESTERDAY BOOK\n",
      "  142: JOHN BUY YESTERDAY WHAT *VIDEOTAPE                            JOHN BUY YESTERDAY WHAT BOOK\n",
      "  158: LOVE *MARY *MARY                                              LOVE JOHN WHO\n",
      "  167: JOHN *MARY *IX LOVE *LOVE                                     JOHN IX SAY LOVE MARY\n",
      "  171: JOHN *JOHN BLAME                                              JOHN MARY BLAME\n",
      "  174: *GIVE1 *GIVE1 GIVE1 *WHO *CAR                                 PEOPLE GROUP GIVE1 JANA TOY\n",
      "  181: *SUE *BOX                                                     JOHN ARRIVE\n",
      "  184: *IX *FUTURE *GIVE1 TEACHER *WHO                               ALL BOY GIVE TEACHER APPLE\n",
      "  189: JOHN *JOHN *WHO *ARRIVE                                       JOHN GIVE GIRL BOX\n",
      "  193: JOHN *IX *WHO BOX                                             JOHN GIVE GIRL BOX\n",
      "  199: *JOHN CHOCOLATE *MARY                                         LIKE CHOCOLATE WHO\n",
      "  201: JOHN *MARY MARY *WOMAN BUY HOUSE                              JOHN TELL MARY IX-1P BUY HOUSE\n"
     ]
    }
   ],
   "source": [
    "# TODO Choose a feature set and model selector\n",
    "# TODO Recognize the test set and display the result with the show_errors method\n",
    "\n",
    "# TODO Choose a feature set and model selector\n",
    "features = features_custom # change as needed\n",
    "#model_selector = SelectorConstant # change as needed\n",
    "model_selector = SelectorCV\n",
    "\n",
    "# TODO Recognize the test set and display the result with the show_errors method\n",
    "models = train_all_words(features, model_selector)\n",
    "#print(models)\n",
    "test_set = asl.build_test(features)\n",
    "probabilities, guesses = recognize(models, test_set)\n",
    "show_errors(guesses, test_set)"
   ]
  },
  {
   "cell_type": "code",
   "execution_count": 117,
   "metadata": {
    "collapsed": false,
    "deletable": true,
    "editable": true
   },
   "outputs": [
    {
     "name": "stdout",
     "output_type": "stream",
     "text": [
      "\n",
      "**** WER = 0.5056179775280899\n",
      "Total correct: 88 out of 178\n",
      "Video  Recognized                                                    Correct\n",
      "=====================================================================================================\n",
      "    2: JOHN WRITE HOMEWORK                                           JOHN WRITE HOMEWORK\n",
      "    7: JOHN *PEOPLE GO *ARRIVE                                       JOHN CAN GO CAN\n",
      "   12: JOHN CAN *GO1 CAN                                             JOHN CAN GO CAN\n",
      "   21: JOHN *VIDEOTAPE *GO EAT *CAR *CAR *FUTURE *EAT                JOHN FISH WONT EAT BUT CAN EAT CHICKEN\n",
      "   25: JOHN LIKE *LOVE *LIKE *LOVE                                   JOHN LIKE IX IX IX\n",
      "   28: JOHN LIKE *LOVE *JOHN *LOVE                                   JOHN LIKE IX IX IX\n",
      "   30: JOHN LIKE *LOVE *JOHN IX                                      JOHN LIKE IX IX IX\n",
      "   36: MARY *WHO *IX IX *MARY *JOHN                                  MARY VEGETABLE KNOW IX LIKE CORN1\n",
      "   40: JOHN IX *SUE *WHO *MARY                                       JOHN IX THINK MARY LOVE\n",
      "   43: JOHN *JOHN BUY HOUSE                                          JOHN MUST BUY HOUSE\n",
      "   50: *JOHN *SEE BUY CAR *JOHN                                      FUTURE JOHN BUY CAR SHOULD\n",
      "   54: JOHN *JOHN *WHO BUY HOUSE                                     JOHN SHOULD NOT BUY HOUSE\n",
      "   57: JOHN *WHO *IX *IX                                             JOHN DECIDE VISIT MARY\n",
      "   67: JOHN FUTURE *JOHN BUY HOUSE                                   JOHN FUTURE NOT BUY HOUSE\n",
      "   71: JOHN *JOHN VISIT MARY                                         JOHN WILL VISIT MARY\n",
      "   74: JOHN *MARY *IX *IX                                            JOHN NOT VISIT MARY\n",
      "   77: *JOHN BLAME *LOVE                                             ANN BLAME MARY\n",
      "   84: *JOHN *ARRIVE *VISIT *NEW-YORK                                IX-1P FIND SOMETHING-ONE BOOK\n",
      "   89: JOHN IX *IX *IX IX NEW COAT                                   JOHN IX GIVE MAN IX NEW COAT\n",
      "   90: *PREFER *IX IX *IX WOMAN BOOK                                 JOHN GIVE IX SOMETHING-ONE WOMAN BOOK\n",
      "   92: JOHN *IX IX *IX *IX BOOK                                      JOHN GIVE IX SOMETHING-ONE WOMAN BOOK\n",
      "  100: *IX NEW CAR BREAK-DOWN                                        POSS NEW CAR BREAK-DOWN\n",
      "  105: JOHN *TELL                                                    JOHN LEG\n",
      "  107: JOHN POSS *ARRIVE *MARY *MARY                                 JOHN POSS FRIEND HAVE CANDY\n",
      "  108: *JOHN *IX                                                     WOMAN ARRIVE\n",
      "  113: *JOHN CAR *IX SUE *ARRIVE                                     IX CAR BLUE SUE BUY\n",
      "  119: *WHO *BUY1 IX CAR *FUTURE                                     SUE BUY IX CAR BLUE\n",
      "  122: JOHN *GIVE1 BOOK                                              JOHN READ BOOK\n",
      "  139: JOHN *BUY1 WHAT *WHAT BOOK                                    JOHN BUY WHAT YESTERDAY BOOK\n",
      "  142: JOHN BUY YESTERDAY WHAT *NEW-YORK                             JOHN BUY YESTERDAY WHAT BOOK\n",
      "  158: LOVE *WHO WHO                                                 LOVE JOHN WHO\n",
      "  167: JOHN IX *IX LOVE *IX                                          JOHN IX SAY LOVE MARY\n",
      "  171: JOHN *JOHN BLAME                                              JOHN MARY BLAME\n",
      "  174: *CAR *GIVE1 GIVE1 *WHO *CAR                                   PEOPLE GROUP GIVE1 JANA TOY\n",
      "  181: *VISIT ARRIVE                                                 JOHN ARRIVE\n",
      "  184: *IX *FUTURE *GIVE1 TEACHER *WHO                               ALL BOY GIVE TEACHER APPLE\n",
      "  189: JOHN *IX *WHO *ARRIVE                                         JOHN GIVE GIRL BOX\n",
      "  193: JOHN *IX *IX BOX                                              JOHN GIVE GIRL BOX\n",
      "  199: *JOHN CHOCOLATE WHO                                           LIKE CHOCOLATE WHO\n",
      "  201: JOHN *THINK MARY *WOMAN BUY HOUSE                             JOHN TELL MARY IX-1P BUY HOUSE\n"
     ]
    }
   ],
   "source": [
    "# TODO Choose a feature set and model selector\n",
    "# TODO Recognize the test set and display the result with the show_errors method\n",
    "\n",
    "# TODO Choose a feature set and model selector\n",
    "features = features_custom # change as needed\n",
    "#model_selector = SelectorConstant # change as needed\n",
    "model_selector = SelectorDIC\n",
    "\n",
    "# TODO Recognize the test set and display the result with the show_errors method\n",
    "models = train_all_words(features, model_selector)\n",
    "#print(models)\n",
    "test_set = asl.build_test(features)\n",
    "probabilities, guesses = recognize(models, test_set)\n",
    "show_errors(guesses, test_set)"
   ]
  },
  {
   "cell_type": "markdown",
   "metadata": {
    "deletable": true,
    "editable": true
   },
   "source": [
    "**Question 3:**  Summarize the error results from three combinations of features and model selectors.  What was the \"best\" combination and why?  What additional information might we use to improve our WER?  For more insight on improving WER, take a look at the introduction to Part 4.\n",
    "\n",
    "**Answer 3:**\n",
    "\n",
    "Ground features with DIC selection achieved 0.674 WER.\n",
    "Custom features with CV selection achieved 0.550 WER.\n",
    "Custom features with DIC selection achieved 0.506 WER.\n",
    "\n",
    "Custom features with DIC selection performed the best.  The ground, norm, polar and delta features individually did not achieve a better WER than ~0.62 for any selector.  I suspect that the models were underfitting the data and the addtional features helped here.  I think DIC performed better than CV for the reasons I mentioned in my answer to question 2, namely the perhaps noisy measurement of performance on the CV folds and the advantage that DIC favours the most discriminative model.\n",
    "\n",
    "To improve the WER more training data from a larger variety of speakers could help.  As suggested in part 4 a language model would also help by ensuring that the sequence of words output by the individual word models have a high probability of occuring together in a sentence improving performance."
   ]
  },
  {
   "cell_type": "markdown",
   "metadata": {
    "deletable": true,
    "editable": true
   },
   "source": [
    "<a id='part3_test'></a>\n",
    "### Recognizer Unit Tests\n",
    "Run the following unit tests as a sanity check on the defined recognizer.  The test simply looks for some valid values but is not exhaustive. However, the project should not be submitted if these tests don't pass."
   ]
  },
  {
   "cell_type": "code",
   "execution_count": 39,
   "metadata": {
    "collapsed": false,
    "deletable": true,
    "editable": true
   },
   "outputs": [
    {
     "name": "stderr",
     "output_type": "stream",
     "text": [
      "..\n",
      "----------------------------------------------------------------------\n",
      "Ran 2 tests in 38.480s\n",
      "\n",
      "OK\n"
     ]
    },
    {
     "data": {
      "text/plain": [
       "<unittest.runner.TextTestResult run=2 errors=0 failures=0>"
      ]
     },
     "execution_count": 39,
     "metadata": {},
     "output_type": "execute_result"
    }
   ],
   "source": [
    "from asl_test_recognizer import TestRecognize\n",
    "suite = unittest.TestLoader().loadTestsFromModule(TestRecognize())\n",
    "unittest.TextTestRunner().run(suite)"
   ]
  },
  {
   "cell_type": "markdown",
   "metadata": {
    "deletable": true,
    "editable": true
   },
   "source": [
    "<a id='part4_info'></a>\n",
    "## PART 4: (OPTIONAL)  Improve the WER with Language Models\n",
    "We've squeezed just about as much as we can out of the model and still only get about 50% of the words right! Surely we can do better than that.  Probability to the rescue again in the form of [statistical language models (SLM)](https://en.wikipedia.org/wiki/Language_model).  The basic idea is that each word has some probability of occurrence within the set, and some probability that it is adjacent to specific other words. We can use that additional information to make better choices.\n",
    "\n",
    "##### Additional reading and resources\n",
    "- [Introduction to N-grams (Stanford Jurafsky slides)](https://web.stanford.edu/class/cs124/lec/languagemodeling.pdf)\n",
    "- [Speech Recognition Techniques for a Sign Language Recognition System, Philippe Dreuw et al](https://www-i6.informatik.rwth-aachen.de/publications/download/154/Dreuw--2007.pdf) see the improved results of applying LM on *this* data!\n",
    "- [SLM data for *this* ASL dataset](ftp://wasserstoff.informatik.rwth-aachen.de/pub/rwth-boston-104/lm/)\n",
    "\n",
    "##### Optional challenge\n",
    "The recognizer you implemented in Part 3 is equivalent to a \"0-gram\" SLM.  Improve the WER with the SLM data provided with the data set in the link above using \"1-gram\", \"2-gram\", and/or \"3-gram\" statistics. The `probabilities` data you've already calculated will be useful and can be turned into a pandas DataFrame if desired (see next cell).  \n",
    "Good luck!  Share your results with the class!"
   ]
  },
  {
   "cell_type": "code",
   "execution_count": 118,
   "metadata": {
    "collapsed": false,
    "deletable": true,
    "editable": true
   },
   "outputs": [
    {
     "data": {
      "text/html": [
       "<div>\n",
       "<table border=\"1\" class=\"dataframe\">\n",
       "  <thead>\n",
       "    <tr style=\"text-align: right;\">\n",
       "      <th></th>\n",
       "      <th>ALL</th>\n",
       "      <th>ANN</th>\n",
       "      <th>APPLE</th>\n",
       "      <th>ARRIVE</th>\n",
       "      <th>BILL</th>\n",
       "      <th>BLAME</th>\n",
       "      <th>BLUE</th>\n",
       "      <th>BOOK</th>\n",
       "      <th>BORROW</th>\n",
       "      <th>BOX</th>\n",
       "      <th>...</th>\n",
       "      <th>VIDEOTAPE</th>\n",
       "      <th>VISIT</th>\n",
       "      <th>WANT</th>\n",
       "      <th>WHAT</th>\n",
       "      <th>WHO</th>\n",
       "      <th>WILL</th>\n",
       "      <th>WOMAN</th>\n",
       "      <th>WONT</th>\n",
       "      <th>WRITE</th>\n",
       "      <th>YESTERDAY</th>\n",
       "    </tr>\n",
       "  </thead>\n",
       "  <tbody>\n",
       "    <tr>\n",
       "      <th>0</th>\n",
       "      <td>-853.551803</td>\n",
       "      <td>-inf</td>\n",
       "      <td>-1719.275289</td>\n",
       "      <td>-348.606697</td>\n",
       "      <td>-187274.038624</td>\n",
       "      <td>-351.812833</td>\n",
       "      <td>-1355.408515</td>\n",
       "      <td>-644.512718</td>\n",
       "      <td>-inf</td>\n",
       "      <td>-494.393292</td>\n",
       "      <td>...</td>\n",
       "      <td>-835.924269</td>\n",
       "      <td>-121.007482</td>\n",
       "      <td>-1942.561230</td>\n",
       "      <td>-309.662467</td>\n",
       "      <td>-127.048273</td>\n",
       "      <td>-14444.706511</td>\n",
       "      <td>-457.877260</td>\n",
       "      <td>-491.309529</td>\n",
       "      <td>-402.874541</td>\n",
       "      <td>-223.553666</td>\n",
       "    </tr>\n",
       "    <tr>\n",
       "      <th>1</th>\n",
       "      <td>-3164.645264</td>\n",
       "      <td>-inf</td>\n",
       "      <td>-5183.260896</td>\n",
       "      <td>-189.782924</td>\n",
       "      <td>-145147.095698</td>\n",
       "      <td>-284.367866</td>\n",
       "      <td>-2189.257131</td>\n",
       "      <td>-207.587495</td>\n",
       "      <td>-inf</td>\n",
       "      <td>-278.388070</td>\n",
       "      <td>...</td>\n",
       "      <td>-219.993440</td>\n",
       "      <td>-204.544518</td>\n",
       "      <td>-2589.010078</td>\n",
       "      <td>-251.808932</td>\n",
       "      <td>-253.976315</td>\n",
       "      <td>-31854.187216</td>\n",
       "      <td>-546.193450</td>\n",
       "      <td>-925.380186</td>\n",
       "      <td>-142.614661</td>\n",
       "      <td>-503.218598</td>\n",
       "    </tr>\n",
       "    <tr>\n",
       "      <th>2</th>\n",
       "      <td>-3784.150973</td>\n",
       "      <td>-inf</td>\n",
       "      <td>-6953.739171</td>\n",
       "      <td>-398.918978</td>\n",
       "      <td>-251975.815440</td>\n",
       "      <td>-525.896933</td>\n",
       "      <td>-4888.877160</td>\n",
       "      <td>-523.769416</td>\n",
       "      <td>-inf</td>\n",
       "      <td>-550.875056</td>\n",
       "      <td>...</td>\n",
       "      <td>-518.233254</td>\n",
       "      <td>-424.542029</td>\n",
       "      <td>-4917.492924</td>\n",
       "      <td>-568.671255</td>\n",
       "      <td>-449.674498</td>\n",
       "      <td>-20935.200382</td>\n",
       "      <td>-1018.986983</td>\n",
       "      <td>-1386.703778</td>\n",
       "      <td>-724.513626</td>\n",
       "      <td>-787.620982</td>\n",
       "    </tr>\n",
       "    <tr>\n",
       "      <th>3</th>\n",
       "      <td>-683.248076</td>\n",
       "      <td>-inf</td>\n",
       "      <td>-1160.454981</td>\n",
       "      <td>-370.950075</td>\n",
       "      <td>-21608.131754</td>\n",
       "      <td>-476.073850</td>\n",
       "      <td>-1017.874594</td>\n",
       "      <td>-783.199643</td>\n",
       "      <td>-inf</td>\n",
       "      <td>-608.330271</td>\n",
       "      <td>...</td>\n",
       "      <td>-1032.979302</td>\n",
       "      <td>-154.101190</td>\n",
       "      <td>-1458.098928</td>\n",
       "      <td>-275.848949</td>\n",
       "      <td>-134.471679</td>\n",
       "      <td>-4248.451783</td>\n",
       "      <td>-343.369900</td>\n",
       "      <td>-405.993916</td>\n",
       "      <td>-532.139339</td>\n",
       "      <td>-302.177345</td>\n",
       "    </tr>\n",
       "    <tr>\n",
       "      <th>4</th>\n",
       "      <td>-1462.075479</td>\n",
       "      <td>-inf</td>\n",
       "      <td>-1469.769551</td>\n",
       "      <td>-102.400224</td>\n",
       "      <td>-575359.556620</td>\n",
       "      <td>-110.930093</td>\n",
       "      <td>-373.430449</td>\n",
       "      <td>-139.481675</td>\n",
       "      <td>-inf</td>\n",
       "      <td>-135.687187</td>\n",
       "      <td>...</td>\n",
       "      <td>-192.266865</td>\n",
       "      <td>-94.524881</td>\n",
       "      <td>-386.138518</td>\n",
       "      <td>-145.654983</td>\n",
       "      <td>-146.268614</td>\n",
       "      <td>-100137.320323</td>\n",
       "      <td>-436.640435</td>\n",
       "      <td>-315.363485</td>\n",
       "      <td>-190.252354</td>\n",
       "      <td>-274.831989</td>\n",
       "    </tr>\n",
       "  </tbody>\n",
       "</table>\n",
       "<p>5 rows × 112 columns</p>\n",
       "</div>"
      ],
      "text/plain": [
       "           ALL  ANN        APPLE      ARRIVE           BILL       BLAME  \\\n",
       "0  -853.551803 -inf -1719.275289 -348.606697 -187274.038624 -351.812833   \n",
       "1 -3164.645264 -inf -5183.260896 -189.782924 -145147.095698 -284.367866   \n",
       "2 -3784.150973 -inf -6953.739171 -398.918978 -251975.815440 -525.896933   \n",
       "3  -683.248076 -inf -1160.454981 -370.950075  -21608.131754 -476.073850   \n",
       "4 -1462.075479 -inf -1469.769551 -102.400224 -575359.556620 -110.930093   \n",
       "\n",
       "          BLUE        BOOK  BORROW         BOX     ...        VIDEOTAPE  \\\n",
       "0 -1355.408515 -644.512718    -inf -494.393292     ...      -835.924269   \n",
       "1 -2189.257131 -207.587495    -inf -278.388070     ...      -219.993440   \n",
       "2 -4888.877160 -523.769416    -inf -550.875056     ...      -518.233254   \n",
       "3 -1017.874594 -783.199643    -inf -608.330271     ...     -1032.979302   \n",
       "4  -373.430449 -139.481675    -inf -135.687187     ...      -192.266865   \n",
       "\n",
       "        VISIT         WANT        WHAT         WHO           WILL  \\\n",
       "0 -121.007482 -1942.561230 -309.662467 -127.048273  -14444.706511   \n",
       "1 -204.544518 -2589.010078 -251.808932 -253.976315  -31854.187216   \n",
       "2 -424.542029 -4917.492924 -568.671255 -449.674498  -20935.200382   \n",
       "3 -154.101190 -1458.098928 -275.848949 -134.471679   -4248.451783   \n",
       "4  -94.524881  -386.138518 -145.654983 -146.268614 -100137.320323   \n",
       "\n",
       "         WOMAN         WONT       WRITE   YESTERDAY  \n",
       "0  -457.877260  -491.309529 -402.874541 -223.553666  \n",
       "1  -546.193450  -925.380186 -142.614661 -503.218598  \n",
       "2 -1018.986983 -1386.703778 -724.513626 -787.620982  \n",
       "3  -343.369900  -405.993916 -532.139339 -302.177345  \n",
       "4  -436.640435  -315.363485 -190.252354 -274.831989  \n",
       "\n",
       "[5 rows x 112 columns]"
      ]
     },
     "execution_count": 118,
     "metadata": {},
     "output_type": "execute_result"
    }
   ],
   "source": [
    "# create a DataFrame of log likelihoods for the test word items\n",
    "df_probs = pd.DataFrame(data=probabilities)\n",
    "df_probs.head()"
   ]
  },
  {
   "cell_type": "code",
   "execution_count": 148,
   "metadata": {
    "collapsed": false
   },
   "outputs": [
    {
     "name": "stdout",
     "output_type": "stream",
     "text": [
      "{'BOX': 0, 'BOY': 0, 'PUTASIDE': 0, 'SUE': 0, 'HAVE': 0, 'GIRL': 0, 'WONT': 0, 'WOMAN': 0, 'MANY': 0, 'PEOPLE': 0, 'LIVE': 0, 'CHICAGO': 0, 'PAST': 0, 'GO': 0, 'PARTY': 0, 'NAME': 0, 'FRANK': 0, 'BLAME': 0, 'FUTURE': 0, 'HOUSE': 0, 'MAN': 0, 'GROUP': 0, 'WANT': 0, 'VIDEOTAPE': 0, 'MOVIE': 0, 'PREFER': 0, 'BROTHER': 0, 'BORROW': 0, 'LEAVE': 0, 'FIND': 0, 'WILL': 0, 'WHAT': 0, 'BUY': 0, 'GET': 0, 'BUT': 0, 'CHOCOLATE': 0, 'HOMEWORK': 0, 'FINISH': 0, 'LOVE': 0, 'VISIT': 0, 'SOMETHING-ONE': 0, 'POSS': 0, 'POTATO': 0, 'ANN': 0, 'TELL': 0, 'BREAK-DOWN': 0, 'NOT': 0, 'TEACHER': 0, 'IX-1P': 0, 'GIVE': 0, 'READ': 0, 'FISH': 0, 'KNOW': 0, 'DECIDE': 0, 'SEARCH-FOR': 0, 'NEW': 0, 'OLD': 0, 'APPLE': 0, 'SHOOT': 0, 'WHO': 0, 'SAY': 0, 'TOMORROW': 0, 'SEE': 0, 'ARRIVE': 0, 'FRIEND': 0, 'CORN': 0, 'HERE': 0, 'FRED': 0, 'WRITE': 0, 'VEGETABLE': 0, 'BLUE': 0, 'ALL': 0, 'JOHN': 0, 'LIKE': 0, 'LEG': 0, 'BILL': 0, 'LAST-WEEK': 0, 'YESTERDAY': 0, 'SHOULD': 0, 'BOOK': 0, 'CHINA': 0, 'STUDENT': 0, 'MARY': 0, 'TOY': 0, 'CAR': 0, 'CAN': 0, 'HIT': 0, 'COAT': 0, 'NEW-YORK': 0, 'BROCCOLI': 0, 'MOTHER': 0, 'EAT': 0, 'IX': 0, 'CANDY': 0, 'NEXT-WEEK': 0, 'THINK': 0, 'SELL': 0, 'STOLEN': 0, 'SELF': 0, 'SAY-1P': 0, 'CHICKEN': 0, 'JANA': 0, 'THROW': 0}\n"
     ]
    }
   ],
   "source": [
    "# read in the vocabulary\n",
    "vocab = []\n",
    "lm_probabilities_unigram = {}\n",
    "lm_counts_unigram = {}\n",
    "for line in open('data/devel-train.corpus.vocabulary-for-lm-training',\"r\").readlines():\n",
    "    vocab.append(line.strip()) # list of 1-grams\n",
    "    lm_probabilities_unigram[line.strip()] = 0\n",
    "    lm_counts_unigram[line.strip()] = 0\n",
    "\n",
    "# add the 2-grams to lm_probabilities\n",
    "# add a word that designates the end of a sentence, might be helpful as some words are more likely to appear at the end\n",
    "vocab.append('<START>')\n",
    "vocab.append('<END>')\n",
    "lm_probabilities_bigram = {}\n",
    "lm_counts_bigram = {}\n",
    "for word_1 in vocab:\n",
    "    for word_2 in vocab:\n",
    "        #if word_1 + ' ' + word_2 == '<END> <END>':\n",
    "        #    continue\n",
    "        lm_probabilities_bigram[word_1 + ' ' + word_2] = 0\n",
    "        lm_counts_bigram[word_1 + ' ' + word_2] = 0\n",
    "\n",
    "print(lm_probabilities_unigram)"
   ]
  },
  {
   "cell_type": "code",
   "execution_count": 149,
   "metadata": {
    "collapsed": false
   },
   "outputs": [
    {
     "name": "stdout",
     "output_type": "stream",
     "text": [
      "{'BOX': -4.9558270576012609, 'BOY': -5.6489742381612063, 'PUTASIDE': -6.3421214187211516, 'SUE': -5.6489742381612063, 'HAVE': -5.2435091300530416, 'GIRL': -4.9558270576012609, 'WONT': -5.6489742381612063, 'WOMAN': -4.5503619494930962, 'MANY': -6.3421214187211516, 'PEOPLE': -5.2435091300530416, 'LIVE': -6.3421214187211516, 'CHICAGO': -6.3421214187211516, 'PAST': -6.3421214187211516, 'GO': -3.7030640891058928, 'PARTY': -6.3421214187211516, 'NAME': -6.3421214187211516, 'FRANK': -5.2435091300530416, 'BLAME': -5.2435091300530416, 'FUTURE': -3.7030640891058928, 'HOUSE': -4.1448968413849316, 'MAN': -6.3421214187211516, 'GROUP': -6.3421214187211516, 'WANT': -6.3421214187211516, 'VIDEOTAPE': -5.6489742381612063, 'MOVIE': -5.6489742381612063, 'PREFER': -4.5503619494930962, 'BROTHER': -5.6489742381612063, 'BORROW': -6.3421214187211516, 'LEAVE': -5.2435091300530416, 'FIND': -6.3421214187211516, 'WILL': -5.6489742381612063, 'WHAT': -3.1232455938529506, 'BUY': -3.5089080746649355, 'GET': -6.3421214187211516, 'BUT': -6.3421214187211516, 'CHOCOLATE': -5.6489742381612063, 'HOMEWORK': -6.3421214187211516, 'FINISH': -5.2435091300530416, 'LOVE': -3.7771720612596145, 'VISIT': -4.1448968413849316, 'SOMETHING-ONE': -4.1448968413849316, 'POSS': -3.944226145922781, 'POTATO': -6.3421214187211516, 'ANN': -6.3421214187211516, 'TELL': -4.9558270576012609, 'BREAK-DOWN': -5.2435091300530416, 'NOT': -4.2626798770413155, 'TEACHER': -5.6489742381612063, 'IX-1P': -4.9558270576012609, 'GIVE': -3.7771720612596145, 'READ': -5.6489742381612063, 'FISH': -6.3421214187211516, 'KNOW': -5.6489742381612063, 'DECIDE': -6.3421214187211516, 'SEARCH-FOR': -6.3421214187211516, 'NEW': -5.2435091300530416, 'OLD': -6.3421214187211516, 'APPLE': -5.2435091300530416, 'SHOOT': -6.3421214187211516, 'WHO': -3.2066272027920015, 'SAY': -5.6489742381612063, 'TOMORROW': -6.3421214187211516, 'SEE': -4.3962112696658382, 'ARRIVE': -3.7030640891058928, 'FRIEND': -6.3421214187211516, 'CORN': -4.9558270576012609, 'HERE': -5.2435091300530416, 'FRED': -6.3421214187211516, 'WRITE': -6.3421214187211516, 'VEGETABLE': -4.9558270576012609, 'BLUE': -5.6489742381612063, 'ALL': -6.3421214187211516, 'JOHN': -1.820332841672111, 'LIKE': -4.1448968413849316, 'LEG': -6.3421214187211516, 'BILL': -4.7326835062870511, 'LAST-WEEK': -6.3421214187211516, 'YESTERDAY': -4.3962112696658382, 'SHOULD': -4.1448968413849316, 'BOOK': -3.7030640891058928, 'CHINA': -6.3421214187211516, 'STUDENT': -5.6489742381612063, 'MARY': -2.9081342142360054, 'TOY': -5.6489742381612063, 'CAR': -3.944226145922781, 'CAN': -3.8572147689331509, 'HIT': -6.3421214187211516, 'COAT': -6.3421214187211516, 'NEW-YORK': -5.6489742381612063, 'BROCCOLI': -6.3421214187211516, 'MOTHER': -5.2435091300530416, 'EAT': -5.2435091300530416, 'IX': -2.653241964607215, 'CANDY': -6.3421214187211516, 'NEXT-WEEK': -6.3421214187211516, 'THINK': -6.3421214187211516, 'SELL': -5.6489742381612063, 'STOLEN': -5.6489742381612063, 'SELF': -5.6489742381612063, 'SAY-1P': -6.3421214187211516, 'CHICKEN': -6.3421214187211516, 'JANA': -5.6489742381612063, 'THROW': -5.6489742381612063}\n",
      "{'BOX BOX': -inf, 'BOX BOY': -inf, 'BOX PUTASIDE': -inf, 'BOX SUE': -inf, 'BOX HAVE': -inf, 'BOX GIRL': -inf, 'BOX WONT': -inf, 'BOX WOMAN': -inf, 'BOX MANY': -inf, 'BOX PEOPLE': -inf, 'BOX LIVE': -inf, 'BOX CHICAGO': -inf, 'BOX PAST': -inf, 'BOX GO': -inf, 'BOX PARTY': -inf, 'BOX NAME': -inf, 'BOX FRANK': -inf, 'BOX BLAME': -inf, 'BOX FUTURE': -inf, 'BOX HOUSE': -inf, 'BOX MAN': -inf, 'BOX GROUP': -inf, 'BOX WANT': -inf, 'BOX VIDEOTAPE': -inf, 'BOX MOVIE': -inf, 'BOX PREFER': -inf, 'BOX BROTHER': -inf, 'BOX BORROW': -inf, 'BOX LEAVE': -inf, 'BOX FIND': -inf, 'BOX WILL': -inf, 'BOX WHAT': -inf, 'BOX BUY': -inf, 'BOX GET': -inf, 'BOX BUT': -inf, 'BOX CHOCOLATE': -inf, 'BOX HOMEWORK': -inf, 'BOX FINISH': -inf, 'BOX LOVE': -inf, 'BOX VISIT': -inf, 'BOX SOMETHING-ONE': -inf, 'BOX POSS': -inf, 'BOX POTATO': -inf, 'BOX ANN': -inf, 'BOX TELL': -inf, 'BOX BREAK-DOWN': -inf, 'BOX NOT': -inf, 'BOX TEACHER': -inf, 'BOX IX-1P': -inf, 'BOX GIVE': -inf, 'BOX READ': -inf, 'BOX FISH': -inf, 'BOX KNOW': -inf, 'BOX DECIDE': -inf, 'BOX SEARCH-FOR': -inf, 'BOX NEW': -inf, 'BOX OLD': -inf, 'BOX APPLE': -inf, 'BOX SHOOT': -inf, 'BOX WHO': -inf, 'BOX SAY': -inf, 'BOX TOMORROW': -inf, 'BOX SEE': -inf, 'BOX ARRIVE': -inf, 'BOX FRIEND': -inf, 'BOX CORN': -inf, 'BOX HERE': -inf, 'BOX FRED': -inf, 'BOX WRITE': -inf, 'BOX VEGETABLE': -inf, 'BOX BLUE': -inf, 'BOX ALL': -inf, 'BOX JOHN': -inf, 'BOX LIKE': -inf, 'BOX LEG': -inf, 'BOX BILL': -inf, 'BOX LAST-WEEK': -inf, 'BOX YESTERDAY': -inf, 'BOX SHOULD': -inf, 'BOX BOOK': -inf, 'BOX CHINA': -inf, 'BOX STUDENT': -inf, 'BOX MARY': -inf, 'BOX TOY': -inf, 'BOX CAR': -inf, 'BOX CAN': -inf, 'BOX HIT': -inf, 'BOX COAT': -inf, 'BOX NEW-YORK': -inf, 'BOX BROCCOLI': -inf, 'BOX MOTHER': -inf, 'BOX EAT': -inf, 'BOX IX': -inf, 'BOX CANDY': -inf, 'BOX NEXT-WEEK': -inf, 'BOX THINK': -inf, 'BOX SELL': -inf, 'BOX STOLEN': -inf, 'BOX SELF': -inf, 'BOX SAY-1P': -inf, 'BOX CHICKEN': -inf, 'BOX JANA': -inf, 'BOX THROW': -inf, 'BOX <START>': -inf, 'BOX <END>': -5.1633563811139194, 'BOY BOX': -inf, 'BOY BOY': -inf, 'BOY PUTASIDE': -inf, 'BOY SUE': -inf, 'BOY HAVE': -inf, 'BOY GIRL': -inf, 'BOY WONT': -inf, 'BOY WOMAN': -inf, 'BOY MANY': -inf, 'BOY PEOPLE': -inf, 'BOY LIVE': -inf, 'BOY CHICAGO': -inf, 'BOY PAST': -inf, 'BOY GO': -inf, 'BOY PARTY': -inf, 'BOY NAME': -inf, 'BOY FRANK': -inf, 'BOY BLAME': -inf, 'BOY FUTURE': -inf, 'BOY HOUSE': -inf, 'BOY MAN': -inf, 'BOY GROUP': -inf, 'BOY WANT': -inf, 'BOY VIDEOTAPE': -inf, 'BOY MOVIE': -inf, 'BOY PREFER': -inf, 'BOY BROTHER': -inf, 'BOY BORROW': -inf, 'BOY LEAVE': -inf, 'BOY FIND': -inf, 'BOY WILL': -inf, 'BOY WHAT': -inf, 'BOY BUY': -inf, 'BOY GET': -inf, 'BOY BUT': -inf, 'BOY CHOCOLATE': -inf, 'BOY HOMEWORK': -inf, 'BOY FINISH': -inf, 'BOY LOVE': -inf, 'BOY VISIT': -inf, 'BOY SOMETHING-ONE': -inf, 'BOY POSS': -inf, 'BOY POTATO': -inf, 'BOY ANN': -inf, 'BOY TELL': -inf, 'BOY BREAK-DOWN': -inf, 'BOY NOT': -inf, 'BOY TEACHER': -inf, 'BOY IX-1P': -inf, 'BOY GIVE': -6.5496507422338102, 'BOY READ': -inf, 'BOY FISH': -inf, 'BOY KNOW': -inf, 'BOY DECIDE': -inf, 'BOY SEARCH-FOR': -inf, 'BOY NEW': -inf, 'BOY OLD': -inf, 'BOY APPLE': -inf, 'BOY SHOOT': -inf, 'BOY WHO': -inf, 'BOY SAY': -inf, 'BOY TOMORROW': -inf, 'BOY SEE': -inf, 'BOY ARRIVE': -inf, 'BOY FRIEND': -inf, 'BOY CORN': -inf, 'BOY HERE': -inf, 'BOY FRED': -inf, 'BOY WRITE': -inf, 'BOY VEGETABLE': -inf, 'BOY BLUE': -inf, 'BOY ALL': -inf, 'BOY JOHN': -inf, 'BOY LIKE': -inf, 'BOY LEG': -inf, 'BOY BILL': -inf, 'BOY LAST-WEEK': -inf, 'BOY YESTERDAY': -inf, 'BOY SHOULD': -inf, 'BOY BOOK': -6.5496507422338102, 'BOY CHINA': -inf, 'BOY STUDENT': -inf, 'BOY MARY': -inf, 'BOY TOY': -inf, 'BOY CAR': -inf, 'BOY CAN': -inf, 'BOY HIT': -inf, 'BOY COAT': -inf, 'BOY NEW-YORK': -inf, 'BOY BROCCOLI': -inf, 'BOY MOTHER': -inf, 'BOY EAT': -inf, 'BOY IX': -inf, 'BOY CANDY': -inf, 'BOY NEXT-WEEK': -inf, 'BOY THINK': -inf, 'BOY SELL': -inf, 'BOY STOLEN': -inf, 'BOY SELF': -inf, 'BOY SAY-1P': -inf, 'BOY CHICKEN': -inf, 'BOY JANA': -inf, 'BOY THROW': -inf, 'BOY <START>': -inf, 'BOY <END>': -inf, 'PUTASIDE BOX': -inf, 'PUTASIDE BOY': -inf, 'PUTASIDE PUTASIDE': -inf, 'PUTASIDE SUE': -inf, 'PUTASIDE HAVE': -inf, 'PUTASIDE GIRL': -inf, 'PUTASIDE WONT': -inf, 'PUTASIDE WOMAN': -inf, 'PUTASIDE MANY': -inf, 'PUTASIDE PEOPLE': -inf, 'PUTASIDE LIVE': -inf, 'PUTASIDE CHICAGO': -inf, 'PUTASIDE PAST': -inf, 'PUTASIDE GO': -inf, 'PUTASIDE PARTY': -inf, 'PUTASIDE NAME': -inf, 'PUTASIDE FRANK': -inf, 'PUTASIDE BLAME': -inf, 'PUTASIDE FUTURE': -inf, 'PUTASIDE HOUSE': -inf, 'PUTASIDE MAN': -inf, 'PUTASIDE GROUP': -inf, 'PUTASIDE WANT': -inf, 'PUTASIDE VIDEOTAPE': -inf, 'PUTASIDE MOVIE': -inf, 'PUTASIDE PREFER': -inf, 'PUTASIDE BROTHER': -inf, 'PUTASIDE BORROW': -inf, 'PUTASIDE LEAVE': -inf, 'PUTASIDE FIND': -inf, 'PUTASIDE WILL': -inf, 'PUTASIDE WHAT': -inf, 'PUTASIDE BUY': -inf, 'PUTASIDE GET': -inf, 'PUTASIDE BUT': -inf, 'PUTASIDE CHOCOLATE': -inf, 'PUTASIDE HOMEWORK': -inf, 'PUTASIDE FINISH': -inf, 'PUTASIDE LOVE': -inf, 'PUTASIDE VISIT': -inf, 'PUTASIDE SOMETHING-ONE': -inf, 'PUTASIDE POSS': -inf, 'PUTASIDE POTATO': -inf, 'PUTASIDE ANN': -inf, 'PUTASIDE TELL': -inf, 'PUTASIDE BREAK-DOWN': -inf, 'PUTASIDE NOT': -inf, 'PUTASIDE TEACHER': -inf, 'PUTASIDE IX-1P': -inf, 'PUTASIDE GIVE': -inf, 'PUTASIDE READ': -inf, 'PUTASIDE FISH': -inf, 'PUTASIDE KNOW': -inf, 'PUTASIDE DECIDE': -inf, 'PUTASIDE SEARCH-FOR': -inf, 'PUTASIDE NEW': -inf, 'PUTASIDE OLD': -inf, 'PUTASIDE APPLE': -inf, 'PUTASIDE SHOOT': -inf, 'PUTASIDE WHO': -inf, 'PUTASIDE SAY': -inf, 'PUTASIDE TOMORROW': -inf, 'PUTASIDE SEE': -inf, 'PUTASIDE ARRIVE': -inf, 'PUTASIDE FRIEND': -inf, 'PUTASIDE CORN': -inf, 'PUTASIDE HERE': -inf, 'PUTASIDE FRED': -inf, 'PUTASIDE WRITE': -inf, 'PUTASIDE VEGETABLE': -inf, 'PUTASIDE BLUE': -inf, 'PUTASIDE ALL': -inf, 'PUTASIDE JOHN': -inf, 'PUTASIDE LIKE': -inf, 'PUTASIDE LEG': -inf, 'PUTASIDE BILL': -inf, 'PUTASIDE LAST-WEEK': -inf, 'PUTASIDE YESTERDAY': -inf, 'PUTASIDE SHOULD': -inf, 'PUTASIDE BOOK': -inf, 'PUTASIDE CHINA': -inf, 'PUTASIDE STUDENT': -inf, 'PUTASIDE MARY': -inf, 'PUTASIDE TOY': -inf, 'PUTASIDE CAR': -inf, 'PUTASIDE CAN': -inf, 'PUTASIDE HIT': -inf, 'PUTASIDE COAT': -inf, 'PUTASIDE NEW-YORK': -inf, 'PUTASIDE BROCCOLI': -inf, 'PUTASIDE MOTHER': -inf, 'PUTASIDE EAT': -inf, 'PUTASIDE IX': -inf, 'PUTASIDE CANDY': -inf, 'PUTASIDE NEXT-WEEK': -inf, 'PUTASIDE THINK': -inf, 'PUTASIDE SELL': -inf, 'PUTASIDE STOLEN': -inf, 'PUTASIDE SELF': -inf, 'PUTASIDE SAY-1P': -inf, 'PUTASIDE CHICKEN': -inf, 'PUTASIDE JANA': -inf, 'PUTASIDE THROW': -inf, 'PUTASIDE <START>': -inf, 'PUTASIDE <END>': -6.5496507422338102, 'SUE BOX': -inf, 'SUE BOY': -inf, 'SUE PUTASIDE': -inf, 'SUE SUE': -inf, 'SUE HAVE': -inf, 'SUE GIRL': -inf, 'SUE WONT': -inf, 'SUE WOMAN': -inf, 'SUE MANY': -inf, 'SUE PEOPLE': -inf, 'SUE LIVE': -inf, 'SUE CHICAGO': -inf, 'SUE PAST': -inf, 'SUE GO': -inf, 'SUE PARTY': -inf, 'SUE NAME': -inf, 'SUE FRANK': -inf, 'SUE BLAME': -inf, 'SUE FUTURE': -inf, 'SUE HOUSE': -inf, 'SUE MAN': -inf, 'SUE GROUP': -inf, 'SUE WANT': -inf, 'SUE VIDEOTAPE': -inf, 'SUE MOVIE': -inf, 'SUE PREFER': -inf, 'SUE BROTHER': -inf, 'SUE BORROW': -inf, 'SUE LEAVE': -inf, 'SUE FIND': -inf, 'SUE WILL': -inf, 'SUE WHAT': -inf, 'SUE BUY': -5.8565035616738648, 'SUE GET': -inf, 'SUE BUT': -inf, 'SUE CHOCOLATE': -inf, 'SUE HOMEWORK': -inf, 'SUE FINISH': -inf, 'SUE LOVE': -inf, 'SUE VISIT': -inf, 'SUE SOMETHING-ONE': -inf, 'SUE POSS': -inf, 'SUE POTATO': -inf, 'SUE ANN': -inf, 'SUE TELL': -inf, 'SUE BREAK-DOWN': -inf, 'SUE NOT': -inf, 'SUE TEACHER': -inf, 'SUE IX-1P': -inf, 'SUE GIVE': -inf, 'SUE READ': -inf, 'SUE FISH': -inf, 'SUE KNOW': -inf, 'SUE DECIDE': -inf, 'SUE SEARCH-FOR': -inf, 'SUE NEW': -inf, 'SUE OLD': -inf, 'SUE APPLE': -inf, 'SUE SHOOT': -inf, 'SUE WHO': -inf, 'SUE SAY': -inf, 'SUE TOMORROW': -inf, 'SUE SEE': -inf, 'SUE ARRIVE': -inf, 'SUE FRIEND': -inf, 'SUE CORN': -inf, 'SUE HERE': -inf, 'SUE FRED': -inf, 'SUE WRITE': -inf, 'SUE VEGETABLE': -inf, 'SUE BLUE': -inf, 'SUE ALL': -inf, 'SUE JOHN': -inf, 'SUE LIKE': -inf, 'SUE LEG': -inf, 'SUE BILL': -inf, 'SUE LAST-WEEK': -inf, 'SUE YESTERDAY': -inf, 'SUE SHOULD': -inf, 'SUE BOOK': -inf, 'SUE CHINA': -inf, 'SUE STUDENT': -inf, 'SUE MARY': -inf, 'SUE TOY': -inf, 'SUE CAR': -inf, 'SUE CAN': -inf, 'SUE HIT': -inf, 'SUE COAT': -inf, 'SUE NEW-YORK': -inf, 'SUE BROCCOLI': -inf, 'SUE MOTHER': -inf, 'SUE EAT': -inf, 'SUE IX': -inf, 'SUE CANDY': -inf, 'SUE NEXT-WEEK': -inf, 'SUE THINK': -inf, 'SUE SELL': -inf, 'SUE STOLEN': -inf, 'SUE SELF': -inf, 'SUE SAY-1P': -inf, 'SUE CHICKEN': -inf, 'SUE JANA': -inf, 'SUE THROW': -inf, 'SUE <START>': -inf, 'SUE <END>': -inf, 'HAVE BOX': -inf, 'HAVE BOY': -inf, 'HAVE PUTASIDE': -inf, 'HAVE SUE': -inf, 'HAVE HAVE': -inf, 'HAVE GIRL': -inf, 'HAVE WONT': -inf, 'HAVE WOMAN': -inf, 'HAVE MANY': -inf, 'HAVE PEOPLE': -inf, 'HAVE LIVE': -inf, 'HAVE CHICAGO': -inf, 'HAVE PAST': -inf, 'HAVE GO': -inf, 'HAVE PARTY': -inf, 'HAVE NAME': -inf, 'HAVE FRANK': -inf, 'HAVE BLAME': -inf, 'HAVE FUTURE': -inf, 'HAVE HOUSE': -inf, 'HAVE MAN': -inf, 'HAVE GROUP': -inf, 'HAVE WANT': -inf, 'HAVE VIDEOTAPE': -6.5496507422338102, 'HAVE MOVIE': -inf, 'HAVE PREFER': -inf, 'HAVE BROTHER': -inf, 'HAVE BORROW': -inf, 'HAVE LEAVE': -inf, 'HAVE FIND': -inf, 'HAVE WILL': -inf, 'HAVE WHAT': -inf, 'HAVE BUY': -inf, 'HAVE GET': -inf, 'HAVE BUT': -inf, 'HAVE CHOCOLATE': -inf, 'HAVE HOMEWORK': -inf, 'HAVE FINISH': -inf, 'HAVE LOVE': -inf, 'HAVE VISIT': -inf, 'HAVE SOMETHING-ONE': -inf, 'HAVE POSS': -inf, 'HAVE POTATO': -inf, 'HAVE ANN': -inf, 'HAVE TELL': -inf, 'HAVE BREAK-DOWN': -inf, 'HAVE NOT': -inf, 'HAVE TEACHER': -inf, 'HAVE IX-1P': -inf, 'HAVE GIVE': -inf, 'HAVE READ': -inf, 'HAVE FISH': -inf, 'HAVE KNOW': -inf, 'HAVE DECIDE': -inf, 'HAVE SEARCH-FOR': -inf, 'HAVE NEW': -inf, 'HAVE OLD': -inf, 'HAVE APPLE': -inf, 'HAVE SHOOT': -inf, 'HAVE WHO': -inf, 'HAVE SAY': -inf, 'HAVE TOMORROW': -inf, 'HAVE SEE': -inf, 'HAVE ARRIVE': -inf, 'HAVE FRIEND': -inf, 'HAVE CORN': -inf, 'HAVE HERE': -inf, 'HAVE FRED': -inf, 'HAVE WRITE': -inf, 'HAVE VEGETABLE': -inf, 'HAVE BLUE': -inf, 'HAVE ALL': -inf, 'HAVE JOHN': -inf, 'HAVE LIKE': -inf, 'HAVE LEG': -inf, 'HAVE BILL': -inf, 'HAVE LAST-WEEK': -inf, 'HAVE YESTERDAY': -inf, 'HAVE SHOULD': -inf, 'HAVE BOOK': -5.8565035616738648, 'HAVE CHINA': -inf, 'HAVE STUDENT': -inf, 'HAVE MARY': -inf, 'HAVE TOY': -inf, 'HAVE CAR': -inf, 'HAVE CAN': -inf, 'HAVE HIT': -inf, 'HAVE COAT': -inf, 'HAVE NEW-YORK': -inf, 'HAVE BROCCOLI': -inf, 'HAVE MOTHER': -inf, 'HAVE EAT': -inf, 'HAVE IX': -inf, 'HAVE CANDY': -inf, 'HAVE NEXT-WEEK': -inf, 'HAVE THINK': -inf, 'HAVE SELL': -inf, 'HAVE STOLEN': -inf, 'HAVE SELF': -inf, 'HAVE SAY-1P': -inf, 'HAVE CHICKEN': -inf, 'HAVE JANA': -inf, 'HAVE THROW': -inf, 'HAVE <START>': -inf, 'HAVE <END>': -inf, 'GIRL BOX': -6.5496507422338102, 'GIRL BOY': -inf, 'GIRL PUTASIDE': -inf, 'GIRL SUE': -inf, 'GIRL HAVE': -inf, 'GIRL GIRL': -inf, 'GIRL WONT': -inf, 'GIRL WOMAN': -inf, 'GIRL MANY': -inf, 'GIRL PEOPLE': -inf, 'GIRL LIVE': -inf, 'GIRL CHICAGO': -inf, 'GIRL PAST': -inf, 'GIRL GO': -inf, 'GIRL PARTY': -inf, 'GIRL NAME': -inf, 'GIRL FRANK': -inf, 'GIRL BLAME': -inf, 'GIRL FUTURE': -inf, 'GIRL HOUSE': -inf, 'GIRL MAN': -inf, 'GIRL GROUP': -inf, 'GIRL WANT': -inf, 'GIRL VIDEOTAPE': -inf, 'GIRL MOVIE': -inf, 'GIRL PREFER': -inf, 'GIRL BROTHER': -inf, 'GIRL BORROW': -inf, 'GIRL LEAVE': -inf, 'GIRL FIND': -inf, 'GIRL WILL': -inf, 'GIRL WHAT': -inf, 'GIRL BUY': -inf, 'GIRL GET': -inf, 'GIRL BUT': -inf, 'GIRL CHOCOLATE': -inf, 'GIRL HOMEWORK': -inf, 'GIRL FINISH': -inf, 'GIRL LOVE': -inf, 'GIRL VISIT': -inf, 'GIRL SOMETHING-ONE': -inf, 'GIRL POSS': -inf, 'GIRL POTATO': -inf, 'GIRL ANN': -inf, 'GIRL TELL': -inf, 'GIRL BREAK-DOWN': -inf, 'GIRL NOT': -inf, 'GIRL TEACHER': -inf, 'GIRL IX-1P': -inf, 'GIRL GIVE': -5.4510384535657002, 'GIRL READ': -inf, 'GIRL FISH': -inf, 'GIRL KNOW': -inf, 'GIRL DECIDE': -inf, 'GIRL SEARCH-FOR': -inf, 'GIRL NEW': -inf, 'GIRL OLD': -inf, 'GIRL APPLE': -inf, 'GIRL SHOOT': -inf, 'GIRL WHO': -inf, 'GIRL SAY': -inf, 'GIRL TOMORROW': -inf, 'GIRL SEE': -inf, 'GIRL ARRIVE': -inf, 'GIRL FRIEND': -inf, 'GIRL CORN': -inf, 'GIRL HERE': -inf, 'GIRL FRED': -inf, 'GIRL WRITE': -inf, 'GIRL VEGETABLE': -inf, 'GIRL BLUE': -inf, 'GIRL ALL': -inf, 'GIRL JOHN': -inf, 'GIRL LIKE': -inf, 'GIRL LEG': -inf, 'GIRL BILL': -inf, 'GIRL LAST-WEEK': -inf, 'GIRL YESTERDAY': -inf, 'GIRL SHOULD': -inf, 'GIRL BOOK': -inf, 'GIRL CHINA': -inf, 'GIRL STUDENT': -inf, 'GIRL MARY': -inf, 'GIRL TOY': -inf, 'GIRL CAR': -inf, 'GIRL CAN': -inf, 'GIRL HIT': -inf, 'GIRL COAT': -inf, 'GIRL NEW-YORK': -inf, 'GIRL BROCCOLI': -inf, 'GIRL MOTHER': -inf, 'GIRL EAT': -inf, 'GIRL IX': -inf, 'GIRL CANDY': -inf, 'GIRL NEXT-WEEK': -inf, 'GIRL THINK': -inf, 'GIRL SELL': -inf, 'GIRL STOLEN': -inf, 'GIRL SELF': -inf, 'GIRL SAY-1P': -inf, 'GIRL CHICKEN': -inf, 'GIRL JANA': -inf, 'GIRL THROW': -inf, 'GIRL <START>': -inf, 'GIRL <END>': -inf, 'WONT BOX': -inf, 'WONT BOY': -inf, 'WONT PUTASIDE': -inf, 'WONT SUE': -inf, 'WONT HAVE': -inf, 'WONT GIRL': -inf, 'WONT WONT': -inf, 'WONT WOMAN': -inf, 'WONT MANY': -inf, 'WONT PEOPLE': -inf, 'WONT LIVE': -inf, 'WONT CHICAGO': -inf, 'WONT PAST': -inf, 'WONT GO': -inf, 'WONT PARTY': -inf, 'WONT NAME': -inf, 'WONT FRANK': -inf, 'WONT BLAME': -inf, 'WONT FUTURE': -inf, 'WONT HOUSE': -inf, 'WONT MAN': -inf, 'WONT GROUP': -inf, 'WONT WANT': -inf, 'WONT VIDEOTAPE': -inf, 'WONT MOVIE': -inf, 'WONT PREFER': -inf, 'WONT BROTHER': -inf, 'WONT BORROW': -inf, 'WONT LEAVE': -inf, 'WONT FIND': -inf, 'WONT WILL': -inf, 'WONT WHAT': -inf, 'WONT BUY': -inf, 'WONT GET': -inf, 'WONT BUT': -inf, 'WONT CHOCOLATE': -inf, 'WONT HOMEWORK': -inf, 'WONT FINISH': -inf, 'WONT LOVE': -inf, 'WONT VISIT': -inf, 'WONT SOMETHING-ONE': -inf, 'WONT POSS': -inf, 'WONT POTATO': -inf, 'WONT ANN': -inf, 'WONT TELL': -inf, 'WONT BREAK-DOWN': -inf, 'WONT NOT': -inf, 'WONT TEACHER': -inf, 'WONT IX-1P': -inf, 'WONT GIVE': -inf, 'WONT READ': -inf, 'WONT FISH': -inf, 'WONT KNOW': -inf, 'WONT DECIDE': -inf, 'WONT SEARCH-FOR': -inf, 'WONT NEW': -inf, 'WONT OLD': -inf, 'WONT APPLE': -inf, 'WONT SHOOT': -inf, 'WONT WHO': -inf, 'WONT SAY': -inf, 'WONT TOMORROW': -inf, 'WONT SEE': -inf, 'WONT ARRIVE': -inf, 'WONT FRIEND': -inf, 'WONT CORN': -inf, 'WONT HERE': -inf, 'WONT FRED': -inf, 'WONT WRITE': -inf, 'WONT VEGETABLE': -inf, 'WONT BLUE': -inf, 'WONT ALL': -inf, 'WONT JOHN': -inf, 'WONT LIKE': -inf, 'WONT LEG': -inf, 'WONT BILL': -inf, 'WONT LAST-WEEK': -inf, 'WONT YESTERDAY': -inf, 'WONT SHOULD': -inf, 'WONT BOOK': -inf, 'WONT CHINA': -inf, 'WONT STUDENT': -inf, 'WONT MARY': -inf, 'WONT TOY': -inf, 'WONT CAR': -inf, 'WONT CAN': -inf, 'WONT HIT': -inf, 'WONT COAT': -inf, 'WONT NEW-YORK': -inf, 'WONT BROCCOLI': -inf, 'WONT MOTHER': -inf, 'WONT EAT': -5.8565035616738648, 'WONT IX': -inf, 'WONT CANDY': -inf, 'WONT NEXT-WEEK': -inf, 'WONT THINK': -inf, 'WONT SELL': -inf, 'WONT STOLEN': -inf, 'WONT SELF': -inf, 'WONT SAY-1P': -inf, 'WONT CHICKEN': -inf, 'WONT JANA': -inf, 'WONT THROW': -inf, 'WONT <START>': -inf, 'WONT <END>': -inf, 'WOMAN BOX': -inf, 'WOMAN BOY': -inf, 'WOMAN PUTASIDE': -inf, 'WOMAN SUE': -inf, 'WOMAN HAVE': -6.5496507422338102, 'WOMAN GIRL': -inf, 'WOMAN WONT': -inf, 'WOMAN WOMAN': -inf, 'WOMAN MANY': -inf, 'WOMAN PEOPLE': -inf, 'WOMAN LIVE': -inf, 'WOMAN CHICAGO': -inf, 'WOMAN PAST': -inf, 'WOMAN GO': -inf, 'WOMAN PARTY': -inf, 'WOMAN NAME': -inf, 'WOMAN FRANK': -inf, 'WOMAN BLAME': -inf, 'WOMAN FUTURE': -inf, 'WOMAN HOUSE': -inf, 'WOMAN MAN': -inf, 'WOMAN GROUP': -inf, 'WOMAN WANT': -inf, 'WOMAN VIDEOTAPE': -inf, 'WOMAN MOVIE': -inf, 'WOMAN PREFER': -inf, 'WOMAN BROTHER': -inf, 'WOMAN BORROW': -inf, 'WOMAN LEAVE': -inf, 'WOMAN FIND': -inf, 'WOMAN WILL': -inf, 'WOMAN WHAT': -6.5496507422338102, 'WOMAN BUY': -inf, 'WOMAN GET': -inf, 'WOMAN BUT': -inf, 'WOMAN CHOCOLATE': -inf, 'WOMAN HOMEWORK': -inf, 'WOMAN FINISH': -inf, 'WOMAN LOVE': -inf, 'WOMAN VISIT': -inf, 'WOMAN SOMETHING-ONE': -inf, 'WOMAN POSS': -inf, 'WOMAN POTATO': -inf, 'WOMAN ANN': -inf, 'WOMAN TELL': -inf, 'WOMAN BREAK-DOWN': -inf, 'WOMAN NOT': -inf, 'WOMAN TEACHER': -inf, 'WOMAN IX-1P': -inf, 'WOMAN GIVE': -inf, 'WOMAN READ': -inf, 'WOMAN FISH': -inf, 'WOMAN KNOW': -inf, 'WOMAN DECIDE': -inf, 'WOMAN SEARCH-FOR': -inf, 'WOMAN NEW': -inf, 'WOMAN OLD': -inf, 'WOMAN APPLE': -inf, 'WOMAN SHOOT': -inf, 'WOMAN WHO': -inf, 'WOMAN SAY': -inf, 'WOMAN TOMORROW': -inf, 'WOMAN SEE': -inf, 'WOMAN ARRIVE': -5.8565035616738648, 'WOMAN FRIEND': -inf, 'WOMAN CORN': -inf, 'WOMAN HERE': -inf, 'WOMAN FRED': -inf, 'WOMAN WRITE': -inf, 'WOMAN VEGETABLE': -inf, 'WOMAN BLUE': -inf, 'WOMAN ALL': -inf, 'WOMAN JOHN': -inf, 'WOMAN LIKE': -inf, 'WOMAN LEG': -inf, 'WOMAN BILL': -inf, 'WOMAN LAST-WEEK': -inf, 'WOMAN YESTERDAY': -inf, 'WOMAN SHOULD': -inf, 'WOMAN BOOK': -6.5496507422338102, 'WOMAN CHINA': -inf, 'WOMAN STUDENT': -inf, 'WOMAN MARY': -inf, 'WOMAN TOY': -inf, 'WOMAN CAR': -inf, 'WOMAN CAN': -inf, 'WOMAN HIT': -inf, 'WOMAN COAT': -inf, 'WOMAN NEW-YORK': -inf, 'WOMAN BROCCOLI': -inf, 'WOMAN MOTHER': -inf, 'WOMAN EAT': -inf, 'WOMAN IX': -6.5496507422338102, 'WOMAN CANDY': -inf, 'WOMAN NEXT-WEEK': -inf, 'WOMAN THINK': -inf, 'WOMAN SELL': -inf, 'WOMAN STOLEN': -inf, 'WOMAN SELF': -inf, 'WOMAN SAY-1P': -inf, 'WOMAN CHICKEN': -inf, 'WOMAN JANA': -inf, 'WOMAN THROW': -inf, 'WOMAN <START>': -inf, 'WOMAN <END>': -inf, 'MANY BOX': -inf, 'MANY BOY': -inf, 'MANY PUTASIDE': -inf, 'MANY SUE': -inf, 'MANY HAVE': -inf, 'MANY GIRL': -inf, 'MANY WONT': -inf, 'MANY WOMAN': -inf, 'MANY MANY': -inf, 'MANY PEOPLE': -6.5496507422338102, 'MANY LIVE': -inf, 'MANY CHICAGO': -inf, 'MANY PAST': -inf, 'MANY GO': -inf, 'MANY PARTY': -inf, 'MANY NAME': -inf, 'MANY FRANK': -inf, 'MANY BLAME': -inf, 'MANY FUTURE': -inf, 'MANY HOUSE': -inf, 'MANY MAN': -inf, 'MANY GROUP': -inf, 'MANY WANT': -inf, 'MANY VIDEOTAPE': -inf, 'MANY MOVIE': -inf, 'MANY PREFER': -inf, 'MANY BROTHER': -inf, 'MANY BORROW': -inf, 'MANY LEAVE': -inf, 'MANY FIND': -inf, 'MANY WILL': -inf, 'MANY WHAT': -inf, 'MANY BUY': -inf, 'MANY GET': -inf, 'MANY BUT': -inf, 'MANY CHOCOLATE': -inf, 'MANY HOMEWORK': -inf, 'MANY FINISH': -inf, 'MANY LOVE': -inf, 'MANY VISIT': -inf, 'MANY SOMETHING-ONE': -inf, 'MANY POSS': -inf, 'MANY POTATO': -inf, 'MANY ANN': -inf, 'MANY TELL': -inf, 'MANY BREAK-DOWN': -inf, 'MANY NOT': -inf, 'MANY TEACHER': -inf, 'MANY IX-1P': -inf, 'MANY GIVE': -inf, 'MANY READ': -inf, 'MANY FISH': -inf, 'MANY KNOW': -inf, 'MANY DECIDE': -inf, 'MANY SEARCH-FOR': -inf, 'MANY NEW': -inf, 'MANY OLD': -inf, 'MANY APPLE': -inf, 'MANY SHOOT': -inf, 'MANY WHO': -inf, 'MANY SAY': -inf, 'MANY TOMORROW': -inf, 'MANY SEE': -inf, 'MANY ARRIVE': -inf, 'MANY FRIEND': -inf, 'MANY CORN': -inf, 'MANY HERE': -inf, 'MANY FRED': -inf, 'MANY WRITE': -inf, 'MANY VEGETABLE': -inf, 'MANY BLUE': -inf, 'MANY ALL': -inf, 'MANY JOHN': -inf, 'MANY LIKE': -inf, 'MANY LEG': -inf, 'MANY BILL': -inf, 'MANY LAST-WEEK': -inf, 'MANY YESTERDAY': -inf, 'MANY SHOULD': -inf, 'MANY BOOK': -inf, 'MANY CHINA': -inf, 'MANY STUDENT': -inf, 'MANY MARY': -inf, 'MANY TOY': -inf, 'MANY CAR': -inf, 'MANY CAN': -inf, 'MANY HIT': -inf, 'MANY COAT': -inf, 'MANY NEW-YORK': -inf, 'MANY BROCCOLI': -inf, 'MANY MOTHER': -inf, 'MANY EAT': -inf, 'MANY IX': -inf, 'MANY CANDY': -inf, 'MANY NEXT-WEEK': -inf, 'MANY THINK': -inf, 'MANY SELL': -inf, 'MANY STOLEN': -inf, 'MANY SELF': -inf, 'MANY SAY-1P': -inf, 'MANY CHICKEN': -inf, 'MANY JANA': -inf, 'MANY THROW': -inf, 'MANY <START>': -inf, 'MANY <END>': -inf, 'PEOPLE BOX': -inf, 'PEOPLE BOY': -inf, 'PEOPLE PUTASIDE': -inf, 'PEOPLE SUE': -inf, 'PEOPLE HAVE': -inf, 'PEOPLE GIRL': -inf, 'PEOPLE WONT': -inf, 'PEOPLE WOMAN': -inf, 'PEOPLE MANY': -inf, 'PEOPLE PEOPLE': -inf, 'PEOPLE LIVE': -inf, 'PEOPLE CHICAGO': -inf, 'PEOPLE PAST': -inf, 'PEOPLE GO': -inf, 'PEOPLE PARTY': -inf, 'PEOPLE NAME': -inf, 'PEOPLE FRANK': -inf, 'PEOPLE BLAME': -inf, 'PEOPLE FUTURE': -inf, 'PEOPLE HOUSE': -inf, 'PEOPLE MAN': -inf, 'PEOPLE GROUP': -6.5496507422338102, 'PEOPLE WANT': -inf, 'PEOPLE VIDEOTAPE': -inf, 'PEOPLE MOVIE': -inf, 'PEOPLE PREFER': -6.5496507422338102, 'PEOPLE BROTHER': -inf, 'PEOPLE BORROW': -inf, 'PEOPLE LEAVE': -inf, 'PEOPLE FIND': -inf, 'PEOPLE WILL': -inf, 'PEOPLE WHAT': -inf, 'PEOPLE BUY': -inf, 'PEOPLE GET': -inf, 'PEOPLE BUT': -inf, 'PEOPLE CHOCOLATE': -inf, 'PEOPLE HOMEWORK': -inf, 'PEOPLE FINISH': -inf, 'PEOPLE LOVE': -inf, 'PEOPLE VISIT': -inf, 'PEOPLE SOMETHING-ONE': -inf, 'PEOPLE POSS': -inf, 'PEOPLE POTATO': -inf, 'PEOPLE ANN': -inf, 'PEOPLE TELL': -inf, 'PEOPLE BREAK-DOWN': -inf, 'PEOPLE NOT': -inf, 'PEOPLE TEACHER': -inf, 'PEOPLE IX-1P': -inf, 'PEOPLE GIVE': -6.5496507422338102, 'PEOPLE READ': -inf, 'PEOPLE FISH': -inf, 'PEOPLE KNOW': -inf, 'PEOPLE DECIDE': -inf, 'PEOPLE SEARCH-FOR': -inf, 'PEOPLE NEW': -inf, 'PEOPLE OLD': -inf, 'PEOPLE APPLE': -inf, 'PEOPLE SHOOT': -inf, 'PEOPLE WHO': -inf, 'PEOPLE SAY': -inf, 'PEOPLE TOMORROW': -inf, 'PEOPLE SEE': -inf, 'PEOPLE ARRIVE': -inf, 'PEOPLE FRIEND': -inf, 'PEOPLE CORN': -inf, 'PEOPLE HERE': -inf, 'PEOPLE FRED': -inf, 'PEOPLE WRITE': -inf, 'PEOPLE VEGETABLE': -inf, 'PEOPLE BLUE': -inf, 'PEOPLE ALL': -inf, 'PEOPLE JOHN': -inf, 'PEOPLE LIKE': -inf, 'PEOPLE LEG': -inf, 'PEOPLE BILL': -inf, 'PEOPLE LAST-WEEK': -inf, 'PEOPLE YESTERDAY': -inf, 'PEOPLE SHOULD': -inf, 'PEOPLE BOOK': -inf, 'PEOPLE CHINA': -inf, 'PEOPLE STUDENT': -inf, 'PEOPLE MARY': -inf, 'PEOPLE TOY': -inf, 'PEOPLE CAR': -inf, 'PEOPLE CAN': -inf, 'PEOPLE HIT': -inf, 'PEOPLE COAT': -inf, 'PEOPLE NEW-YORK': -inf, 'PEOPLE BROCCOLI': -inf, 'PEOPLE MOTHER': -inf, 'PEOPLE EAT': -inf, 'PEOPLE IX': -inf, 'PEOPLE CANDY': -inf, 'PEOPLE NEXT-WEEK': -inf, 'PEOPLE THINK': -inf, 'PEOPLE SELL': -inf, 'PEOPLE STOLEN': -inf, 'PEOPLE SELF': -inf, 'PEOPLE SAY-1P': -inf, 'PEOPLE CHICKEN': -inf, 'PEOPLE JANA': -inf, 'PEOPLE THROW': -inf, 'PEOPLE <START>': -inf, 'PEOPLE <END>': -inf, 'LIVE BOX': -inf, 'LIVE BOY': -inf, 'LIVE PUTASIDE': -inf, 'LIVE SUE': -inf, 'LIVE HAVE': -inf, 'LIVE GIRL': -inf, 'LIVE WONT': -inf, 'LIVE WOMAN': -inf, 'LIVE MANY': -inf, 'LIVE PEOPLE': -inf, 'LIVE LIVE': -inf, 'LIVE CHICAGO': -6.5496507422338102, 'LIVE PAST': -inf, 'LIVE GO': -inf, 'LIVE PARTY': -inf, 'LIVE NAME': -inf, 'LIVE FRANK': -inf, 'LIVE BLAME': -inf, 'LIVE FUTURE': -inf, 'LIVE HOUSE': -inf, 'LIVE MAN': -inf, 'LIVE GROUP': -inf, 'LIVE WANT': -inf, 'LIVE VIDEOTAPE': -inf, 'LIVE MOVIE': -inf, 'LIVE PREFER': -inf, 'LIVE BROTHER': -inf, 'LIVE BORROW': -inf, 'LIVE LEAVE': -inf, 'LIVE FIND': -inf, 'LIVE WILL': -inf, 'LIVE WHAT': -inf, 'LIVE BUY': -inf, 'LIVE GET': -inf, 'LIVE BUT': -inf, 'LIVE CHOCOLATE': -inf, 'LIVE HOMEWORK': -inf, 'LIVE FINISH': -inf, 'LIVE LOVE': -inf, 'LIVE VISIT': -inf, 'LIVE SOMETHING-ONE': -inf, 'LIVE POSS': -inf, 'LIVE POTATO': -inf, 'LIVE ANN': -inf, 'LIVE TELL': -inf, 'LIVE BREAK-DOWN': -inf, 'LIVE NOT': -inf, 'LIVE TEACHER': -inf, 'LIVE IX-1P': -inf, 'LIVE GIVE': -inf, 'LIVE READ': -inf, 'LIVE FISH': -inf, 'LIVE KNOW': -inf, 'LIVE DECIDE': -inf, 'LIVE SEARCH-FOR': -inf, 'LIVE NEW': -inf, 'LIVE OLD': -inf, 'LIVE APPLE': -inf, 'LIVE SHOOT': -inf, 'LIVE WHO': -inf, 'LIVE SAY': -inf, 'LIVE TOMORROW': -inf, 'LIVE SEE': -inf, 'LIVE ARRIVE': -inf, 'LIVE FRIEND': -inf, 'LIVE CORN': -inf, 'LIVE HERE': -inf, 'LIVE FRED': -inf, 'LIVE WRITE': -inf, 'LIVE VEGETABLE': -inf, 'LIVE BLUE': -inf, 'LIVE ALL': -inf, 'LIVE JOHN': -inf, 'LIVE LIKE': -inf, 'LIVE LEG': -inf, 'LIVE BILL': -inf, 'LIVE LAST-WEEK': -inf, 'LIVE YESTERDAY': -inf, 'LIVE SHOULD': -inf, 'LIVE BOOK': -inf, 'LIVE CHINA': -inf, 'LIVE STUDENT': -inf, 'LIVE MARY': -inf, 'LIVE TOY': -inf, 'LIVE CAR': -inf, 'LIVE CAN': -inf, 'LIVE HIT': -inf, 'LIVE COAT': -inf, 'LIVE NEW-YORK': -inf, 'LIVE BROCCOLI': -inf, 'LIVE MOTHER': -inf, 'LIVE EAT': -inf, 'LIVE IX': -inf, 'LIVE CANDY': -inf, 'LIVE NEXT-WEEK': -inf, 'LIVE THINK': -inf, 'LIVE SELL': -inf, 'LIVE STOLEN': -inf, 'LIVE SELF': -inf, 'LIVE SAY-1P': -inf, 'LIVE CHICKEN': -inf, 'LIVE JANA': -inf, 'LIVE THROW': -inf, 'LIVE <START>': -inf, 'LIVE <END>': -inf, 'CHICAGO BOX': -inf, 'CHICAGO BOY': -inf, 'CHICAGO PUTASIDE': -inf, 'CHICAGO SUE': -inf, 'CHICAGO HAVE': -inf, 'CHICAGO GIRL': -inf, 'CHICAGO WONT': -inf, 'CHICAGO WOMAN': -inf, 'CHICAGO MANY': -inf, 'CHICAGO PEOPLE': -inf, 'CHICAGO LIVE': -inf, 'CHICAGO CHICAGO': -inf, 'CHICAGO PAST': -inf, 'CHICAGO GO': -inf, 'CHICAGO PARTY': -inf, 'CHICAGO NAME': -inf, 'CHICAGO FRANK': -inf, 'CHICAGO BLAME': -inf, 'CHICAGO FUTURE': -inf, 'CHICAGO HOUSE': -inf, 'CHICAGO MAN': -inf, 'CHICAGO GROUP': -inf, 'CHICAGO WANT': -inf, 'CHICAGO VIDEOTAPE': -inf, 'CHICAGO MOVIE': -inf, 'CHICAGO PREFER': -inf, 'CHICAGO BROTHER': -inf, 'CHICAGO BORROW': -inf, 'CHICAGO LEAVE': -inf, 'CHICAGO FIND': -inf, 'CHICAGO WILL': -inf, 'CHICAGO WHAT': -inf, 'CHICAGO BUY': -inf, 'CHICAGO GET': -inf, 'CHICAGO BUT': -inf, 'CHICAGO CHOCOLATE': -inf, 'CHICAGO HOMEWORK': -inf, 'CHICAGO FINISH': -inf, 'CHICAGO LOVE': -inf, 'CHICAGO VISIT': -inf, 'CHICAGO SOMETHING-ONE': -inf, 'CHICAGO POSS': -inf, 'CHICAGO POTATO': -inf, 'CHICAGO ANN': -inf, 'CHICAGO TELL': -inf, 'CHICAGO BREAK-DOWN': -inf, 'CHICAGO NOT': -inf, 'CHICAGO TEACHER': -inf, 'CHICAGO IX-1P': -inf, 'CHICAGO GIVE': -inf, 'CHICAGO READ': -inf, 'CHICAGO FISH': -inf, 'CHICAGO KNOW': -inf, 'CHICAGO DECIDE': -inf, 'CHICAGO SEARCH-FOR': -inf, 'CHICAGO NEW': -inf, 'CHICAGO OLD': -inf, 'CHICAGO APPLE': -inf, 'CHICAGO SHOOT': -inf, 'CHICAGO WHO': -inf, 'CHICAGO SAY': -inf, 'CHICAGO TOMORROW': -inf, 'CHICAGO SEE': -inf, 'CHICAGO ARRIVE': -inf, 'CHICAGO FRIEND': -inf, 'CHICAGO CORN': -inf, 'CHICAGO HERE': -inf, 'CHICAGO FRED': -inf, 'CHICAGO WRITE': -inf, 'CHICAGO VEGETABLE': -inf, 'CHICAGO BLUE': -inf, 'CHICAGO ALL': -inf, 'CHICAGO JOHN': -inf, 'CHICAGO LIKE': -inf, 'CHICAGO LEG': -inf, 'CHICAGO BILL': -inf, 'CHICAGO LAST-WEEK': -inf, 'CHICAGO YESTERDAY': -inf, 'CHICAGO SHOULD': -inf, 'CHICAGO BOOK': -inf, 'CHICAGO CHINA': -inf, 'CHICAGO STUDENT': -inf, 'CHICAGO MARY': -inf, 'CHICAGO TOY': -inf, 'CHICAGO CAR': -inf, 'CHICAGO CAN': -inf, 'CHICAGO HIT': -inf, 'CHICAGO COAT': -inf, 'CHICAGO NEW-YORK': -inf, 'CHICAGO BROCCOLI': -inf, 'CHICAGO MOTHER': -inf, 'CHICAGO EAT': -inf, 'CHICAGO IX': -inf, 'CHICAGO CANDY': -inf, 'CHICAGO NEXT-WEEK': -inf, 'CHICAGO THINK': -inf, 'CHICAGO SELL': -inf, 'CHICAGO STOLEN': -inf, 'CHICAGO SELF': -inf, 'CHICAGO SAY-1P': -inf, 'CHICAGO CHICKEN': -inf, 'CHICAGO JANA': -inf, 'CHICAGO THROW': -inf, 'CHICAGO <START>': -inf, 'CHICAGO <END>': -6.5496507422338102, 'PAST BOX': -inf, 'PAST BOY': -inf, 'PAST PUTASIDE': -inf, 'PAST SUE': -inf, 'PAST HAVE': -inf, 'PAST GIRL': -inf, 'PAST WONT': -inf, 'PAST WOMAN': -inf, 'PAST MANY': -inf, 'PAST PEOPLE': -inf, 'PAST LIVE': -6.5496507422338102, 'PAST CHICAGO': -inf, 'PAST PAST': -inf, 'PAST GO': -inf, 'PAST PARTY': -inf, 'PAST NAME': -inf, 'PAST FRANK': -inf, 'PAST BLAME': -inf, 'PAST FUTURE': -inf, 'PAST HOUSE': -inf, 'PAST MAN': -inf, 'PAST GROUP': -inf, 'PAST WANT': -inf, 'PAST VIDEOTAPE': -inf, 'PAST MOVIE': -inf, 'PAST PREFER': -inf, 'PAST BROTHER': -inf, 'PAST BORROW': -inf, 'PAST LEAVE': -inf, 'PAST FIND': -inf, 'PAST WILL': -inf, 'PAST WHAT': -inf, 'PAST BUY': -inf, 'PAST GET': -inf, 'PAST BUT': -inf, 'PAST CHOCOLATE': -inf, 'PAST HOMEWORK': -inf, 'PAST FINISH': -inf, 'PAST LOVE': -inf, 'PAST VISIT': -inf, 'PAST SOMETHING-ONE': -inf, 'PAST POSS': -inf, 'PAST POTATO': -inf, 'PAST ANN': -inf, 'PAST TELL': -inf, 'PAST BREAK-DOWN': -inf, 'PAST NOT': -inf, 'PAST TEACHER': -inf, 'PAST IX-1P': -inf, 'PAST GIVE': -inf, 'PAST READ': -inf, 'PAST FISH': -inf, 'PAST KNOW': -inf, 'PAST DECIDE': -inf, 'PAST SEARCH-FOR': -inf, 'PAST NEW': -inf, 'PAST OLD': -inf, 'PAST APPLE': -inf, 'PAST SHOOT': -inf, 'PAST WHO': -inf, 'PAST SAY': -inf, 'PAST TOMORROW': -inf, 'PAST SEE': -inf, 'PAST ARRIVE': -inf, 'PAST FRIEND': -inf, 'PAST CORN': -inf, 'PAST HERE': -inf, 'PAST FRED': -inf, 'PAST WRITE': -inf, 'PAST VEGETABLE': -inf, 'PAST BLUE': -inf, 'PAST ALL': -inf, 'PAST JOHN': -inf, 'PAST LIKE': -inf, 'PAST LEG': -inf, 'PAST BILL': -inf, 'PAST LAST-WEEK': -inf, 'PAST YESTERDAY': -inf, 'PAST SHOULD': -inf, 'PAST BOOK': -inf, 'PAST CHINA': -inf, 'PAST STUDENT': -inf, 'PAST MARY': -inf, 'PAST TOY': -inf, 'PAST CAR': -inf, 'PAST CAN': -inf, 'PAST HIT': -inf, 'PAST COAT': -inf, 'PAST NEW-YORK': -inf, 'PAST BROCCOLI': -inf, 'PAST MOTHER': -inf, 'PAST EAT': -inf, 'PAST IX': -inf, 'PAST CANDY': -inf, 'PAST NEXT-WEEK': -inf, 'PAST THINK': -inf, 'PAST SELL': -inf, 'PAST STOLEN': -inf, 'PAST SELF': -inf, 'PAST SAY-1P': -inf, 'PAST CHICKEN': -inf, 'PAST JANA': -inf, 'PAST THROW': -inf, 'PAST <START>': -inf, 'PAST <END>': -inf, 'GO BOX': -inf, 'GO BOY': -inf, 'GO PUTASIDE': -inf, 'GO SUE': -inf, 'GO HAVE': -inf, 'GO GIRL': -inf, 'GO WONT': -inf, 'GO WOMAN': -inf, 'GO MANY': -inf, 'GO PEOPLE': -inf, 'GO LIVE': -inf, 'GO CHICAGO': -inf, 'GO PAST': -inf, 'GO GO': -inf, 'GO PARTY': -6.5496507422338102, 'GO NAME': -inf, 'GO FRANK': -inf, 'GO BLAME': -inf, 'GO FUTURE': -6.5496507422338102, 'GO HOUSE': -inf, 'GO MAN': -inf, 'GO GROUP': -inf, 'GO WANT': -inf, 'GO VIDEOTAPE': -inf, 'GO MOVIE': -5.8565035616738648, 'GO PREFER': -inf, 'GO BROTHER': -inf, 'GO BORROW': -inf, 'GO LEAVE': -inf, 'GO FIND': -inf, 'GO WILL': -inf, 'GO WHAT': -inf, 'GO BUY': -inf, 'GO GET': -inf, 'GO BUT': -inf, 'GO CHOCOLATE': -inf, 'GO HOMEWORK': -inf, 'GO FINISH': -inf, 'GO LOVE': -inf, 'GO VISIT': -inf, 'GO SOMETHING-ONE': -inf, 'GO POSS': -inf, 'GO POTATO': -inf, 'GO ANN': -inf, 'GO TELL': -inf, 'GO BREAK-DOWN': -inf, 'GO NOT': -inf, 'GO TEACHER': -inf, 'GO IX-1P': -inf, 'GO GIVE': -inf, 'GO READ': -inf, 'GO FISH': -inf, 'GO KNOW': -inf, 'GO DECIDE': -inf, 'GO SEARCH-FOR': -inf, 'GO NEW': -inf, 'GO OLD': -inf, 'GO APPLE': -inf, 'GO SHOOT': -inf, 'GO WHO': -inf, 'GO SAY': -inf, 'GO TOMORROW': -inf, 'GO SEE': -inf, 'GO ARRIVE': -inf, 'GO FRIEND': -inf, 'GO CORN': -inf, 'GO HERE': -inf, 'GO FRED': -inf, 'GO WRITE': -inf, 'GO VEGETABLE': -inf, 'GO BLUE': -inf, 'GO ALL': -inf, 'GO JOHN': -inf, 'GO LIKE': -inf, 'GO LEG': -inf, 'GO BILL': -inf, 'GO LAST-WEEK': -inf, 'GO YESTERDAY': -inf, 'GO SHOULD': -5.4510384535657002, 'GO BOOK': -inf, 'GO CHINA': -inf, 'GO STUDENT': -inf, 'GO MARY': -inf, 'GO TOY': -inf, 'GO CAR': -inf, 'GO CAN': -5.1633563811139194, 'GO HIT': -inf, 'GO COAT': -inf, 'GO NEW-YORK': -5.8565035616738648, 'GO BROCCOLI': -inf, 'GO MOTHER': -inf, 'GO EAT': -inf, 'GO IX': -6.5496507422338102, 'GO CANDY': -inf, 'GO NEXT-WEEK': -inf, 'GO THINK': -inf, 'GO SELL': -inf, 'GO STOLEN': -inf, 'GO SELF': -inf, 'GO SAY-1P': -inf, 'GO CHICKEN': -inf, 'GO JANA': -inf, 'GO THROW': -inf, 'GO <START>': -inf, 'GO <END>': -inf, 'PARTY BOX': -inf, 'PARTY BOY': -inf, 'PARTY PUTASIDE': -inf, 'PARTY SUE': -inf, 'PARTY HAVE': -inf, 'PARTY GIRL': -inf, 'PARTY WONT': -inf, 'PARTY WOMAN': -inf, 'PARTY MANY': -inf, 'PARTY PEOPLE': -inf, 'PARTY LIVE': -inf, 'PARTY CHICAGO': -inf, 'PARTY PAST': -inf, 'PARTY GO': -inf, 'PARTY PARTY': -inf, 'PARTY NAME': -inf, 'PARTY FRANK': -inf, 'PARTY BLAME': -inf, 'PARTY FUTURE': -6.5496507422338102, 'PARTY HOUSE': -inf, 'PARTY MAN': -inf, 'PARTY GROUP': -inf, 'PARTY WANT': -inf, 'PARTY VIDEOTAPE': -inf, 'PARTY MOVIE': -inf, 'PARTY PREFER': -inf, 'PARTY BROTHER': -inf, 'PARTY BORROW': -inf, 'PARTY LEAVE': -inf, 'PARTY FIND': -inf, 'PARTY WILL': -inf, 'PARTY WHAT': -inf, 'PARTY BUY': -inf, 'PARTY GET': -inf, 'PARTY BUT': -inf, 'PARTY CHOCOLATE': -inf, 'PARTY HOMEWORK': -inf, 'PARTY FINISH': -inf, 'PARTY LOVE': -inf, 'PARTY VISIT': -inf, 'PARTY SOMETHING-ONE': -inf, 'PARTY POSS': -inf, 'PARTY POTATO': -inf, 'PARTY ANN': -inf, 'PARTY TELL': -inf, 'PARTY BREAK-DOWN': -inf, 'PARTY NOT': -inf, 'PARTY TEACHER': -inf, 'PARTY IX-1P': -inf, 'PARTY GIVE': -inf, 'PARTY READ': -inf, 'PARTY FISH': -inf, 'PARTY KNOW': -inf, 'PARTY DECIDE': -inf, 'PARTY SEARCH-FOR': -inf, 'PARTY NEW': -inf, 'PARTY OLD': -inf, 'PARTY APPLE': -inf, 'PARTY SHOOT': -inf, 'PARTY WHO': -inf, 'PARTY SAY': -inf, 'PARTY TOMORROW': -inf, 'PARTY SEE': -inf, 'PARTY ARRIVE': -inf, 'PARTY FRIEND': -inf, 'PARTY CORN': -inf, 'PARTY HERE': -inf, 'PARTY FRED': -inf, 'PARTY WRITE': -inf, 'PARTY VEGETABLE': -inf, 'PARTY BLUE': -inf, 'PARTY ALL': -inf, 'PARTY JOHN': -inf, 'PARTY LIKE': -inf, 'PARTY LEG': -inf, 'PARTY BILL': -inf, 'PARTY LAST-WEEK': -inf, 'PARTY YESTERDAY': -inf, 'PARTY SHOULD': -inf, 'PARTY BOOK': -inf, 'PARTY CHINA': -inf, 'PARTY STUDENT': -inf, 'PARTY MARY': -inf, 'PARTY TOY': -inf, 'PARTY CAR': -inf, 'PARTY CAN': -inf, 'PARTY HIT': -inf, 'PARTY COAT': -inf, 'PARTY NEW-YORK': -inf, 'PARTY BROCCOLI': -inf, 'PARTY MOTHER': -inf, 'PARTY EAT': -inf, 'PARTY IX': -inf, 'PARTY CANDY': -inf, 'PARTY NEXT-WEEK': -inf, 'PARTY THINK': -inf, 'PARTY SELL': -inf, 'PARTY STOLEN': -inf, 'PARTY SELF': -inf, 'PARTY SAY-1P': -inf, 'PARTY CHICKEN': -inf, 'PARTY JANA': -inf, 'PARTY THROW': -inf, 'PARTY <START>': -inf, 'PARTY <END>': -inf, 'NAME BOX': -inf, 'NAME BOY': -inf, 'NAME PUTASIDE': -inf, 'NAME SUE': -inf, 'NAME HAVE': -inf, 'NAME GIRL': -inf, 'NAME WONT': -inf, 'NAME WOMAN': -inf, 'NAME MANY': -inf, 'NAME PEOPLE': -inf, 'NAME LIVE': -inf, 'NAME CHICAGO': -inf, 'NAME PAST': -inf, 'NAME GO': -inf, 'NAME PARTY': -inf, 'NAME NAME': -inf, 'NAME FRANK': -inf, 'NAME BLAME': -inf, 'NAME FUTURE': -inf, 'NAME HOUSE': -inf, 'NAME MAN': -inf, 'NAME GROUP': -inf, 'NAME WANT': -inf, 'NAME VIDEOTAPE': -inf, 'NAME MOVIE': -inf, 'NAME PREFER': -inf, 'NAME BROTHER': -inf, 'NAME BORROW': -inf, 'NAME LEAVE': -inf, 'NAME FIND': -inf, 'NAME WILL': -inf, 'NAME WHAT': -inf, 'NAME BUY': -inf, 'NAME GET': -inf, 'NAME BUT': -inf, 'NAME CHOCOLATE': -inf, 'NAME HOMEWORK': -inf, 'NAME FINISH': -inf, 'NAME LOVE': -inf, 'NAME VISIT': -inf, 'NAME SOMETHING-ONE': -inf, 'NAME POSS': -inf, 'NAME POTATO': -inf, 'NAME ANN': -inf, 'NAME TELL': -inf, 'NAME BREAK-DOWN': -inf, 'NAME NOT': -inf, 'NAME TEACHER': -inf, 'NAME IX-1P': -inf, 'NAME GIVE': -inf, 'NAME READ': -inf, 'NAME FISH': -inf, 'NAME KNOW': -inf, 'NAME DECIDE': -inf, 'NAME SEARCH-FOR': -inf, 'NAME NEW': -inf, 'NAME OLD': -inf, 'NAME APPLE': -inf, 'NAME SHOOT': -inf, 'NAME WHO': -inf, 'NAME SAY': -inf, 'NAME TOMORROW': -inf, 'NAME SEE': -inf, 'NAME ARRIVE': -inf, 'NAME FRIEND': -inf, 'NAME CORN': -inf, 'NAME HERE': -inf, 'NAME FRED': -inf, 'NAME WRITE': -inf, 'NAME VEGETABLE': -inf, 'NAME BLUE': -inf, 'NAME ALL': -inf, 'NAME JOHN': -inf, 'NAME LIKE': -inf, 'NAME LEG': -inf, 'NAME BILL': -inf, 'NAME LAST-WEEK': -inf, 'NAME YESTERDAY': -inf, 'NAME SHOULD': -inf, 'NAME BOOK': -inf, 'NAME CHINA': -inf, 'NAME STUDENT': -inf, 'NAME MARY': -inf, 'NAME TOY': -inf, 'NAME CAR': -inf, 'NAME CAN': -inf, 'NAME HIT': -inf, 'NAME COAT': -inf, 'NAME NEW-YORK': -inf, 'NAME BROCCOLI': -inf, 'NAME MOTHER': -inf, 'NAME EAT': -inf, 'NAME IX': -inf, 'NAME CANDY': -inf, 'NAME NEXT-WEEK': -inf, 'NAME THINK': -inf, 'NAME SELL': -inf, 'NAME STOLEN': -inf, 'NAME SELF': -inf, 'NAME SAY-1P': -inf, 'NAME CHICKEN': -inf, 'NAME JANA': -inf, 'NAME THROW': -inf, 'NAME <START>': -inf, 'NAME <END>': -6.5496507422338102, 'FRANK BOX': -inf, 'FRANK BOY': -inf, 'FRANK PUTASIDE': -inf, 'FRANK SUE': -inf, 'FRANK HAVE': -inf, 'FRANK GIRL': -inf, 'FRANK WONT': -inf, 'FRANK WOMAN': -inf, 'FRANK MANY': -inf, 'FRANK PEOPLE': -inf, 'FRANK LIVE': -inf, 'FRANK CHICAGO': -inf, 'FRANK PAST': -inf, 'FRANK GO': -inf, 'FRANK PARTY': -inf, 'FRANK NAME': -inf, 'FRANK FRANK': -inf, 'FRANK BLAME': -inf, 'FRANK FUTURE': -inf, 'FRANK HOUSE': -inf, 'FRANK MAN': -inf, 'FRANK GROUP': -inf, 'FRANK WANT': -inf, 'FRANK VIDEOTAPE': -inf, 'FRANK MOVIE': -inf, 'FRANK PREFER': -inf, 'FRANK BROTHER': -inf, 'FRANK BORROW': -inf, 'FRANK LEAVE': -inf, 'FRANK FIND': -inf, 'FRANK WILL': -inf, 'FRANK WHAT': -inf, 'FRANK BUY': -inf, 'FRANK GET': -inf, 'FRANK BUT': -inf, 'FRANK CHOCOLATE': -inf, 'FRANK HOMEWORK': -inf, 'FRANK FINISH': -inf, 'FRANK LOVE': -inf, 'FRANK VISIT': -inf, 'FRANK SOMETHING-ONE': -inf, 'FRANK POSS': -5.8565035616738648, 'FRANK POTATO': -inf, 'FRANK ANN': -inf, 'FRANK TELL': -inf, 'FRANK BREAK-DOWN': -inf, 'FRANK NOT': -inf, 'FRANK TEACHER': -inf, 'FRANK IX-1P': -inf, 'FRANK GIVE': -inf, 'FRANK READ': -inf, 'FRANK FISH': -inf, 'FRANK KNOW': -inf, 'FRANK DECIDE': -inf, 'FRANK SEARCH-FOR': -inf, 'FRANK NEW': -inf, 'FRANK OLD': -inf, 'FRANK APPLE': -inf, 'FRANK SHOOT': -inf, 'FRANK WHO': -inf, 'FRANK SAY': -inf, 'FRANK TOMORROW': -inf, 'FRANK SEE': -inf, 'FRANK ARRIVE': -inf, 'FRANK FRIEND': -inf, 'FRANK CORN': -inf, 'FRANK HERE': -inf, 'FRANK FRED': -inf, 'FRANK WRITE': -inf, 'FRANK VEGETABLE': -inf, 'FRANK BLUE': -inf, 'FRANK ALL': -inf, 'FRANK JOHN': -inf, 'FRANK LIKE': -inf, 'FRANK LEG': -inf, 'FRANK BILL': -inf, 'FRANK LAST-WEEK': -inf, 'FRANK YESTERDAY': -inf, 'FRANK SHOULD': -inf, 'FRANK BOOK': -inf, 'FRANK CHINA': -inf, 'FRANK STUDENT': -inf, 'FRANK MARY': -inf, 'FRANK TOY': -inf, 'FRANK CAR': -inf, 'FRANK CAN': -inf, 'FRANK HIT': -inf, 'FRANK COAT': -inf, 'FRANK NEW-YORK': -inf, 'FRANK BROCCOLI': -inf, 'FRANK MOTHER': -inf, 'FRANK EAT': -inf, 'FRANK IX': -inf, 'FRANK CANDY': -inf, 'FRANK NEXT-WEEK': -inf, 'FRANK THINK': -inf, 'FRANK SELL': -inf, 'FRANK STOLEN': -inf, 'FRANK SELF': -inf, 'FRANK SAY-1P': -inf, 'FRANK CHICKEN': -inf, 'FRANK JANA': -inf, 'FRANK THROW': -inf, 'FRANK <START>': -inf, 'FRANK <END>': -6.5496507422338102, 'BLAME BOX': -inf, 'BLAME BOY': -inf, 'BLAME PUTASIDE': -inf, 'BLAME SUE': -inf, 'BLAME HAVE': -inf, 'BLAME GIRL': -inf, 'BLAME WONT': -inf, 'BLAME WOMAN': -inf, 'BLAME MANY': -inf, 'BLAME PEOPLE': -inf, 'BLAME LIVE': -inf, 'BLAME CHICAGO': -inf, 'BLAME PAST': -inf, 'BLAME GO': -inf, 'BLAME PARTY': -inf, 'BLAME NAME': -inf, 'BLAME FRANK': -inf, 'BLAME BLAME': -inf, 'BLAME FUTURE': -inf, 'BLAME HOUSE': -inf, 'BLAME MAN': -inf, 'BLAME GROUP': -inf, 'BLAME WANT': -inf, 'BLAME VIDEOTAPE': -inf, 'BLAME MOVIE': -inf, 'BLAME PREFER': -inf, 'BLAME BROTHER': -inf, 'BLAME BORROW': -inf, 'BLAME LEAVE': -inf, 'BLAME FIND': -inf, 'BLAME WILL': -inf, 'BLAME WHAT': -inf, 'BLAME BUY': -inf, 'BLAME GET': -inf, 'BLAME BUT': -inf, 'BLAME CHOCOLATE': -inf, 'BLAME HOMEWORK': -inf, 'BLAME FINISH': -inf, 'BLAME LOVE': -inf, 'BLAME VISIT': -inf, 'BLAME SOMETHING-ONE': -inf, 'BLAME POSS': -inf, 'BLAME POTATO': -inf, 'BLAME ANN': -inf, 'BLAME TELL': -inf, 'BLAME BREAK-DOWN': -inf, 'BLAME NOT': -inf, 'BLAME TEACHER': -inf, 'BLAME IX-1P': -inf, 'BLAME GIVE': -inf, 'BLAME READ': -inf, 'BLAME FISH': -inf, 'BLAME KNOW': -inf, 'BLAME DECIDE': -inf, 'BLAME SEARCH-FOR': -inf, 'BLAME NEW': -inf, 'BLAME OLD': -inf, 'BLAME APPLE': -inf, 'BLAME SHOOT': -inf, 'BLAME WHO': -inf, 'BLAME SAY': -inf, 'BLAME TOMORROW': -inf, 'BLAME SEE': -inf, 'BLAME ARRIVE': -inf, 'BLAME FRIEND': -inf, 'BLAME CORN': -inf, 'BLAME HERE': -inf, 'BLAME FRED': -6.5496507422338102, 'BLAME WRITE': -inf, 'BLAME VEGETABLE': -inf, 'BLAME BLUE': -inf, 'BLAME ALL': -inf, 'BLAME JOHN': -inf, 'BLAME LIKE': -inf, 'BLAME LEG': -inf, 'BLAME BILL': -inf, 'BLAME LAST-WEEK': -inf, 'BLAME YESTERDAY': -inf, 'BLAME SHOULD': -inf, 'BLAME BOOK': -inf, 'BLAME CHINA': -inf, 'BLAME STUDENT': -inf, 'BLAME MARY': -6.5496507422338102, 'BLAME TOY': -inf, 'BLAME CAR': -inf, 'BLAME CAN': -inf, 'BLAME HIT': -inf, 'BLAME COAT': -inf, 'BLAME NEW-YORK': -inf, 'BLAME BROCCOLI': -inf, 'BLAME MOTHER': -inf, 'BLAME EAT': -inf, 'BLAME IX': -inf, 'BLAME CANDY': -inf, 'BLAME NEXT-WEEK': -inf, 'BLAME THINK': -inf, 'BLAME SELL': -inf, 'BLAME STOLEN': -inf, 'BLAME SELF': -inf, 'BLAME SAY-1P': -inf, 'BLAME CHICKEN': -inf, 'BLAME JANA': -inf, 'BLAME THROW': -inf, 'BLAME <START>': -inf, 'BLAME <END>': -6.5496507422338102, 'FUTURE BOX': -inf, 'FUTURE BOY': -inf, 'FUTURE PUTASIDE': -inf, 'FUTURE SUE': -inf, 'FUTURE HAVE': -inf, 'FUTURE GIRL': -inf, 'FUTURE WONT': -inf, 'FUTURE WOMAN': -inf, 'FUTURE MANY': -inf, 'FUTURE PEOPLE': -inf, 'FUTURE LIVE': -inf, 'FUTURE CHICAGO': -inf, 'FUTURE PAST': -inf, 'FUTURE GO': -5.8565035616738648, 'FUTURE PARTY': -inf, 'FUTURE NAME': -inf, 'FUTURE FRANK': -inf, 'FUTURE BLAME': -inf, 'FUTURE FUTURE': -inf, 'FUTURE HOUSE': -inf, 'FUTURE MAN': -inf, 'FUTURE GROUP': -inf, 'FUTURE WANT': -inf, 'FUTURE VIDEOTAPE': -inf, 'FUTURE MOVIE': -inf, 'FUTURE PREFER': -inf, 'FUTURE BROTHER': -inf, 'FUTURE BORROW': -inf, 'FUTURE LEAVE': -inf, 'FUTURE FIND': -inf, 'FUTURE WILL': -inf, 'FUTURE WHAT': -inf, 'FUTURE BUY': -6.5496507422338102, 'FUTURE GET': -inf, 'FUTURE BUT': -inf, 'FUTURE CHOCOLATE': -inf, 'FUTURE HOMEWORK': -inf, 'FUTURE FINISH': -5.8565035616738648, 'FUTURE LOVE': -inf, 'FUTURE VISIT': -inf, 'FUTURE SOMETHING-ONE': -inf, 'FUTURE POSS': -inf, 'FUTURE POTATO': -inf, 'FUTURE ANN': -inf, 'FUTURE TELL': -inf, 'FUTURE BREAK-DOWN': -inf, 'FUTURE NOT': -5.1633563811139194, 'FUTURE TEACHER': -inf, 'FUTURE IX-1P': -inf, 'FUTURE GIVE': -inf, 'FUTURE READ': -inf, 'FUTURE FISH': -inf, 'FUTURE KNOW': -inf, 'FUTURE DECIDE': -inf, 'FUTURE SEARCH-FOR': -inf, 'FUTURE NEW': -inf, 'FUTURE OLD': -inf, 'FUTURE APPLE': -inf, 'FUTURE SHOOT': -inf, 'FUTURE WHO': -inf, 'FUTURE SAY': -inf, 'FUTURE TOMORROW': -inf, 'FUTURE SEE': -inf, 'FUTURE ARRIVE': -inf, 'FUTURE FRIEND': -inf, 'FUTURE CORN': -inf, 'FUTURE HERE': -inf, 'FUTURE FRED': -inf, 'FUTURE WRITE': -inf, 'FUTURE VEGETABLE': -inf, 'FUTURE BLUE': -inf, 'FUTURE ALL': -inf, 'FUTURE JOHN': -6.5496507422338102, 'FUTURE LIKE': -inf, 'FUTURE LEG': -inf, 'FUTURE BILL': -inf, 'FUTURE LAST-WEEK': -inf, 'FUTURE YESTERDAY': -inf, 'FUTURE SHOULD': -inf, 'FUTURE BOOK': -inf, 'FUTURE CHINA': -inf, 'FUTURE STUDENT': -inf, 'FUTURE MARY': -inf, 'FUTURE TOY': -inf, 'FUTURE CAR': -inf, 'FUTURE CAN': -inf, 'FUTURE HIT': -inf, 'FUTURE COAT': -inf, 'FUTURE NEW-YORK': -inf, 'FUTURE BROCCOLI': -inf, 'FUTURE MOTHER': -inf, 'FUTURE EAT': -inf, 'FUTURE IX': -inf, 'FUTURE CANDY': -inf, 'FUTURE NEXT-WEEK': -inf, 'FUTURE THINK': -inf, 'FUTURE SELL': -inf, 'FUTURE STOLEN': -inf, 'FUTURE SELF': -inf, 'FUTURE SAY-1P': -inf, 'FUTURE CHICKEN': -inf, 'FUTURE JANA': -inf, 'FUTURE THROW': -inf, 'FUTURE <START>': -inf, 'FUTURE <END>': -5.1633563811139194, 'HOUSE BOX': -inf, 'HOUSE BOY': -inf, 'HOUSE PUTASIDE': -inf, 'HOUSE SUE': -inf, 'HOUSE HAVE': -inf, 'HOUSE GIRL': -inf, 'HOUSE WONT': -inf, 'HOUSE WOMAN': -inf, 'HOUSE MANY': -inf, 'HOUSE PEOPLE': -inf, 'HOUSE LIVE': -inf, 'HOUSE CHICAGO': -inf, 'HOUSE PAST': -inf, 'HOUSE GO': -inf, 'HOUSE PARTY': -inf, 'HOUSE NAME': -inf, 'HOUSE FRANK': -inf, 'HOUSE BLAME': -inf, 'HOUSE FUTURE': -inf, 'HOUSE HOUSE': -inf, 'HOUSE MAN': -inf, 'HOUSE GROUP': -inf, 'HOUSE WANT': -inf, 'HOUSE VIDEOTAPE': -inf, 'HOUSE MOVIE': -inf, 'HOUSE PREFER': -inf, 'HOUSE BROTHER': -inf, 'HOUSE BORROW': -inf, 'HOUSE LEAVE': -inf, 'HOUSE FIND': -inf, 'HOUSE WILL': -inf, 'HOUSE WHAT': -inf, 'HOUSE BUY': -inf, 'HOUSE GET': -inf, 'HOUSE BUT': -inf, 'HOUSE CHOCOLATE': -inf, 'HOUSE HOMEWORK': -inf, 'HOUSE FINISH': -inf, 'HOUSE LOVE': -inf, 'HOUSE VISIT': -inf, 'HOUSE SOMETHING-ONE': -inf, 'HOUSE POSS': -inf, 'HOUSE POTATO': -inf, 'HOUSE ANN': -inf, 'HOUSE TELL': -inf, 'HOUSE BREAK-DOWN': -inf, 'HOUSE NOT': -inf, 'HOUSE TEACHER': -inf, 'HOUSE IX-1P': -inf, 'HOUSE GIVE': -inf, 'HOUSE READ': -inf, 'HOUSE FISH': -inf, 'HOUSE KNOW': -inf, 'HOUSE DECIDE': -inf, 'HOUSE SEARCH-FOR': -inf, 'HOUSE NEW': -inf, 'HOUSE OLD': -inf, 'HOUSE APPLE': -inf, 'HOUSE SHOOT': -inf, 'HOUSE WHO': -inf, 'HOUSE SAY': -inf, 'HOUSE TOMORROW': -inf, 'HOUSE SEE': -inf, 'HOUSE ARRIVE': -inf, 'HOUSE FRIEND': -inf, 'HOUSE CORN': -inf, 'HOUSE HERE': -inf, 'HOUSE FRED': -inf, 'HOUSE WRITE': -inf, 'HOUSE VEGETABLE': -inf, 'HOUSE BLUE': -inf, 'HOUSE ALL': -inf, 'HOUSE JOHN': -inf, 'HOUSE LIKE': -inf, 'HOUSE LEG': -inf, 'HOUSE BILL': -inf, 'HOUSE LAST-WEEK': -inf, 'HOUSE YESTERDAY': -inf, 'HOUSE SHOULD': -inf, 'HOUSE BOOK': -inf, 'HOUSE CHINA': -inf, 'HOUSE STUDENT': -inf, 'HOUSE MARY': -inf, 'HOUSE TOY': -inf, 'HOUSE CAR': -inf, 'HOUSE CAN': -inf, 'HOUSE HIT': -inf, 'HOUSE COAT': -inf, 'HOUSE NEW-YORK': -inf, 'HOUSE BROCCOLI': -inf, 'HOUSE MOTHER': -inf, 'HOUSE EAT': -inf, 'HOUSE IX': -inf, 'HOUSE CANDY': -inf, 'HOUSE NEXT-WEEK': -inf, 'HOUSE THINK': -inf, 'HOUSE SELL': -6.5496507422338102, 'HOUSE STOLEN': -inf, 'HOUSE SELF': -inf, 'HOUSE SAY-1P': -inf, 'HOUSE CHICKEN': -inf, 'HOUSE JANA': -inf, 'HOUSE THROW': -inf, 'HOUSE <START>': -inf, 'HOUSE <END>': -4.470209200553974, 'MAN BOX': -inf, 'MAN BOY': -inf, 'MAN PUTASIDE': -inf, 'MAN SUE': -inf, 'MAN HAVE': -inf, 'MAN GIRL': -inf, 'MAN WONT': -inf, 'MAN WOMAN': -inf, 'MAN MANY': -inf, 'MAN PEOPLE': -inf, 'MAN LIVE': -inf, 'MAN CHICAGO': -inf, 'MAN PAST': -inf, 'MAN GO': -inf, 'MAN PARTY': -inf, 'MAN NAME': -inf, 'MAN FRANK': -inf, 'MAN BLAME': -inf, 'MAN FUTURE': -inf, 'MAN HOUSE': -inf, 'MAN MAN': -inf, 'MAN GROUP': -inf, 'MAN WANT': -inf, 'MAN VIDEOTAPE': -inf, 'MAN MOVIE': -inf, 'MAN PREFER': -inf, 'MAN BROTHER': -inf, 'MAN BORROW': -inf, 'MAN LEAVE': -inf, 'MAN FIND': -inf, 'MAN WILL': -inf, 'MAN WHAT': -inf, 'MAN BUY': -inf, 'MAN GET': -inf, 'MAN BUT': -inf, 'MAN CHOCOLATE': -inf, 'MAN HOMEWORK': -inf, 'MAN FINISH': -inf, 'MAN LOVE': -inf, 'MAN VISIT': -inf, 'MAN SOMETHING-ONE': -inf, 'MAN POSS': -inf, 'MAN POTATO': -inf, 'MAN ANN': -inf, 'MAN TELL': -inf, 'MAN BREAK-DOWN': -inf, 'MAN NOT': -inf, 'MAN TEACHER': -inf, 'MAN IX-1P': -inf, 'MAN GIVE': -inf, 'MAN READ': -inf, 'MAN FISH': -inf, 'MAN KNOW': -inf, 'MAN DECIDE': -inf, 'MAN SEARCH-FOR': -inf, 'MAN NEW': -inf, 'MAN OLD': -inf, 'MAN APPLE': -inf, 'MAN SHOOT': -inf, 'MAN WHO': -inf, 'MAN SAY': -inf, 'MAN TOMORROW': -inf, 'MAN SEE': -inf, 'MAN ARRIVE': -inf, 'MAN FRIEND': -inf, 'MAN CORN': -inf, 'MAN HERE': -inf, 'MAN FRED': -inf, 'MAN WRITE': -inf, 'MAN VEGETABLE': -inf, 'MAN BLUE': -inf, 'MAN ALL': -inf, 'MAN JOHN': -inf, 'MAN LIKE': -inf, 'MAN LEG': -inf, 'MAN BILL': -inf, 'MAN LAST-WEEK': -inf, 'MAN YESTERDAY': -inf, 'MAN SHOULD': -inf, 'MAN BOOK': -inf, 'MAN CHINA': -inf, 'MAN STUDENT': -inf, 'MAN MARY': -inf, 'MAN TOY': -inf, 'MAN CAR': -inf, 'MAN CAN': -inf, 'MAN HIT': -inf, 'MAN COAT': -inf, 'MAN NEW-YORK': -inf, 'MAN BROCCOLI': -inf, 'MAN MOTHER': -inf, 'MAN EAT': -inf, 'MAN IX': -6.5496507422338102, 'MAN CANDY': -inf, 'MAN NEXT-WEEK': -inf, 'MAN THINK': -inf, 'MAN SELL': -inf, 'MAN STOLEN': -inf, 'MAN SELF': -inf, 'MAN SAY-1P': -inf, 'MAN CHICKEN': -inf, 'MAN JANA': -inf, 'MAN THROW': -inf, 'MAN <START>': -inf, 'MAN <END>': -inf, 'GROUP BOX': -inf, 'GROUP BOY': -inf, 'GROUP PUTASIDE': -inf, 'GROUP SUE': -inf, 'GROUP HAVE': -inf, 'GROUP GIRL': -inf, 'GROUP WONT': -inf, 'GROUP WOMAN': -inf, 'GROUP MANY': -inf, 'GROUP PEOPLE': -inf, 'GROUP LIVE': -inf, 'GROUP CHICAGO': -inf, 'GROUP PAST': -inf, 'GROUP GO': -inf, 'GROUP PARTY': -inf, 'GROUP NAME': -inf, 'GROUP FRANK': -inf, 'GROUP BLAME': -inf, 'GROUP FUTURE': -inf, 'GROUP HOUSE': -inf, 'GROUP MAN': -inf, 'GROUP GROUP': -inf, 'GROUP WANT': -inf, 'GROUP VIDEOTAPE': -inf, 'GROUP MOVIE': -inf, 'GROUP PREFER': -inf, 'GROUP BROTHER': -inf, 'GROUP BORROW': -inf, 'GROUP LEAVE': -inf, 'GROUP FIND': -inf, 'GROUP WILL': -inf, 'GROUP WHAT': -inf, 'GROUP BUY': -inf, 'GROUP GET': -inf, 'GROUP BUT': -inf, 'GROUP CHOCOLATE': -inf, 'GROUP HOMEWORK': -inf, 'GROUP FINISH': -inf, 'GROUP LOVE': -inf, 'GROUP VISIT': -inf, 'GROUP SOMETHING-ONE': -inf, 'GROUP POSS': -inf, 'GROUP POTATO': -inf, 'GROUP ANN': -inf, 'GROUP TELL': -inf, 'GROUP BREAK-DOWN': -inf, 'GROUP NOT': -inf, 'GROUP TEACHER': -inf, 'GROUP IX-1P': -inf, 'GROUP GIVE': -6.5496507422338102, 'GROUP READ': -inf, 'GROUP FISH': -inf, 'GROUP KNOW': -inf, 'GROUP DECIDE': -inf, 'GROUP SEARCH-FOR': -inf, 'GROUP NEW': -inf, 'GROUP OLD': -inf, 'GROUP APPLE': -inf, 'GROUP SHOOT': -inf, 'GROUP WHO': -inf, 'GROUP SAY': -inf, 'GROUP TOMORROW': -inf, 'GROUP SEE': -inf, 'GROUP ARRIVE': -inf, 'GROUP FRIEND': -inf, 'GROUP CORN': -inf, 'GROUP HERE': -inf, 'GROUP FRED': -inf, 'GROUP WRITE': -inf, 'GROUP VEGETABLE': -inf, 'GROUP BLUE': -inf, 'GROUP ALL': -inf, 'GROUP JOHN': -inf, 'GROUP LIKE': -inf, 'GROUP LEG': -inf, 'GROUP BILL': -inf, 'GROUP LAST-WEEK': -inf, 'GROUP YESTERDAY': -inf, 'GROUP SHOULD': -inf, 'GROUP BOOK': -inf, 'GROUP CHINA': -inf, 'GROUP STUDENT': -inf, 'GROUP MARY': -inf, 'GROUP TOY': -inf, 'GROUP CAR': -inf, 'GROUP CAN': -inf, 'GROUP HIT': -inf, 'GROUP COAT': -inf, 'GROUP NEW-YORK': -inf, 'GROUP BROCCOLI': -inf, 'GROUP MOTHER': -inf, 'GROUP EAT': -inf, 'GROUP IX': -inf, 'GROUP CANDY': -inf, 'GROUP NEXT-WEEK': -inf, 'GROUP THINK': -inf, 'GROUP SELL': -inf, 'GROUP STOLEN': -inf, 'GROUP SELF': -inf, 'GROUP SAY-1P': -inf, 'GROUP CHICKEN': -inf, 'GROUP JANA': -inf, 'GROUP THROW': -inf, 'GROUP <START>': -inf, 'GROUP <END>': -inf, 'WANT BOX': -inf, 'WANT BOY': -inf, 'WANT PUTASIDE': -inf, 'WANT SUE': -inf, 'WANT HAVE': -inf, 'WANT GIRL': -inf, 'WANT WONT': -inf, 'WANT WOMAN': -inf, 'WANT MANY': -inf, 'WANT PEOPLE': -inf, 'WANT LIVE': -inf, 'WANT CHICAGO': -inf, 'WANT PAST': -inf, 'WANT GO': -inf, 'WANT PARTY': -inf, 'WANT NAME': -inf, 'WANT FRANK': -inf, 'WANT BLAME': -inf, 'WANT FUTURE': -inf, 'WANT HOUSE': -inf, 'WANT MAN': -inf, 'WANT GROUP': -inf, 'WANT WANT': -inf, 'WANT VIDEOTAPE': -inf, 'WANT MOVIE': -inf, 'WANT PREFER': -inf, 'WANT BROTHER': -inf, 'WANT BORROW': -inf, 'WANT LEAVE': -inf, 'WANT FIND': -inf, 'WANT WILL': -inf, 'WANT WHAT': -inf, 'WANT BUY': -inf, 'WANT GET': -inf, 'WANT BUT': -inf, 'WANT CHOCOLATE': -inf, 'WANT HOMEWORK': -inf, 'WANT FINISH': -inf, 'WANT LOVE': -inf, 'WANT VISIT': -inf, 'WANT SOMETHING-ONE': -inf, 'WANT POSS': -inf, 'WANT POTATO': -inf, 'WANT ANN': -inf, 'WANT TELL': -inf, 'WANT BREAK-DOWN': -inf, 'WANT NOT': -inf, 'WANT TEACHER': -inf, 'WANT IX-1P': -inf, 'WANT GIVE': -inf, 'WANT READ': -inf, 'WANT FISH': -inf, 'WANT KNOW': -inf, 'WANT DECIDE': -inf, 'WANT SEARCH-FOR': -inf, 'WANT NEW': -inf, 'WANT OLD': -inf, 'WANT APPLE': -inf, 'WANT SHOOT': -inf, 'WANT WHO': -inf, 'WANT SAY': -inf, 'WANT TOMORROW': -inf, 'WANT SEE': -inf, 'WANT ARRIVE': -inf, 'WANT FRIEND': -inf, 'WANT CORN': -inf, 'WANT HERE': -inf, 'WANT FRED': -inf, 'WANT WRITE': -inf, 'WANT VEGETABLE': -inf, 'WANT BLUE': -inf, 'WANT ALL': -inf, 'WANT JOHN': -inf, 'WANT LIKE': -inf, 'WANT LEG': -inf, 'WANT BILL': -inf, 'WANT LAST-WEEK': -inf, 'WANT YESTERDAY': -inf, 'WANT SHOULD': -inf, 'WANT BOOK': -inf, 'WANT CHINA': -inf, 'WANT STUDENT': -inf, 'WANT MARY': -inf, 'WANT TOY': -inf, 'WANT CAR': -inf, 'WANT CAN': -inf, 'WANT HIT': -inf, 'WANT COAT': -inf, 'WANT NEW-YORK': -inf, 'WANT BROCCOLI': -inf, 'WANT MOTHER': -inf, 'WANT EAT': -inf, 'WANT IX': -inf, 'WANT CANDY': -inf, 'WANT NEXT-WEEK': -inf, 'WANT THINK': -inf, 'WANT SELL': -6.5496507422338102, 'WANT STOLEN': -inf, 'WANT SELF': -inf, 'WANT SAY-1P': -inf, 'WANT CHICKEN': -inf, 'WANT JANA': -inf, 'WANT THROW': -inf, 'WANT <START>': -inf, 'WANT <END>': -inf, 'VIDEOTAPE BOX': -inf, 'VIDEOTAPE BOY': -inf, 'VIDEOTAPE PUTASIDE': -inf, 'VIDEOTAPE SUE': -inf, 'VIDEOTAPE HAVE': -inf, 'VIDEOTAPE GIRL': -inf, 'VIDEOTAPE WONT': -inf, 'VIDEOTAPE WOMAN': -inf, 'VIDEOTAPE MANY': -inf, 'VIDEOTAPE PEOPLE': -inf, 'VIDEOTAPE LIVE': -inf, 'VIDEOTAPE CHICAGO': -inf, 'VIDEOTAPE PAST': -inf, 'VIDEOTAPE GO': -inf, 'VIDEOTAPE PARTY': -inf, 'VIDEOTAPE NAME': -inf, 'VIDEOTAPE FRANK': -inf, 'VIDEOTAPE BLAME': -inf, 'VIDEOTAPE FUTURE': -inf, 'VIDEOTAPE HOUSE': -inf, 'VIDEOTAPE MAN': -inf, 'VIDEOTAPE GROUP': -inf, 'VIDEOTAPE WANT': -inf, 'VIDEOTAPE VIDEOTAPE': -inf, 'VIDEOTAPE MOVIE': -inf, 'VIDEOTAPE PREFER': -inf, 'VIDEOTAPE BROTHER': -inf, 'VIDEOTAPE BORROW': -inf, 'VIDEOTAPE LEAVE': -inf, 'VIDEOTAPE FIND': -inf, 'VIDEOTAPE WILL': -inf, 'VIDEOTAPE WHAT': -inf, 'VIDEOTAPE BUY': -inf, 'VIDEOTAPE GET': -inf, 'VIDEOTAPE BUT': -inf, 'VIDEOTAPE CHOCOLATE': -inf, 'VIDEOTAPE HOMEWORK': -inf, 'VIDEOTAPE FINISH': -inf, 'VIDEOTAPE LOVE': -inf, 'VIDEOTAPE VISIT': -inf, 'VIDEOTAPE SOMETHING-ONE': -inf, 'VIDEOTAPE POSS': -inf, 'VIDEOTAPE POTATO': -inf, 'VIDEOTAPE ANN': -inf, 'VIDEOTAPE TELL': -inf, 'VIDEOTAPE BREAK-DOWN': -inf, 'VIDEOTAPE NOT': -inf, 'VIDEOTAPE TEACHER': -inf, 'VIDEOTAPE IX-1P': -inf, 'VIDEOTAPE GIVE': -inf, 'VIDEOTAPE READ': -inf, 'VIDEOTAPE FISH': -inf, 'VIDEOTAPE KNOW': -inf, 'VIDEOTAPE DECIDE': -inf, 'VIDEOTAPE SEARCH-FOR': -inf, 'VIDEOTAPE NEW': -inf, 'VIDEOTAPE OLD': -inf, 'VIDEOTAPE APPLE': -inf, 'VIDEOTAPE SHOOT': -inf, 'VIDEOTAPE WHO': -inf, 'VIDEOTAPE SAY': -inf, 'VIDEOTAPE TOMORROW': -inf, 'VIDEOTAPE SEE': -inf, 'VIDEOTAPE ARRIVE': -inf, 'VIDEOTAPE FRIEND': -inf, 'VIDEOTAPE CORN': -inf, 'VIDEOTAPE HERE': -inf, 'VIDEOTAPE FRED': -inf, 'VIDEOTAPE WRITE': -inf, 'VIDEOTAPE VEGETABLE': -inf, 'VIDEOTAPE BLUE': -inf, 'VIDEOTAPE ALL': -inf, 'VIDEOTAPE JOHN': -inf, 'VIDEOTAPE LIKE': -inf, 'VIDEOTAPE LEG': -inf, 'VIDEOTAPE BILL': -inf, 'VIDEOTAPE LAST-WEEK': -inf, 'VIDEOTAPE YESTERDAY': -inf, 'VIDEOTAPE SHOULD': -inf, 'VIDEOTAPE BOOK': -inf, 'VIDEOTAPE CHINA': -inf, 'VIDEOTAPE STUDENT': -inf, 'VIDEOTAPE MARY': -inf, 'VIDEOTAPE TOY': -inf, 'VIDEOTAPE CAR': -inf, 'VIDEOTAPE CAN': -inf, 'VIDEOTAPE HIT': -inf, 'VIDEOTAPE COAT': -inf, 'VIDEOTAPE NEW-YORK': -inf, 'VIDEOTAPE BROCCOLI': -inf, 'VIDEOTAPE MOTHER': -inf, 'VIDEOTAPE EAT': -inf, 'VIDEOTAPE IX': -inf, 'VIDEOTAPE CANDY': -inf, 'VIDEOTAPE NEXT-WEEK': -inf, 'VIDEOTAPE THINK': -inf, 'VIDEOTAPE SELL': -inf, 'VIDEOTAPE STOLEN': -inf, 'VIDEOTAPE SELF': -inf, 'VIDEOTAPE SAY-1P': -inf, 'VIDEOTAPE CHICKEN': -inf, 'VIDEOTAPE JANA': -inf, 'VIDEOTAPE THROW': -inf, 'VIDEOTAPE <START>': -inf, 'VIDEOTAPE <END>': -5.8565035616738648, 'MOVIE BOX': -inf, 'MOVIE BOY': -inf, 'MOVIE PUTASIDE': -inf, 'MOVIE SUE': -inf, 'MOVIE HAVE': -inf, 'MOVIE GIRL': -inf, 'MOVIE WONT': -inf, 'MOVIE WOMAN': -inf, 'MOVIE MANY': -inf, 'MOVIE PEOPLE': -inf, 'MOVIE LIVE': -inf, 'MOVIE CHICAGO': -inf, 'MOVIE PAST': -inf, 'MOVIE GO': -inf, 'MOVIE PARTY': -inf, 'MOVIE NAME': -inf, 'MOVIE FRANK': -inf, 'MOVIE BLAME': -inf, 'MOVIE FUTURE': -inf, 'MOVIE HOUSE': -inf, 'MOVIE MAN': -inf, 'MOVIE GROUP': -inf, 'MOVIE WANT': -inf, 'MOVIE VIDEOTAPE': -inf, 'MOVIE MOVIE': -inf, 'MOVIE PREFER': -inf, 'MOVIE BROTHER': -inf, 'MOVIE BORROW': -inf, 'MOVIE LEAVE': -inf, 'MOVIE FIND': -inf, 'MOVIE WILL': -inf, 'MOVIE WHAT': -inf, 'MOVIE BUY': -inf, 'MOVIE GET': -inf, 'MOVIE BUT': -inf, 'MOVIE CHOCOLATE': -inf, 'MOVIE HOMEWORK': -inf, 'MOVIE FINISH': -inf, 'MOVIE LOVE': -inf, 'MOVIE VISIT': -inf, 'MOVIE SOMETHING-ONE': -inf, 'MOVIE POSS': -inf, 'MOVIE POTATO': -inf, 'MOVIE ANN': -inf, 'MOVIE TELL': -inf, 'MOVIE BREAK-DOWN': -inf, 'MOVIE NOT': -inf, 'MOVIE TEACHER': -inf, 'MOVIE IX-1P': -inf, 'MOVIE GIVE': -inf, 'MOVIE READ': -inf, 'MOVIE FISH': -inf, 'MOVIE KNOW': -inf, 'MOVIE DECIDE': -inf, 'MOVIE SEARCH-FOR': -inf, 'MOVIE NEW': -inf, 'MOVIE OLD': -inf, 'MOVIE APPLE': -inf, 'MOVIE SHOOT': -inf, 'MOVIE WHO': -inf, 'MOVIE SAY': -inf, 'MOVIE TOMORROW': -6.5496507422338102, 'MOVIE SEE': -inf, 'MOVIE ARRIVE': -inf, 'MOVIE FRIEND': -inf, 'MOVIE CORN': -inf, 'MOVIE HERE': -inf, 'MOVIE FRED': -inf, 'MOVIE WRITE': -inf, 'MOVIE VEGETABLE': -inf, 'MOVIE BLUE': -inf, 'MOVIE ALL': -inf, 'MOVIE JOHN': -inf, 'MOVIE LIKE': -inf, 'MOVIE LEG': -inf, 'MOVIE BILL': -inf, 'MOVIE LAST-WEEK': -inf, 'MOVIE YESTERDAY': -inf, 'MOVIE SHOULD': -inf, 'MOVIE BOOK': -inf, 'MOVIE CHINA': -inf, 'MOVIE STUDENT': -inf, 'MOVIE MARY': -inf, 'MOVIE TOY': -inf, 'MOVIE CAR': -inf, 'MOVIE CAN': -inf, 'MOVIE HIT': -inf, 'MOVIE COAT': -inf, 'MOVIE NEW-YORK': -inf, 'MOVIE BROCCOLI': -inf, 'MOVIE MOTHER': -inf, 'MOVIE EAT': -inf, 'MOVIE IX': -inf, 'MOVIE CANDY': -inf, 'MOVIE NEXT-WEEK': -inf, 'MOVIE THINK': -inf, 'MOVIE SELL': -inf, 'MOVIE STOLEN': -inf, 'MOVIE SELF': -inf, 'MOVIE SAY-1P': -inf, 'MOVIE CHICKEN': -inf, 'MOVIE JANA': -inf, 'MOVIE THROW': -inf, 'MOVIE <START>': -inf, 'MOVIE <END>': -6.5496507422338102, 'PREFER BOX': -inf, 'PREFER BOY': -inf, 'PREFER PUTASIDE': -inf, 'PREFER SUE': -inf, 'PREFER HAVE': -inf, 'PREFER GIRL': -inf, 'PREFER WONT': -inf, 'PREFER WOMAN': -inf, 'PREFER MANY': -inf, 'PREFER PEOPLE': -inf, 'PREFER LIVE': -inf, 'PREFER CHICAGO': -inf, 'PREFER PAST': -inf, 'PREFER GO': -5.8565035616738648, 'PREFER PARTY': -inf, 'PREFER NAME': -inf, 'PREFER FRANK': -inf, 'PREFER BLAME': -inf, 'PREFER FUTURE': -inf, 'PREFER HOUSE': -inf, 'PREFER MAN': -inf, 'PREFER GROUP': -inf, 'PREFER WANT': -inf, 'PREFER VIDEOTAPE': -inf, 'PREFER MOVIE': -inf, 'PREFER PREFER': -inf, 'PREFER BROTHER': -inf, 'PREFER BORROW': -inf, 'PREFER LEAVE': -inf, 'PREFER FIND': -inf, 'PREFER WILL': -inf, 'PREFER WHAT': -inf, 'PREFER BUY': -inf, 'PREFER GET': -inf, 'PREFER BUT': -inf, 'PREFER CHOCOLATE': -inf, 'PREFER HOMEWORK': -inf, 'PREFER FINISH': -inf, 'PREFER LOVE': -inf, 'PREFER VISIT': -inf, 'PREFER SOMETHING-ONE': -inf, 'PREFER POSS': -inf, 'PREFER POTATO': -6.5496507422338102, 'PREFER ANN': -inf, 'PREFER TELL': -inf, 'PREFER BREAK-DOWN': -inf, 'PREFER NOT': -inf, 'PREFER TEACHER': -inf, 'PREFER IX-1P': -inf, 'PREFER GIVE': -inf, 'PREFER READ': -inf, 'PREFER FISH': -inf, 'PREFER KNOW': -inf, 'PREFER DECIDE': -inf, 'PREFER SEARCH-FOR': -inf, 'PREFER NEW': -inf, 'PREFER OLD': -inf, 'PREFER APPLE': -inf, 'PREFER SHOOT': -inf, 'PREFER WHO': -inf, 'PREFER SAY': -inf, 'PREFER TOMORROW': -inf, 'PREFER SEE': -inf, 'PREFER ARRIVE': -inf, 'PREFER FRIEND': -inf, 'PREFER CORN': -5.8565035616738648, 'PREFER HERE': -inf, 'PREFER FRED': -inf, 'PREFER WRITE': -inf, 'PREFER VEGETABLE': -inf, 'PREFER BLUE': -inf, 'PREFER ALL': -inf, 'PREFER JOHN': -inf, 'PREFER LIKE': -inf, 'PREFER LEG': -inf, 'PREFER BILL': -inf, 'PREFER LAST-WEEK': -inf, 'PREFER YESTERDAY': -inf, 'PREFER SHOULD': -inf, 'PREFER BOOK': -inf, 'PREFER CHINA': -inf, 'PREFER STUDENT': -inf, 'PREFER MARY': -inf, 'PREFER TOY': -inf, 'PREFER CAR': -inf, 'PREFER CAN': -inf, 'PREFER HIT': -inf, 'PREFER COAT': -inf, 'PREFER NEW-YORK': -inf, 'PREFER BROCCOLI': -6.5496507422338102, 'PREFER MOTHER': -inf, 'PREFER EAT': -inf, 'PREFER IX': -inf, 'PREFER CANDY': -inf, 'PREFER NEXT-WEEK': -inf, 'PREFER THINK': -inf, 'PREFER SELL': -inf, 'PREFER STOLEN': -inf, 'PREFER SELF': -inf, 'PREFER SAY-1P': -inf, 'PREFER CHICKEN': -inf, 'PREFER JANA': -inf, 'PREFER THROW': -inf, 'PREFER <START>': -inf, 'PREFER <END>': -inf, 'BROTHER BOX': -inf, 'BROTHER BOY': -inf, 'BROTHER PUTASIDE': -inf, 'BROTHER SUE': -inf, 'BROTHER HAVE': -inf, 'BROTHER GIRL': -inf, 'BROTHER WONT': -inf, 'BROTHER WOMAN': -inf, 'BROTHER MANY': -inf, 'BROTHER PEOPLE': -inf, 'BROTHER LIVE': -inf, 'BROTHER CHICAGO': -inf, 'BROTHER PAST': -inf, 'BROTHER GO': -inf, 'BROTHER PARTY': -inf, 'BROTHER NAME': -inf, 'BROTHER FRANK': -inf, 'BROTHER BLAME': -inf, 'BROTHER FUTURE': -inf, 'BROTHER HOUSE': -inf, 'BROTHER MAN': -inf, 'BROTHER GROUP': -inf, 'BROTHER WANT': -inf, 'BROTHER VIDEOTAPE': -inf, 'BROTHER MOVIE': -inf, 'BROTHER PREFER': -inf, 'BROTHER BROTHER': -inf, 'BROTHER BORROW': -inf, 'BROTHER LEAVE': -inf, 'BROTHER FIND': -inf, 'BROTHER WILL': -inf, 'BROTHER WHAT': -inf, 'BROTHER BUY': -inf, 'BROTHER GET': -inf, 'BROTHER BUT': -inf, 'BROTHER CHOCOLATE': -inf, 'BROTHER HOMEWORK': -inf, 'BROTHER FINISH': -inf, 'BROTHER LOVE': -inf, 'BROTHER VISIT': -inf, 'BROTHER SOMETHING-ONE': -inf, 'BROTHER POSS': -inf, 'BROTHER POTATO': -inf, 'BROTHER ANN': -inf, 'BROTHER TELL': -inf, 'BROTHER BREAK-DOWN': -inf, 'BROTHER NOT': -inf, 'BROTHER TEACHER': -inf, 'BROTHER IX-1P': -inf, 'BROTHER GIVE': -inf, 'BROTHER READ': -inf, 'BROTHER FISH': -inf, 'BROTHER KNOW': -inf, 'BROTHER DECIDE': -inf, 'BROTHER SEARCH-FOR': -inf, 'BROTHER NEW': -inf, 'BROTHER OLD': -inf, 'BROTHER APPLE': -inf, 'BROTHER SHOOT': -inf, 'BROTHER WHO': -inf, 'BROTHER SAY': -inf, 'BROTHER TOMORROW': -inf, 'BROTHER SEE': -inf, 'BROTHER ARRIVE': -5.8565035616738648, 'BROTHER FRIEND': -inf, 'BROTHER CORN': -inf, 'BROTHER HERE': -inf, 'BROTHER FRED': -inf, 'BROTHER WRITE': -inf, 'BROTHER VEGETABLE': -inf, 'BROTHER BLUE': -inf, 'BROTHER ALL': -inf, 'BROTHER JOHN': -inf, 'BROTHER LIKE': -inf, 'BROTHER LEG': -inf, 'BROTHER BILL': -inf, 'BROTHER LAST-WEEK': -inf, 'BROTHER YESTERDAY': -inf, 'BROTHER SHOULD': -inf, 'BROTHER BOOK': -inf, 'BROTHER CHINA': -inf, 'BROTHER STUDENT': -inf, 'BROTHER MARY': -inf, 'BROTHER TOY': -inf, 'BROTHER CAR': -inf, 'BROTHER CAN': -inf, 'BROTHER HIT': -inf, 'BROTHER COAT': -inf, 'BROTHER NEW-YORK': -inf, 'BROTHER BROCCOLI': -inf, 'BROTHER MOTHER': -inf, 'BROTHER EAT': -inf, 'BROTHER IX': -inf, 'BROTHER CANDY': -inf, 'BROTHER NEXT-WEEK': -inf, 'BROTHER THINK': -inf, 'BROTHER SELL': -inf, 'BROTHER STOLEN': -inf, 'BROTHER SELF': -inf, 'BROTHER SAY-1P': -inf, 'BROTHER CHICKEN': -inf, 'BROTHER JANA': -inf, 'BROTHER THROW': -inf, 'BROTHER <START>': -inf, 'BROTHER <END>': -inf, 'BORROW BOX': -inf, 'BORROW BOY': -inf, 'BORROW PUTASIDE': -inf, 'BORROW SUE': -inf, 'BORROW HAVE': -inf, 'BORROW GIRL': -inf, 'BORROW WONT': -inf, 'BORROW WOMAN': -inf, 'BORROW MANY': -inf, 'BORROW PEOPLE': -inf, 'BORROW LIVE': -inf, 'BORROW CHICAGO': -inf, 'BORROW PAST': -inf, 'BORROW GO': -inf, 'BORROW PARTY': -inf, 'BORROW NAME': -inf, 'BORROW FRANK': -inf, 'BORROW BLAME': -inf, 'BORROW FUTURE': -inf, 'BORROW HOUSE': -inf, 'BORROW MAN': -inf, 'BORROW GROUP': -inf, 'BORROW WANT': -inf, 'BORROW VIDEOTAPE': -6.5496507422338102, 'BORROW MOVIE': -inf, 'BORROW PREFER': -inf, 'BORROW BROTHER': -inf, 'BORROW BORROW': -inf, 'BORROW LEAVE': -inf, 'BORROW FIND': -inf, 'BORROW WILL': -inf, 'BORROW WHAT': -inf, 'BORROW BUY': -inf, 'BORROW GET': -inf, 'BORROW BUT': -inf, 'BORROW CHOCOLATE': -inf, 'BORROW HOMEWORK': -inf, 'BORROW FINISH': -inf, 'BORROW LOVE': -inf, 'BORROW VISIT': -inf, 'BORROW SOMETHING-ONE': -inf, 'BORROW POSS': -inf, 'BORROW POTATO': -inf, 'BORROW ANN': -inf, 'BORROW TELL': -inf, 'BORROW BREAK-DOWN': -inf, 'BORROW NOT': -inf, 'BORROW TEACHER': -inf, 'BORROW IX-1P': -inf, 'BORROW GIVE': -inf, 'BORROW READ': -inf, 'BORROW FISH': -inf, 'BORROW KNOW': -inf, 'BORROW DECIDE': -inf, 'BORROW SEARCH-FOR': -inf, 'BORROW NEW': -inf, 'BORROW OLD': -inf, 'BORROW APPLE': -inf, 'BORROW SHOOT': -inf, 'BORROW WHO': -inf, 'BORROW SAY': -inf, 'BORROW TOMORROW': -inf, 'BORROW SEE': -inf, 'BORROW ARRIVE': -inf, 'BORROW FRIEND': -inf, 'BORROW CORN': -inf, 'BORROW HERE': -inf, 'BORROW FRED': -inf, 'BORROW WRITE': -inf, 'BORROW VEGETABLE': -inf, 'BORROW BLUE': -inf, 'BORROW ALL': -inf, 'BORROW JOHN': -inf, 'BORROW LIKE': -inf, 'BORROW LEG': -inf, 'BORROW BILL': -inf, 'BORROW LAST-WEEK': -inf, 'BORROW YESTERDAY': -inf, 'BORROW SHOULD': -inf, 'BORROW BOOK': -inf, 'BORROW CHINA': -inf, 'BORROW STUDENT': -inf, 'BORROW MARY': -inf, 'BORROW TOY': -inf, 'BORROW CAR': -inf, 'BORROW CAN': -inf, 'BORROW HIT': -inf, 'BORROW COAT': -inf, 'BORROW NEW-YORK': -inf, 'BORROW BROCCOLI': -inf, 'BORROW MOTHER': -inf, 'BORROW EAT': -inf, 'BORROW IX': -inf, 'BORROW CANDY': -inf, 'BORROW NEXT-WEEK': -inf, 'BORROW THINK': -inf, 'BORROW SELL': -inf, 'BORROW STOLEN': -inf, 'BORROW SELF': -inf, 'BORROW SAY-1P': -inf, 'BORROW CHICKEN': -inf, 'BORROW JANA': -inf, 'BORROW THROW': -inf, 'BORROW <START>': -inf, 'BORROW <END>': -inf, 'LEAVE BOX': -inf, 'LEAVE BOY': -inf, 'LEAVE PUTASIDE': -inf, 'LEAVE SUE': -inf, 'LEAVE HAVE': -inf, 'LEAVE GIRL': -inf, 'LEAVE WONT': -inf, 'LEAVE WOMAN': -inf, 'LEAVE MANY': -inf, 'LEAVE PEOPLE': -inf, 'LEAVE LIVE': -inf, 'LEAVE CHICAGO': -inf, 'LEAVE PAST': -inf, 'LEAVE GO': -inf, 'LEAVE PARTY': -inf, 'LEAVE NAME': -inf, 'LEAVE FRANK': -inf, 'LEAVE BLAME': -inf, 'LEAVE FUTURE': -inf, 'LEAVE HOUSE': -inf, 'LEAVE MAN': -inf, 'LEAVE GROUP': -inf, 'LEAVE WANT': -inf, 'LEAVE VIDEOTAPE': -inf, 'LEAVE MOVIE': -inf, 'LEAVE PREFER': -inf, 'LEAVE BROTHER': -inf, 'LEAVE BORROW': -inf, 'LEAVE LEAVE': -inf, 'LEAVE FIND': -inf, 'LEAVE WILL': -inf, 'LEAVE WHAT': -inf, 'LEAVE BUY': -inf, 'LEAVE GET': -inf, 'LEAVE BUT': -inf, 'LEAVE CHOCOLATE': -inf, 'LEAVE HOMEWORK': -inf, 'LEAVE FINISH': -inf, 'LEAVE LOVE': -inf, 'LEAVE VISIT': -inf, 'LEAVE SOMETHING-ONE': -inf, 'LEAVE POSS': -inf, 'LEAVE POTATO': -inf, 'LEAVE ANN': -inf, 'LEAVE TELL': -inf, 'LEAVE BREAK-DOWN': -inf, 'LEAVE NOT': -inf, 'LEAVE TEACHER': -inf, 'LEAVE IX-1P': -inf, 'LEAVE GIVE': -inf, 'LEAVE READ': -inf, 'LEAVE FISH': -inf, 'LEAVE KNOW': -inf, 'LEAVE DECIDE': -inf, 'LEAVE SEARCH-FOR': -inf, 'LEAVE NEW': -inf, 'LEAVE OLD': -inf, 'LEAVE APPLE': -inf, 'LEAVE SHOOT': -inf, 'LEAVE WHO': -inf, 'LEAVE SAY': -inf, 'LEAVE TOMORROW': -inf, 'LEAVE SEE': -inf, 'LEAVE ARRIVE': -inf, 'LEAVE FRIEND': -inf, 'LEAVE CORN': -inf, 'LEAVE HERE': -inf, 'LEAVE FRED': -inf, 'LEAVE WRITE': -inf, 'LEAVE VEGETABLE': -inf, 'LEAVE BLUE': -inf, 'LEAVE ALL': -inf, 'LEAVE JOHN': -inf, 'LEAVE LIKE': -inf, 'LEAVE LEG': -inf, 'LEAVE BILL': -inf, 'LEAVE LAST-WEEK': -inf, 'LEAVE YESTERDAY': -inf, 'LEAVE SHOULD': -inf, 'LEAVE BOOK': -inf, 'LEAVE CHINA': -inf, 'LEAVE STUDENT': -inf, 'LEAVE MARY': -inf, 'LEAVE TOY': -inf, 'LEAVE CAR': -inf, 'LEAVE CAN': -inf, 'LEAVE HIT': -inf, 'LEAVE COAT': -inf, 'LEAVE NEW-YORK': -inf, 'LEAVE BROCCOLI': -inf, 'LEAVE MOTHER': -inf, 'LEAVE EAT': -inf, 'LEAVE IX': -5.4510384535657002, 'LEAVE CANDY': -inf, 'LEAVE NEXT-WEEK': -inf, 'LEAVE THINK': -inf, 'LEAVE SELL': -inf, 'LEAVE STOLEN': -inf, 'LEAVE SELF': -inf, 'LEAVE SAY-1P': -inf, 'LEAVE CHICKEN': -inf, 'LEAVE JANA': -inf, 'LEAVE THROW': -inf, 'LEAVE <START>': -inf, 'LEAVE <END>': -inf, 'FIND BOX': -inf, 'FIND BOY': -inf, 'FIND PUTASIDE': -inf, 'FIND SUE': -inf, 'FIND HAVE': -inf, 'FIND GIRL': -inf, 'FIND WONT': -inf, 'FIND WOMAN': -inf, 'FIND MANY': -inf, 'FIND PEOPLE': -inf, 'FIND LIVE': -inf, 'FIND CHICAGO': -inf, 'FIND PAST': -inf, 'FIND GO': -inf, 'FIND PARTY': -inf, 'FIND NAME': -inf, 'FIND FRANK': -inf, 'FIND BLAME': -inf, 'FIND FUTURE': -inf, 'FIND HOUSE': -inf, 'FIND MAN': -inf, 'FIND GROUP': -inf, 'FIND WANT': -inf, 'FIND VIDEOTAPE': -inf, 'FIND MOVIE': -inf, 'FIND PREFER': -inf, 'FIND BROTHER': -inf, 'FIND BORROW': -inf, 'FIND LEAVE': -inf, 'FIND FIND': -inf, 'FIND WILL': -inf, 'FIND WHAT': -inf, 'FIND BUY': -inf, 'FIND GET': -inf, 'FIND BUT': -inf, 'FIND CHOCOLATE': -inf, 'FIND HOMEWORK': -inf, 'FIND FINISH': -inf, 'FIND LOVE': -inf, 'FIND VISIT': -inf, 'FIND SOMETHING-ONE': -6.5496507422338102, 'FIND POSS': -inf, 'FIND POTATO': -inf, 'FIND ANN': -inf, 'FIND TELL': -inf, 'FIND BREAK-DOWN': -inf, 'FIND NOT': -inf, 'FIND TEACHER': -inf, 'FIND IX-1P': -inf, 'FIND GIVE': -inf, 'FIND READ': -inf, 'FIND FISH': -inf, 'FIND KNOW': -inf, 'FIND DECIDE': -inf, 'FIND SEARCH-FOR': -inf, 'FIND NEW': -inf, 'FIND OLD': -inf, 'FIND APPLE': -inf, 'FIND SHOOT': -inf, 'FIND WHO': -inf, 'FIND SAY': -inf, 'FIND TOMORROW': -inf, 'FIND SEE': -inf, 'FIND ARRIVE': -inf, 'FIND FRIEND': -inf, 'FIND CORN': -inf, 'FIND HERE': -inf, 'FIND FRED': -inf, 'FIND WRITE': -inf, 'FIND VEGETABLE': -inf, 'FIND BLUE': -inf, 'FIND ALL': -inf, 'FIND JOHN': -inf, 'FIND LIKE': -inf, 'FIND LEG': -inf, 'FIND BILL': -inf, 'FIND LAST-WEEK': -inf, 'FIND YESTERDAY': -inf, 'FIND SHOULD': -inf, 'FIND BOOK': -inf, 'FIND CHINA': -inf, 'FIND STUDENT': -inf, 'FIND MARY': -inf, 'FIND TOY': -inf, 'FIND CAR': -inf, 'FIND CAN': -inf, 'FIND HIT': -inf, 'FIND COAT': -inf, 'FIND NEW-YORK': -inf, 'FIND BROCCOLI': -inf, 'FIND MOTHER': -inf, 'FIND EAT': -inf, 'FIND IX': -inf, 'FIND CANDY': -inf, 'FIND NEXT-WEEK': -inf, 'FIND THINK': -inf, 'FIND SELL': -inf, 'FIND STOLEN': -inf, 'FIND SELF': -inf, 'FIND SAY-1P': -inf, 'FIND CHICKEN': -inf, 'FIND JANA': -inf, 'FIND THROW': -inf, 'FIND <START>': -inf, 'FIND <END>': -inf, 'WILL BOX': -inf, 'WILL BOY': -inf, 'WILL PUTASIDE': -inf, 'WILL SUE': -inf, 'WILL HAVE': -inf, 'WILL GIRL': -inf, 'WILL WONT': -inf, 'WILL WOMAN': -inf, 'WILL MANY': -inf, 'WILL PEOPLE': -inf, 'WILL LIVE': -inf, 'WILL CHICAGO': -inf, 'WILL PAST': -inf, 'WILL GO': -inf, 'WILL PARTY': -inf, 'WILL NAME': -inf, 'WILL FRANK': -inf, 'WILL BLAME': -inf, 'WILL FUTURE': -inf, 'WILL HOUSE': -inf, 'WILL MAN': -inf, 'WILL GROUP': -inf, 'WILL WANT': -inf, 'WILL VIDEOTAPE': -inf, 'WILL MOVIE': -inf, 'WILL PREFER': -inf, 'WILL BROTHER': -inf, 'WILL BORROW': -inf, 'WILL LEAVE': -inf, 'WILL FIND': -inf, 'WILL WILL': -inf, 'WILL WHAT': -inf, 'WILL BUY': -inf, 'WILL GET': -inf, 'WILL BUT': -inf, 'WILL CHOCOLATE': -inf, 'WILL HOMEWORK': -inf, 'WILL FINISH': -inf, 'WILL LOVE': -inf, 'WILL VISIT': -5.8565035616738648, 'WILL SOMETHING-ONE': -inf, 'WILL POSS': -inf, 'WILL POTATO': -inf, 'WILL ANN': -inf, 'WILL TELL': -inf, 'WILL BREAK-DOWN': -inf, 'WILL NOT': -inf, 'WILL TEACHER': -inf, 'WILL IX-1P': -inf, 'WILL GIVE': -inf, 'WILL READ': -inf, 'WILL FISH': -inf, 'WILL KNOW': -inf, 'WILL DECIDE': -inf, 'WILL SEARCH-FOR': -inf, 'WILL NEW': -inf, 'WILL OLD': -inf, 'WILL APPLE': -inf, 'WILL SHOOT': -inf, 'WILL WHO': -inf, 'WILL SAY': -inf, 'WILL TOMORROW': -inf, 'WILL SEE': -inf, 'WILL ARRIVE': -inf, 'WILL FRIEND': -inf, 'WILL CORN': -inf, 'WILL HERE': -inf, 'WILL FRED': -inf, 'WILL WRITE': -inf, 'WILL VEGETABLE': -inf, 'WILL BLUE': -inf, 'WILL ALL': -inf, 'WILL JOHN': -inf, 'WILL LIKE': -inf, 'WILL LEG': -inf, 'WILL BILL': -inf, 'WILL LAST-WEEK': -inf, 'WILL YESTERDAY': -inf, 'WILL SHOULD': -inf, 'WILL BOOK': -inf, 'WILL CHINA': -inf, 'WILL STUDENT': -inf, 'WILL MARY': -inf, 'WILL TOY': -inf, 'WILL CAR': -inf, 'WILL CAN': -inf, 'WILL HIT': -inf, 'WILL COAT': -inf, 'WILL NEW-YORK': -inf, 'WILL BROCCOLI': -inf, 'WILL MOTHER': -inf, 'WILL EAT': -inf, 'WILL IX': -inf, 'WILL CANDY': -inf, 'WILL NEXT-WEEK': -inf, 'WILL THINK': -inf, 'WILL SELL': -inf, 'WILL STOLEN': -inf, 'WILL SELF': -inf, 'WILL SAY-1P': -inf, 'WILL CHICKEN': -inf, 'WILL JANA': -inf, 'WILL THROW': -inf, 'WILL <START>': -inf, 'WILL <END>': -inf, 'WHAT BOX': -inf, 'WHAT BOY': -inf, 'WHAT PUTASIDE': -inf, 'WHAT SUE': -inf, 'WHAT HAVE': -inf, 'WHAT GIRL': -inf, 'WHAT WONT': -inf, 'WHAT WOMAN': -5.8565035616738648, 'WHAT MANY': -inf, 'WHAT PEOPLE': -inf, 'WHAT LIVE': -inf, 'WHAT CHICAGO': -inf, 'WHAT PAST': -inf, 'WHAT GO': -inf, 'WHAT PARTY': -inf, 'WHAT NAME': -inf, 'WHAT FRANK': -inf, 'WHAT BLAME': -inf, 'WHAT FUTURE': -inf, 'WHAT HOUSE': -inf, 'WHAT MAN': -inf, 'WHAT GROUP': -inf, 'WHAT WANT': -inf, 'WHAT VIDEOTAPE': -inf, 'WHAT MOVIE': -inf, 'WHAT PREFER': -inf, 'WHAT BROTHER': -inf, 'WHAT BORROW': -inf, 'WHAT LEAVE': -inf, 'WHAT FIND': -inf, 'WHAT WILL': -inf, 'WHAT WHAT': -inf, 'WHAT BUY': -inf, 'WHAT GET': -inf, 'WHAT BUT': -inf, 'WHAT CHOCOLATE': -inf, 'WHAT HOMEWORK': -inf, 'WHAT FINISH': -inf, 'WHAT LOVE': -inf, 'WHAT VISIT': -inf, 'WHAT SOMETHING-ONE': -6.5496507422338102, 'WHAT POSS': -inf, 'WHAT POTATO': -inf, 'WHAT ANN': -inf, 'WHAT TELL': -inf, 'WHAT BREAK-DOWN': -inf, 'WHAT NOT': -inf, 'WHAT TEACHER': -inf, 'WHAT IX-1P': -inf, 'WHAT GIVE': -inf, 'WHAT READ': -inf, 'WHAT FISH': -inf, 'WHAT KNOW': -inf, 'WHAT DECIDE': -inf, 'WHAT SEARCH-FOR': -inf, 'WHAT NEW': -inf, 'WHAT OLD': -inf, 'WHAT APPLE': -inf, 'WHAT SHOOT': -inf, 'WHAT WHO': -inf, 'WHAT SAY': -inf, 'WHAT TOMORROW': -inf, 'WHAT SEE': -inf, 'WHAT ARRIVE': -6.5496507422338102, 'WHAT FRIEND': -inf, 'WHAT CORN': -inf, 'WHAT HERE': -inf, 'WHAT FRED': -inf, 'WHAT WRITE': -inf, 'WHAT VEGETABLE': -inf, 'WHAT BLUE': -inf, 'WHAT ALL': -inf, 'WHAT JOHN': -5.1633563811139194, 'WHAT LIKE': -inf, 'WHAT LEG': -inf, 'WHAT BILL': -inf, 'WHAT LAST-WEEK': -inf, 'WHAT YESTERDAY': -6.5496507422338102, 'WHAT SHOULD': -inf, 'WHAT BOOK': -5.4510384535657002, 'WHAT CHINA': -inf, 'WHAT STUDENT': -inf, 'WHAT MARY': -5.1633563811139194, 'WHAT TOY': -inf, 'WHAT CAR': -inf, 'WHAT CAN': -inf, 'WHAT HIT': -inf, 'WHAT COAT': -inf, 'WHAT NEW-YORK': -inf, 'WHAT BROCCOLI': -inf, 'WHAT MOTHER': -inf, 'WHAT EAT': -inf, 'WHAT IX': -inf, 'WHAT CANDY': -inf, 'WHAT NEXT-WEEK': -inf, 'WHAT THINK': -inf, 'WHAT SELL': -inf, 'WHAT STOLEN': -inf, 'WHAT SELF': -inf, 'WHAT SAY-1P': -inf, 'WHAT CHICKEN': -inf, 'WHAT JANA': -inf, 'WHAT THROW': -inf, 'WHAT <START>': -inf, 'WHAT <END>': -4.352426164897591, 'BUY BOX': -inf, 'BUY BOY': -inf, 'BUY PUTASIDE': -inf, 'BUY SUE': -inf, 'BUY HAVE': -inf, 'BUY GIRL': -inf, 'BUY WONT': -inf, 'BUY WOMAN': -inf, 'BUY MANY': -inf, 'BUY PEOPLE': -inf, 'BUY LIVE': -inf, 'BUY CHICAGO': -inf, 'BUY PAST': -inf, 'BUY GO': -inf, 'BUY PARTY': -inf, 'BUY NAME': -inf, 'BUY FRANK': -inf, 'BUY BLAME': -inf, 'BUY FUTURE': -inf, 'BUY HOUSE': -4.470209200553974, 'BUY MAN': -inf, 'BUY GROUP': -inf, 'BUY WANT': -inf, 'BUY VIDEOTAPE': -inf, 'BUY MOVIE': -inf, 'BUY PREFER': -inf, 'BUY BROTHER': -inf, 'BUY BORROW': -inf, 'BUY LEAVE': -inf, 'BUY FIND': -inf, 'BUY WILL': -inf, 'BUY WHAT': -5.8565035616738648, 'BUY BUY': -inf, 'BUY GET': -inf, 'BUY BUT': -inf, 'BUY CHOCOLATE': -inf, 'BUY HOMEWORK': -inf, 'BUY FINISH': -inf, 'BUY LOVE': -inf, 'BUY VISIT': -inf, 'BUY SOMETHING-ONE': -inf, 'BUY POSS': -inf, 'BUY POTATO': -inf, 'BUY ANN': -inf, 'BUY TELL': -inf, 'BUY BREAK-DOWN': -inf, 'BUY NOT': -inf, 'BUY TEACHER': -inf, 'BUY IX-1P': -inf, 'BUY GIVE': -inf, 'BUY READ': -inf, 'BUY FISH': -inf, 'BUY KNOW': -inf, 'BUY DECIDE': -inf, 'BUY SEARCH-FOR': -inf, 'BUY NEW': -inf, 'BUY OLD': -inf, 'BUY APPLE': -inf, 'BUY SHOOT': -inf, 'BUY WHO': -inf, 'BUY SAY': -inf, 'BUY TOMORROW': -inf, 'BUY SEE': -inf, 'BUY ARRIVE': -inf, 'BUY FRIEND': -inf, 'BUY CORN': -inf, 'BUY HERE': -inf, 'BUY FRED': -inf, 'BUY WRITE': -inf, 'BUY VEGETABLE': -inf, 'BUY BLUE': -inf, 'BUY ALL': -inf, 'BUY JOHN': -inf, 'BUY LIKE': -inf, 'BUY LEG': -inf, 'BUY BILL': -inf, 'BUY LAST-WEEK': -inf, 'BUY YESTERDAY': -5.8565035616738648, 'BUY SHOULD': -inf, 'BUY BOOK': -inf, 'BUY CHINA': -inf, 'BUY STUDENT': -inf, 'BUY MARY': -inf, 'BUY TOY': -inf, 'BUY CAR': -5.1633563811139194, 'BUY CAN': -inf, 'BUY HIT': -inf, 'BUY COAT': -inf, 'BUY NEW-YORK': -inf, 'BUY BROCCOLI': -inf, 'BUY MOTHER': -inf, 'BUY EAT': -inf, 'BUY IX': -6.5496507422338102, 'BUY CANDY': -inf, 'BUY NEXT-WEEK': -inf, 'BUY THINK': -inf, 'BUY SELL': -inf, 'BUY STOLEN': -inf, 'BUY SELF': -inf, 'BUY SAY-1P': -inf, 'BUY CHICKEN': -inf, 'BUY JANA': -inf, 'BUY THROW': -inf, 'BUY <START>': -inf, 'BUY <END>': -inf, 'GET BOX': -inf, 'GET BOY': -inf, 'GET PUTASIDE': -inf, 'GET SUE': -inf, 'GET HAVE': -inf, 'GET GIRL': -inf, 'GET WONT': -inf, 'GET WOMAN': -inf, 'GET MANY': -inf, 'GET PEOPLE': -inf, 'GET LIVE': -inf, 'GET CHICAGO': -inf, 'GET PAST': -inf, 'GET GO': -inf, 'GET PARTY': -inf, 'GET NAME': -inf, 'GET FRANK': -inf, 'GET BLAME': -inf, 'GET FUTURE': -inf, 'GET HOUSE': -inf, 'GET MAN': -inf, 'GET GROUP': -inf, 'GET WANT': -inf, 'GET VIDEOTAPE': -inf, 'GET MOVIE': -inf, 'GET PREFER': -inf, 'GET BROTHER': -inf, 'GET BORROW': -inf, 'GET LEAVE': -inf, 'GET FIND': -inf, 'GET WILL': -inf, 'GET WHAT': -inf, 'GET BUY': -inf, 'GET GET': -inf, 'GET BUT': -inf, 'GET CHOCOLATE': -inf, 'GET HOMEWORK': -inf, 'GET FINISH': -inf, 'GET LOVE': -inf, 'GET VISIT': -inf, 'GET SOMETHING-ONE': -inf, 'GET POSS': -inf, 'GET POTATO': -inf, 'GET ANN': -inf, 'GET TELL': -inf, 'GET BREAK-DOWN': -inf, 'GET NOT': -inf, 'GET TEACHER': -inf, 'GET IX-1P': -inf, 'GET GIVE': -inf, 'GET READ': -inf, 'GET FISH': -inf, 'GET KNOW': -inf, 'GET DECIDE': -inf, 'GET SEARCH-FOR': -inf, 'GET NEW': -inf, 'GET OLD': -inf, 'GET APPLE': -inf, 'GET SHOOT': -inf, 'GET WHO': -inf, 'GET SAY': -inf, 'GET TOMORROW': -inf, 'GET SEE': -inf, 'GET ARRIVE': -inf, 'GET FRIEND': -inf, 'GET CORN': -inf, 'GET HERE': -inf, 'GET FRED': -inf, 'GET WRITE': -inf, 'GET VEGETABLE': -inf, 'GET BLUE': -inf, 'GET ALL': -inf, 'GET JOHN': -inf, 'GET LIKE': -inf, 'GET LEG': -inf, 'GET BILL': -inf, 'GET LAST-WEEK': -inf, 'GET YESTERDAY': -inf, 'GET SHOULD': -inf, 'GET BOOK': -inf, 'GET CHINA': -inf, 'GET STUDENT': -inf, 'GET MARY': -inf, 'GET TOY': -inf, 'GET CAR': -inf, 'GET CAN': -6.5496507422338102, 'GET HIT': -inf, 'GET COAT': -inf, 'GET NEW-YORK': -inf, 'GET BROCCOLI': -inf, 'GET MOTHER': -inf, 'GET EAT': -inf, 'GET IX': -inf, 'GET CANDY': -inf, 'GET NEXT-WEEK': -inf, 'GET THINK': -inf, 'GET SELL': -inf, 'GET STOLEN': -inf, 'GET SELF': -inf, 'GET SAY-1P': -inf, 'GET CHICKEN': -inf, 'GET JANA': -inf, 'GET THROW': -inf, 'GET <START>': -inf, 'GET <END>': -inf, 'BUT BOX': -inf, 'BUT BOY': -inf, 'BUT PUTASIDE': -inf, 'BUT SUE': -inf, 'BUT HAVE': -inf, 'BUT GIRL': -inf, 'BUT WONT': -inf, 'BUT WOMAN': -inf, 'BUT MANY': -inf, 'BUT PEOPLE': -inf, 'BUT LIVE': -inf, 'BUT CHICAGO': -inf, 'BUT PAST': -inf, 'BUT GO': -inf, 'BUT PARTY': -inf, 'BUT NAME': -inf, 'BUT FRANK': -inf, 'BUT BLAME': -inf, 'BUT FUTURE': -inf, 'BUT HOUSE': -inf, 'BUT MAN': -inf, 'BUT GROUP': -inf, 'BUT WANT': -inf, 'BUT VIDEOTAPE': -inf, 'BUT MOVIE': -inf, 'BUT PREFER': -inf, 'BUT BROTHER': -inf, 'BUT BORROW': -inf, 'BUT LEAVE': -inf, 'BUT FIND': -inf, 'BUT WILL': -inf, 'BUT WHAT': -inf, 'BUT BUY': -inf, 'BUT GET': -inf, 'BUT BUT': -inf, 'BUT CHOCOLATE': -inf, 'BUT HOMEWORK': -inf, 'BUT FINISH': -inf, 'BUT LOVE': -inf, 'BUT VISIT': -inf, 'BUT SOMETHING-ONE': -inf, 'BUT POSS': -inf, 'BUT POTATO': -inf, 'BUT ANN': -inf, 'BUT TELL': -inf, 'BUT BREAK-DOWN': -inf, 'BUT NOT': -inf, 'BUT TEACHER': -inf, 'BUT IX-1P': -inf, 'BUT GIVE': -inf, 'BUT READ': -inf, 'BUT FISH': -inf, 'BUT KNOW': -inf, 'BUT DECIDE': -inf, 'BUT SEARCH-FOR': -inf, 'BUT NEW': -inf, 'BUT OLD': -inf, 'BUT APPLE': -inf, 'BUT SHOOT': -inf, 'BUT WHO': -inf, 'BUT SAY': -inf, 'BUT TOMORROW': -inf, 'BUT SEE': -inf, 'BUT ARRIVE': -inf, 'BUT FRIEND': -inf, 'BUT CORN': -inf, 'BUT HERE': -inf, 'BUT FRED': -inf, 'BUT WRITE': -inf, 'BUT VEGETABLE': -inf, 'BUT BLUE': -inf, 'BUT ALL': -inf, 'BUT JOHN': -inf, 'BUT LIKE': -inf, 'BUT LEG': -inf, 'BUT BILL': -inf, 'BUT LAST-WEEK': -inf, 'BUT YESTERDAY': -inf, 'BUT SHOULD': -inf, 'BUT BOOK': -inf, 'BUT CHINA': -inf, 'BUT STUDENT': -inf, 'BUT MARY': -inf, 'BUT TOY': -inf, 'BUT CAR': -inf, 'BUT CAN': -6.5496507422338102, 'BUT HIT': -inf, 'BUT COAT': -inf, 'BUT NEW-YORK': -inf, 'BUT BROCCOLI': -inf, 'BUT MOTHER': -inf, 'BUT EAT': -inf, 'BUT IX': -inf, 'BUT CANDY': -inf, 'BUT NEXT-WEEK': -inf, 'BUT THINK': -inf, 'BUT SELL': -inf, 'BUT STOLEN': -inf, 'BUT SELF': -inf, 'BUT SAY-1P': -inf, 'BUT CHICKEN': -inf, 'BUT JANA': -inf, 'BUT THROW': -inf, 'BUT <START>': -inf, 'BUT <END>': -inf, 'CHOCOLATE BOX': -inf, 'CHOCOLATE BOY': -inf, 'CHOCOLATE PUTASIDE': -inf, 'CHOCOLATE SUE': -inf, 'CHOCOLATE HAVE': -inf, 'CHOCOLATE GIRL': -inf, 'CHOCOLATE WONT': -inf, 'CHOCOLATE WOMAN': -inf, 'CHOCOLATE MANY': -inf, 'CHOCOLATE PEOPLE': -inf, 'CHOCOLATE LIVE': -inf, 'CHOCOLATE CHICAGO': -inf, 'CHOCOLATE PAST': -inf, 'CHOCOLATE GO': -inf, 'CHOCOLATE PARTY': -inf, 'CHOCOLATE NAME': -inf, 'CHOCOLATE FRANK': -inf, 'CHOCOLATE BLAME': -inf, 'CHOCOLATE FUTURE': -inf, 'CHOCOLATE HOUSE': -inf, 'CHOCOLATE MAN': -inf, 'CHOCOLATE GROUP': -inf, 'CHOCOLATE WANT': -inf, 'CHOCOLATE VIDEOTAPE': -inf, 'CHOCOLATE MOVIE': -inf, 'CHOCOLATE PREFER': -inf, 'CHOCOLATE BROTHER': -inf, 'CHOCOLATE BORROW': -inf, 'CHOCOLATE LEAVE': -inf, 'CHOCOLATE FIND': -inf, 'CHOCOLATE WILL': -inf, 'CHOCOLATE WHAT': -inf, 'CHOCOLATE BUY': -inf, 'CHOCOLATE GET': -inf, 'CHOCOLATE BUT': -inf, 'CHOCOLATE CHOCOLATE': -inf, 'CHOCOLATE HOMEWORK': -inf, 'CHOCOLATE FINISH': -inf, 'CHOCOLATE LOVE': -inf, 'CHOCOLATE VISIT': -inf, 'CHOCOLATE SOMETHING-ONE': -inf, 'CHOCOLATE POSS': -inf, 'CHOCOLATE POTATO': -inf, 'CHOCOLATE ANN': -inf, 'CHOCOLATE TELL': -inf, 'CHOCOLATE BREAK-DOWN': -inf, 'CHOCOLATE NOT': -inf, 'CHOCOLATE TEACHER': -inf, 'CHOCOLATE IX-1P': -inf, 'CHOCOLATE GIVE': -inf, 'CHOCOLATE READ': -inf, 'CHOCOLATE FISH': -inf, 'CHOCOLATE KNOW': -inf, 'CHOCOLATE DECIDE': -inf, 'CHOCOLATE SEARCH-FOR': -inf, 'CHOCOLATE NEW': -inf, 'CHOCOLATE OLD': -inf, 'CHOCOLATE APPLE': -inf, 'CHOCOLATE SHOOT': -inf, 'CHOCOLATE WHO': -6.5496507422338102, 'CHOCOLATE SAY': -inf, 'CHOCOLATE TOMORROW': -inf, 'CHOCOLATE SEE': -inf, 'CHOCOLATE ARRIVE': -inf, 'CHOCOLATE FRIEND': -inf, 'CHOCOLATE CORN': -inf, 'CHOCOLATE HERE': -inf, 'CHOCOLATE FRED': -inf, 'CHOCOLATE WRITE': -inf, 'CHOCOLATE VEGETABLE': -inf, 'CHOCOLATE BLUE': -inf, 'CHOCOLATE ALL': -inf, 'CHOCOLATE JOHN': -inf, 'CHOCOLATE LIKE': -inf, 'CHOCOLATE LEG': -inf, 'CHOCOLATE BILL': -inf, 'CHOCOLATE LAST-WEEK': -inf, 'CHOCOLATE YESTERDAY': -inf, 'CHOCOLATE SHOULD': -inf, 'CHOCOLATE BOOK': -inf, 'CHOCOLATE CHINA': -inf, 'CHOCOLATE STUDENT': -inf, 'CHOCOLATE MARY': -inf, 'CHOCOLATE TOY': -inf, 'CHOCOLATE CAR': -inf, 'CHOCOLATE CAN': -inf, 'CHOCOLATE HIT': -inf, 'CHOCOLATE COAT': -inf, 'CHOCOLATE NEW-YORK': -inf, 'CHOCOLATE BROCCOLI': -inf, 'CHOCOLATE MOTHER': -inf, 'CHOCOLATE EAT': -inf, 'CHOCOLATE IX': -inf, 'CHOCOLATE CANDY': -inf, 'CHOCOLATE NEXT-WEEK': -inf, 'CHOCOLATE THINK': -inf, 'CHOCOLATE SELL': -inf, 'CHOCOLATE STOLEN': -inf, 'CHOCOLATE SELF': -inf, 'CHOCOLATE SAY-1P': -inf, 'CHOCOLATE CHICKEN': -inf, 'CHOCOLATE JANA': -inf, 'CHOCOLATE THROW': -inf, 'CHOCOLATE <START>': -inf, 'CHOCOLATE <END>': -6.5496507422338102, 'HOMEWORK BOX': -inf, 'HOMEWORK BOY': -inf, 'HOMEWORK PUTASIDE': -inf, 'HOMEWORK SUE': -inf, 'HOMEWORK HAVE': -inf, 'HOMEWORK GIRL': -inf, 'HOMEWORK WONT': -inf, 'HOMEWORK WOMAN': -inf, 'HOMEWORK MANY': -inf, 'HOMEWORK PEOPLE': -inf, 'HOMEWORK LIVE': -inf, 'HOMEWORK CHICAGO': -inf, 'HOMEWORK PAST': -inf, 'HOMEWORK GO': -inf, 'HOMEWORK PARTY': -inf, 'HOMEWORK NAME': -inf, 'HOMEWORK FRANK': -inf, 'HOMEWORK BLAME': -inf, 'HOMEWORK FUTURE': -inf, 'HOMEWORK HOUSE': -inf, 'HOMEWORK MAN': -inf, 'HOMEWORK GROUP': -inf, 'HOMEWORK WANT': -inf, 'HOMEWORK VIDEOTAPE': -inf, 'HOMEWORK MOVIE': -inf, 'HOMEWORK PREFER': -inf, 'HOMEWORK BROTHER': -inf, 'HOMEWORK BORROW': -inf, 'HOMEWORK LEAVE': -inf, 'HOMEWORK FIND': -inf, 'HOMEWORK WILL': -inf, 'HOMEWORK WHAT': -inf, 'HOMEWORK BUY': -inf, 'HOMEWORK GET': -inf, 'HOMEWORK BUT': -inf, 'HOMEWORK CHOCOLATE': -inf, 'HOMEWORK HOMEWORK': -inf, 'HOMEWORK FINISH': -inf, 'HOMEWORK LOVE': -inf, 'HOMEWORK VISIT': -inf, 'HOMEWORK SOMETHING-ONE': -inf, 'HOMEWORK POSS': -inf, 'HOMEWORK POTATO': -inf, 'HOMEWORK ANN': -inf, 'HOMEWORK TELL': -inf, 'HOMEWORK BREAK-DOWN': -inf, 'HOMEWORK NOT': -inf, 'HOMEWORK TEACHER': -inf, 'HOMEWORK IX-1P': -inf, 'HOMEWORK GIVE': -inf, 'HOMEWORK READ': -inf, 'HOMEWORK FISH': -inf, 'HOMEWORK KNOW': -inf, 'HOMEWORK DECIDE': -inf, 'HOMEWORK SEARCH-FOR': -inf, 'HOMEWORK NEW': -inf, 'HOMEWORK OLD': -inf, 'HOMEWORK APPLE': -inf, 'HOMEWORK SHOOT': -inf, 'HOMEWORK WHO': -inf, 'HOMEWORK SAY': -inf, 'HOMEWORK TOMORROW': -inf, 'HOMEWORK SEE': -inf, 'HOMEWORK ARRIVE': -inf, 'HOMEWORK FRIEND': -inf, 'HOMEWORK CORN': -inf, 'HOMEWORK HERE': -inf, 'HOMEWORK FRED': -inf, 'HOMEWORK WRITE': -inf, 'HOMEWORK VEGETABLE': -inf, 'HOMEWORK BLUE': -inf, 'HOMEWORK ALL': -inf, 'HOMEWORK JOHN': -inf, 'HOMEWORK LIKE': -inf, 'HOMEWORK LEG': -inf, 'HOMEWORK BILL': -inf, 'HOMEWORK LAST-WEEK': -inf, 'HOMEWORK YESTERDAY': -inf, 'HOMEWORK SHOULD': -inf, 'HOMEWORK BOOK': -inf, 'HOMEWORK CHINA': -inf, 'HOMEWORK STUDENT': -inf, 'HOMEWORK MARY': -inf, 'HOMEWORK TOY': -inf, 'HOMEWORK CAR': -inf, 'HOMEWORK CAN': -inf, 'HOMEWORK HIT': -inf, 'HOMEWORK COAT': -inf, 'HOMEWORK NEW-YORK': -inf, 'HOMEWORK BROCCOLI': -inf, 'HOMEWORK MOTHER': -inf, 'HOMEWORK EAT': -inf, 'HOMEWORK IX': -inf, 'HOMEWORK CANDY': -inf, 'HOMEWORK NEXT-WEEK': -inf, 'HOMEWORK THINK': -inf, 'HOMEWORK SELL': -inf, 'HOMEWORK STOLEN': -inf, 'HOMEWORK SELF': -inf, 'HOMEWORK SAY-1P': -inf, 'HOMEWORK CHICKEN': -inf, 'HOMEWORK JANA': -inf, 'HOMEWORK THROW': -inf, 'HOMEWORK <START>': -inf, 'HOMEWORK <END>': -6.5496507422338102, 'FINISH BOX': -inf, 'FINISH BOY': -inf, 'FINISH PUTASIDE': -inf, 'FINISH SUE': -inf, 'FINISH HAVE': -inf, 'FINISH GIRL': -inf, 'FINISH WONT': -inf, 'FINISH WOMAN': -inf, 'FINISH MANY': -inf, 'FINISH PEOPLE': -inf, 'FINISH LIVE': -inf, 'FINISH CHICAGO': -inf, 'FINISH PAST': -inf, 'FINISH GO': -inf, 'FINISH PARTY': -inf, 'FINISH NAME': -inf, 'FINISH FRANK': -inf, 'FINISH BLAME': -inf, 'FINISH FUTURE': -inf, 'FINISH HOUSE': -inf, 'FINISH MAN': -inf, 'FINISH GROUP': -inf, 'FINISH WANT': -inf, 'FINISH VIDEOTAPE': -inf, 'FINISH MOVIE': -inf, 'FINISH PREFER': -inf, 'FINISH BROTHER': -inf, 'FINISH BORROW': -inf, 'FINISH LEAVE': -inf, 'FINISH FIND': -inf, 'FINISH WILL': -inf, 'FINISH WHAT': -inf, 'FINISH BUY': -inf, 'FINISH GET': -inf, 'FINISH BUT': -inf, 'FINISH CHOCOLATE': -inf, 'FINISH HOMEWORK': -inf, 'FINISH FINISH': -inf, 'FINISH LOVE': -inf, 'FINISH VISIT': -6.5496507422338102, 'FINISH SOMETHING-ONE': -inf, 'FINISH POSS': -inf, 'FINISH POTATO': -inf, 'FINISH ANN': -inf, 'FINISH TELL': -inf, 'FINISH BREAK-DOWN': -inf, 'FINISH NOT': -inf, 'FINISH TEACHER': -inf, 'FINISH IX-1P': -inf, 'FINISH GIVE': -inf, 'FINISH READ': -6.5496507422338102, 'FINISH FISH': -inf, 'FINISH KNOW': -inf, 'FINISH DECIDE': -inf, 'FINISH SEARCH-FOR': -inf, 'FINISH NEW': -inf, 'FINISH OLD': -inf, 'FINISH APPLE': -inf, 'FINISH SHOOT': -inf, 'FINISH WHO': -inf, 'FINISH SAY': -inf, 'FINISH TOMORROW': -inf, 'FINISH SEE': -6.5496507422338102, 'FINISH ARRIVE': -inf, 'FINISH FRIEND': -inf, 'FINISH CORN': -inf, 'FINISH HERE': -inf, 'FINISH FRED': -inf, 'FINISH WRITE': -inf, 'FINISH VEGETABLE': -inf, 'FINISH BLUE': -inf, 'FINISH ALL': -inf, 'FINISH JOHN': -inf, 'FINISH LIKE': -inf, 'FINISH LEG': -inf, 'FINISH BILL': -inf, 'FINISH LAST-WEEK': -inf, 'FINISH YESTERDAY': -inf, 'FINISH SHOULD': -inf, 'FINISH BOOK': -inf, 'FINISH CHINA': -inf, 'FINISH STUDENT': -inf, 'FINISH MARY': -inf, 'FINISH TOY': -inf, 'FINISH CAR': -inf, 'FINISH CAN': -inf, 'FINISH HIT': -inf, 'FINISH COAT': -inf, 'FINISH NEW-YORK': -inf, 'FINISH BROCCOLI': -inf, 'FINISH MOTHER': -inf, 'FINISH EAT': -inf, 'FINISH IX': -inf, 'FINISH CANDY': -inf, 'FINISH NEXT-WEEK': -inf, 'FINISH THINK': -inf, 'FINISH SELL': -inf, 'FINISH STOLEN': -inf, 'FINISH SELF': -inf, 'FINISH SAY-1P': -inf, 'FINISH CHICKEN': -inf, 'FINISH JANA': -inf, 'FINISH THROW': -inf, 'FINISH <START>': -inf, 'FINISH <END>': -inf, 'LOVE BOX': -inf, 'LOVE BOY': -inf, 'LOVE PUTASIDE': -inf, 'LOVE SUE': -inf, 'LOVE HAVE': -inf, 'LOVE GIRL': -inf, 'LOVE WONT': -inf, 'LOVE WOMAN': -inf, 'LOVE MANY': -inf, 'LOVE PEOPLE': -inf, 'LOVE LIVE': -inf, 'LOVE CHICAGO': -inf, 'LOVE PAST': -inf, 'LOVE GO': -inf, 'LOVE PARTY': -inf, 'LOVE NAME': -inf, 'LOVE FRANK': -inf, 'LOVE BLAME': -inf, 'LOVE FUTURE': -inf, 'LOVE HOUSE': -inf, 'LOVE MAN': -inf, 'LOVE GROUP': -inf, 'LOVE WANT': -inf, 'LOVE VIDEOTAPE': -inf, 'LOVE MOVIE': -inf, 'LOVE PREFER': -inf, 'LOVE BROTHER': -inf, 'LOVE BORROW': -inf, 'LOVE LEAVE': -inf, 'LOVE FIND': -inf, 'LOVE WILL': -inf, 'LOVE WHAT': -5.4510384535657002, 'LOVE BUY': -inf, 'LOVE GET': -inf, 'LOVE BUT': -inf, 'LOVE CHOCOLATE': -inf, 'LOVE HOMEWORK': -inf, 'LOVE FINISH': -inf, 'LOVE LOVE': -inf, 'LOVE VISIT': -inf, 'LOVE SOMETHING-ONE': -inf, 'LOVE POSS': -inf, 'LOVE POTATO': -inf, 'LOVE ANN': -inf, 'LOVE TELL': -inf, 'LOVE BREAK-DOWN': -inf, 'LOVE NOT': -inf, 'LOVE TEACHER': -inf, 'LOVE IX-1P': -inf, 'LOVE GIVE': -inf, 'LOVE READ': -inf, 'LOVE FISH': -inf, 'LOVE KNOW': -inf, 'LOVE DECIDE': -inf, 'LOVE SEARCH-FOR': -inf, 'LOVE NEW': -inf, 'LOVE OLD': -inf, 'LOVE APPLE': -inf, 'LOVE SHOOT': -inf, 'LOVE WHO': -6.5496507422338102, 'LOVE SAY': -inf, 'LOVE TOMORROW': -inf, 'LOVE SEE': -inf, 'LOVE ARRIVE': -inf, 'LOVE FRIEND': -inf, 'LOVE CORN': -inf, 'LOVE HERE': -inf, 'LOVE FRED': -inf, 'LOVE WRITE': -inf, 'LOVE VEGETABLE': -inf, 'LOVE BLUE': -inf, 'LOVE ALL': -inf, 'LOVE JOHN': -5.8565035616738648, 'LOVE LIKE': -inf, 'LOVE LEG': -inf, 'LOVE BILL': -inf, 'LOVE LAST-WEEK': -inf, 'LOVE YESTERDAY': -inf, 'LOVE SHOULD': -inf, 'LOVE BOOK': -inf, 'LOVE CHINA': -inf, 'LOVE STUDENT': -inf, 'LOVE MARY': -5.1633563811139194, 'LOVE TOY': -inf, 'LOVE CAR': -inf, 'LOVE CAN': -inf, 'LOVE HIT': -inf, 'LOVE COAT': -inf, 'LOVE NEW-YORK': -inf, 'LOVE BROCCOLI': -inf, 'LOVE MOTHER': -inf, 'LOVE EAT': -inf, 'LOVE IX': -6.5496507422338102, 'LOVE CANDY': -inf, 'LOVE NEXT-WEEK': -inf, 'LOVE THINK': -inf, 'LOVE SELL': -inf, 'LOVE STOLEN': -inf, 'LOVE SELF': -inf, 'LOVE SAY-1P': -inf, 'LOVE CHICKEN': -inf, 'LOVE JANA': -inf, 'LOVE THROW': -inf, 'LOVE <START>': -inf, 'LOVE <END>': -5.8565035616738648, 'VISIT BOX': -inf, 'VISIT BOY': -inf, 'VISIT PUTASIDE': -inf, 'VISIT SUE': -inf, 'VISIT HAVE': -inf, 'VISIT GIRL': -inf, 'VISIT WONT': -inf, 'VISIT WOMAN': -inf, 'VISIT MANY': -inf, 'VISIT PEOPLE': -inf, 'VISIT LIVE': -inf, 'VISIT CHICAGO': -inf, 'VISIT PAST': -inf, 'VISIT GO': -inf, 'VISIT PARTY': -inf, 'VISIT NAME': -inf, 'VISIT FRANK': -inf, 'VISIT BLAME': -inf, 'VISIT FUTURE': -inf, 'VISIT HOUSE': -inf, 'VISIT MAN': -inf, 'VISIT GROUP': -inf, 'VISIT WANT': -inf, 'VISIT VIDEOTAPE': -inf, 'VISIT MOVIE': -inf, 'VISIT PREFER': -inf, 'VISIT BROTHER': -inf, 'VISIT BORROW': -inf, 'VISIT LEAVE': -inf, 'VISIT FIND': -inf, 'VISIT WILL': -inf, 'VISIT WHAT': -6.5496507422338102, 'VISIT BUY': -inf, 'VISIT GET': -inf, 'VISIT BUT': -inf, 'VISIT CHOCOLATE': -inf, 'VISIT HOMEWORK': -inf, 'VISIT FINISH': -inf, 'VISIT LOVE': -inf, 'VISIT VISIT': -inf, 'VISIT SOMETHING-ONE': -inf, 'VISIT POSS': -inf, 'VISIT POTATO': -inf, 'VISIT ANN': -inf, 'VISIT TELL': -inf, 'VISIT BREAK-DOWN': -inf, 'VISIT NOT': -inf, 'VISIT TEACHER': -inf, 'VISIT IX-1P': -inf, 'VISIT GIVE': -inf, 'VISIT READ': -inf, 'VISIT FISH': -inf, 'VISIT KNOW': -inf, 'VISIT DECIDE': -inf, 'VISIT SEARCH-FOR': -inf, 'VISIT NEW': -inf, 'VISIT OLD': -inf, 'VISIT APPLE': -inf, 'VISIT SHOOT': -inf, 'VISIT WHO': -6.5496507422338102, 'VISIT SAY': -inf, 'VISIT TOMORROW': -inf, 'VISIT SEE': -inf, 'VISIT ARRIVE': -inf, 'VISIT FRIEND': -inf, 'VISIT CORN': -inf, 'VISIT HERE': -inf, 'VISIT FRED': -inf, 'VISIT WRITE': -inf, 'VISIT VEGETABLE': -inf, 'VISIT BLUE': -inf, 'VISIT ALL': -inf, 'VISIT JOHN': -inf, 'VISIT LIKE': -inf, 'VISIT LEG': -inf, 'VISIT BILL': -inf, 'VISIT LAST-WEEK': -inf, 'VISIT YESTERDAY': -inf, 'VISIT SHOULD': -inf, 'VISIT BOOK': -inf, 'VISIT CHINA': -inf, 'VISIT STUDENT': -inf, 'VISIT MARY': -4.7578912730057557, 'VISIT TOY': -inf, 'VISIT CAR': -inf, 'VISIT CAN': -inf, 'VISIT HIT': -inf, 'VISIT COAT': -inf, 'VISIT NEW-YORK': -inf, 'VISIT BROCCOLI': -inf, 'VISIT MOTHER': -6.5496507422338102, 'VISIT EAT': -inf, 'VISIT IX': -inf, 'VISIT CANDY': -inf, 'VISIT NEXT-WEEK': -inf, 'VISIT THINK': -inf, 'VISIT SELL': -inf, 'VISIT STOLEN': -inf, 'VISIT SELF': -inf, 'VISIT SAY-1P': -inf, 'VISIT CHICKEN': -inf, 'VISIT JANA': -inf, 'VISIT THROW': -inf, 'VISIT <START>': -inf, 'VISIT <END>': -inf, 'SOMETHING-ONE BOX': -inf, 'SOMETHING-ONE BOY': -inf, 'SOMETHING-ONE PUTASIDE': -inf, 'SOMETHING-ONE SUE': -inf, 'SOMETHING-ONE HAVE': -inf, 'SOMETHING-ONE GIRL': -inf, 'SOMETHING-ONE WONT': -inf, 'SOMETHING-ONE WOMAN': -6.5496507422338102, 'SOMETHING-ONE MANY': -inf, 'SOMETHING-ONE PEOPLE': -inf, 'SOMETHING-ONE LIVE': -inf, 'SOMETHING-ONE CHICAGO': -inf, 'SOMETHING-ONE PAST': -inf, 'SOMETHING-ONE GO': -inf, 'SOMETHING-ONE PARTY': -inf, 'SOMETHING-ONE NAME': -inf, 'SOMETHING-ONE FRANK': -inf, 'SOMETHING-ONE BLAME': -inf, 'SOMETHING-ONE FUTURE': -inf, 'SOMETHING-ONE HOUSE': -inf, 'SOMETHING-ONE MAN': -inf, 'SOMETHING-ONE GROUP': -inf, 'SOMETHING-ONE WANT': -inf, 'SOMETHING-ONE VIDEOTAPE': -inf, 'SOMETHING-ONE MOVIE': -inf, 'SOMETHING-ONE PREFER': -inf, 'SOMETHING-ONE BROTHER': -inf, 'SOMETHING-ONE BORROW': -6.5496507422338102, 'SOMETHING-ONE LEAVE': -inf, 'SOMETHING-ONE FIND': -inf, 'SOMETHING-ONE WILL': -inf, 'SOMETHING-ONE WHAT': -6.5496507422338102, 'SOMETHING-ONE BUY': -inf, 'SOMETHING-ONE GET': -inf, 'SOMETHING-ONE BUT': -inf, 'SOMETHING-ONE CHOCOLATE': -inf, 'SOMETHING-ONE HOMEWORK': -inf, 'SOMETHING-ONE FINISH': -inf, 'SOMETHING-ONE LOVE': -inf, 'SOMETHING-ONE VISIT': -inf, 'SOMETHING-ONE SOMETHING-ONE': -inf, 'SOMETHING-ONE POSS': -5.8565035616738648, 'SOMETHING-ONE POTATO': -inf, 'SOMETHING-ONE ANN': -inf, 'SOMETHING-ONE TELL': -inf, 'SOMETHING-ONE BREAK-DOWN': -inf, 'SOMETHING-ONE NOT': -inf, 'SOMETHING-ONE TEACHER': -inf, 'SOMETHING-ONE IX-1P': -inf, 'SOMETHING-ONE GIVE': -inf, 'SOMETHING-ONE READ': -inf, 'SOMETHING-ONE FISH': -inf, 'SOMETHING-ONE KNOW': -inf, 'SOMETHING-ONE DECIDE': -inf, 'SOMETHING-ONE SEARCH-FOR': -inf, 'SOMETHING-ONE NEW': -inf, 'SOMETHING-ONE OLD': -inf, 'SOMETHING-ONE APPLE': -inf, 'SOMETHING-ONE SHOOT': -inf, 'SOMETHING-ONE WHO': -inf, 'SOMETHING-ONE SAY': -inf, 'SOMETHING-ONE TOMORROW': -inf, 'SOMETHING-ONE SEE': -inf, 'SOMETHING-ONE ARRIVE': -6.5496507422338102, 'SOMETHING-ONE FRIEND': -inf, 'SOMETHING-ONE CORN': -inf, 'SOMETHING-ONE HERE': -inf, 'SOMETHING-ONE FRED': -inf, 'SOMETHING-ONE WRITE': -inf, 'SOMETHING-ONE VEGETABLE': -inf, 'SOMETHING-ONE BLUE': -inf, 'SOMETHING-ONE ALL': -inf, 'SOMETHING-ONE JOHN': -inf, 'SOMETHING-ONE LIKE': -inf, 'SOMETHING-ONE LEG': -inf, 'SOMETHING-ONE BILL': -inf, 'SOMETHING-ONE LAST-WEEK': -inf, 'SOMETHING-ONE YESTERDAY': -inf, 'SOMETHING-ONE SHOULD': -inf, 'SOMETHING-ONE BOOK': -inf, 'SOMETHING-ONE CHINA': -inf, 'SOMETHING-ONE STUDENT': -5.8565035616738648, 'SOMETHING-ONE MARY': -inf, 'SOMETHING-ONE TOY': -inf, 'SOMETHING-ONE CAR': -6.5496507422338102, 'SOMETHING-ONE CAN': -inf, 'SOMETHING-ONE HIT': -inf, 'SOMETHING-ONE COAT': -inf, 'SOMETHING-ONE NEW-YORK': -inf, 'SOMETHING-ONE BROCCOLI': -inf, 'SOMETHING-ONE MOTHER': -inf, 'SOMETHING-ONE EAT': -inf, 'SOMETHING-ONE IX': -inf, 'SOMETHING-ONE CANDY': -inf, 'SOMETHING-ONE NEXT-WEEK': -inf, 'SOMETHING-ONE THINK': -inf, 'SOMETHING-ONE SELL': -inf, 'SOMETHING-ONE STOLEN': -inf, 'SOMETHING-ONE SELF': -inf, 'SOMETHING-ONE SAY-1P': -inf, 'SOMETHING-ONE CHICKEN': -inf, 'SOMETHING-ONE JANA': -inf, 'SOMETHING-ONE THROW': -inf, 'SOMETHING-ONE <START>': -inf, 'SOMETHING-ONE <END>': -inf, 'POSS BOX': -inf, 'POSS BOY': -inf, 'POSS PUTASIDE': -inf, 'POSS SUE': -inf, 'POSS HAVE': -inf, 'POSS GIRL': -inf, 'POSS WONT': -inf, 'POSS WOMAN': -inf, 'POSS MANY': -inf, 'POSS PEOPLE': -inf, 'POSS LIVE': -inf, 'POSS CHICAGO': -inf, 'POSS PAST': -inf, 'POSS GO': -inf, 'POSS PARTY': -inf, 'POSS NAME': -inf, 'POSS FRANK': -inf, 'POSS BLAME': -inf, 'POSS FUTURE': -inf, 'POSS HOUSE': -inf, 'POSS MAN': -inf, 'POSS GROUP': -inf, 'POSS WANT': -inf, 'POSS VIDEOTAPE': -inf, 'POSS MOVIE': -inf, 'POSS PREFER': -inf, 'POSS BROTHER': -6.5496507422338102, 'POSS BORROW': -inf, 'POSS LEAVE': -inf, 'POSS FIND': -inf, 'POSS WILL': -inf, 'POSS WHAT': -inf, 'POSS BUY': -inf, 'POSS GET': -inf, 'POSS BUT': -inf, 'POSS CHOCOLATE': -inf, 'POSS HOMEWORK': -inf, 'POSS FINISH': -inf, 'POSS LOVE': -inf, 'POSS VISIT': -inf, 'POSS SOMETHING-ONE': -inf, 'POSS POSS': -inf, 'POSS POTATO': -inf, 'POSS ANN': -inf, 'POSS TELL': -inf, 'POSS BREAK-DOWN': -inf, 'POSS NOT': -inf, 'POSS TEACHER': -inf, 'POSS IX-1P': -inf, 'POSS GIVE': -inf, 'POSS READ': -inf, 'POSS FISH': -inf, 'POSS KNOW': -inf, 'POSS DECIDE': -inf, 'POSS SEARCH-FOR': -inf, 'POSS NEW': -5.8565035616738648, 'POSS OLD': -6.5496507422338102, 'POSS APPLE': -inf, 'POSS SHOOT': -inf, 'POSS WHO': -inf, 'POSS SAY': -inf, 'POSS TOMORROW': -inf, 'POSS SEE': -inf, 'POSS ARRIVE': -inf, 'POSS FRIEND': -6.5496507422338102, 'POSS CORN': -inf, 'POSS HERE': -inf, 'POSS FRED': -inf, 'POSS WRITE': -inf, 'POSS VEGETABLE': -inf, 'POSS BLUE': -inf, 'POSS ALL': -inf, 'POSS JOHN': -inf, 'POSS LIKE': -inf, 'POSS LEG': -6.5496507422338102, 'POSS BILL': -inf, 'POSS LAST-WEEK': -inf, 'POSS YESTERDAY': -inf, 'POSS SHOULD': -inf, 'POSS BOOK': -5.8565035616738648, 'POSS CHINA': -inf, 'POSS STUDENT': -inf, 'POSS MARY': -inf, 'POSS TOY': -inf, 'POSS CAR': -5.8565035616738648, 'POSS CAN': -inf, 'POSS HIT': -inf, 'POSS COAT': -inf, 'POSS NEW-YORK': -inf, 'POSS BROCCOLI': -inf, 'POSS MOTHER': -inf, 'POSS EAT': -inf, 'POSS IX': -inf, 'POSS CANDY': -6.5496507422338102, 'POSS NEXT-WEEK': -inf, 'POSS THINK': -inf, 'POSS SELL': -inf, 'POSS STOLEN': -inf, 'POSS SELF': -inf, 'POSS SAY-1P': -inf, 'POSS CHICKEN': -inf, 'POSS JANA': -inf, 'POSS THROW': -inf, 'POSS <START>': -inf, 'POSS <END>': -inf, 'POTATO BOX': -inf, 'POTATO BOY': -inf, 'POTATO PUTASIDE': -inf, 'POTATO SUE': -inf, 'POTATO HAVE': -inf, 'POTATO GIRL': -inf, 'POTATO WONT': -inf, 'POTATO WOMAN': -inf, 'POTATO MANY': -inf, 'POTATO PEOPLE': -inf, 'POTATO LIVE': -inf, 'POTATO CHICAGO': -inf, 'POTATO PAST': -inf, 'POTATO GO': -inf, 'POTATO PARTY': -inf, 'POTATO NAME': -inf, 'POTATO FRANK': -inf, 'POTATO BLAME': -inf, 'POTATO FUTURE': -inf, 'POTATO HOUSE': -inf, 'POTATO MAN': -inf, 'POTATO GROUP': -inf, 'POTATO WANT': -inf, 'POTATO VIDEOTAPE': -inf, 'POTATO MOVIE': -inf, 'POTATO PREFER': -inf, 'POTATO BROTHER': -inf, 'POTATO BORROW': -inf, 'POTATO LEAVE': -inf, 'POTATO FIND': -inf, 'POTATO WILL': -inf, 'POTATO WHAT': -6.5496507422338102, 'POTATO BUY': -inf, 'POTATO GET': -inf, 'POTATO BUT': -inf, 'POTATO CHOCOLATE': -inf, 'POTATO HOMEWORK': -inf, 'POTATO FINISH': -inf, 'POTATO LOVE': -inf, 'POTATO VISIT': -inf, 'POTATO SOMETHING-ONE': -inf, 'POTATO POSS': -inf, 'POTATO POTATO': -inf, 'POTATO ANN': -inf, 'POTATO TELL': -inf, 'POTATO BREAK-DOWN': -inf, 'POTATO NOT': -inf, 'POTATO TEACHER': -inf, 'POTATO IX-1P': -inf, 'POTATO GIVE': -inf, 'POTATO READ': -inf, 'POTATO FISH': -inf, 'POTATO KNOW': -inf, 'POTATO DECIDE': -inf, 'POTATO SEARCH-FOR': -inf, 'POTATO NEW': -inf, 'POTATO OLD': -inf, 'POTATO APPLE': -inf, 'POTATO SHOOT': -inf, 'POTATO WHO': -inf, 'POTATO SAY': -inf, 'POTATO TOMORROW': -inf, 'POTATO SEE': -inf, 'POTATO ARRIVE': -inf, 'POTATO FRIEND': -inf, 'POTATO CORN': -inf, 'POTATO HERE': -inf, 'POTATO FRED': -inf, 'POTATO WRITE': -inf, 'POTATO VEGETABLE': -inf, 'POTATO BLUE': -inf, 'POTATO ALL': -inf, 'POTATO JOHN': -inf, 'POTATO LIKE': -inf, 'POTATO LEG': -inf, 'POTATO BILL': -inf, 'POTATO LAST-WEEK': -inf, 'POTATO YESTERDAY': -inf, 'POTATO SHOULD': -inf, 'POTATO BOOK': -inf, 'POTATO CHINA': -inf, 'POTATO STUDENT': -inf, 'POTATO MARY': -inf, 'POTATO TOY': -inf, 'POTATO CAR': -inf, 'POTATO CAN': -inf, 'POTATO HIT': -inf, 'POTATO COAT': -inf, 'POTATO NEW-YORK': -inf, 'POTATO BROCCOLI': -inf, 'POTATO MOTHER': -inf, 'POTATO EAT': -inf, 'POTATO IX': -inf, 'POTATO CANDY': -inf, 'POTATO NEXT-WEEK': -inf, 'POTATO THINK': -inf, 'POTATO SELL': -inf, 'POTATO STOLEN': -inf, 'POTATO SELF': -inf, 'POTATO SAY-1P': -inf, 'POTATO CHICKEN': -inf, 'POTATO JANA': -inf, 'POTATO THROW': -inf, 'POTATO <START>': -inf, 'POTATO <END>': -inf, 'ANN BOX': -inf, 'ANN BOY': -inf, 'ANN PUTASIDE': -inf, 'ANN SUE': -inf, 'ANN HAVE': -inf, 'ANN GIRL': -inf, 'ANN WONT': -inf, 'ANN WOMAN': -inf, 'ANN MANY': -inf, 'ANN PEOPLE': -inf, 'ANN LIVE': -inf, 'ANN CHICAGO': -inf, 'ANN PAST': -inf, 'ANN GO': -inf, 'ANN PARTY': -inf, 'ANN NAME': -inf, 'ANN FRANK': -inf, 'ANN BLAME': -6.5496507422338102, 'ANN FUTURE': -inf, 'ANN HOUSE': -inf, 'ANN MAN': -inf, 'ANN GROUP': -inf, 'ANN WANT': -inf, 'ANN VIDEOTAPE': -inf, 'ANN MOVIE': -inf, 'ANN PREFER': -inf, 'ANN BROTHER': -inf, 'ANN BORROW': -inf, 'ANN LEAVE': -inf, 'ANN FIND': -inf, 'ANN WILL': -inf, 'ANN WHAT': -inf, 'ANN BUY': -inf, 'ANN GET': -inf, 'ANN BUT': -inf, 'ANN CHOCOLATE': -inf, 'ANN HOMEWORK': -inf, 'ANN FINISH': -inf, 'ANN LOVE': -inf, 'ANN VISIT': -inf, 'ANN SOMETHING-ONE': -inf, 'ANN POSS': -inf, 'ANN POTATO': -inf, 'ANN ANN': -inf, 'ANN TELL': -inf, 'ANN BREAK-DOWN': -inf, 'ANN NOT': -inf, 'ANN TEACHER': -inf, 'ANN IX-1P': -inf, 'ANN GIVE': -inf, 'ANN READ': -inf, 'ANN FISH': -inf, 'ANN KNOW': -inf, 'ANN DECIDE': -inf, 'ANN SEARCH-FOR': -inf, 'ANN NEW': -inf, 'ANN OLD': -inf, 'ANN APPLE': -inf, 'ANN SHOOT': -inf, 'ANN WHO': -inf, 'ANN SAY': -inf, 'ANN TOMORROW': -inf, 'ANN SEE': -inf, 'ANN ARRIVE': -inf, 'ANN FRIEND': -inf, 'ANN CORN': -inf, 'ANN HERE': -inf, 'ANN FRED': -inf, 'ANN WRITE': -inf, 'ANN VEGETABLE': -inf, 'ANN BLUE': -inf, 'ANN ALL': -inf, 'ANN JOHN': -inf, 'ANN LIKE': -inf, 'ANN LEG': -inf, 'ANN BILL': -inf, 'ANN LAST-WEEK': -inf, 'ANN YESTERDAY': -inf, 'ANN SHOULD': -inf, 'ANN BOOK': -inf, 'ANN CHINA': -inf, 'ANN STUDENT': -inf, 'ANN MARY': -inf, 'ANN TOY': -inf, 'ANN CAR': -inf, 'ANN CAN': -inf, 'ANN HIT': -inf, 'ANN COAT': -inf, 'ANN NEW-YORK': -inf, 'ANN BROCCOLI': -inf, 'ANN MOTHER': -inf, 'ANN EAT': -inf, 'ANN IX': -inf, 'ANN CANDY': -inf, 'ANN NEXT-WEEK': -inf, 'ANN THINK': -inf, 'ANN SELL': -inf, 'ANN STOLEN': -inf, 'ANN SELF': -inf, 'ANN SAY-1P': -inf, 'ANN CHICKEN': -inf, 'ANN JANA': -inf, 'ANN THROW': -inf, 'ANN <START>': -inf, 'ANN <END>': -inf, 'TELL BOX': -inf, 'TELL BOY': -inf, 'TELL PUTASIDE': -inf, 'TELL SUE': -inf, 'TELL HAVE': -inf, 'TELL GIRL': -inf, 'TELL WONT': -inf, 'TELL WOMAN': -inf, 'TELL MANY': -inf, 'TELL PEOPLE': -inf, 'TELL LIVE': -inf, 'TELL CHICAGO': -inf, 'TELL PAST': -inf, 'TELL GO': -inf, 'TELL PARTY': -inf, 'TELL NAME': -inf, 'TELL FRANK': -inf, 'TELL BLAME': -inf, 'TELL FUTURE': -inf, 'TELL HOUSE': -inf, 'TELL MAN': -inf, 'TELL GROUP': -inf, 'TELL WANT': -inf, 'TELL VIDEOTAPE': -inf, 'TELL MOVIE': -inf, 'TELL PREFER': -inf, 'TELL BROTHER': -inf, 'TELL BORROW': -inf, 'TELL LEAVE': -inf, 'TELL FIND': -inf, 'TELL WILL': -inf, 'TELL WHAT': -inf, 'TELL BUY': -inf, 'TELL GET': -inf, 'TELL BUT': -inf, 'TELL CHOCOLATE': -inf, 'TELL HOMEWORK': -inf, 'TELL FINISH': -inf, 'TELL LOVE': -inf, 'TELL VISIT': -inf, 'TELL SOMETHING-ONE': -inf, 'TELL POSS': -inf, 'TELL POTATO': -inf, 'TELL ANN': -inf, 'TELL TELL': -inf, 'TELL BREAK-DOWN': -inf, 'TELL NOT': -inf, 'TELL TEACHER': -inf, 'TELL IX-1P': -inf, 'TELL GIVE': -inf, 'TELL READ': -inf, 'TELL FISH': -inf, 'TELL KNOW': -inf, 'TELL DECIDE': -inf, 'TELL SEARCH-FOR': -inf, 'TELL NEW': -inf, 'TELL OLD': -inf, 'TELL APPLE': -inf, 'TELL SHOOT': -inf, 'TELL WHO': -inf, 'TELL SAY': -inf, 'TELL TOMORROW': -inf, 'TELL SEE': -inf, 'TELL ARRIVE': -inf, 'TELL FRIEND': -inf, 'TELL CORN': -inf, 'TELL HERE': -inf, 'TELL FRED': -inf, 'TELL WRITE': -inf, 'TELL VEGETABLE': -inf, 'TELL BLUE': -inf, 'TELL ALL': -inf, 'TELL JOHN': -inf, 'TELL LIKE': -inf, 'TELL LEG': -inf, 'TELL BILL': -5.1633563811139194, 'TELL LAST-WEEK': -inf, 'TELL YESTERDAY': -inf, 'TELL SHOULD': -inf, 'TELL BOOK': -inf, 'TELL CHINA': -inf, 'TELL STUDENT': -inf, 'TELL MARY': -inf, 'TELL TOY': -inf, 'TELL CAR': -inf, 'TELL CAN': -inf, 'TELL HIT': -inf, 'TELL COAT': -inf, 'TELL NEW-YORK': -inf, 'TELL BROCCOLI': -inf, 'TELL MOTHER': -inf, 'TELL EAT': -inf, 'TELL IX': -inf, 'TELL CANDY': -inf, 'TELL NEXT-WEEK': -inf, 'TELL THINK': -inf, 'TELL SELL': -inf, 'TELL STOLEN': -inf, 'TELL SELF': -inf, 'TELL SAY-1P': -inf, 'TELL CHICKEN': -inf, 'TELL JANA': -inf, 'TELL THROW': -inf, 'TELL <START>': -inf, 'TELL <END>': -inf, 'BREAK-DOWN BOX': -inf, 'BREAK-DOWN BOY': -inf, 'BREAK-DOWN PUTASIDE': -inf, 'BREAK-DOWN SUE': -inf, 'BREAK-DOWN HAVE': -inf, 'BREAK-DOWN GIRL': -inf, 'BREAK-DOWN WONT': -inf, 'BREAK-DOWN WOMAN': -inf, 'BREAK-DOWN MANY': -inf, 'BREAK-DOWN PEOPLE': -inf, 'BREAK-DOWN LIVE': -inf, 'BREAK-DOWN CHICAGO': -inf, 'BREAK-DOWN PAST': -inf, 'BREAK-DOWN GO': -inf, 'BREAK-DOWN PARTY': -inf, 'BREAK-DOWN NAME': -inf, 'BREAK-DOWN FRANK': -inf, 'BREAK-DOWN BLAME': -inf, 'BREAK-DOWN FUTURE': -inf, 'BREAK-DOWN HOUSE': -inf, 'BREAK-DOWN MAN': -inf, 'BREAK-DOWN GROUP': -inf, 'BREAK-DOWN WANT': -inf, 'BREAK-DOWN VIDEOTAPE': -inf, 'BREAK-DOWN MOVIE': -inf, 'BREAK-DOWN PREFER': -inf, 'BREAK-DOWN BROTHER': -inf, 'BREAK-DOWN BORROW': -inf, 'BREAK-DOWN LEAVE': -inf, 'BREAK-DOWN FIND': -inf, 'BREAK-DOWN WILL': -inf, 'BREAK-DOWN WHAT': -inf, 'BREAK-DOWN BUY': -inf, 'BREAK-DOWN GET': -inf, 'BREAK-DOWN BUT': -inf, 'BREAK-DOWN CHOCOLATE': -inf, 'BREAK-DOWN HOMEWORK': -inf, 'BREAK-DOWN FINISH': -inf, 'BREAK-DOWN LOVE': -inf, 'BREAK-DOWN VISIT': -inf, 'BREAK-DOWN SOMETHING-ONE': -inf, 'BREAK-DOWN POSS': -inf, 'BREAK-DOWN POTATO': -inf, 'BREAK-DOWN ANN': -inf, 'BREAK-DOWN TELL': -inf, 'BREAK-DOWN BREAK-DOWN': -inf, 'BREAK-DOWN NOT': -inf, 'BREAK-DOWN TEACHER': -inf, 'BREAK-DOWN IX-1P': -inf, 'BREAK-DOWN GIVE': -inf, 'BREAK-DOWN READ': -inf, 'BREAK-DOWN FISH': -inf, 'BREAK-DOWN KNOW': -inf, 'BREAK-DOWN DECIDE': -inf, 'BREAK-DOWN SEARCH-FOR': -inf, 'BREAK-DOWN NEW': -inf, 'BREAK-DOWN OLD': -inf, 'BREAK-DOWN APPLE': -inf, 'BREAK-DOWN SHOOT': -inf, 'BREAK-DOWN WHO': -inf, 'BREAK-DOWN SAY': -inf, 'BREAK-DOWN TOMORROW': -inf, 'BREAK-DOWN SEE': -inf, 'BREAK-DOWN ARRIVE': -inf, 'BREAK-DOWN FRIEND': -inf, 'BREAK-DOWN CORN': -inf, 'BREAK-DOWN HERE': -inf, 'BREAK-DOWN FRED': -inf, 'BREAK-DOWN WRITE': -inf, 'BREAK-DOWN VEGETABLE': -inf, 'BREAK-DOWN BLUE': -inf, 'BREAK-DOWN ALL': -inf, 'BREAK-DOWN JOHN': -inf, 'BREAK-DOWN LIKE': -inf, 'BREAK-DOWN LEG': -inf, 'BREAK-DOWN BILL': -inf, 'BREAK-DOWN LAST-WEEK': -inf, 'BREAK-DOWN YESTERDAY': -inf, 'BREAK-DOWN SHOULD': -inf, 'BREAK-DOWN BOOK': -inf, 'BREAK-DOWN CHINA': -inf, 'BREAK-DOWN STUDENT': -inf, 'BREAK-DOWN MARY': -inf, 'BREAK-DOWN TOY': -inf, 'BREAK-DOWN CAR': -inf, 'BREAK-DOWN CAN': -inf, 'BREAK-DOWN HIT': -inf, 'BREAK-DOWN COAT': -inf, 'BREAK-DOWN NEW-YORK': -inf, 'BREAK-DOWN BROCCOLI': -inf, 'BREAK-DOWN MOTHER': -inf, 'BREAK-DOWN EAT': -inf, 'BREAK-DOWN IX': -inf, 'BREAK-DOWN CANDY': -inf, 'BREAK-DOWN NEXT-WEEK': -inf, 'BREAK-DOWN THINK': -inf, 'BREAK-DOWN SELL': -inf, 'BREAK-DOWN STOLEN': -inf, 'BREAK-DOWN SELF': -inf, 'BREAK-DOWN SAY-1P': -inf, 'BREAK-DOWN CHICKEN': -inf, 'BREAK-DOWN JANA': -inf, 'BREAK-DOWN THROW': -inf, 'BREAK-DOWN <START>': -inf, 'BREAK-DOWN <END>': -5.4510384535657002, 'NOT BOX': -inf, 'NOT BOY': -inf, 'NOT PUTASIDE': -inf, 'NOT SUE': -inf, 'NOT HAVE': -inf, 'NOT GIRL': -inf, 'NOT WONT': -inf, 'NOT WOMAN': -inf, 'NOT MANY': -inf, 'NOT PEOPLE': -inf, 'NOT LIVE': -inf, 'NOT CHICAGO': -inf, 'NOT PAST': -inf, 'NOT GO': -inf, 'NOT PARTY': -inf, 'NOT NAME': -inf, 'NOT FRANK': -inf, 'NOT BLAME': -inf, 'NOT FUTURE': -inf, 'NOT HOUSE': -inf, 'NOT MAN': -inf, 'NOT GROUP': -inf, 'NOT WANT': -inf, 'NOT VIDEOTAPE': -inf, 'NOT MOVIE': -inf, 'NOT PREFER': -inf, 'NOT BROTHER': -inf, 'NOT BORROW': -inf, 'NOT LEAVE': -inf, 'NOT FIND': -inf, 'NOT WILL': -inf, 'NOT WHAT': -6.5496507422338102, 'NOT BUY': -5.1633563811139194, 'NOT GET': -inf, 'NOT BUT': -inf, 'NOT CHOCOLATE': -inf, 'NOT HOMEWORK': -inf, 'NOT FINISH': -inf, 'NOT LOVE': -inf, 'NOT VISIT': -5.8565035616738648, 'NOT SOMETHING-ONE': -inf, 'NOT POSS': -inf, 'NOT POTATO': -inf, 'NOT ANN': -inf, 'NOT TELL': -inf, 'NOT BREAK-DOWN': -inf, 'NOT NOT': -inf, 'NOT TEACHER': -inf, 'NOT IX-1P': -inf, 'NOT GIVE': -inf, 'NOT READ': -inf, 'NOT FISH': -inf, 'NOT KNOW': -inf, 'NOT DECIDE': -inf, 'NOT SEARCH-FOR': -inf, 'NOT NEW': -inf, 'NOT OLD': -inf, 'NOT APPLE': -inf, 'NOT SHOOT': -inf, 'NOT WHO': -inf, 'NOT SAY': -inf, 'NOT TOMORROW': -inf, 'NOT SEE': -inf, 'NOT ARRIVE': -inf, 'NOT FRIEND': -inf, 'NOT CORN': -inf, 'NOT HERE': -inf, 'NOT FRED': -inf, 'NOT WRITE': -inf, 'NOT VEGETABLE': -inf, 'NOT BLUE': -inf, 'NOT ALL': -inf, 'NOT JOHN': -inf, 'NOT LIKE': -inf, 'NOT LEG': -inf, 'NOT BILL': -inf, 'NOT LAST-WEEK': -inf, 'NOT YESTERDAY': -inf, 'NOT SHOULD': -inf, 'NOT BOOK': -inf, 'NOT CHINA': -inf, 'NOT STUDENT': -inf, 'NOT MARY': -inf, 'NOT TOY': -inf, 'NOT CAR': -inf, 'NOT CAN': -inf, 'NOT HIT': -inf, 'NOT COAT': -inf, 'NOT NEW-YORK': -inf, 'NOT BROCCOLI': -inf, 'NOT MOTHER': -inf, 'NOT EAT': -inf, 'NOT IX': -inf, 'NOT CANDY': -inf, 'NOT NEXT-WEEK': -inf, 'NOT THINK': -inf, 'NOT SELL': -inf, 'NOT STOLEN': -inf, 'NOT SELF': -inf, 'NOT SAY-1P': -inf, 'NOT CHICKEN': -inf, 'NOT JANA': -inf, 'NOT THROW': -inf, 'NOT <START>': -inf, 'NOT <END>': -6.5496507422338102, 'TEACHER BOX': -inf, 'TEACHER BOY': -inf, 'TEACHER PUTASIDE': -inf, 'TEACHER SUE': -inf, 'TEACHER HAVE': -inf, 'TEACHER GIRL': -inf, 'TEACHER WONT': -inf, 'TEACHER WOMAN': -inf, 'TEACHER MANY': -inf, 'TEACHER PEOPLE': -inf, 'TEACHER LIVE': -inf, 'TEACHER CHICAGO': -inf, 'TEACHER PAST': -inf, 'TEACHER GO': -inf, 'TEACHER PARTY': -inf, 'TEACHER NAME': -inf, 'TEACHER FRANK': -inf, 'TEACHER BLAME': -inf, 'TEACHER FUTURE': -inf, 'TEACHER HOUSE': -inf, 'TEACHER MAN': -inf, 'TEACHER GROUP': -inf, 'TEACHER WANT': -inf, 'TEACHER VIDEOTAPE': -inf, 'TEACHER MOVIE': -inf, 'TEACHER PREFER': -inf, 'TEACHER BROTHER': -inf, 'TEACHER BORROW': -inf, 'TEACHER LEAVE': -inf, 'TEACHER FIND': -inf, 'TEACHER WILL': -inf, 'TEACHER WHAT': -inf, 'TEACHER BUY': -inf, 'TEACHER GET': -inf, 'TEACHER BUT': -inf, 'TEACHER CHOCOLATE': -inf, 'TEACHER HOMEWORK': -inf, 'TEACHER FINISH': -inf, 'TEACHER LOVE': -inf, 'TEACHER VISIT': -inf, 'TEACHER SOMETHING-ONE': -inf, 'TEACHER POSS': -inf, 'TEACHER POTATO': -inf, 'TEACHER ANN': -inf, 'TEACHER TELL': -inf, 'TEACHER BREAK-DOWN': -inf, 'TEACHER NOT': -inf, 'TEACHER TEACHER': -inf, 'TEACHER IX-1P': -inf, 'TEACHER GIVE': -6.5496507422338102, 'TEACHER READ': -inf, 'TEACHER FISH': -inf, 'TEACHER KNOW': -inf, 'TEACHER DECIDE': -inf, 'TEACHER SEARCH-FOR': -inf, 'TEACHER NEW': -inf, 'TEACHER OLD': -inf, 'TEACHER APPLE': -6.5496507422338102, 'TEACHER SHOOT': -inf, 'TEACHER WHO': -inf, 'TEACHER SAY': -inf, 'TEACHER TOMORROW': -inf, 'TEACHER SEE': -inf, 'TEACHER ARRIVE': -inf, 'TEACHER FRIEND': -inf, 'TEACHER CORN': -inf, 'TEACHER HERE': -inf, 'TEACHER FRED': -inf, 'TEACHER WRITE': -inf, 'TEACHER VEGETABLE': -inf, 'TEACHER BLUE': -inf, 'TEACHER ALL': -inf, 'TEACHER JOHN': -inf, 'TEACHER LIKE': -inf, 'TEACHER LEG': -inf, 'TEACHER BILL': -inf, 'TEACHER LAST-WEEK': -inf, 'TEACHER YESTERDAY': -inf, 'TEACHER SHOULD': -inf, 'TEACHER BOOK': -inf, 'TEACHER CHINA': -inf, 'TEACHER STUDENT': -inf, 'TEACHER MARY': -inf, 'TEACHER TOY': -inf, 'TEACHER CAR': -inf, 'TEACHER CAN': -inf, 'TEACHER HIT': -inf, 'TEACHER COAT': -inf, 'TEACHER NEW-YORK': -inf, 'TEACHER BROCCOLI': -inf, 'TEACHER MOTHER': -inf, 'TEACHER EAT': -inf, 'TEACHER IX': -inf, 'TEACHER CANDY': -inf, 'TEACHER NEXT-WEEK': -inf, 'TEACHER THINK': -inf, 'TEACHER SELL': -inf, 'TEACHER STOLEN': -inf, 'TEACHER SELF': -inf, 'TEACHER SAY-1P': -inf, 'TEACHER CHICKEN': -inf, 'TEACHER JANA': -inf, 'TEACHER THROW': -inf, 'TEACHER <START>': -inf, 'TEACHER <END>': -inf, 'IX-1P BOX': -inf, 'IX-1P BOY': -inf, 'IX-1P PUTASIDE': -inf, 'IX-1P SUE': -inf, 'IX-1P HAVE': -inf, 'IX-1P GIRL': -inf, 'IX-1P WONT': -inf, 'IX-1P WOMAN': -inf, 'IX-1P MANY': -inf, 'IX-1P PEOPLE': -inf, 'IX-1P LIVE': -inf, 'IX-1P CHICAGO': -inf, 'IX-1P PAST': -inf, 'IX-1P GO': -inf, 'IX-1P PARTY': -inf, 'IX-1P NAME': -inf, 'IX-1P FRANK': -inf, 'IX-1P BLAME': -inf, 'IX-1P FUTURE': -inf, 'IX-1P HOUSE': -inf, 'IX-1P MAN': -inf, 'IX-1P GROUP': -inf, 'IX-1P WANT': -inf, 'IX-1P VIDEOTAPE': -inf, 'IX-1P MOVIE': -inf, 'IX-1P PREFER': -inf, 'IX-1P BROTHER': -inf, 'IX-1P BORROW': -inf, 'IX-1P LEAVE': -inf, 'IX-1P FIND': -6.5496507422338102, 'IX-1P WILL': -inf, 'IX-1P WHAT': -inf, 'IX-1P BUY': -6.5496507422338102, 'IX-1P GET': -inf, 'IX-1P BUT': -inf, 'IX-1P CHOCOLATE': -inf, 'IX-1P HOMEWORK': -inf, 'IX-1P FINISH': -inf, 'IX-1P LOVE': -inf, 'IX-1P VISIT': -inf, 'IX-1P SOMETHING-ONE': -inf, 'IX-1P POSS': -inf, 'IX-1P POTATO': -inf, 'IX-1P ANN': -inf, 'IX-1P TELL': -inf, 'IX-1P BREAK-DOWN': -inf, 'IX-1P NOT': -inf, 'IX-1P TEACHER': -inf, 'IX-1P IX-1P': -inf, 'IX-1P GIVE': -inf, 'IX-1P READ': -inf, 'IX-1P FISH': -inf, 'IX-1P KNOW': -6.5496507422338102, 'IX-1P DECIDE': -inf, 'IX-1P SEARCH-FOR': -inf, 'IX-1P NEW': -inf, 'IX-1P OLD': -inf, 'IX-1P APPLE': -inf, 'IX-1P SHOOT': -inf, 'IX-1P WHO': -inf, 'IX-1P SAY': -inf, 'IX-1P TOMORROW': -inf, 'IX-1P SEE': -6.5496507422338102, 'IX-1P ARRIVE': -inf, 'IX-1P FRIEND': -inf, 'IX-1P CORN': -inf, 'IX-1P HERE': -inf, 'IX-1P FRED': -inf, 'IX-1P WRITE': -inf, 'IX-1P VEGETABLE': -inf, 'IX-1P BLUE': -inf, 'IX-1P ALL': -inf, 'IX-1P JOHN': -inf, 'IX-1P LIKE': -inf, 'IX-1P LEG': -inf, 'IX-1P BILL': -inf, 'IX-1P LAST-WEEK': -inf, 'IX-1P YESTERDAY': -inf, 'IX-1P SHOULD': -inf, 'IX-1P BOOK': -inf, 'IX-1P CHINA': -inf, 'IX-1P STUDENT': -inf, 'IX-1P MARY': -inf, 'IX-1P TOY': -inf, 'IX-1P CAR': -inf, 'IX-1P CAN': -inf, 'IX-1P HIT': -inf, 'IX-1P COAT': -inf, 'IX-1P NEW-YORK': -inf, 'IX-1P BROCCOLI': -inf, 'IX-1P MOTHER': -inf, 'IX-1P EAT': -inf, 'IX-1P IX': -inf, 'IX-1P CANDY': -inf, 'IX-1P NEXT-WEEK': -inf, 'IX-1P THINK': -inf, 'IX-1P SELL': -inf, 'IX-1P STOLEN': -inf, 'IX-1P SELF': -inf, 'IX-1P SAY-1P': -inf, 'IX-1P CHICKEN': -inf, 'IX-1P JANA': -inf, 'IX-1P THROW': -inf, 'IX-1P <START>': -inf, 'IX-1P <END>': -inf, 'GIVE BOX': -inf, 'GIVE BOY': -6.5496507422338102, 'GIVE PUTASIDE': -inf, 'GIVE SUE': -inf, 'GIVE HAVE': -inf, 'GIVE GIRL': -6.5496507422338102, 'GIVE WONT': -inf, 'GIVE WOMAN': -inf, 'GIVE MANY': -inf, 'GIVE PEOPLE': -inf, 'GIVE LIVE': -inf, 'GIVE CHICAGO': -inf, 'GIVE PAST': -inf, 'GIVE GO': -inf, 'GIVE PARTY': -inf, 'GIVE NAME': -inf, 'GIVE FRANK': -inf, 'GIVE BLAME': -inf, 'GIVE FUTURE': -inf, 'GIVE HOUSE': -inf, 'GIVE MAN': -inf, 'GIVE GROUP': -inf, 'GIVE WANT': -inf, 'GIVE VIDEOTAPE': -inf, 'GIVE MOVIE': -inf, 'GIVE PREFER': -inf, 'GIVE BROTHER': -inf, 'GIVE BORROW': -inf, 'GIVE LEAVE': -inf, 'GIVE FIND': -inf, 'GIVE WILL': -inf, 'GIVE WHAT': -inf, 'GIVE BUY': -inf, 'GIVE GET': -inf, 'GIVE BUT': -inf, 'GIVE CHOCOLATE': -inf, 'GIVE HOMEWORK': -inf, 'GIVE FINISH': -inf, 'GIVE LOVE': -inf, 'GIVE VISIT': -inf, 'GIVE SOMETHING-ONE': -inf, 'GIVE POSS': -inf, 'GIVE POTATO': -inf, 'GIVE ANN': -inf, 'GIVE TELL': -inf, 'GIVE BREAK-DOWN': -inf, 'GIVE NOT': -inf, 'GIVE TEACHER': -6.5496507422338102, 'GIVE IX-1P': -inf, 'GIVE GIVE': -5.8565035616738648, 'GIVE READ': -inf, 'GIVE FISH': -inf, 'GIVE KNOW': -inf, 'GIVE DECIDE': -inf, 'GIVE SEARCH-FOR': -inf, 'GIVE NEW': -inf, 'GIVE OLD': -inf, 'GIVE APPLE': -inf, 'GIVE SHOOT': -inf, 'GIVE WHO': -inf, 'GIVE SAY': -inf, 'GIVE TOMORROW': -inf, 'GIVE SEE': -inf, 'GIVE ARRIVE': -inf, 'GIVE FRIEND': -inf, 'GIVE CORN': -inf, 'GIVE HERE': -inf, 'GIVE FRED': -inf, 'GIVE WRITE': -inf, 'GIVE VEGETABLE': -inf, 'GIVE BLUE': -inf, 'GIVE ALL': -inf, 'GIVE JOHN': -5.4510384535657002, 'GIVE LIKE': -inf, 'GIVE LEG': -inf, 'GIVE BILL': -inf, 'GIVE LAST-WEEK': -inf, 'GIVE YESTERDAY': -inf, 'GIVE SHOULD': -inf, 'GIVE BOOK': -inf, 'GIVE CHINA': -inf, 'GIVE STUDENT': -inf, 'GIVE MARY': -inf, 'GIVE TOY': -inf, 'GIVE CAR': -inf, 'GIVE CAN': -inf, 'GIVE HIT': -inf, 'GIVE COAT': -inf, 'GIVE NEW-YORK': -inf, 'GIVE BROCCOLI': -inf, 'GIVE MOTHER': -inf, 'GIVE EAT': -inf, 'GIVE IX': -5.4510384535657002, 'GIVE CANDY': -inf, 'GIVE NEXT-WEEK': -inf, 'GIVE THINK': -inf, 'GIVE SELL': -inf, 'GIVE STOLEN': -inf, 'GIVE SELF': -inf, 'GIVE SAY-1P': -inf, 'GIVE CHICKEN': -inf, 'GIVE JANA': -5.8565035616738648, 'GIVE THROW': -inf, 'GIVE <START>': -inf, 'GIVE <END>': -inf, 'READ BOX': -inf, 'READ BOY': -inf, 'READ PUTASIDE': -inf, 'READ SUE': -inf, 'READ HAVE': -inf, 'READ GIRL': -inf, 'READ WONT': -inf, 'READ WOMAN': -inf, 'READ MANY': -inf, 'READ PEOPLE': -inf, 'READ LIVE': -inf, 'READ CHICAGO': -inf, 'READ PAST': -inf, 'READ GO': -inf, 'READ PARTY': -inf, 'READ NAME': -inf, 'READ FRANK': -inf, 'READ BLAME': -inf, 'READ FUTURE': -inf, 'READ HOUSE': -inf, 'READ MAN': -inf, 'READ GROUP': -inf, 'READ WANT': -inf, 'READ VIDEOTAPE': -inf, 'READ MOVIE': -inf, 'READ PREFER': -inf, 'READ BROTHER': -inf, 'READ BORROW': -inf, 'READ LEAVE': -inf, 'READ FIND': -inf, 'READ WILL': -inf, 'READ WHAT': -inf, 'READ BUY': -inf, 'READ GET': -inf, 'READ BUT': -inf, 'READ CHOCOLATE': -inf, 'READ HOMEWORK': -inf, 'READ FINISH': -inf, 'READ LOVE': -inf, 'READ VISIT': -inf, 'READ SOMETHING-ONE': -inf, 'READ POSS': -inf, 'READ POTATO': -inf, 'READ ANN': -inf, 'READ TELL': -inf, 'READ BREAK-DOWN': -inf, 'READ NOT': -inf, 'READ TEACHER': -inf, 'READ IX-1P': -inf, 'READ GIVE': -inf, 'READ READ': -inf, 'READ FISH': -inf, 'READ KNOW': -inf, 'READ DECIDE': -inf, 'READ SEARCH-FOR': -inf, 'READ NEW': -inf, 'READ OLD': -inf, 'READ APPLE': -inf, 'READ SHOOT': -inf, 'READ WHO': -inf, 'READ SAY': -inf, 'READ TOMORROW': -inf, 'READ SEE': -inf, 'READ ARRIVE': -inf, 'READ FRIEND': -inf, 'READ CORN': -inf, 'READ HERE': -inf, 'READ FRED': -inf, 'READ WRITE': -inf, 'READ VEGETABLE': -inf, 'READ BLUE': -inf, 'READ ALL': -inf, 'READ JOHN': -inf, 'READ LIKE': -inf, 'READ LEG': -inf, 'READ BILL': -inf, 'READ LAST-WEEK': -inf, 'READ YESTERDAY': -inf, 'READ SHOULD': -inf, 'READ BOOK': -5.8565035616738648, 'READ CHINA': -inf, 'READ STUDENT': -inf, 'READ MARY': -inf, 'READ TOY': -inf, 'READ CAR': -inf, 'READ CAN': -inf, 'READ HIT': -inf, 'READ COAT': -inf, 'READ NEW-YORK': -inf, 'READ BROCCOLI': -inf, 'READ MOTHER': -inf, 'READ EAT': -inf, 'READ IX': -inf, 'READ CANDY': -inf, 'READ NEXT-WEEK': -inf, 'READ THINK': -inf, 'READ SELL': -inf, 'READ STOLEN': -inf, 'READ SELF': -inf, 'READ SAY-1P': -inf, 'READ CHICKEN': -inf, 'READ JANA': -inf, 'READ THROW': -inf, 'READ <START>': -inf, 'READ <END>': -inf, 'FISH BOX': -inf, 'FISH BOY': -inf, 'FISH PUTASIDE': -inf, 'FISH SUE': -inf, 'FISH HAVE': -inf, 'FISH GIRL': -inf, 'FISH WONT': -6.5496507422338102, 'FISH WOMAN': -inf, 'FISH MANY': -inf, 'FISH PEOPLE': -inf, 'FISH LIVE': -inf, 'FISH CHICAGO': -inf, 'FISH PAST': -inf, 'FISH GO': -inf, 'FISH PARTY': -inf, 'FISH NAME': -inf, 'FISH FRANK': -inf, 'FISH BLAME': -inf, 'FISH FUTURE': -inf, 'FISH HOUSE': -inf, 'FISH MAN': -inf, 'FISH GROUP': -inf, 'FISH WANT': -inf, 'FISH VIDEOTAPE': -inf, 'FISH MOVIE': -inf, 'FISH PREFER': -inf, 'FISH BROTHER': -inf, 'FISH BORROW': -inf, 'FISH LEAVE': -inf, 'FISH FIND': -inf, 'FISH WILL': -inf, 'FISH WHAT': -inf, 'FISH BUY': -inf, 'FISH GET': -inf, 'FISH BUT': -inf, 'FISH CHOCOLATE': -inf, 'FISH HOMEWORK': -inf, 'FISH FINISH': -inf, 'FISH LOVE': -inf, 'FISH VISIT': -inf, 'FISH SOMETHING-ONE': -inf, 'FISH POSS': -inf, 'FISH POTATO': -inf, 'FISH ANN': -inf, 'FISH TELL': -inf, 'FISH BREAK-DOWN': -inf, 'FISH NOT': -inf, 'FISH TEACHER': -inf, 'FISH IX-1P': -inf, 'FISH GIVE': -inf, 'FISH READ': -inf, 'FISH FISH': -inf, 'FISH KNOW': -inf, 'FISH DECIDE': -inf, 'FISH SEARCH-FOR': -inf, 'FISH NEW': -inf, 'FISH OLD': -inf, 'FISH APPLE': -inf, 'FISH SHOOT': -inf, 'FISH WHO': -inf, 'FISH SAY': -inf, 'FISH TOMORROW': -inf, 'FISH SEE': -inf, 'FISH ARRIVE': -inf, 'FISH FRIEND': -inf, 'FISH CORN': -inf, 'FISH HERE': -inf, 'FISH FRED': -inf, 'FISH WRITE': -inf, 'FISH VEGETABLE': -inf, 'FISH BLUE': -inf, 'FISH ALL': -inf, 'FISH JOHN': -inf, 'FISH LIKE': -inf, 'FISH LEG': -inf, 'FISH BILL': -inf, 'FISH LAST-WEEK': -inf, 'FISH YESTERDAY': -inf, 'FISH SHOULD': -inf, 'FISH BOOK': -inf, 'FISH CHINA': -inf, 'FISH STUDENT': -inf, 'FISH MARY': -inf, 'FISH TOY': -inf, 'FISH CAR': -inf, 'FISH CAN': -inf, 'FISH HIT': -inf, 'FISH COAT': -inf, 'FISH NEW-YORK': -inf, 'FISH BROCCOLI': -inf, 'FISH MOTHER': -inf, 'FISH EAT': -inf, 'FISH IX': -inf, 'FISH CANDY': -inf, 'FISH NEXT-WEEK': -inf, 'FISH THINK': -inf, 'FISH SELL': -inf, 'FISH STOLEN': -inf, 'FISH SELF': -inf, 'FISH SAY-1P': -inf, 'FISH CHICKEN': -inf, 'FISH JANA': -inf, 'FISH THROW': -inf, 'FISH <START>': -inf, 'FISH <END>': -inf, 'KNOW BOX': -inf, 'KNOW BOY': -inf, 'KNOW PUTASIDE': -inf, 'KNOW SUE': -inf, 'KNOW HAVE': -inf, 'KNOW GIRL': -inf, 'KNOW WONT': -inf, 'KNOW WOMAN': -inf, 'KNOW MANY': -inf, 'KNOW PEOPLE': -inf, 'KNOW LIVE': -inf, 'KNOW CHICAGO': -inf, 'KNOW PAST': -inf, 'KNOW GO': -inf, 'KNOW PARTY': -inf, 'KNOW NAME': -inf, 'KNOW FRANK': -inf, 'KNOW BLAME': -inf, 'KNOW FUTURE': -inf, 'KNOW HOUSE': -inf, 'KNOW MAN': -inf, 'KNOW GROUP': -inf, 'KNOW WANT': -inf, 'KNOW VIDEOTAPE': -inf, 'KNOW MOVIE': -inf, 'KNOW PREFER': -inf, 'KNOW BROTHER': -inf, 'KNOW BORROW': -inf, 'KNOW LEAVE': -inf, 'KNOW FIND': -inf, 'KNOW WILL': -inf, 'KNOW WHAT': -inf, 'KNOW BUY': -inf, 'KNOW GET': -inf, 'KNOW BUT': -inf, 'KNOW CHOCOLATE': -inf, 'KNOW HOMEWORK': -inf, 'KNOW FINISH': -inf, 'KNOW LOVE': -inf, 'KNOW VISIT': -inf, 'KNOW SOMETHING-ONE': -inf, 'KNOW POSS': -inf, 'KNOW POTATO': -inf, 'KNOW ANN': -inf, 'KNOW TELL': -inf, 'KNOW BREAK-DOWN': -inf, 'KNOW NOT': -inf, 'KNOW TEACHER': -inf, 'KNOW IX-1P': -inf, 'KNOW GIVE': -inf, 'KNOW READ': -inf, 'KNOW FISH': -inf, 'KNOW KNOW': -inf, 'KNOW DECIDE': -inf, 'KNOW SEARCH-FOR': -inf, 'KNOW NEW': -inf, 'KNOW OLD': -inf, 'KNOW APPLE': -inf, 'KNOW SHOOT': -inf, 'KNOW WHO': -inf, 'KNOW SAY': -inf, 'KNOW TOMORROW': -inf, 'KNOW SEE': -inf, 'KNOW ARRIVE': -inf, 'KNOW FRIEND': -inf, 'KNOW CORN': -inf, 'KNOW HERE': -inf, 'KNOW FRED': -inf, 'KNOW WRITE': -inf, 'KNOW VEGETABLE': -inf, 'KNOW BLUE': -inf, 'KNOW ALL': -inf, 'KNOW JOHN': -inf, 'KNOW LIKE': -inf, 'KNOW LEG': -inf, 'KNOW BILL': -inf, 'KNOW LAST-WEEK': -inf, 'KNOW YESTERDAY': -inf, 'KNOW SHOULD': -inf, 'KNOW BOOK': -inf, 'KNOW CHINA': -inf, 'KNOW STUDENT': -inf, 'KNOW MARY': -inf, 'KNOW TOY': -inf, 'KNOW CAR': -inf, 'KNOW CAN': -inf, 'KNOW HIT': -inf, 'KNOW COAT': -inf, 'KNOW NEW-YORK': -inf, 'KNOW BROCCOLI': -inf, 'KNOW MOTHER': -inf, 'KNOW EAT': -inf, 'KNOW IX': -5.8565035616738648, 'KNOW CANDY': -inf, 'KNOW NEXT-WEEK': -inf, 'KNOW THINK': -inf, 'KNOW SELL': -inf, 'KNOW STOLEN': -inf, 'KNOW SELF': -inf, 'KNOW SAY-1P': -inf, 'KNOW CHICKEN': -inf, 'KNOW JANA': -inf, 'KNOW THROW': -inf, 'KNOW <START>': -inf, 'KNOW <END>': -inf, 'DECIDE BOX': -inf, 'DECIDE BOY': -inf, 'DECIDE PUTASIDE': -inf, 'DECIDE SUE': -inf, 'DECIDE HAVE': -inf, 'DECIDE GIRL': -inf, 'DECIDE WONT': -inf, 'DECIDE WOMAN': -inf, 'DECIDE MANY': -inf, 'DECIDE PEOPLE': -inf, 'DECIDE LIVE': -inf, 'DECIDE CHICAGO': -inf, 'DECIDE PAST': -inf, 'DECIDE GO': -inf, 'DECIDE PARTY': -inf, 'DECIDE NAME': -inf, 'DECIDE FRANK': -inf, 'DECIDE BLAME': -inf, 'DECIDE FUTURE': -inf, 'DECIDE HOUSE': -inf, 'DECIDE MAN': -inf, 'DECIDE GROUP': -inf, 'DECIDE WANT': -inf, 'DECIDE VIDEOTAPE': -inf, 'DECIDE MOVIE': -inf, 'DECIDE PREFER': -inf, 'DECIDE BROTHER': -inf, 'DECIDE BORROW': -inf, 'DECIDE LEAVE': -inf, 'DECIDE FIND': -inf, 'DECIDE WILL': -inf, 'DECIDE WHAT': -inf, 'DECIDE BUY': -inf, 'DECIDE GET': -inf, 'DECIDE BUT': -inf, 'DECIDE CHOCOLATE': -inf, 'DECIDE HOMEWORK': -inf, 'DECIDE FINISH': -inf, 'DECIDE LOVE': -inf, 'DECIDE VISIT': -6.5496507422338102, 'DECIDE SOMETHING-ONE': -inf, 'DECIDE POSS': -inf, 'DECIDE POTATO': -inf, 'DECIDE ANN': -inf, 'DECIDE TELL': -inf, 'DECIDE BREAK-DOWN': -inf, 'DECIDE NOT': -inf, 'DECIDE TEACHER': -inf, 'DECIDE IX-1P': -inf, 'DECIDE GIVE': -inf, 'DECIDE READ': -inf, 'DECIDE FISH': -inf, 'DECIDE KNOW': -inf, 'DECIDE DECIDE': -inf, 'DECIDE SEARCH-FOR': -inf, 'DECIDE NEW': -inf, 'DECIDE OLD': -inf, 'DECIDE APPLE': -inf, 'DECIDE SHOOT': -inf, 'DECIDE WHO': -inf, 'DECIDE SAY': -inf, 'DECIDE TOMORROW': -inf, 'DECIDE SEE': -inf, 'DECIDE ARRIVE': -inf, 'DECIDE FRIEND': -inf, 'DECIDE CORN': -inf, 'DECIDE HERE': -inf, 'DECIDE FRED': -inf, 'DECIDE WRITE': -inf, 'DECIDE VEGETABLE': -inf, 'DECIDE BLUE': -inf, 'DECIDE ALL': -inf, 'DECIDE JOHN': -inf, 'DECIDE LIKE': -inf, 'DECIDE LEG': -inf, 'DECIDE BILL': -inf, 'DECIDE LAST-WEEK': -inf, 'DECIDE YESTERDAY': -inf, 'DECIDE SHOULD': -inf, 'DECIDE BOOK': -inf, 'DECIDE CHINA': -inf, 'DECIDE STUDENT': -inf, 'DECIDE MARY': -inf, 'DECIDE TOY': -inf, 'DECIDE CAR': -inf, 'DECIDE CAN': -inf, 'DECIDE HIT': -inf, 'DECIDE COAT': -inf, 'DECIDE NEW-YORK': -inf, 'DECIDE BROCCOLI': -inf, 'DECIDE MOTHER': -inf, 'DECIDE EAT': -inf, 'DECIDE IX': -inf, 'DECIDE CANDY': -inf, 'DECIDE NEXT-WEEK': -inf, 'DECIDE THINK': -inf, 'DECIDE SELL': -inf, 'DECIDE STOLEN': -inf, 'DECIDE SELF': -inf, 'DECIDE SAY-1P': -inf, 'DECIDE CHICKEN': -inf, 'DECIDE JANA': -inf, 'DECIDE THROW': -inf, 'DECIDE <START>': -inf, 'DECIDE <END>': -inf, 'SEARCH-FOR BOX': -inf, 'SEARCH-FOR BOY': -inf, 'SEARCH-FOR PUTASIDE': -inf, 'SEARCH-FOR SUE': -inf, 'SEARCH-FOR HAVE': -inf, 'SEARCH-FOR GIRL': -inf, 'SEARCH-FOR WONT': -inf, 'SEARCH-FOR WOMAN': -inf, 'SEARCH-FOR MANY': -inf, 'SEARCH-FOR PEOPLE': -inf, 'SEARCH-FOR LIVE': -inf, 'SEARCH-FOR CHICAGO': -inf, 'SEARCH-FOR PAST': -inf, 'SEARCH-FOR GO': -inf, 'SEARCH-FOR PARTY': -inf, 'SEARCH-FOR NAME': -inf, 'SEARCH-FOR FRANK': -inf, 'SEARCH-FOR BLAME': -inf, 'SEARCH-FOR FUTURE': -inf, 'SEARCH-FOR HOUSE': -inf, 'SEARCH-FOR MAN': -inf, 'SEARCH-FOR GROUP': -inf, 'SEARCH-FOR WANT': -inf, 'SEARCH-FOR VIDEOTAPE': -inf, 'SEARCH-FOR MOVIE': -inf, 'SEARCH-FOR PREFER': -inf, 'SEARCH-FOR BROTHER': -inf, 'SEARCH-FOR BORROW': -inf, 'SEARCH-FOR LEAVE': -inf, 'SEARCH-FOR FIND': -inf, 'SEARCH-FOR WILL': -inf, 'SEARCH-FOR WHAT': -inf, 'SEARCH-FOR BUY': -inf, 'SEARCH-FOR GET': -inf, 'SEARCH-FOR BUT': -inf, 'SEARCH-FOR CHOCOLATE': -inf, 'SEARCH-FOR HOMEWORK': -inf, 'SEARCH-FOR FINISH': -inf, 'SEARCH-FOR LOVE': -inf, 'SEARCH-FOR VISIT': -inf, 'SEARCH-FOR SOMETHING-ONE': -inf, 'SEARCH-FOR POSS': -inf, 'SEARCH-FOR POTATO': -inf, 'SEARCH-FOR ANN': -inf, 'SEARCH-FOR TELL': -inf, 'SEARCH-FOR BREAK-DOWN': -inf, 'SEARCH-FOR NOT': -inf, 'SEARCH-FOR TEACHER': -inf, 'SEARCH-FOR IX-1P': -inf, 'SEARCH-FOR GIVE': -inf, 'SEARCH-FOR READ': -inf, 'SEARCH-FOR FISH': -inf, 'SEARCH-FOR KNOW': -inf, 'SEARCH-FOR DECIDE': -inf, 'SEARCH-FOR SEARCH-FOR': -inf, 'SEARCH-FOR NEW': -inf, 'SEARCH-FOR OLD': -inf, 'SEARCH-FOR APPLE': -inf, 'SEARCH-FOR SHOOT': -inf, 'SEARCH-FOR WHO': -6.5496507422338102, 'SEARCH-FOR SAY': -inf, 'SEARCH-FOR TOMORROW': -inf, 'SEARCH-FOR SEE': -inf, 'SEARCH-FOR ARRIVE': -inf, 'SEARCH-FOR FRIEND': -inf, 'SEARCH-FOR CORN': -inf, 'SEARCH-FOR HERE': -inf, 'SEARCH-FOR FRED': -inf, 'SEARCH-FOR WRITE': -inf, 'SEARCH-FOR VEGETABLE': -inf, 'SEARCH-FOR BLUE': -inf, 'SEARCH-FOR ALL': -inf, 'SEARCH-FOR JOHN': -inf, 'SEARCH-FOR LIKE': -inf, 'SEARCH-FOR LEG': -inf, 'SEARCH-FOR BILL': -inf, 'SEARCH-FOR LAST-WEEK': -inf, 'SEARCH-FOR YESTERDAY': -inf, 'SEARCH-FOR SHOULD': -inf, 'SEARCH-FOR BOOK': -inf, 'SEARCH-FOR CHINA': -inf, 'SEARCH-FOR STUDENT': -inf, 'SEARCH-FOR MARY': -inf, 'SEARCH-FOR TOY': -inf, 'SEARCH-FOR CAR': -inf, 'SEARCH-FOR CAN': -inf, 'SEARCH-FOR HIT': -inf, 'SEARCH-FOR COAT': -inf, 'SEARCH-FOR NEW-YORK': -inf, 'SEARCH-FOR BROCCOLI': -inf, 'SEARCH-FOR MOTHER': -inf, 'SEARCH-FOR EAT': -inf, 'SEARCH-FOR IX': -inf, 'SEARCH-FOR CANDY': -inf, 'SEARCH-FOR NEXT-WEEK': -inf, 'SEARCH-FOR THINK': -inf, 'SEARCH-FOR SELL': -inf, 'SEARCH-FOR STOLEN': -inf, 'SEARCH-FOR SELF': -inf, 'SEARCH-FOR SAY-1P': -inf, 'SEARCH-FOR CHICKEN': -inf, 'SEARCH-FOR JANA': -inf, 'SEARCH-FOR THROW': -inf, 'SEARCH-FOR <START>': -inf, 'SEARCH-FOR <END>': -inf, 'NEW BOX': -inf, 'NEW BOY': -inf, 'NEW PUTASIDE': -inf, 'NEW SUE': -inf, 'NEW HAVE': -inf, 'NEW GIRL': -inf, 'NEW WONT': -inf, 'NEW WOMAN': -inf, 'NEW MANY': -inf, 'NEW PEOPLE': -inf, 'NEW LIVE': -inf, 'NEW CHICAGO': -inf, 'NEW PAST': -inf, 'NEW GO': -inf, 'NEW PARTY': -inf, 'NEW NAME': -inf, 'NEW FRANK': -inf, 'NEW BLAME': -inf, 'NEW FUTURE': -inf, 'NEW HOUSE': -inf, 'NEW MAN': -inf, 'NEW GROUP': -inf, 'NEW WANT': -inf, 'NEW VIDEOTAPE': -inf, 'NEW MOVIE': -inf, 'NEW PREFER': -inf, 'NEW BROTHER': -inf, 'NEW BORROW': -inf, 'NEW LEAVE': -inf, 'NEW FIND': -inf, 'NEW WILL': -inf, 'NEW WHAT': -inf, 'NEW BUY': -inf, 'NEW GET': -inf, 'NEW BUT': -inf, 'NEW CHOCOLATE': -inf, 'NEW HOMEWORK': -inf, 'NEW FINISH': -inf, 'NEW LOVE': -inf, 'NEW VISIT': -inf, 'NEW SOMETHING-ONE': -inf, 'NEW POSS': -inf, 'NEW POTATO': -inf, 'NEW ANN': -inf, 'NEW TELL': -inf, 'NEW BREAK-DOWN': -inf, 'NEW NOT': -inf, 'NEW TEACHER': -inf, 'NEW IX-1P': -inf, 'NEW GIVE': -inf, 'NEW READ': -inf, 'NEW FISH': -inf, 'NEW KNOW': -inf, 'NEW DECIDE': -inf, 'NEW SEARCH-FOR': -inf, 'NEW NEW': -inf, 'NEW OLD': -inf, 'NEW APPLE': -inf, 'NEW SHOOT': -inf, 'NEW WHO': -inf, 'NEW SAY': -inf, 'NEW TOMORROW': -inf, 'NEW SEE': -inf, 'NEW ARRIVE': -inf, 'NEW FRIEND': -inf, 'NEW CORN': -inf, 'NEW HERE': -inf, 'NEW FRED': -inf, 'NEW WRITE': -inf, 'NEW VEGETABLE': -inf, 'NEW BLUE': -inf, 'NEW ALL': -inf, 'NEW JOHN': -inf, 'NEW LIKE': -inf, 'NEW LEG': -inf, 'NEW BILL': -inf, 'NEW LAST-WEEK': -inf, 'NEW YESTERDAY': -inf, 'NEW SHOULD': -inf, 'NEW BOOK': -inf, 'NEW CHINA': -inf, 'NEW STUDENT': -inf, 'NEW MARY': -inf, 'NEW TOY': -inf, 'NEW CAR': -5.8565035616738648, 'NEW CAN': -inf, 'NEW HIT': -inf, 'NEW COAT': -6.5496507422338102, 'NEW NEW-YORK': -inf, 'NEW BROCCOLI': -inf, 'NEW MOTHER': -inf, 'NEW EAT': -inf, 'NEW IX': -inf, 'NEW CANDY': -inf, 'NEW NEXT-WEEK': -inf, 'NEW THINK': -inf, 'NEW SELL': -inf, 'NEW STOLEN': -inf, 'NEW SELF': -inf, 'NEW SAY-1P': -inf, 'NEW CHICKEN': -inf, 'NEW JANA': -inf, 'NEW THROW': -inf, 'NEW <START>': -inf, 'NEW <END>': -inf, 'OLD BOX': -inf, 'OLD BOY': -inf, 'OLD PUTASIDE': -inf, 'OLD SUE': -inf, 'OLD HAVE': -inf, 'OLD GIRL': -inf, 'OLD WONT': -inf, 'OLD WOMAN': -inf, 'OLD MANY': -inf, 'OLD PEOPLE': -inf, 'OLD LIVE': -inf, 'OLD CHICAGO': -inf, 'OLD PAST': -inf, 'OLD GO': -inf, 'OLD PARTY': -inf, 'OLD NAME': -inf, 'OLD FRANK': -inf, 'OLD BLAME': -inf, 'OLD FUTURE': -inf, 'OLD HOUSE': -6.5496507422338102, 'OLD MAN': -inf, 'OLD GROUP': -inf, 'OLD WANT': -inf, 'OLD VIDEOTAPE': -inf, 'OLD MOVIE': -inf, 'OLD PREFER': -inf, 'OLD BROTHER': -inf, 'OLD BORROW': -inf, 'OLD LEAVE': -inf, 'OLD FIND': -inf, 'OLD WILL': -inf, 'OLD WHAT': -inf, 'OLD BUY': -inf, 'OLD GET': -inf, 'OLD BUT': -inf, 'OLD CHOCOLATE': -inf, 'OLD HOMEWORK': -inf, 'OLD FINISH': -inf, 'OLD LOVE': -inf, 'OLD VISIT': -inf, 'OLD SOMETHING-ONE': -inf, 'OLD POSS': -inf, 'OLD POTATO': -inf, 'OLD ANN': -inf, 'OLD TELL': -inf, 'OLD BREAK-DOWN': -inf, 'OLD NOT': -inf, 'OLD TEACHER': -inf, 'OLD IX-1P': -inf, 'OLD GIVE': -inf, 'OLD READ': -inf, 'OLD FISH': -inf, 'OLD KNOW': -inf, 'OLD DECIDE': -inf, 'OLD SEARCH-FOR': -inf, 'OLD NEW': -inf, 'OLD OLD': -inf, 'OLD APPLE': -inf, 'OLD SHOOT': -inf, 'OLD WHO': -inf, 'OLD SAY': -inf, 'OLD TOMORROW': -inf, 'OLD SEE': -inf, 'OLD ARRIVE': -inf, 'OLD FRIEND': -inf, 'OLD CORN': -inf, 'OLD HERE': -inf, 'OLD FRED': -inf, 'OLD WRITE': -inf, 'OLD VEGETABLE': -inf, 'OLD BLUE': -inf, 'OLD ALL': -inf, 'OLD JOHN': -inf, 'OLD LIKE': -inf, 'OLD LEG': -inf, 'OLD BILL': -inf, 'OLD LAST-WEEK': -inf, 'OLD YESTERDAY': -inf, 'OLD SHOULD': -inf, 'OLD BOOK': -inf, 'OLD CHINA': -inf, 'OLD STUDENT': -inf, 'OLD MARY': -inf, 'OLD TOY': -inf, 'OLD CAR': -inf, 'OLD CAN': -inf, 'OLD HIT': -inf, 'OLD COAT': -inf, 'OLD NEW-YORK': -inf, 'OLD BROCCOLI': -inf, 'OLD MOTHER': -inf, 'OLD EAT': -inf, 'OLD IX': -inf, 'OLD CANDY': -inf, 'OLD NEXT-WEEK': -inf, 'OLD THINK': -inf, 'OLD SELL': -inf, 'OLD STOLEN': -inf, 'OLD SELF': -inf, 'OLD SAY-1P': -inf, 'OLD CHICKEN': -inf, 'OLD JANA': -inf, 'OLD THROW': -inf, 'OLD <START>': -inf, 'OLD <END>': -inf, 'APPLE BOX': -inf, 'APPLE BOY': -inf, 'APPLE PUTASIDE': -inf, 'APPLE SUE': -inf, 'APPLE HAVE': -inf, 'APPLE GIRL': -inf, 'APPLE WONT': -inf, 'APPLE WOMAN': -inf, 'APPLE MANY': -inf, 'APPLE PEOPLE': -inf, 'APPLE LIVE': -inf, 'APPLE CHICAGO': -inf, 'APPLE PAST': -inf, 'APPLE GO': -inf, 'APPLE PARTY': -inf, 'APPLE NAME': -inf, 'APPLE FRANK': -inf, 'APPLE BLAME': -inf, 'APPLE FUTURE': -inf, 'APPLE HOUSE': -inf, 'APPLE MAN': -inf, 'APPLE GROUP': -inf, 'APPLE WANT': -inf, 'APPLE VIDEOTAPE': -inf, 'APPLE MOVIE': -inf, 'APPLE PREFER': -inf, 'APPLE BROTHER': -inf, 'APPLE BORROW': -inf, 'APPLE LEAVE': -inf, 'APPLE FIND': -inf, 'APPLE WILL': -inf, 'APPLE WHAT': -inf, 'APPLE BUY': -inf, 'APPLE GET': -inf, 'APPLE BUT': -inf, 'APPLE CHOCOLATE': -inf, 'APPLE HOMEWORK': -inf, 'APPLE FINISH': -inf, 'APPLE LOVE': -inf, 'APPLE VISIT': -inf, 'APPLE SOMETHING-ONE': -inf, 'APPLE POSS': -inf, 'APPLE POTATO': -inf, 'APPLE ANN': -inf, 'APPLE TELL': -inf, 'APPLE BREAK-DOWN': -inf, 'APPLE NOT': -inf, 'APPLE TEACHER': -inf, 'APPLE IX-1P': -inf, 'APPLE GIVE': -inf, 'APPLE READ': -inf, 'APPLE FISH': -inf, 'APPLE KNOW': -inf, 'APPLE DECIDE': -inf, 'APPLE SEARCH-FOR': -inf, 'APPLE NEW': -inf, 'APPLE OLD': -inf, 'APPLE APPLE': -inf, 'APPLE SHOOT': -inf, 'APPLE WHO': -5.8565035616738648, 'APPLE SAY': -inf, 'APPLE TOMORROW': -inf, 'APPLE SEE': -inf, 'APPLE ARRIVE': -inf, 'APPLE FRIEND': -inf, 'APPLE CORN': -inf, 'APPLE HERE': -inf, 'APPLE FRED': -inf, 'APPLE WRITE': -inf, 'APPLE VEGETABLE': -inf, 'APPLE BLUE': -inf, 'APPLE ALL': -inf, 'APPLE JOHN': -inf, 'APPLE LIKE': -inf, 'APPLE LEG': -inf, 'APPLE BILL': -inf, 'APPLE LAST-WEEK': -inf, 'APPLE YESTERDAY': -inf, 'APPLE SHOULD': -inf, 'APPLE BOOK': -inf, 'APPLE CHINA': -inf, 'APPLE STUDENT': -inf, 'APPLE MARY': -inf, 'APPLE TOY': -inf, 'APPLE CAR': -inf, 'APPLE CAN': -inf, 'APPLE HIT': -inf, 'APPLE COAT': -inf, 'APPLE NEW-YORK': -inf, 'APPLE BROCCOLI': -inf, 'APPLE MOTHER': -inf, 'APPLE EAT': -inf, 'APPLE IX': -inf, 'APPLE CANDY': -inf, 'APPLE NEXT-WEEK': -inf, 'APPLE THINK': -inf, 'APPLE SELL': -inf, 'APPLE STOLEN': -inf, 'APPLE SELF': -inf, 'APPLE SAY-1P': -inf, 'APPLE CHICKEN': -inf, 'APPLE JANA': -inf, 'APPLE THROW': -inf, 'APPLE <START>': -inf, 'APPLE <END>': -6.5496507422338102, 'SHOOT BOX': -inf, 'SHOOT BOY': -inf, 'SHOOT PUTASIDE': -inf, 'SHOOT SUE': -inf, 'SHOOT HAVE': -inf, 'SHOOT GIRL': -inf, 'SHOOT WONT': -inf, 'SHOOT WOMAN': -inf, 'SHOOT MANY': -inf, 'SHOOT PEOPLE': -inf, 'SHOOT LIVE': -inf, 'SHOOT CHICAGO': -inf, 'SHOOT PAST': -inf, 'SHOOT GO': -inf, 'SHOOT PARTY': -inf, 'SHOOT NAME': -inf, 'SHOOT FRANK': -6.5496507422338102, 'SHOOT BLAME': -inf, 'SHOOT FUTURE': -inf, 'SHOOT HOUSE': -inf, 'SHOOT MAN': -inf, 'SHOOT GROUP': -inf, 'SHOOT WANT': -inf, 'SHOOT VIDEOTAPE': -inf, 'SHOOT MOVIE': -inf, 'SHOOT PREFER': -inf, 'SHOOT BROTHER': -inf, 'SHOOT BORROW': -inf, 'SHOOT LEAVE': -inf, 'SHOOT FIND': -inf, 'SHOOT WILL': -inf, 'SHOOT WHAT': -inf, 'SHOOT BUY': -inf, 'SHOOT GET': -inf, 'SHOOT BUT': -inf, 'SHOOT CHOCOLATE': -inf, 'SHOOT HOMEWORK': -inf, 'SHOOT FINISH': -inf, 'SHOOT LOVE': -inf, 'SHOOT VISIT': -inf, 'SHOOT SOMETHING-ONE': -inf, 'SHOOT POSS': -inf, 'SHOOT POTATO': -inf, 'SHOOT ANN': -inf, 'SHOOT TELL': -inf, 'SHOOT BREAK-DOWN': -inf, 'SHOOT NOT': -inf, 'SHOOT TEACHER': -inf, 'SHOOT IX-1P': -inf, 'SHOOT GIVE': -inf, 'SHOOT READ': -inf, 'SHOOT FISH': -inf, 'SHOOT KNOW': -inf, 'SHOOT DECIDE': -inf, 'SHOOT SEARCH-FOR': -inf, 'SHOOT NEW': -inf, 'SHOOT OLD': -inf, 'SHOOT APPLE': -inf, 'SHOOT SHOOT': -inf, 'SHOOT WHO': -inf, 'SHOOT SAY': -inf, 'SHOOT TOMORROW': -inf, 'SHOOT SEE': -inf, 'SHOOT ARRIVE': -inf, 'SHOOT FRIEND': -inf, 'SHOOT CORN': -inf, 'SHOOT HERE': -inf, 'SHOOT FRED': -inf, 'SHOOT WRITE': -inf, 'SHOOT VEGETABLE': -inf, 'SHOOT BLUE': -inf, 'SHOOT ALL': -inf, 'SHOOT JOHN': -inf, 'SHOOT LIKE': -inf, 'SHOOT LEG': -inf, 'SHOOT BILL': -inf, 'SHOOT LAST-WEEK': -inf, 'SHOOT YESTERDAY': -inf, 'SHOOT SHOULD': -inf, 'SHOOT BOOK': -inf, 'SHOOT CHINA': -inf, 'SHOOT STUDENT': -inf, 'SHOOT MARY': -inf, 'SHOOT TOY': -inf, 'SHOOT CAR': -inf, 'SHOOT CAN': -inf, 'SHOOT HIT': -inf, 'SHOOT COAT': -inf, 'SHOOT NEW-YORK': -inf, 'SHOOT BROCCOLI': -inf, 'SHOOT MOTHER': -inf, 'SHOOT EAT': -inf, 'SHOOT IX': -inf, 'SHOOT CANDY': -inf, 'SHOOT NEXT-WEEK': -inf, 'SHOOT THINK': -inf, 'SHOOT SELL': -inf, 'SHOOT STOLEN': -inf, 'SHOOT SELF': -inf, 'SHOOT SAY-1P': -inf, 'SHOOT CHICKEN': -inf, 'SHOOT JANA': -inf, 'SHOOT THROW': -inf, 'SHOOT <START>': -inf, 'SHOOT <END>': -inf, 'WHO BOX': -inf, 'WHO BOY': -inf, 'WHO PUTASIDE': -inf, 'WHO SUE': -inf, 'WHO HAVE': -inf, 'WHO GIRL': -inf, 'WHO WONT': -inf, 'WHO WOMAN': -inf, 'WHO MANY': -inf, 'WHO PEOPLE': -inf, 'WHO LIVE': -inf, 'WHO CHICAGO': -inf, 'WHO PAST': -inf, 'WHO GO': -inf, 'WHO PARTY': -inf, 'WHO NAME': -inf, 'WHO FRANK': -inf, 'WHO BLAME': -inf, 'WHO FUTURE': -inf, 'WHO HOUSE': -inf, 'WHO MAN': -inf, 'WHO GROUP': -inf, 'WHO WANT': -inf, 'WHO VIDEOTAPE': -inf, 'WHO MOVIE': -inf, 'WHO PREFER': -inf, 'WHO BROTHER': -inf, 'WHO BORROW': -inf, 'WHO LEAVE': -inf, 'WHO FIND': -inf, 'WHO WILL': -inf, 'WHO WHAT': -5.8565035616738648, 'WHO BUY': -inf, 'WHO GET': -inf, 'WHO BUT': -inf, 'WHO CHOCOLATE': -inf, 'WHO HOMEWORK': -inf, 'WHO FINISH': -inf, 'WHO LOVE': -inf, 'WHO VISIT': -inf, 'WHO SOMETHING-ONE': -inf, 'WHO POSS': -6.5496507422338102, 'WHO POTATO': -inf, 'WHO ANN': -inf, 'WHO TELL': -5.8565035616738648, 'WHO BREAK-DOWN': -inf, 'WHO NOT': -inf, 'WHO TEACHER': -inf, 'WHO IX-1P': -inf, 'WHO GIVE': -inf, 'WHO READ': -inf, 'WHO FISH': -inf, 'WHO KNOW': -inf, 'WHO DECIDE': -inf, 'WHO SEARCH-FOR': -inf, 'WHO NEW': -inf, 'WHO OLD': -inf, 'WHO APPLE': -inf, 'WHO SHOOT': -inf, 'WHO WHO': -inf, 'WHO SAY': -inf, 'WHO TOMORROW': -inf, 'WHO SEE': -inf, 'WHO ARRIVE': -6.5496507422338102, 'WHO FRIEND': -inf, 'WHO CORN': -inf, 'WHO HERE': -inf, 'WHO FRED': -inf, 'WHO WRITE': -inf, 'WHO VEGETABLE': -6.5496507422338102, 'WHO BLUE': -inf, 'WHO ALL': -inf, 'WHO JOHN': -5.4510384535657002, 'WHO LIKE': -inf, 'WHO LEG': -inf, 'WHO BILL': -inf, 'WHO LAST-WEEK': -inf, 'WHO YESTERDAY': -inf, 'WHO SHOULD': -inf, 'WHO BOOK': -inf, 'WHO CHINA': -inf, 'WHO STUDENT': -inf, 'WHO MARY': -5.1633563811139194, 'WHO TOY': -inf, 'WHO CAR': -inf, 'WHO CAN': -inf, 'WHO HIT': -inf, 'WHO COAT': -inf, 'WHO NEW-YORK': -inf, 'WHO BROCCOLI': -inf, 'WHO MOTHER': -6.5496507422338102, 'WHO EAT': -inf, 'WHO IX': -6.5496507422338102, 'WHO CANDY': -inf, 'WHO NEXT-WEEK': -inf, 'WHO THINK': -inf, 'WHO SELL': -inf, 'WHO STOLEN': -inf, 'WHO SELF': -inf, 'WHO SAY-1P': -inf, 'WHO CHICKEN': -inf, 'WHO JANA': -inf, 'WHO THROW': -inf, 'WHO <START>': -inf, 'WHO <END>': -4.6037405931784967, 'SAY BOX': -inf, 'SAY BOY': -inf, 'SAY PUTASIDE': -inf, 'SAY SUE': -inf, 'SAY HAVE': -inf, 'SAY GIRL': -inf, 'SAY WONT': -inf, 'SAY WOMAN': -inf, 'SAY MANY': -inf, 'SAY PEOPLE': -inf, 'SAY LIVE': -inf, 'SAY CHICAGO': -inf, 'SAY PAST': -inf, 'SAY GO': -inf, 'SAY PARTY': -inf, 'SAY NAME': -inf, 'SAY FRANK': -inf, 'SAY BLAME': -inf, 'SAY FUTURE': -inf, 'SAY HOUSE': -inf, 'SAY MAN': -inf, 'SAY GROUP': -inf, 'SAY WANT': -inf, 'SAY VIDEOTAPE': -inf, 'SAY MOVIE': -inf, 'SAY PREFER': -inf, 'SAY BROTHER': -inf, 'SAY BORROW': -inf, 'SAY LEAVE': -inf, 'SAY FIND': -inf, 'SAY WILL': -inf, 'SAY WHAT': -inf, 'SAY BUY': -inf, 'SAY GET': -inf, 'SAY BUT': -inf, 'SAY CHOCOLATE': -inf, 'SAY HOMEWORK': -inf, 'SAY FINISH': -inf, 'SAY LOVE': -inf, 'SAY VISIT': -inf, 'SAY SOMETHING-ONE': -inf, 'SAY POSS': -inf, 'SAY POTATO': -inf, 'SAY ANN': -inf, 'SAY TELL': -inf, 'SAY BREAK-DOWN': -inf, 'SAY NOT': -inf, 'SAY TEACHER': -inf, 'SAY IX-1P': -inf, 'SAY GIVE': -inf, 'SAY READ': -inf, 'SAY FISH': -inf, 'SAY KNOW': -inf, 'SAY DECIDE': -inf, 'SAY SEARCH-FOR': -inf, 'SAY NEW': -inf, 'SAY OLD': -inf, 'SAY APPLE': -inf, 'SAY SHOOT': -inf, 'SAY WHO': -inf, 'SAY SAY': -inf, 'SAY TOMORROW': -inf, 'SAY SEE': -inf, 'SAY ARRIVE': -inf, 'SAY FRIEND': -inf, 'SAY CORN': -inf, 'SAY HERE': -inf, 'SAY FRED': -inf, 'SAY WRITE': -inf, 'SAY VEGETABLE': -inf, 'SAY BLUE': -inf, 'SAY ALL': -inf, 'SAY JOHN': -6.5496507422338102, 'SAY LIKE': -inf, 'SAY LEG': -inf, 'SAY BILL': -inf, 'SAY LAST-WEEK': -inf, 'SAY YESTERDAY': -inf, 'SAY SHOULD': -inf, 'SAY BOOK': -inf, 'SAY CHINA': -inf, 'SAY STUDENT': -inf, 'SAY MARY': -6.5496507422338102, 'SAY TOY': -inf, 'SAY CAR': -inf, 'SAY CAN': -inf, 'SAY HIT': -inf, 'SAY COAT': -inf, 'SAY NEW-YORK': -inf, 'SAY BROCCOLI': -inf, 'SAY MOTHER': -inf, 'SAY EAT': -inf, 'SAY IX': -inf, 'SAY CANDY': -inf, 'SAY NEXT-WEEK': -inf, 'SAY THINK': -inf, 'SAY SELL': -inf, 'SAY STOLEN': -inf, 'SAY SELF': -inf, 'SAY SAY-1P': -inf, 'SAY CHICKEN': -inf, 'SAY JANA': -inf, 'SAY THROW': -inf, 'SAY <START>': -inf, 'SAY <END>': -inf, 'TOMORROW BOX': -inf, 'TOMORROW BOY': -inf, 'TOMORROW PUTASIDE': -inf, 'TOMORROW SUE': -inf, 'TOMORROW HAVE': -inf, 'TOMORROW GIRL': -inf, 'TOMORROW WONT': -inf, 'TOMORROW WOMAN': -inf, 'TOMORROW MANY': -inf, 'TOMORROW PEOPLE': -inf, 'TOMORROW LIVE': -inf, 'TOMORROW CHICAGO': -inf, 'TOMORROW PAST': -inf, 'TOMORROW GO': -inf, 'TOMORROW PARTY': -inf, 'TOMORROW NAME': -inf, 'TOMORROW FRANK': -inf, 'TOMORROW BLAME': -inf, 'TOMORROW FUTURE': -inf, 'TOMORROW HOUSE': -inf, 'TOMORROW MAN': -inf, 'TOMORROW GROUP': -inf, 'TOMORROW WANT': -inf, 'TOMORROW VIDEOTAPE': -inf, 'TOMORROW MOVIE': -inf, 'TOMORROW PREFER': -inf, 'TOMORROW BROTHER': -inf, 'TOMORROW BORROW': -inf, 'TOMORROW LEAVE': -inf, 'TOMORROW FIND': -inf, 'TOMORROW WILL': -inf, 'TOMORROW WHAT': -inf, 'TOMORROW BUY': -inf, 'TOMORROW GET': -inf, 'TOMORROW BUT': -inf, 'TOMORROW CHOCOLATE': -inf, 'TOMORROW HOMEWORK': -inf, 'TOMORROW FINISH': -inf, 'TOMORROW LOVE': -inf, 'TOMORROW VISIT': -inf, 'TOMORROW SOMETHING-ONE': -inf, 'TOMORROW POSS': -inf, 'TOMORROW POTATO': -inf, 'TOMORROW ANN': -inf, 'TOMORROW TELL': -inf, 'TOMORROW BREAK-DOWN': -inf, 'TOMORROW NOT': -inf, 'TOMORROW TEACHER': -inf, 'TOMORROW IX-1P': -inf, 'TOMORROW GIVE': -inf, 'TOMORROW READ': -inf, 'TOMORROW FISH': -inf, 'TOMORROW KNOW': -inf, 'TOMORROW DECIDE': -inf, 'TOMORROW SEARCH-FOR': -inf, 'TOMORROW NEW': -inf, 'TOMORROW OLD': -inf, 'TOMORROW APPLE': -inf, 'TOMORROW SHOOT': -inf, 'TOMORROW WHO': -inf, 'TOMORROW SAY': -inf, 'TOMORROW TOMORROW': -inf, 'TOMORROW SEE': -inf, 'TOMORROW ARRIVE': -inf, 'TOMORROW FRIEND': -inf, 'TOMORROW CORN': -inf, 'TOMORROW HERE': -inf, 'TOMORROW FRED': -inf, 'TOMORROW WRITE': -inf, 'TOMORROW VEGETABLE': -inf, 'TOMORROW BLUE': -inf, 'TOMORROW ALL': -inf, 'TOMORROW JOHN': -inf, 'TOMORROW LIKE': -inf, 'TOMORROW LEG': -inf, 'TOMORROW BILL': -inf, 'TOMORROW LAST-WEEK': -inf, 'TOMORROW YESTERDAY': -inf, 'TOMORROW SHOULD': -inf, 'TOMORROW BOOK': -inf, 'TOMORROW CHINA': -inf, 'TOMORROW STUDENT': -inf, 'TOMORROW MARY': -inf, 'TOMORROW TOY': -inf, 'TOMORROW CAR': -inf, 'TOMORROW CAN': -inf, 'TOMORROW HIT': -inf, 'TOMORROW COAT': -inf, 'TOMORROW NEW-YORK': -inf, 'TOMORROW BROCCOLI': -inf, 'TOMORROW MOTHER': -inf, 'TOMORROW EAT': -inf, 'TOMORROW IX': -inf, 'TOMORROW CANDY': -inf, 'TOMORROW NEXT-WEEK': -inf, 'TOMORROW THINK': -inf, 'TOMORROW SELL': -inf, 'TOMORROW STOLEN': -inf, 'TOMORROW SELF': -inf, 'TOMORROW SAY-1P': -inf, 'TOMORROW CHICKEN': -inf, 'TOMORROW JANA': -inf, 'TOMORROW THROW': -inf, 'TOMORROW <START>': -inf, 'TOMORROW <END>': -6.5496507422338102, 'SEE BOX': -inf, 'SEE BOY': -inf, 'SEE PUTASIDE': -inf, 'SEE SUE': -inf, 'SEE HAVE': -inf, 'SEE GIRL': -inf, 'SEE WONT': -inf, 'SEE WOMAN': -inf, 'SEE MANY': -inf, 'SEE PEOPLE': -inf, 'SEE LIVE': -inf, 'SEE CHICAGO': -inf, 'SEE PAST': -inf, 'SEE GO': -inf, 'SEE PARTY': -inf, 'SEE NAME': -inf, 'SEE FRANK': -inf, 'SEE BLAME': -inf, 'SEE FUTURE': -inf, 'SEE HOUSE': -inf, 'SEE MAN': -inf, 'SEE GROUP': -inf, 'SEE WANT': -inf, 'SEE VIDEOTAPE': -inf, 'SEE MOVIE': -inf, 'SEE PREFER': -inf, 'SEE BROTHER': -inf, 'SEE BORROW': -inf, 'SEE LEAVE': -inf, 'SEE FIND': -inf, 'SEE WILL': -inf, 'SEE WHAT': -6.5496507422338102, 'SEE BUY': -inf, 'SEE GET': -inf, 'SEE BUT': -inf, 'SEE CHOCOLATE': -inf, 'SEE HOMEWORK': -inf, 'SEE FINISH': -inf, 'SEE LOVE': -inf, 'SEE VISIT': -inf, 'SEE SOMETHING-ONE': -inf, 'SEE POSS': -inf, 'SEE POTATO': -inf, 'SEE ANN': -inf, 'SEE TELL': -inf, 'SEE BREAK-DOWN': -inf, 'SEE NOT': -inf, 'SEE TEACHER': -inf, 'SEE IX-1P': -inf, 'SEE GIVE': -inf, 'SEE READ': -inf, 'SEE FISH': -inf, 'SEE KNOW': -inf, 'SEE DECIDE': -inf, 'SEE SEARCH-FOR': -inf, 'SEE NEW': -inf, 'SEE OLD': -inf, 'SEE APPLE': -inf, 'SEE SHOOT': -inf, 'SEE WHO': -5.8565035616738648, 'SEE SAY': -inf, 'SEE TOMORROW': -inf, 'SEE SEE': -inf, 'SEE ARRIVE': -inf, 'SEE FRIEND': -inf, 'SEE CORN': -inf, 'SEE HERE': -inf, 'SEE FRED': -inf, 'SEE WRITE': -inf, 'SEE VEGETABLE': -inf, 'SEE BLUE': -inf, 'SEE ALL': -inf, 'SEE JOHN': -6.5496507422338102, 'SEE LIKE': -inf, 'SEE LEG': -inf, 'SEE BILL': -inf, 'SEE LAST-WEEK': -inf, 'SEE YESTERDAY': -inf, 'SEE SHOULD': -inf, 'SEE BOOK': -inf, 'SEE CHINA': -inf, 'SEE STUDENT': -inf, 'SEE MARY': -6.5496507422338102, 'SEE TOY': -inf, 'SEE CAR': -inf, 'SEE CAN': -inf, 'SEE HIT': -inf, 'SEE COAT': -inf, 'SEE NEW-YORK': -inf, 'SEE BROCCOLI': -inf, 'SEE MOTHER': -inf, 'SEE EAT': -inf, 'SEE IX': -inf, 'SEE CANDY': -inf, 'SEE NEXT-WEEK': -inf, 'SEE THINK': -inf, 'SEE SELL': -inf, 'SEE STOLEN': -inf, 'SEE SELF': -inf, 'SEE SAY-1P': -inf, 'SEE CHICKEN': -inf, 'SEE JANA': -inf, 'SEE THROW': -5.8565035616738648, 'SEE <START>': -inf, 'SEE <END>': -inf, 'ARRIVE BOX': -inf, 'ARRIVE BOY': -inf, 'ARRIVE PUTASIDE': -inf, 'ARRIVE SUE': -inf, 'ARRIVE HAVE': -inf, 'ARRIVE GIRL': -inf, 'ARRIVE WONT': -inf, 'ARRIVE WOMAN': -inf, 'ARRIVE MANY': -inf, 'ARRIVE PEOPLE': -inf, 'ARRIVE LIVE': -inf, 'ARRIVE CHICAGO': -inf, 'ARRIVE PAST': -inf, 'ARRIVE GO': -inf, 'ARRIVE PARTY': -inf, 'ARRIVE NAME': -inf, 'ARRIVE FRANK': -inf, 'ARRIVE BLAME': -inf, 'ARRIVE FUTURE': -inf, 'ARRIVE HOUSE': -inf, 'ARRIVE MAN': -inf, 'ARRIVE GROUP': -inf, 'ARRIVE WANT': -inf, 'ARRIVE VIDEOTAPE': -inf, 'ARRIVE MOVIE': -inf, 'ARRIVE PREFER': -inf, 'ARRIVE BROTHER': -inf, 'ARRIVE BORROW': -inf, 'ARRIVE LEAVE': -inf, 'ARRIVE FIND': -inf, 'ARRIVE WILL': -inf, 'ARRIVE WHAT': -inf, 'ARRIVE BUY': -inf, 'ARRIVE GET': -inf, 'ARRIVE BUT': -inf, 'ARRIVE CHOCOLATE': -inf, 'ARRIVE HOMEWORK': -inf, 'ARRIVE FINISH': -inf, 'ARRIVE LOVE': -inf, 'ARRIVE VISIT': -inf, 'ARRIVE SOMETHING-ONE': -inf, 'ARRIVE POSS': -inf, 'ARRIVE POTATO': -inf, 'ARRIVE ANN': -inf, 'ARRIVE TELL': -inf, 'ARRIVE BREAK-DOWN': -inf, 'ARRIVE NOT': -6.5496507422338102, 'ARRIVE TEACHER': -inf, 'ARRIVE IX-1P': -inf, 'ARRIVE GIVE': -inf, 'ARRIVE READ': -inf, 'ARRIVE FISH': -inf, 'ARRIVE KNOW': -inf, 'ARRIVE DECIDE': -inf, 'ARRIVE SEARCH-FOR': -inf, 'ARRIVE NEW': -inf, 'ARRIVE OLD': -inf, 'ARRIVE APPLE': -inf, 'ARRIVE SHOOT': -inf, 'ARRIVE WHO': -5.4510384535657002, 'ARRIVE SAY': -inf, 'ARRIVE TOMORROW': -inf, 'ARRIVE SEE': -inf, 'ARRIVE ARRIVE': -inf, 'ARRIVE FRIEND': -inf, 'ARRIVE CORN': -inf, 'ARRIVE HERE': -5.4510384535657002, 'ARRIVE FRED': -inf, 'ARRIVE WRITE': -inf, 'ARRIVE VEGETABLE': -inf, 'ARRIVE BLUE': -inf, 'ARRIVE ALL': -inf, 'ARRIVE JOHN': -inf, 'ARRIVE LIKE': -inf, 'ARRIVE LEG': -inf, 'ARRIVE BILL': -inf, 'ARRIVE LAST-WEEK': -inf, 'ARRIVE YESTERDAY': -inf, 'ARRIVE SHOULD': -inf, 'ARRIVE BOOK': -inf, 'ARRIVE CHINA': -inf, 'ARRIVE STUDENT': -inf, 'ARRIVE MARY': -inf, 'ARRIVE TOY': -inf, 'ARRIVE CAR': -inf, 'ARRIVE CAN': -inf, 'ARRIVE HIT': -inf, 'ARRIVE COAT': -inf, 'ARRIVE NEW-YORK': -inf, 'ARRIVE BROCCOLI': -inf, 'ARRIVE MOTHER': -inf, 'ARRIVE EAT': -inf, 'ARRIVE IX': -inf, 'ARRIVE CANDY': -inf, 'ARRIVE NEXT-WEEK': -inf, 'ARRIVE THINK': -inf, 'ARRIVE SELL': -inf, 'ARRIVE STOLEN': -inf, 'ARRIVE SELF': -inf, 'ARRIVE SAY-1P': -inf, 'ARRIVE CHICKEN': -inf, 'ARRIVE JANA': -inf, 'ARRIVE THROW': -inf, 'ARRIVE <START>': -inf, 'ARRIVE <END>': -4.6037405931784967, 'FRIEND BOX': -inf, 'FRIEND BOY': -inf, 'FRIEND PUTASIDE': -inf, 'FRIEND SUE': -inf, 'FRIEND HAVE': -inf, 'FRIEND GIRL': -inf, 'FRIEND WONT': -inf, 'FRIEND WOMAN': -inf, 'FRIEND MANY': -inf, 'FRIEND PEOPLE': -inf, 'FRIEND LIVE': -inf, 'FRIEND CHICAGO': -inf, 'FRIEND PAST': -inf, 'FRIEND GO': -inf, 'FRIEND PARTY': -inf, 'FRIEND NAME': -inf, 'FRIEND FRANK': -inf, 'FRIEND BLAME': -inf, 'FRIEND FUTURE': -inf, 'FRIEND HOUSE': -inf, 'FRIEND MAN': -inf, 'FRIEND GROUP': -inf, 'FRIEND WANT': -inf, 'FRIEND VIDEOTAPE': -inf, 'FRIEND MOVIE': -inf, 'FRIEND PREFER': -inf, 'FRIEND BROTHER': -inf, 'FRIEND BORROW': -inf, 'FRIEND LEAVE': -inf, 'FRIEND FIND': -inf, 'FRIEND WILL': -inf, 'FRIEND WHAT': -inf, 'FRIEND BUY': -inf, 'FRIEND GET': -inf, 'FRIEND BUT': -inf, 'FRIEND CHOCOLATE': -inf, 'FRIEND HOMEWORK': -inf, 'FRIEND FINISH': -inf, 'FRIEND LOVE': -inf, 'FRIEND VISIT': -inf, 'FRIEND SOMETHING-ONE': -inf, 'FRIEND POSS': -6.5496507422338102, 'FRIEND POTATO': -inf, 'FRIEND ANN': -inf, 'FRIEND TELL': -inf, 'FRIEND BREAK-DOWN': -inf, 'FRIEND NOT': -inf, 'FRIEND TEACHER': -inf, 'FRIEND IX-1P': -inf, 'FRIEND GIVE': -inf, 'FRIEND READ': -inf, 'FRIEND FISH': -inf, 'FRIEND KNOW': -inf, 'FRIEND DECIDE': -inf, 'FRIEND SEARCH-FOR': -inf, 'FRIEND NEW': -inf, 'FRIEND OLD': -inf, 'FRIEND APPLE': -inf, 'FRIEND SHOOT': -inf, 'FRIEND WHO': -inf, 'FRIEND SAY': -inf, 'FRIEND TOMORROW': -inf, 'FRIEND SEE': -inf, 'FRIEND ARRIVE': -inf, 'FRIEND FRIEND': -inf, 'FRIEND CORN': -inf, 'FRIEND HERE': -inf, 'FRIEND FRED': -inf, 'FRIEND WRITE': -inf, 'FRIEND VEGETABLE': -inf, 'FRIEND BLUE': -inf, 'FRIEND ALL': -inf, 'FRIEND JOHN': -inf, 'FRIEND LIKE': -inf, 'FRIEND LEG': -inf, 'FRIEND BILL': -inf, 'FRIEND LAST-WEEK': -inf, 'FRIEND YESTERDAY': -inf, 'FRIEND SHOULD': -inf, 'FRIEND BOOK': -inf, 'FRIEND CHINA': -inf, 'FRIEND STUDENT': -inf, 'FRIEND MARY': -inf, 'FRIEND TOY': -inf, 'FRIEND CAR': -inf, 'FRIEND CAN': -inf, 'FRIEND HIT': -inf, 'FRIEND COAT': -inf, 'FRIEND NEW-YORK': -inf, 'FRIEND BROCCOLI': -inf, 'FRIEND MOTHER': -inf, 'FRIEND EAT': -inf, 'FRIEND IX': -inf, 'FRIEND CANDY': -inf, 'FRIEND NEXT-WEEK': -inf, 'FRIEND THINK': -inf, 'FRIEND SELL': -inf, 'FRIEND STOLEN': -inf, 'FRIEND SELF': -inf, 'FRIEND SAY-1P': -inf, 'FRIEND CHICKEN': -inf, 'FRIEND JANA': -inf, 'FRIEND THROW': -inf, 'FRIEND <START>': -inf, 'FRIEND <END>': -inf, 'CORN BOX': -inf, 'CORN BOY': -inf, 'CORN PUTASIDE': -inf, 'CORN SUE': -inf, 'CORN HAVE': -inf, 'CORN GIRL': -inf, 'CORN WONT': -inf, 'CORN WOMAN': -inf, 'CORN MANY': -inf, 'CORN PEOPLE': -inf, 'CORN LIVE': -inf, 'CORN CHICAGO': -inf, 'CORN PAST': -inf, 'CORN GO': -inf, 'CORN PARTY': -inf, 'CORN NAME': -inf, 'CORN FRANK': -inf, 'CORN BLAME': -inf, 'CORN FUTURE': -inf, 'CORN HOUSE': -inf, 'CORN MAN': -inf, 'CORN GROUP': -inf, 'CORN WANT': -inf, 'CORN VIDEOTAPE': -inf, 'CORN MOVIE': -inf, 'CORN PREFER': -inf, 'CORN BROTHER': -inf, 'CORN BORROW': -inf, 'CORN LEAVE': -inf, 'CORN FIND': -inf, 'CORN WILL': -inf, 'CORN WHAT': -inf, 'CORN BUY': -inf, 'CORN GET': -inf, 'CORN BUT': -inf, 'CORN CHOCOLATE': -inf, 'CORN HOMEWORK': -inf, 'CORN FINISH': -inf, 'CORN LOVE': -inf, 'CORN VISIT': -inf, 'CORN SOMETHING-ONE': -inf, 'CORN POSS': -inf, 'CORN POTATO': -inf, 'CORN ANN': -inf, 'CORN TELL': -inf, 'CORN BREAK-DOWN': -inf, 'CORN NOT': -inf, 'CORN TEACHER': -inf, 'CORN IX-1P': -inf, 'CORN GIVE': -inf, 'CORN READ': -inf, 'CORN FISH': -inf, 'CORN KNOW': -inf, 'CORN DECIDE': -inf, 'CORN SEARCH-FOR': -inf, 'CORN NEW': -inf, 'CORN OLD': -inf, 'CORN APPLE': -inf, 'CORN SHOOT': -inf, 'CORN WHO': -inf, 'CORN SAY': -inf, 'CORN TOMORROW': -inf, 'CORN SEE': -inf, 'CORN ARRIVE': -inf, 'CORN FRIEND': -inf, 'CORN CORN': -inf, 'CORN HERE': -inf, 'CORN FRED': -inf, 'CORN WRITE': -inf, 'CORN VEGETABLE': -inf, 'CORN BLUE': -inf, 'CORN ALL': -inf, 'CORN JOHN': -inf, 'CORN LIKE': -inf, 'CORN LEG': -inf, 'CORN BILL': -inf, 'CORN LAST-WEEK': -inf, 'CORN YESTERDAY': -inf, 'CORN SHOULD': -inf, 'CORN BOOK': -inf, 'CORN CHINA': -inf, 'CORN STUDENT': -inf, 'CORN MARY': -inf, 'CORN TOY': -inf, 'CORN CAR': -inf, 'CORN CAN': -inf, 'CORN HIT': -inf, 'CORN COAT': -inf, 'CORN NEW-YORK': -inf, 'CORN BROCCOLI': -inf, 'CORN MOTHER': -inf, 'CORN EAT': -inf, 'CORN IX': -inf, 'CORN CANDY': -inf, 'CORN NEXT-WEEK': -inf, 'CORN THINK': -inf, 'CORN SELL': -inf, 'CORN STOLEN': -inf, 'CORN SELF': -inf, 'CORN SAY-1P': -inf, 'CORN CHICKEN': -inf, 'CORN JANA': -inf, 'CORN THROW': -inf, 'CORN <START>': -inf, 'CORN <END>': -5.1633563811139194, 'HERE BOX': -inf, 'HERE BOY': -inf, 'HERE PUTASIDE': -inf, 'HERE SUE': -inf, 'HERE HAVE': -inf, 'HERE GIRL': -inf, 'HERE WONT': -inf, 'HERE WOMAN': -inf, 'HERE MANY': -inf, 'HERE PEOPLE': -inf, 'HERE LIVE': -inf, 'HERE CHICAGO': -inf, 'HERE PAST': -inf, 'HERE GO': -inf, 'HERE PARTY': -inf, 'HERE NAME': -inf, 'HERE FRANK': -inf, 'HERE BLAME': -inf, 'HERE FUTURE': -inf, 'HERE HOUSE': -inf, 'HERE MAN': -inf, 'HERE GROUP': -inf, 'HERE WANT': -inf, 'HERE VIDEOTAPE': -inf, 'HERE MOVIE': -inf, 'HERE PREFER': -inf, 'HERE BROTHER': -inf, 'HERE BORROW': -inf, 'HERE LEAVE': -inf, 'HERE FIND': -inf, 'HERE WILL': -inf, 'HERE WHAT': -inf, 'HERE BUY': -inf, 'HERE GET': -inf, 'HERE BUT': -inf, 'HERE CHOCOLATE': -inf, 'HERE HOMEWORK': -inf, 'HERE FINISH': -inf, 'HERE LOVE': -inf, 'HERE VISIT': -inf, 'HERE SOMETHING-ONE': -inf, 'HERE POSS': -inf, 'HERE POTATO': -inf, 'HERE ANN': -inf, 'HERE TELL': -inf, 'HERE BREAK-DOWN': -inf, 'HERE NOT': -inf, 'HERE TEACHER': -inf, 'HERE IX-1P': -inf, 'HERE GIVE': -inf, 'HERE READ': -inf, 'HERE FISH': -inf, 'HERE KNOW': -inf, 'HERE DECIDE': -inf, 'HERE SEARCH-FOR': -inf, 'HERE NEW': -inf, 'HERE OLD': -inf, 'HERE APPLE': -inf, 'HERE SHOOT': -inf, 'HERE WHO': -inf, 'HERE SAY': -inf, 'HERE TOMORROW': -inf, 'HERE SEE': -inf, 'HERE ARRIVE': -inf, 'HERE FRIEND': -inf, 'HERE CORN': -inf, 'HERE HERE': -inf, 'HERE FRED': -inf, 'HERE WRITE': -inf, 'HERE VEGETABLE': -inf, 'HERE BLUE': -inf, 'HERE ALL': -inf, 'HERE JOHN': -inf, 'HERE LIKE': -inf, 'HERE LEG': -inf, 'HERE BILL': -inf, 'HERE LAST-WEEK': -inf, 'HERE YESTERDAY': -inf, 'HERE SHOULD': -inf, 'HERE BOOK': -inf, 'HERE CHINA': -inf, 'HERE STUDENT': -inf, 'HERE MARY': -inf, 'HERE TOY': -inf, 'HERE CAR': -inf, 'HERE CAN': -inf, 'HERE HIT': -inf, 'HERE COAT': -inf, 'HERE NEW-YORK': -inf, 'HERE BROCCOLI': -inf, 'HERE MOTHER': -inf, 'HERE EAT': -inf, 'HERE IX': -inf, 'HERE CANDY': -inf, 'HERE NEXT-WEEK': -inf, 'HERE THINK': -inf, 'HERE SELL': -inf, 'HERE STOLEN': -inf, 'HERE SELF': -inf, 'HERE SAY-1P': -inf, 'HERE CHICKEN': -inf, 'HERE JANA': -inf, 'HERE THROW': -inf, 'HERE <START>': -inf, 'HERE <END>': -5.4510384535657002, 'FRED BOX': -inf, 'FRED BOY': -inf, 'FRED PUTASIDE': -inf, 'FRED SUE': -inf, 'FRED HAVE': -inf, 'FRED GIRL': -inf, 'FRED WONT': -inf, 'FRED WOMAN': -inf, 'FRED MANY': -inf, 'FRED PEOPLE': -inf, 'FRED LIVE': -inf, 'FRED CHICAGO': -inf, 'FRED PAST': -inf, 'FRED GO': -inf, 'FRED PARTY': -inf, 'FRED NAME': -inf, 'FRED FRANK': -inf, 'FRED BLAME': -inf, 'FRED FUTURE': -inf, 'FRED HOUSE': -inf, 'FRED MAN': -inf, 'FRED GROUP': -inf, 'FRED WANT': -inf, 'FRED VIDEOTAPE': -inf, 'FRED MOVIE': -inf, 'FRED PREFER': -inf, 'FRED BROTHER': -inf, 'FRED BORROW': -inf, 'FRED LEAVE': -inf, 'FRED FIND': -inf, 'FRED WILL': -inf, 'FRED WHAT': -inf, 'FRED BUY': -inf, 'FRED GET': -inf, 'FRED BUT': -inf, 'FRED CHOCOLATE': -inf, 'FRED HOMEWORK': -inf, 'FRED FINISH': -inf, 'FRED LOVE': -inf, 'FRED VISIT': -inf, 'FRED SOMETHING-ONE': -inf, 'FRED POSS': -inf, 'FRED POTATO': -inf, 'FRED ANN': -inf, 'FRED TELL': -inf, 'FRED BREAK-DOWN': -inf, 'FRED NOT': -inf, 'FRED TEACHER': -inf, 'FRED IX-1P': -inf, 'FRED GIVE': -inf, 'FRED READ': -inf, 'FRED FISH': -inf, 'FRED KNOW': -inf, 'FRED DECIDE': -inf, 'FRED SEARCH-FOR': -inf, 'FRED NEW': -inf, 'FRED OLD': -inf, 'FRED APPLE': -inf, 'FRED SHOOT': -inf, 'FRED WHO': -inf, 'FRED SAY': -inf, 'FRED TOMORROW': -inf, 'FRED SEE': -inf, 'FRED ARRIVE': -inf, 'FRED FRIEND': -inf, 'FRED CORN': -inf, 'FRED HERE': -inf, 'FRED FRED': -inf, 'FRED WRITE': -inf, 'FRED VEGETABLE': -inf, 'FRED BLUE': -inf, 'FRED ALL': -inf, 'FRED JOHN': -inf, 'FRED LIKE': -inf, 'FRED LEG': -inf, 'FRED BILL': -inf, 'FRED LAST-WEEK': -inf, 'FRED YESTERDAY': -inf, 'FRED SHOULD': -inf, 'FRED BOOK': -inf, 'FRED CHINA': -inf, 'FRED STUDENT': -inf, 'FRED MARY': -inf, 'FRED TOY': -inf, 'FRED CAR': -inf, 'FRED CAN': -inf, 'FRED HIT': -inf, 'FRED COAT': -inf, 'FRED NEW-YORK': -inf, 'FRED BROCCOLI': -inf, 'FRED MOTHER': -inf, 'FRED EAT': -inf, 'FRED IX': -6.5496507422338102, 'FRED CANDY': -inf, 'FRED NEXT-WEEK': -inf, 'FRED THINK': -inf, 'FRED SELL': -inf, 'FRED STOLEN': -inf, 'FRED SELF': -inf, 'FRED SAY-1P': -inf, 'FRED CHICKEN': -inf, 'FRED JANA': -inf, 'FRED THROW': -inf, 'FRED <START>': -inf, 'FRED <END>': -inf, 'WRITE BOX': -inf, 'WRITE BOY': -inf, 'WRITE PUTASIDE': -inf, 'WRITE SUE': -inf, 'WRITE HAVE': -inf, 'WRITE GIRL': -inf, 'WRITE WONT': -inf, 'WRITE WOMAN': -inf, 'WRITE MANY': -inf, 'WRITE PEOPLE': -inf, 'WRITE LIVE': -inf, 'WRITE CHICAGO': -inf, 'WRITE PAST': -inf, 'WRITE GO': -inf, 'WRITE PARTY': -inf, 'WRITE NAME': -inf, 'WRITE FRANK': -inf, 'WRITE BLAME': -inf, 'WRITE FUTURE': -inf, 'WRITE HOUSE': -inf, 'WRITE MAN': -inf, 'WRITE GROUP': -inf, 'WRITE WANT': -inf, 'WRITE VIDEOTAPE': -inf, 'WRITE MOVIE': -inf, 'WRITE PREFER': -inf, 'WRITE BROTHER': -inf, 'WRITE BORROW': -inf, 'WRITE LEAVE': -inf, 'WRITE FIND': -inf, 'WRITE WILL': -inf, 'WRITE WHAT': -inf, 'WRITE BUY': -inf, 'WRITE GET': -inf, 'WRITE BUT': -inf, 'WRITE CHOCOLATE': -inf, 'WRITE HOMEWORK': -6.5496507422338102, 'WRITE FINISH': -inf, 'WRITE LOVE': -inf, 'WRITE VISIT': -inf, 'WRITE SOMETHING-ONE': -inf, 'WRITE POSS': -inf, 'WRITE POTATO': -inf, 'WRITE ANN': -inf, 'WRITE TELL': -inf, 'WRITE BREAK-DOWN': -inf, 'WRITE NOT': -inf, 'WRITE TEACHER': -inf, 'WRITE IX-1P': -inf, 'WRITE GIVE': -inf, 'WRITE READ': -inf, 'WRITE FISH': -inf, 'WRITE KNOW': -inf, 'WRITE DECIDE': -inf, 'WRITE SEARCH-FOR': -inf, 'WRITE NEW': -inf, 'WRITE OLD': -inf, 'WRITE APPLE': -inf, 'WRITE SHOOT': -inf, 'WRITE WHO': -inf, 'WRITE SAY': -inf, 'WRITE TOMORROW': -inf, 'WRITE SEE': -inf, 'WRITE ARRIVE': -inf, 'WRITE FRIEND': -inf, 'WRITE CORN': -inf, 'WRITE HERE': -inf, 'WRITE FRED': -inf, 'WRITE WRITE': -inf, 'WRITE VEGETABLE': -inf, 'WRITE BLUE': -inf, 'WRITE ALL': -inf, 'WRITE JOHN': -inf, 'WRITE LIKE': -inf, 'WRITE LEG': -inf, 'WRITE BILL': -inf, 'WRITE LAST-WEEK': -inf, 'WRITE YESTERDAY': -inf, 'WRITE SHOULD': -inf, 'WRITE BOOK': -inf, 'WRITE CHINA': -inf, 'WRITE STUDENT': -inf, 'WRITE MARY': -inf, 'WRITE TOY': -inf, 'WRITE CAR': -inf, 'WRITE CAN': -inf, 'WRITE HIT': -inf, 'WRITE COAT': -inf, 'WRITE NEW-YORK': -inf, 'WRITE BROCCOLI': -inf, 'WRITE MOTHER': -inf, 'WRITE EAT': -inf, 'WRITE IX': -inf, 'WRITE CANDY': -inf, 'WRITE NEXT-WEEK': -inf, 'WRITE THINK': -inf, 'WRITE SELL': -inf, 'WRITE STOLEN': -inf, 'WRITE SELF': -inf, 'WRITE SAY-1P': -inf, 'WRITE CHICKEN': -inf, 'WRITE JANA': -inf, 'WRITE THROW': -inf, 'WRITE <START>': -inf, 'WRITE <END>': -inf, 'VEGETABLE BOX': -inf, 'VEGETABLE BOY': -inf, 'VEGETABLE PUTASIDE': -inf, 'VEGETABLE SUE': -inf, 'VEGETABLE HAVE': -inf, 'VEGETABLE GIRL': -inf, 'VEGETABLE WONT': -inf, 'VEGETABLE WOMAN': -inf, 'VEGETABLE MANY': -inf, 'VEGETABLE PEOPLE': -inf, 'VEGETABLE LIVE': -inf, 'VEGETABLE CHICAGO': -inf, 'VEGETABLE PAST': -inf, 'VEGETABLE GO': -inf, 'VEGETABLE PARTY': -inf, 'VEGETABLE NAME': -inf, 'VEGETABLE FRANK': -inf, 'VEGETABLE BLAME': -inf, 'VEGETABLE FUTURE': -inf, 'VEGETABLE HOUSE': -inf, 'VEGETABLE MAN': -inf, 'VEGETABLE GROUP': -inf, 'VEGETABLE WANT': -inf, 'VEGETABLE VIDEOTAPE': -inf, 'VEGETABLE MOVIE': -inf, 'VEGETABLE PREFER': -6.5496507422338102, 'VEGETABLE BROTHER': -inf, 'VEGETABLE BORROW': -inf, 'VEGETABLE LEAVE': -inf, 'VEGETABLE FIND': -inf, 'VEGETABLE WILL': -inf, 'VEGETABLE WHAT': -inf, 'VEGETABLE BUY': -inf, 'VEGETABLE GET': -inf, 'VEGETABLE BUT': -inf, 'VEGETABLE CHOCOLATE': -inf, 'VEGETABLE HOMEWORK': -inf, 'VEGETABLE FINISH': -inf, 'VEGETABLE LOVE': -inf, 'VEGETABLE VISIT': -inf, 'VEGETABLE SOMETHING-ONE': -inf, 'VEGETABLE POSS': -inf, 'VEGETABLE POTATO': -inf, 'VEGETABLE ANN': -inf, 'VEGETABLE TELL': -inf, 'VEGETABLE BREAK-DOWN': -inf, 'VEGETABLE NOT': -inf, 'VEGETABLE TEACHER': -inf, 'VEGETABLE IX-1P': -6.5496507422338102, 'VEGETABLE GIVE': -inf, 'VEGETABLE READ': -inf, 'VEGETABLE FISH': -inf, 'VEGETABLE KNOW': -6.5496507422338102, 'VEGETABLE DECIDE': -inf, 'VEGETABLE SEARCH-FOR': -inf, 'VEGETABLE NEW': -inf, 'VEGETABLE OLD': -inf, 'VEGETABLE APPLE': -inf, 'VEGETABLE SHOOT': -inf, 'VEGETABLE WHO': -inf, 'VEGETABLE SAY': -inf, 'VEGETABLE TOMORROW': -inf, 'VEGETABLE SEE': -inf, 'VEGETABLE ARRIVE': -inf, 'VEGETABLE FRIEND': -inf, 'VEGETABLE CORN': -inf, 'VEGETABLE HERE': -inf, 'VEGETABLE FRED': -inf, 'VEGETABLE WRITE': -inf, 'VEGETABLE VEGETABLE': -inf, 'VEGETABLE BLUE': -inf, 'VEGETABLE ALL': -inf, 'VEGETABLE JOHN': -inf, 'VEGETABLE LIKE': -inf, 'VEGETABLE LEG': -inf, 'VEGETABLE BILL': -inf, 'VEGETABLE LAST-WEEK': -inf, 'VEGETABLE YESTERDAY': -inf, 'VEGETABLE SHOULD': -inf, 'VEGETABLE BOOK': -inf, 'VEGETABLE CHINA': -6.5496507422338102, 'VEGETABLE STUDENT': -inf, 'VEGETABLE MARY': -inf, 'VEGETABLE TOY': -inf, 'VEGETABLE CAR': -inf, 'VEGETABLE CAN': -inf, 'VEGETABLE HIT': -inf, 'VEGETABLE COAT': -inf, 'VEGETABLE NEW-YORK': -inf, 'VEGETABLE BROCCOLI': -inf, 'VEGETABLE MOTHER': -inf, 'VEGETABLE EAT': -inf, 'VEGETABLE IX': -inf, 'VEGETABLE CANDY': -inf, 'VEGETABLE NEXT-WEEK': -inf, 'VEGETABLE THINK': -inf, 'VEGETABLE SELL': -inf, 'VEGETABLE STOLEN': -inf, 'VEGETABLE SELF': -inf, 'VEGETABLE SAY-1P': -inf, 'VEGETABLE CHICKEN': -inf, 'VEGETABLE JANA': -inf, 'VEGETABLE THROW': -inf, 'VEGETABLE <START>': -inf, 'VEGETABLE <END>': -inf, 'BLUE BOX': -inf, 'BLUE BOY': -inf, 'BLUE PUTASIDE': -inf, 'BLUE SUE': -inf, 'BLUE HAVE': -inf, 'BLUE GIRL': -inf, 'BLUE WONT': -inf, 'BLUE WOMAN': -inf, 'BLUE MANY': -inf, 'BLUE PEOPLE': -inf, 'BLUE LIVE': -inf, 'BLUE CHICAGO': -inf, 'BLUE PAST': -inf, 'BLUE GO': -inf, 'BLUE PARTY': -inf, 'BLUE NAME': -inf, 'BLUE FRANK': -inf, 'BLUE BLAME': -inf, 'BLUE FUTURE': -inf, 'BLUE HOUSE': -inf, 'BLUE MAN': -inf, 'BLUE GROUP': -inf, 'BLUE WANT': -inf, 'BLUE VIDEOTAPE': -inf, 'BLUE MOVIE': -inf, 'BLUE PREFER': -inf, 'BLUE BROTHER': -inf, 'BLUE BORROW': -inf, 'BLUE LEAVE': -inf, 'BLUE FIND': -inf, 'BLUE WILL': -inf, 'BLUE WHAT': -inf, 'BLUE BUY': -inf, 'BLUE GET': -inf, 'BLUE BUT': -inf, 'BLUE CHOCOLATE': -inf, 'BLUE HOMEWORK': -inf, 'BLUE FINISH': -inf, 'BLUE LOVE': -inf, 'BLUE VISIT': -inf, 'BLUE SOMETHING-ONE': -inf, 'BLUE POSS': -inf, 'BLUE POTATO': -inf, 'BLUE ANN': -inf, 'BLUE TELL': -inf, 'BLUE BREAK-DOWN': -inf, 'BLUE NOT': -inf, 'BLUE TEACHER': -inf, 'BLUE IX-1P': -inf, 'BLUE GIVE': -inf, 'BLUE READ': -inf, 'BLUE FISH': -inf, 'BLUE KNOW': -inf, 'BLUE DECIDE': -inf, 'BLUE SEARCH-FOR': -inf, 'BLUE NEW': -inf, 'BLUE OLD': -inf, 'BLUE APPLE': -inf, 'BLUE SHOOT': -inf, 'BLUE WHO': -inf, 'BLUE SAY': -inf, 'BLUE TOMORROW': -inf, 'BLUE SEE': -inf, 'BLUE ARRIVE': -inf, 'BLUE FRIEND': -inf, 'BLUE CORN': -inf, 'BLUE HERE': -inf, 'BLUE FRED': -inf, 'BLUE WRITE': -inf, 'BLUE VEGETABLE': -inf, 'BLUE BLUE': -inf, 'BLUE ALL': -inf, 'BLUE JOHN': -inf, 'BLUE LIKE': -inf, 'BLUE LEG': -inf, 'BLUE BILL': -inf, 'BLUE LAST-WEEK': -inf, 'BLUE YESTERDAY': -inf, 'BLUE SHOULD': -inf, 'BLUE BOOK': -inf, 'BLUE CHINA': -inf, 'BLUE STUDENT': -inf, 'BLUE MARY': -inf, 'BLUE TOY': -inf, 'BLUE CAR': -inf, 'BLUE CAN': -inf, 'BLUE HIT': -inf, 'BLUE COAT': -inf, 'BLUE NEW-YORK': -inf, 'BLUE BROCCOLI': -inf, 'BLUE MOTHER': -inf, 'BLUE EAT': -inf, 'BLUE IX': -inf, 'BLUE CANDY': -inf, 'BLUE NEXT-WEEK': -inf, 'BLUE THINK': -inf, 'BLUE SELL': -inf, 'BLUE STOLEN': -inf, 'BLUE SELF': -inf, 'BLUE SAY-1P': -inf, 'BLUE CHICKEN': -inf, 'BLUE JANA': -inf, 'BLUE THROW': -inf, 'BLUE <START>': -inf, 'BLUE <END>': -5.8565035616738648, 'ALL BOX': -inf, 'ALL BOY': -6.5496507422338102, 'ALL PUTASIDE': -inf, 'ALL SUE': -inf, 'ALL HAVE': -inf, 'ALL GIRL': -inf, 'ALL WONT': -inf, 'ALL WOMAN': -inf, 'ALL MANY': -inf, 'ALL PEOPLE': -inf, 'ALL LIVE': -inf, 'ALL CHICAGO': -inf, 'ALL PAST': -inf, 'ALL GO': -inf, 'ALL PARTY': -inf, 'ALL NAME': -inf, 'ALL FRANK': -inf, 'ALL BLAME': -inf, 'ALL FUTURE': -inf, 'ALL HOUSE': -inf, 'ALL MAN': -inf, 'ALL GROUP': -inf, 'ALL WANT': -inf, 'ALL VIDEOTAPE': -inf, 'ALL MOVIE': -inf, 'ALL PREFER': -inf, 'ALL BROTHER': -inf, 'ALL BORROW': -inf, 'ALL LEAVE': -inf, 'ALL FIND': -inf, 'ALL WILL': -inf, 'ALL WHAT': -inf, 'ALL BUY': -inf, 'ALL GET': -inf, 'ALL BUT': -inf, 'ALL CHOCOLATE': -inf, 'ALL HOMEWORK': -inf, 'ALL FINISH': -inf, 'ALL LOVE': -inf, 'ALL VISIT': -inf, 'ALL SOMETHING-ONE': -inf, 'ALL POSS': -inf, 'ALL POTATO': -inf, 'ALL ANN': -inf, 'ALL TELL': -inf, 'ALL BREAK-DOWN': -inf, 'ALL NOT': -inf, 'ALL TEACHER': -inf, 'ALL IX-1P': -inf, 'ALL GIVE': -inf, 'ALL READ': -inf, 'ALL FISH': -inf, 'ALL KNOW': -inf, 'ALL DECIDE': -inf, 'ALL SEARCH-FOR': -inf, 'ALL NEW': -inf, 'ALL OLD': -inf, 'ALL APPLE': -inf, 'ALL SHOOT': -inf, 'ALL WHO': -inf, 'ALL SAY': -inf, 'ALL TOMORROW': -inf, 'ALL SEE': -inf, 'ALL ARRIVE': -inf, 'ALL FRIEND': -inf, 'ALL CORN': -inf, 'ALL HERE': -inf, 'ALL FRED': -inf, 'ALL WRITE': -inf, 'ALL VEGETABLE': -inf, 'ALL BLUE': -inf, 'ALL ALL': -inf, 'ALL JOHN': -inf, 'ALL LIKE': -inf, 'ALL LEG': -inf, 'ALL BILL': -inf, 'ALL LAST-WEEK': -inf, 'ALL YESTERDAY': -inf, 'ALL SHOULD': -inf, 'ALL BOOK': -inf, 'ALL CHINA': -inf, 'ALL STUDENT': -inf, 'ALL MARY': -inf, 'ALL TOY': -inf, 'ALL CAR': -inf, 'ALL CAN': -inf, 'ALL HIT': -inf, 'ALL COAT': -inf, 'ALL NEW-YORK': -inf, 'ALL BROCCOLI': -inf, 'ALL MOTHER': -inf, 'ALL EAT': -inf, 'ALL IX': -inf, 'ALL CANDY': -inf, 'ALL NEXT-WEEK': -inf, 'ALL THINK': -inf, 'ALL SELL': -inf, 'ALL STOLEN': -inf, 'ALL SELF': -inf, 'ALL SAY-1P': -inf, 'ALL CHICKEN': -inf, 'ALL JANA': -inf, 'ALL THROW': -inf, 'ALL <START>': -inf, 'ALL <END>': -inf, 'JOHN BOX': -5.4510384535657002, 'JOHN BOY': -inf, 'JOHN PUTASIDE': -inf, 'JOHN SUE': -inf, 'JOHN HAVE': -inf, 'JOHN GIRL': -inf, 'JOHN WONT': -inf, 'JOHN WOMAN': -inf, 'JOHN MANY': -inf, 'JOHN PEOPLE': -inf, 'JOHN LIVE': -inf, 'JOHN CHICAGO': -inf, 'JOHN PAST': -6.5496507422338102, 'JOHN GO': -4.9402128297997097, 'JOHN PARTY': -inf, 'JOHN NAME': -inf, 'JOHN FRANK': -inf, 'JOHN BLAME': -inf, 'JOHN FUTURE': -4.470209200553974, 'JOHN HOUSE': -inf, 'JOHN MAN': -inf, 'JOHN GROUP': -inf, 'JOHN WANT': -6.5496507422338102, 'JOHN VIDEOTAPE': -inf, 'JOHN MOVIE': -inf, 'JOHN PREFER': -5.8565035616738648, 'JOHN BROTHER': -6.5496507422338102, 'JOHN BORROW': -inf, 'JOHN LEAVE': -5.4510384535657002, 'JOHN FIND': -inf, 'JOHN WILL': -5.8565035616738648, 'JOHN WHAT': -inf, 'JOHN BUY': -4.6037405931784967, 'JOHN GET': -inf, 'JOHN BUT': -inf, 'JOHN CHOCOLATE': -inf, 'JOHN HOMEWORK': -inf, 'JOHN FINISH': -inf, 'JOHN LOVE': -4.7578912730057557, 'JOHN VISIT': -5.8565035616738648, 'JOHN SOMETHING-ONE': -inf, 'JOHN POSS': -5.1633563811139194, 'JOHN POTATO': -inf, 'JOHN ANN': -inf, 'JOHN TELL': -inf, 'JOHN BREAK-DOWN': -inf, 'JOHN NOT': -5.8565035616738648, 'JOHN TEACHER': -inf, 'JOHN IX-1P': -inf, 'JOHN GIVE': -5.4510384535657002, 'JOHN READ': -6.5496507422338102, 'JOHN FISH': -6.5496507422338102, 'JOHN KNOW': -inf, 'JOHN DECIDE': -6.5496507422338102, 'JOHN SEARCH-FOR': -6.5496507422338102, 'JOHN NEW': -inf, 'JOHN OLD': -inf, 'JOHN APPLE': -inf, 'JOHN SHOOT': -inf, 'JOHN WHO': -5.8565035616738648, 'JOHN SAY': -6.5496507422338102, 'JOHN TOMORROW': -inf, 'JOHN SEE': -4.9402128297997097, 'JOHN ARRIVE': -5.4510384535657002, 'JOHN FRIEND': -inf, 'JOHN CORN': -inf, 'JOHN HERE': -inf, 'JOHN FRED': -inf, 'JOHN WRITE': -6.5496507422338102, 'JOHN VEGETABLE': -inf, 'JOHN BLUE': -inf, 'JOHN ALL': -inf, 'JOHN JOHN': -inf, 'JOHN LIKE': -4.9402128297997097, 'JOHN LEG': -inf, 'JOHN BILL': -inf, 'JOHN LAST-WEEK': -inf, 'JOHN YESTERDAY': -6.5496507422338102, 'JOHN SHOULD': -5.1633563811139194, 'JOHN BOOK': -inf, 'JOHN CHINA': -inf, 'JOHN STUDENT': -inf, 'JOHN MARY': -5.8565035616738648, 'JOHN TOY': -inf, 'JOHN CAR': -inf, 'JOHN CAN': -4.7578912730057557, 'JOHN HIT': -inf, 'JOHN COAT': -inf, 'JOHN NEW-YORK': -inf, 'JOHN BROCCOLI': -inf, 'JOHN MOTHER': -6.5496507422338102, 'JOHN EAT': -inf, 'JOHN IX': -4.7578912730057557, 'JOHN CANDY': -inf, 'JOHN NEXT-WEEK': -inf, 'JOHN THINK': -inf, 'JOHN SELL': -inf, 'JOHN STOLEN': -inf, 'JOHN SELF': -inf, 'JOHN SAY-1P': -inf, 'JOHN CHICKEN': -inf, 'JOHN JANA': -inf, 'JOHN THROW': -inf, 'JOHN <START>': -inf, 'JOHN <END>': -6.5496507422338102, 'LIKE BOX': -inf, 'LIKE BOY': -inf, 'LIKE PUTASIDE': -inf, 'LIKE SUE': -inf, 'LIKE HAVE': -inf, 'LIKE GIRL': -inf, 'LIKE WONT': -inf, 'LIKE WOMAN': -inf, 'LIKE MANY': -inf, 'LIKE PEOPLE': -inf, 'LIKE LIVE': -inf, 'LIKE CHICAGO': -inf, 'LIKE PAST': -inf, 'LIKE GO': -inf, 'LIKE PARTY': -inf, 'LIKE NAME': -inf, 'LIKE FRANK': -inf, 'LIKE BLAME': -inf, 'LIKE FUTURE': -inf, 'LIKE HOUSE': -inf, 'LIKE MAN': -inf, 'LIKE GROUP': -inf, 'LIKE WANT': -inf, 'LIKE VIDEOTAPE': -inf, 'LIKE MOVIE': -inf, 'LIKE PREFER': -inf, 'LIKE BROTHER': -inf, 'LIKE BORROW': -inf, 'LIKE LEAVE': -inf, 'LIKE FIND': -inf, 'LIKE WILL': -inf, 'LIKE WHAT': -inf, 'LIKE BUY': -inf, 'LIKE GET': -inf, 'LIKE BUT': -inf, 'LIKE CHOCOLATE': -5.8565035616738648, 'LIKE HOMEWORK': -inf, 'LIKE FINISH': -inf, 'LIKE LOVE': -inf, 'LIKE VISIT': -inf, 'LIKE SOMETHING-ONE': -inf, 'LIKE POSS': -inf, 'LIKE POTATO': -inf, 'LIKE ANN': -inf, 'LIKE TELL': -inf, 'LIKE BREAK-DOWN': -inf, 'LIKE NOT': -inf, 'LIKE TEACHER': -inf, 'LIKE IX-1P': -inf, 'LIKE GIVE': -inf, 'LIKE READ': -inf, 'LIKE FISH': -inf, 'LIKE KNOW': -inf, 'LIKE DECIDE': -inf, 'LIKE SEARCH-FOR': -inf, 'LIKE NEW': -inf, 'LIKE OLD': -inf, 'LIKE APPLE': -inf, 'LIKE SHOOT': -inf, 'LIKE WHO': -inf, 'LIKE SAY': -inf, 'LIKE TOMORROW': -inf, 'LIKE SEE': -inf, 'LIKE ARRIVE': -inf, 'LIKE FRIEND': -inf, 'LIKE CORN': -5.8565035616738648, 'LIKE HERE': -inf, 'LIKE FRED': -inf, 'LIKE WRITE': -inf, 'LIKE VEGETABLE': -inf, 'LIKE BLUE': -inf, 'LIKE ALL': -inf, 'LIKE JOHN': -inf, 'LIKE LIKE': -inf, 'LIKE LEG': -inf, 'LIKE BILL': -inf, 'LIKE LAST-WEEK': -inf, 'LIKE YESTERDAY': -inf, 'LIKE SHOULD': -inf, 'LIKE BOOK': -inf, 'LIKE CHINA': -inf, 'LIKE STUDENT': -inf, 'LIKE MARY': -6.5496507422338102, 'LIKE TOY': -inf, 'LIKE CAR': -inf, 'LIKE CAN': -inf, 'LIKE HIT': -inf, 'LIKE COAT': -inf, 'LIKE NEW-YORK': -inf, 'LIKE BROCCOLI': -inf, 'LIKE MOTHER': -inf, 'LIKE EAT': -inf, 'LIKE IX': -5.4510384535657002, 'LIKE CANDY': -inf, 'LIKE NEXT-WEEK': -inf, 'LIKE THINK': -inf, 'LIKE SELL': -inf, 'LIKE STOLEN': -inf, 'LIKE SELF': -inf, 'LIKE SAY-1P': -inf, 'LIKE CHICKEN': -inf, 'LIKE JANA': -inf, 'LIKE THROW': -inf, 'LIKE <START>': -inf, 'LIKE <END>': -6.5496507422338102, 'LEG BOX': -inf, 'LEG BOY': -inf, 'LEG PUTASIDE': -inf, 'LEG SUE': -inf, 'LEG HAVE': -inf, 'LEG GIRL': -inf, 'LEG WONT': -inf, 'LEG WOMAN': -inf, 'LEG MANY': -inf, 'LEG PEOPLE': -inf, 'LEG LIVE': -inf, 'LEG CHICAGO': -inf, 'LEG PAST': -inf, 'LEG GO': -inf, 'LEG PARTY': -inf, 'LEG NAME': -inf, 'LEG FRANK': -inf, 'LEG BLAME': -inf, 'LEG FUTURE': -inf, 'LEG HOUSE': -inf, 'LEG MAN': -inf, 'LEG GROUP': -inf, 'LEG WANT': -inf, 'LEG VIDEOTAPE': -inf, 'LEG MOVIE': -inf, 'LEG PREFER': -inf, 'LEG BROTHER': -inf, 'LEG BORROW': -inf, 'LEG LEAVE': -inf, 'LEG FIND': -inf, 'LEG WILL': -inf, 'LEG WHAT': -inf, 'LEG BUY': -inf, 'LEG GET': -inf, 'LEG BUT': -inf, 'LEG CHOCOLATE': -inf, 'LEG HOMEWORK': -inf, 'LEG FINISH': -inf, 'LEG LOVE': -inf, 'LEG VISIT': -inf, 'LEG SOMETHING-ONE': -inf, 'LEG POSS': -inf, 'LEG POTATO': -inf, 'LEG ANN': -inf, 'LEG TELL': -inf, 'LEG BREAK-DOWN': -inf, 'LEG NOT': -inf, 'LEG TEACHER': -inf, 'LEG IX-1P': -inf, 'LEG GIVE': -inf, 'LEG READ': -inf, 'LEG FISH': -inf, 'LEG KNOW': -inf, 'LEG DECIDE': -inf, 'LEG SEARCH-FOR': -inf, 'LEG NEW': -inf, 'LEG OLD': -inf, 'LEG APPLE': -inf, 'LEG SHOOT': -inf, 'LEG WHO': -inf, 'LEG SAY': -inf, 'LEG TOMORROW': -inf, 'LEG SEE': -inf, 'LEG ARRIVE': -inf, 'LEG FRIEND': -inf, 'LEG CORN': -inf, 'LEG HERE': -inf, 'LEG FRED': -inf, 'LEG WRITE': -inf, 'LEG VEGETABLE': -inf, 'LEG BLUE': -inf, 'LEG ALL': -inf, 'LEG JOHN': -inf, 'LEG LIKE': -inf, 'LEG LEG': -inf, 'LEG BILL': -inf, 'LEG LAST-WEEK': -inf, 'LEG YESTERDAY': -inf, 'LEG SHOULD': -inf, 'LEG BOOK': -inf, 'LEG CHINA': -inf, 'LEG STUDENT': -inf, 'LEG MARY': -inf, 'LEG TOY': -inf, 'LEG CAR': -inf, 'LEG CAN': -inf, 'LEG HIT': -inf, 'LEG COAT': -inf, 'LEG NEW-YORK': -inf, 'LEG BROCCOLI': -inf, 'LEG MOTHER': -inf, 'LEG EAT': -inf, 'LEG IX': -inf, 'LEG CANDY': -inf, 'LEG NEXT-WEEK': -inf, 'LEG THINK': -inf, 'LEG SELL': -inf, 'LEG STOLEN': -inf, 'LEG SELF': -inf, 'LEG SAY-1P': -inf, 'LEG CHICKEN': -inf, 'LEG JANA': -inf, 'LEG THROW': -inf, 'LEG <START>': -inf, 'LEG <END>': -6.5496507422338102, 'BILL BOX': -inf, 'BILL BOY': -inf, 'BILL PUTASIDE': -inf, 'BILL SUE': -inf, 'BILL HAVE': -inf, 'BILL GIRL': -inf, 'BILL WONT': -inf, 'BILL WOMAN': -inf, 'BILL MANY': -inf, 'BILL PEOPLE': -inf, 'BILL LIVE': -inf, 'BILL CHICAGO': -inf, 'BILL PAST': -inf, 'BILL GO': -inf, 'BILL PARTY': -inf, 'BILL NAME': -inf, 'BILL FRANK': -inf, 'BILL BLAME': -inf, 'BILL FUTURE': -inf, 'BILL HOUSE': -inf, 'BILL MAN': -inf, 'BILL GROUP': -inf, 'BILL WANT': -inf, 'BILL VIDEOTAPE': -inf, 'BILL MOVIE': -inf, 'BILL PREFER': -inf, 'BILL BROTHER': -inf, 'BILL BORROW': -inf, 'BILL LEAVE': -inf, 'BILL FIND': -inf, 'BILL WILL': -inf, 'BILL WHAT': -6.5496507422338102, 'BILL BUY': -inf, 'BILL GET': -inf, 'BILL BUT': -inf, 'BILL CHOCOLATE': -inf, 'BILL HOMEWORK': -inf, 'BILL FINISH': -inf, 'BILL LOVE': -inf, 'BILL VISIT': -inf, 'BILL SOMETHING-ONE': -inf, 'BILL POSS': -inf, 'BILL POTATO': -inf, 'BILL ANN': -inf, 'BILL TELL': -inf, 'BILL BREAK-DOWN': -inf, 'BILL NOT': -inf, 'BILL TEACHER': -inf, 'BILL IX-1P': -inf, 'BILL GIVE': -inf, 'BILL READ': -inf, 'BILL FISH': -inf, 'BILL KNOW': -inf, 'BILL DECIDE': -inf, 'BILL SEARCH-FOR': -inf, 'BILL NEW': -inf, 'BILL OLD': -inf, 'BILL APPLE': -inf, 'BILL SHOOT': -inf, 'BILL WHO': -inf, 'BILL SAY': -6.5496507422338102, 'BILL TOMORROW': -inf, 'BILL SEE': -inf, 'BILL ARRIVE': -inf, 'BILL FRIEND': -inf, 'BILL CORN': -inf, 'BILL HERE': -inf, 'BILL FRED': -inf, 'BILL WRITE': -inf, 'BILL VEGETABLE': -inf, 'BILL BLUE': -inf, 'BILL ALL': -inf, 'BILL JOHN': -inf, 'BILL LIKE': -inf, 'BILL LEG': -inf, 'BILL BILL': -inf, 'BILL LAST-WEEK': -inf, 'BILL YESTERDAY': -5.8565035616738648, 'BILL SHOULD': -inf, 'BILL BOOK': -inf, 'BILL CHINA': -inf, 'BILL STUDENT': -inf, 'BILL MARY': -6.5496507422338102, 'BILL TOY': -inf, 'BILL CAR': -inf, 'BILL CAN': -inf, 'BILL HIT': -inf, 'BILL COAT': -inf, 'BILL NEW-YORK': -inf, 'BILL BROCCOLI': -inf, 'BILL MOTHER': -inf, 'BILL EAT': -inf, 'BILL IX': -inf, 'BILL CANDY': -inf, 'BILL NEXT-WEEK': -inf, 'BILL THINK': -inf, 'BILL SELL': -inf, 'BILL STOLEN': -inf, 'BILL SELF': -inf, 'BILL SAY-1P': -inf, 'BILL CHICKEN': -inf, 'BILL JANA': -inf, 'BILL THROW': -inf, 'BILL <START>': -inf, 'BILL <END>': -inf, 'LAST-WEEK BOX': -inf, 'LAST-WEEK BOY': -inf, 'LAST-WEEK PUTASIDE': -inf, 'LAST-WEEK SUE': -inf, 'LAST-WEEK HAVE': -inf, 'LAST-WEEK GIRL': -inf, 'LAST-WEEK WONT': -inf, 'LAST-WEEK WOMAN': -inf, 'LAST-WEEK MANY': -inf, 'LAST-WEEK PEOPLE': -inf, 'LAST-WEEK LIVE': -inf, 'LAST-WEEK CHICAGO': -inf, 'LAST-WEEK PAST': -inf, 'LAST-WEEK GO': -inf, 'LAST-WEEK PARTY': -inf, 'LAST-WEEK NAME': -inf, 'LAST-WEEK FRANK': -inf, 'LAST-WEEK BLAME': -inf, 'LAST-WEEK FUTURE': -inf, 'LAST-WEEK HOUSE': -inf, 'LAST-WEEK MAN': -inf, 'LAST-WEEK GROUP': -inf, 'LAST-WEEK WANT': -inf, 'LAST-WEEK VIDEOTAPE': -inf, 'LAST-WEEK MOVIE': -inf, 'LAST-WEEK PREFER': -inf, 'LAST-WEEK BROTHER': -inf, 'LAST-WEEK BORROW': -inf, 'LAST-WEEK LEAVE': -inf, 'LAST-WEEK FIND': -inf, 'LAST-WEEK WILL': -inf, 'LAST-WEEK WHAT': -inf, 'LAST-WEEK BUY': -inf, 'LAST-WEEK GET': -inf, 'LAST-WEEK BUT': -inf, 'LAST-WEEK CHOCOLATE': -inf, 'LAST-WEEK HOMEWORK': -inf, 'LAST-WEEK FINISH': -inf, 'LAST-WEEK LOVE': -inf, 'LAST-WEEK VISIT': -inf, 'LAST-WEEK SOMETHING-ONE': -inf, 'LAST-WEEK POSS': -inf, 'LAST-WEEK POTATO': -inf, 'LAST-WEEK ANN': -inf, 'LAST-WEEK TELL': -inf, 'LAST-WEEK BREAK-DOWN': -inf, 'LAST-WEEK NOT': -inf, 'LAST-WEEK TEACHER': -inf, 'LAST-WEEK IX-1P': -inf, 'LAST-WEEK GIVE': -inf, 'LAST-WEEK READ': -inf, 'LAST-WEEK FISH': -inf, 'LAST-WEEK KNOW': -inf, 'LAST-WEEK DECIDE': -inf, 'LAST-WEEK SEARCH-FOR': -inf, 'LAST-WEEK NEW': -inf, 'LAST-WEEK OLD': -inf, 'LAST-WEEK APPLE': -inf, 'LAST-WEEK SHOOT': -inf, 'LAST-WEEK WHO': -inf, 'LAST-WEEK SAY': -inf, 'LAST-WEEK TOMORROW': -inf, 'LAST-WEEK SEE': -inf, 'LAST-WEEK ARRIVE': -inf, 'LAST-WEEK FRIEND': -inf, 'LAST-WEEK CORN': -inf, 'LAST-WEEK HERE': -inf, 'LAST-WEEK FRED': -inf, 'LAST-WEEK WRITE': -inf, 'LAST-WEEK VEGETABLE': -inf, 'LAST-WEEK BLUE': -inf, 'LAST-WEEK ALL': -inf, 'LAST-WEEK JOHN': -6.5496507422338102, 'LAST-WEEK LIKE': -inf, 'LAST-WEEK LEG': -inf, 'LAST-WEEK BILL': -inf, 'LAST-WEEK LAST-WEEK': -inf, 'LAST-WEEK YESTERDAY': -inf, 'LAST-WEEK SHOULD': -inf, 'LAST-WEEK BOOK': -inf, 'LAST-WEEK CHINA': -inf, 'LAST-WEEK STUDENT': -inf, 'LAST-WEEK MARY': -inf, 'LAST-WEEK TOY': -inf, 'LAST-WEEK CAR': -inf, 'LAST-WEEK CAN': -inf, 'LAST-WEEK HIT': -inf, 'LAST-WEEK COAT': -inf, 'LAST-WEEK NEW-YORK': -inf, 'LAST-WEEK BROCCOLI': -inf, 'LAST-WEEK MOTHER': -inf, 'LAST-WEEK EAT': -inf, 'LAST-WEEK IX': -inf, 'LAST-WEEK CANDY': -inf, 'LAST-WEEK NEXT-WEEK': -inf, 'LAST-WEEK THINK': -inf, 'LAST-WEEK SELL': -inf, 'LAST-WEEK STOLEN': -inf, 'LAST-WEEK SELF': -inf, 'LAST-WEEK SAY-1P': -inf, 'LAST-WEEK CHICKEN': -inf, 'LAST-WEEK JANA': -inf, 'LAST-WEEK THROW': -inf, 'LAST-WEEK <START>': -inf, 'LAST-WEEK <END>': -inf, 'YESTERDAY BOX': -inf, 'YESTERDAY BOY': -inf, 'YESTERDAY PUTASIDE': -inf, 'YESTERDAY SUE': -inf, 'YESTERDAY HAVE': -inf, 'YESTERDAY GIRL': -inf, 'YESTERDAY WONT': -inf, 'YESTERDAY WOMAN': -inf, 'YESTERDAY MANY': -inf, 'YESTERDAY PEOPLE': -inf, 'YESTERDAY LIVE': -inf, 'YESTERDAY CHICAGO': -inf, 'YESTERDAY PAST': -inf, 'YESTERDAY GO': -inf, 'YESTERDAY PARTY': -inf, 'YESTERDAY NAME': -inf, 'YESTERDAY FRANK': -inf, 'YESTERDAY BLAME': -inf, 'YESTERDAY FUTURE': -inf, 'YESTERDAY HOUSE': -inf, 'YESTERDAY MAN': -inf, 'YESTERDAY GROUP': -inf, 'YESTERDAY WANT': -inf, 'YESTERDAY VIDEOTAPE': -inf, 'YESTERDAY MOVIE': -inf, 'YESTERDAY PREFER': -inf, 'YESTERDAY BROTHER': -inf, 'YESTERDAY BORROW': -inf, 'YESTERDAY LEAVE': -inf, 'YESTERDAY FIND': -inf, 'YESTERDAY WILL': -inf, 'YESTERDAY WHAT': -5.8565035616738648, 'YESTERDAY BUY': -inf, 'YESTERDAY GET': -inf, 'YESTERDAY BUT': -inf, 'YESTERDAY CHOCOLATE': -inf, 'YESTERDAY HOMEWORK': -inf, 'YESTERDAY FINISH': -inf, 'YESTERDAY LOVE': -inf, 'YESTERDAY VISIT': -inf, 'YESTERDAY SOMETHING-ONE': -inf, 'YESTERDAY POSS': -inf, 'YESTERDAY POTATO': -inf, 'YESTERDAY ANN': -inf, 'YESTERDAY TELL': -inf, 'YESTERDAY BREAK-DOWN': -inf, 'YESTERDAY NOT': -inf, 'YESTERDAY TEACHER': -inf, 'YESTERDAY IX-1P': -inf, 'YESTERDAY GIVE': -inf, 'YESTERDAY READ': -inf, 'YESTERDAY FISH': -inf, 'YESTERDAY KNOW': -inf, 'YESTERDAY DECIDE': -inf, 'YESTERDAY SEARCH-FOR': -inf, 'YESTERDAY NEW': -inf, 'YESTERDAY OLD': -inf, 'YESTERDAY APPLE': -inf, 'YESTERDAY SHOOT': -inf, 'YESTERDAY WHO': -5.8565035616738648, 'YESTERDAY SAY': -inf, 'YESTERDAY TOMORROW': -inf, 'YESTERDAY SEE': -inf, 'YESTERDAY ARRIVE': -inf, 'YESTERDAY FRIEND': -inf, 'YESTERDAY CORN': -inf, 'YESTERDAY HERE': -inf, 'YESTERDAY FRED': -inf, 'YESTERDAY WRITE': -inf, 'YESTERDAY VEGETABLE': -inf, 'YESTERDAY BLUE': -inf, 'YESTERDAY ALL': -inf, 'YESTERDAY JOHN': -inf, 'YESTERDAY LIKE': -inf, 'YESTERDAY LEG': -inf, 'YESTERDAY BILL': -inf, 'YESTERDAY LAST-WEEK': -inf, 'YESTERDAY YESTERDAY': -inf, 'YESTERDAY SHOULD': -inf, 'YESTERDAY BOOK': -6.5496507422338102, 'YESTERDAY CHINA': -inf, 'YESTERDAY STUDENT': -inf, 'YESTERDAY MARY': -inf, 'YESTERDAY TOY': -inf, 'YESTERDAY CAR': -inf, 'YESTERDAY CAN': -inf, 'YESTERDAY HIT': -inf, 'YESTERDAY COAT': -inf, 'YESTERDAY NEW-YORK': -inf, 'YESTERDAY BROCCOLI': -inf, 'YESTERDAY MOTHER': -inf, 'YESTERDAY EAT': -inf, 'YESTERDAY IX': -6.5496507422338102, 'YESTERDAY CANDY': -inf, 'YESTERDAY NEXT-WEEK': -inf, 'YESTERDAY THINK': -inf, 'YESTERDAY SELL': -inf, 'YESTERDAY STOLEN': -inf, 'YESTERDAY SELF': -inf, 'YESTERDAY SAY-1P': -inf, 'YESTERDAY CHICKEN': -inf, 'YESTERDAY JANA': -inf, 'YESTERDAY THROW': -inf, 'YESTERDAY <START>': -inf, 'YESTERDAY <END>': -6.5496507422338102, 'SHOULD BOX': -inf, 'SHOULD BOY': -inf, 'SHOULD PUTASIDE': -inf, 'SHOULD SUE': -inf, 'SHOULD HAVE': -inf, 'SHOULD GIRL': -inf, 'SHOULD WONT': -inf, 'SHOULD WOMAN': -inf, 'SHOULD MANY': -inf, 'SHOULD PEOPLE': -inf, 'SHOULD LIVE': -inf, 'SHOULD CHICAGO': -inf, 'SHOULD PAST': -inf, 'SHOULD GO': -6.5496507422338102, 'SHOULD PARTY': -inf, 'SHOULD NAME': -inf, 'SHOULD FRANK': -inf, 'SHOULD BLAME': -inf, 'SHOULD FUTURE': -inf, 'SHOULD HOUSE': -inf, 'SHOULD MAN': -inf, 'SHOULD GROUP': -inf, 'SHOULD WANT': -inf, 'SHOULD VIDEOTAPE': -inf, 'SHOULD MOVIE': -inf, 'SHOULD PREFER': -inf, 'SHOULD BROTHER': -inf, 'SHOULD BORROW': -inf, 'SHOULD LEAVE': -inf, 'SHOULD FIND': -inf, 'SHOULD WILL': -inf, 'SHOULD WHAT': -inf, 'SHOULD BUY': -6.5496507422338102, 'SHOULD GET': -inf, 'SHOULD BUT': -inf, 'SHOULD CHOCOLATE': -inf, 'SHOULD HOMEWORK': -inf, 'SHOULD FINISH': -6.5496507422338102, 'SHOULD LOVE': -inf, 'SHOULD VISIT': -inf, 'SHOULD SOMETHING-ONE': -inf, 'SHOULD POSS': -inf, 'SHOULD POTATO': -inf, 'SHOULD ANN': -inf, 'SHOULD TELL': -inf, 'SHOULD BREAK-DOWN': -inf, 'SHOULD NOT': -6.5496507422338102, 'SHOULD TEACHER': -inf, 'SHOULD IX-1P': -inf, 'SHOULD GIVE': -inf, 'SHOULD READ': -inf, 'SHOULD FISH': -inf, 'SHOULD KNOW': -inf, 'SHOULD DECIDE': -inf, 'SHOULD SEARCH-FOR': -inf, 'SHOULD NEW': -inf, 'SHOULD OLD': -inf, 'SHOULD APPLE': -inf, 'SHOULD SHOOT': -inf, 'SHOULD WHO': -inf, 'SHOULD SAY': -inf, 'SHOULD TOMORROW': -inf, 'SHOULD SEE': -inf, 'SHOULD ARRIVE': -inf, 'SHOULD FRIEND': -inf, 'SHOULD CORN': -inf, 'SHOULD HERE': -inf, 'SHOULD FRED': -inf, 'SHOULD WRITE': -inf, 'SHOULD VEGETABLE': -inf, 'SHOULD BLUE': -inf, 'SHOULD ALL': -inf, 'SHOULD JOHN': -inf, 'SHOULD LIKE': -inf, 'SHOULD LEG': -inf, 'SHOULD BILL': -inf, 'SHOULD LAST-WEEK': -inf, 'SHOULD YESTERDAY': -inf, 'SHOULD SHOULD': -5.8565035616738648, 'SHOULD BOOK': -inf, 'SHOULD CHINA': -inf, 'SHOULD STUDENT': -inf, 'SHOULD MARY': -inf, 'SHOULD TOY': -inf, 'SHOULD CAR': -inf, 'SHOULD CAN': -inf, 'SHOULD HIT': -inf, 'SHOULD COAT': -inf, 'SHOULD NEW-YORK': -inf, 'SHOULD BROCCOLI': -inf, 'SHOULD MOTHER': -inf, 'SHOULD EAT': -inf, 'SHOULD IX': -inf, 'SHOULD CANDY': -inf, 'SHOULD NEXT-WEEK': -inf, 'SHOULD THINK': -inf, 'SHOULD SELL': -inf, 'SHOULD STOLEN': -inf, 'SHOULD SELF': -inf, 'SHOULD SAY-1P': -inf, 'SHOULD CHICKEN': -inf, 'SHOULD JANA': -inf, 'SHOULD THROW': -inf, 'SHOULD <START>': -inf, 'SHOULD <END>': -5.4510384535657002, 'BOOK BOX': -inf, 'BOOK BOY': -inf, 'BOOK PUTASIDE': -6.5496507422338102, 'BOOK SUE': -inf, 'BOOK HAVE': -inf, 'BOOK GIRL': -inf, 'BOOK WONT': -inf, 'BOOK WOMAN': -inf, 'BOOK MANY': -inf, 'BOOK PEOPLE': -inf, 'BOOK LIVE': -inf, 'BOOK CHICAGO': -inf, 'BOOK PAST': -inf, 'BOOK GO': -inf, 'BOOK PARTY': -inf, 'BOOK NAME': -inf, 'BOOK FRANK': -inf, 'BOOK BLAME': -inf, 'BOOK FUTURE': -inf, 'BOOK HOUSE': -inf, 'BOOK MAN': -inf, 'BOOK GROUP': -inf, 'BOOK WANT': -inf, 'BOOK VIDEOTAPE': -inf, 'BOOK MOVIE': -inf, 'BOOK PREFER': -inf, 'BOOK BROTHER': -inf, 'BOOK BORROW': -inf, 'BOOK LEAVE': -inf, 'BOOK FIND': -inf, 'BOOK WILL': -inf, 'BOOK WHAT': -6.5496507422338102, 'BOOK BUY': -inf, 'BOOK GET': -inf, 'BOOK BUT': -inf, 'BOOK CHOCOLATE': -inf, 'BOOK HOMEWORK': -inf, 'BOOK FINISH': -inf, 'BOOK LOVE': -inf, 'BOOK VISIT': -inf, 'BOOK SOMETHING-ONE': -inf, 'BOOK POSS': -inf, 'BOOK POTATO': -inf, 'BOOK ANN': -inf, 'BOOK TELL': -inf, 'BOOK BREAK-DOWN': -inf, 'BOOK NOT': -inf, 'BOOK TEACHER': -inf, 'BOOK IX-1P': -inf, 'BOOK GIVE': -inf, 'BOOK READ': -inf, 'BOOK FISH': -inf, 'BOOK KNOW': -inf, 'BOOK DECIDE': -inf, 'BOOK SEARCH-FOR': -inf, 'BOOK NEW': -inf, 'BOOK OLD': -inf, 'BOOK APPLE': -inf, 'BOOK SHOOT': -inf, 'BOOK WHO': -inf, 'BOOK SAY': -inf, 'BOOK TOMORROW': -inf, 'BOOK SEE': -inf, 'BOOK ARRIVE': -inf, 'BOOK FRIEND': -inf, 'BOOK CORN': -inf, 'BOOK HERE': -inf, 'BOOK FRED': -inf, 'BOOK WRITE': -inf, 'BOOK VEGETABLE': -inf, 'BOOK BLUE': -inf, 'BOOK ALL': -inf, 'BOOK JOHN': -inf, 'BOOK LIKE': -inf, 'BOOK LEG': -inf, 'BOOK BILL': -inf, 'BOOK LAST-WEEK': -inf, 'BOOK YESTERDAY': -inf, 'BOOK SHOULD': -inf, 'BOOK BOOK': -inf, 'BOOK CHINA': -inf, 'BOOK STUDENT': -inf, 'BOOK MARY': -inf, 'BOOK TOY': -inf, 'BOOK CAR': -inf, 'BOOK CAN': -inf, 'BOOK HIT': -inf, 'BOOK COAT': -inf, 'BOOK NEW-YORK': -inf, 'BOOK BROCCOLI': -inf, 'BOOK MOTHER': -inf, 'BOOK EAT': -inf, 'BOOK IX': -inf, 'BOOK CANDY': -inf, 'BOOK NEXT-WEEK': -inf, 'BOOK THINK': -inf, 'BOOK SELL': -inf, 'BOOK STOLEN': -inf, 'BOOK SELF': -inf, 'BOOK SAY-1P': -inf, 'BOOK CHICKEN': -inf, 'BOOK JANA': -inf, 'BOOK THROW': -inf, 'BOOK <START>': -inf, 'BOOK <END>': -4.0647440924458103, 'CHINA BOX': -inf, 'CHINA BOY': -inf, 'CHINA PUTASIDE': -inf, 'CHINA SUE': -inf, 'CHINA HAVE': -inf, 'CHINA GIRL': -inf, 'CHINA WONT': -inf, 'CHINA WOMAN': -inf, 'CHINA MANY': -inf, 'CHINA PEOPLE': -inf, 'CHINA LIVE': -inf, 'CHINA CHICAGO': -inf, 'CHINA PAST': -inf, 'CHINA GO': -inf, 'CHINA PARTY': -inf, 'CHINA NAME': -inf, 'CHINA FRANK': -inf, 'CHINA BLAME': -inf, 'CHINA FUTURE': -inf, 'CHINA HOUSE': -inf, 'CHINA MAN': -inf, 'CHINA GROUP': -inf, 'CHINA WANT': -inf, 'CHINA VIDEOTAPE': -inf, 'CHINA MOVIE': -inf, 'CHINA PREFER': -inf, 'CHINA BROTHER': -inf, 'CHINA BORROW': -inf, 'CHINA LEAVE': -inf, 'CHINA FIND': -inf, 'CHINA WILL': -inf, 'CHINA WHAT': -inf, 'CHINA BUY': -inf, 'CHINA GET': -inf, 'CHINA BUT': -inf, 'CHINA CHOCOLATE': -inf, 'CHINA HOMEWORK': -inf, 'CHINA FINISH': -inf, 'CHINA LOVE': -inf, 'CHINA VISIT': -inf, 'CHINA SOMETHING-ONE': -inf, 'CHINA POSS': -inf, 'CHINA POTATO': -inf, 'CHINA ANN': -inf, 'CHINA TELL': -inf, 'CHINA BREAK-DOWN': -inf, 'CHINA NOT': -inf, 'CHINA TEACHER': -inf, 'CHINA IX-1P': -inf, 'CHINA GIVE': -inf, 'CHINA READ': -inf, 'CHINA FISH': -inf, 'CHINA KNOW': -inf, 'CHINA DECIDE': -inf, 'CHINA SEARCH-FOR': -inf, 'CHINA NEW': -inf, 'CHINA OLD': -inf, 'CHINA APPLE': -inf, 'CHINA SHOOT': -inf, 'CHINA WHO': -inf, 'CHINA SAY': -inf, 'CHINA TOMORROW': -inf, 'CHINA SEE': -inf, 'CHINA ARRIVE': -inf, 'CHINA FRIEND': -inf, 'CHINA CORN': -inf, 'CHINA HERE': -inf, 'CHINA FRED': -inf, 'CHINA WRITE': -inf, 'CHINA VEGETABLE': -inf, 'CHINA BLUE': -inf, 'CHINA ALL': -inf, 'CHINA JOHN': -inf, 'CHINA LIKE': -inf, 'CHINA LEG': -inf, 'CHINA BILL': -inf, 'CHINA LAST-WEEK': -inf, 'CHINA YESTERDAY': -inf, 'CHINA SHOULD': -inf, 'CHINA BOOK': -inf, 'CHINA CHINA': -inf, 'CHINA STUDENT': -inf, 'CHINA MARY': -inf, 'CHINA TOY': -inf, 'CHINA CAR': -inf, 'CHINA CAN': -inf, 'CHINA HIT': -inf, 'CHINA COAT': -inf, 'CHINA NEW-YORK': -inf, 'CHINA BROCCOLI': -inf, 'CHINA MOTHER': -inf, 'CHINA EAT': -inf, 'CHINA IX': -6.5496507422338102, 'CHINA CANDY': -inf, 'CHINA NEXT-WEEK': -inf, 'CHINA THINK': -inf, 'CHINA SELL': -inf, 'CHINA STOLEN': -inf, 'CHINA SELF': -inf, 'CHINA SAY-1P': -inf, 'CHINA CHICKEN': -inf, 'CHINA JANA': -inf, 'CHINA THROW': -inf, 'CHINA <START>': -inf, 'CHINA <END>': -inf, 'STUDENT BOX': -inf, 'STUDENT BOY': -inf, 'STUDENT PUTASIDE': -inf, 'STUDENT SUE': -inf, 'STUDENT HAVE': -6.5496507422338102, 'STUDENT GIRL': -inf, 'STUDENT WONT': -inf, 'STUDENT WOMAN': -inf, 'STUDENT MANY': -inf, 'STUDENT PEOPLE': -inf, 'STUDENT LIVE': -inf, 'STUDENT CHICAGO': -inf, 'STUDENT PAST': -inf, 'STUDENT GO': -inf, 'STUDENT PARTY': -inf, 'STUDENT NAME': -inf, 'STUDENT FRANK': -inf, 'STUDENT BLAME': -inf, 'STUDENT FUTURE': -inf, 'STUDENT HOUSE': -inf, 'STUDENT MAN': -inf, 'STUDENT GROUP': -inf, 'STUDENT WANT': -inf, 'STUDENT VIDEOTAPE': -inf, 'STUDENT MOVIE': -inf, 'STUDENT PREFER': -inf, 'STUDENT BROTHER': -inf, 'STUDENT BORROW': -inf, 'STUDENT LEAVE': -inf, 'STUDENT FIND': -inf, 'STUDENT WILL': -inf, 'STUDENT WHAT': -inf, 'STUDENT BUY': -inf, 'STUDENT GET': -inf, 'STUDENT BUT': -inf, 'STUDENT CHOCOLATE': -inf, 'STUDENT HOMEWORK': -inf, 'STUDENT FINISH': -inf, 'STUDENT LOVE': -inf, 'STUDENT VISIT': -inf, 'STUDENT SOMETHING-ONE': -6.5496507422338102, 'STUDENT POSS': -inf, 'STUDENT POTATO': -inf, 'STUDENT ANN': -inf, 'STUDENT TELL': -inf, 'STUDENT BREAK-DOWN': -inf, 'STUDENT NOT': -inf, 'STUDENT TEACHER': -inf, 'STUDENT IX-1P': -inf, 'STUDENT GIVE': -inf, 'STUDENT READ': -inf, 'STUDENT FISH': -inf, 'STUDENT KNOW': -inf, 'STUDENT DECIDE': -inf, 'STUDENT SEARCH-FOR': -inf, 'STUDENT NEW': -inf, 'STUDENT OLD': -inf, 'STUDENT APPLE': -inf, 'STUDENT SHOOT': -inf, 'STUDENT WHO': -inf, 'STUDENT SAY': -inf, 'STUDENT TOMORROW': -inf, 'STUDENT SEE': -inf, 'STUDENT ARRIVE': -inf, 'STUDENT FRIEND': -inf, 'STUDENT CORN': -inf, 'STUDENT HERE': -inf, 'STUDENT FRED': -inf, 'STUDENT WRITE': -inf, 'STUDENT VEGETABLE': -inf, 'STUDENT BLUE': -inf, 'STUDENT ALL': -inf, 'STUDENT JOHN': -inf, 'STUDENT LIKE': -inf, 'STUDENT LEG': -inf, 'STUDENT BILL': -inf, 'STUDENT LAST-WEEK': -inf, 'STUDENT YESTERDAY': -inf, 'STUDENT SHOULD': -inf, 'STUDENT BOOK': -inf, 'STUDENT CHINA': -inf, 'STUDENT STUDENT': -inf, 'STUDENT MARY': -inf, 'STUDENT TOY': -inf, 'STUDENT CAR': -inf, 'STUDENT CAN': -inf, 'STUDENT HIT': -inf, 'STUDENT COAT': -inf, 'STUDENT NEW-YORK': -inf, 'STUDENT BROCCOLI': -inf, 'STUDENT MOTHER': -inf, 'STUDENT EAT': -inf, 'STUDENT IX': -inf, 'STUDENT CANDY': -inf, 'STUDENT NEXT-WEEK': -inf, 'STUDENT THINK': -inf, 'STUDENT SELL': -inf, 'STUDENT STOLEN': -inf, 'STUDENT SELF': -inf, 'STUDENT SAY-1P': -inf, 'STUDENT CHICKEN': -inf, 'STUDENT JANA': -inf, 'STUDENT THROW': -inf, 'STUDENT <START>': -inf, 'STUDENT <END>': -inf, 'MARY BOX': -inf, 'MARY BOY': -inf, 'MARY PUTASIDE': -inf, 'MARY SUE': -inf, 'MARY HAVE': -inf, 'MARY GIRL': -inf, 'MARY WONT': -6.5496507422338102, 'MARY WOMAN': -inf, 'MARY MANY': -inf, 'MARY PEOPLE': -inf, 'MARY LIVE': -inf, 'MARY CHICAGO': -inf, 'MARY PAST': -inf, 'MARY GO': -inf, 'MARY PARTY': -inf, 'MARY NAME': -inf, 'MARY FRANK': -inf, 'MARY BLAME': -6.5496507422338102, 'MARY FUTURE': -inf, 'MARY HOUSE': -inf, 'MARY MAN': -inf, 'MARY GROUP': -inf, 'MARY WANT': -inf, 'MARY VIDEOTAPE': -inf, 'MARY MOVIE': -inf, 'MARY PREFER': -inf, 'MARY BROTHER': -inf, 'MARY BORROW': -inf, 'MARY LEAVE': -inf, 'MARY FIND': -inf, 'MARY WILL': -inf, 'MARY WHAT': -inf, 'MARY BUY': -inf, 'MARY GET': -inf, 'MARY BUT': -inf, 'MARY CHOCOLATE': -inf, 'MARY HOMEWORK': -inf, 'MARY FINISH': -inf, 'MARY LOVE': -5.8565035616738648, 'MARY VISIT': -6.5496507422338102, 'MARY SOMETHING-ONE': -inf, 'MARY POSS': -inf, 'MARY POTATO': -inf, 'MARY ANN': -inf, 'MARY TELL': -inf, 'MARY BREAK-DOWN': -inf, 'MARY NOT': -inf, 'MARY TEACHER': -inf, 'MARY IX-1P': -6.5496507422338102, 'MARY GIVE': -inf, 'MARY READ': -inf, 'MARY FISH': -inf, 'MARY KNOW': -inf, 'MARY DECIDE': -inf, 'MARY SEARCH-FOR': -inf, 'MARY NEW': -inf, 'MARY OLD': -inf, 'MARY APPLE': -inf, 'MARY SHOOT': -inf, 'MARY WHO': -inf, 'MARY SAY': -inf, 'MARY TOMORROW': -inf, 'MARY SEE': -inf, 'MARY ARRIVE': -inf, 'MARY FRIEND': -inf, 'MARY CORN': -inf, 'MARY HERE': -inf, 'MARY FRED': -inf, 'MARY WRITE': -inf, 'MARY VEGETABLE': -5.8565035616738648, 'MARY BLUE': -inf, 'MARY ALL': -inf, 'MARY JOHN': -5.8565035616738648, 'MARY LIKE': -inf, 'MARY LEG': -inf, 'MARY BILL': -6.5496507422338102, 'MARY LAST-WEEK': -inf, 'MARY YESTERDAY': -inf, 'MARY SHOULD': -inf, 'MARY BOOK': -inf, 'MARY CHINA': -inf, 'MARY STUDENT': -inf, 'MARY MARY': -inf, 'MARY TOY': -inf, 'MARY CAR': -inf, 'MARY CAN': -inf, 'MARY HIT': -inf, 'MARY COAT': -inf, 'MARY NEW-YORK': -inf, 'MARY BROCCOLI': -inf, 'MARY MOTHER': -inf, 'MARY EAT': -inf, 'MARY IX': -inf, 'MARY CANDY': -inf, 'MARY NEXT-WEEK': -inf, 'MARY THINK': -inf, 'MARY SELL': -inf, 'MARY STOLEN': -inf, 'MARY SELF': -5.8565035616738648, 'MARY SAY-1P': -inf, 'MARY CHICKEN': -inf, 'MARY JANA': -inf, 'MARY THROW': -inf, 'MARY <START>': -inf, 'MARY <END>': -3.6592789843376456, 'TOY BOX': -inf, 'TOY BOY': -inf, 'TOY PUTASIDE': -inf, 'TOY SUE': -inf, 'TOY HAVE': -inf, 'TOY GIRL': -inf, 'TOY WONT': -inf, 'TOY WOMAN': -inf, 'TOY MANY': -inf, 'TOY PEOPLE': -inf, 'TOY LIVE': -inf, 'TOY CHICAGO': -inf, 'TOY PAST': -inf, 'TOY GO': -inf, 'TOY PARTY': -inf, 'TOY NAME': -inf, 'TOY FRANK': -inf, 'TOY BLAME': -inf, 'TOY FUTURE': -inf, 'TOY HOUSE': -inf, 'TOY MAN': -inf, 'TOY GROUP': -inf, 'TOY WANT': -inf, 'TOY VIDEOTAPE': -inf, 'TOY MOVIE': -inf, 'TOY PREFER': -inf, 'TOY BROTHER': -inf, 'TOY BORROW': -inf, 'TOY LEAVE': -inf, 'TOY FIND': -inf, 'TOY WILL': -inf, 'TOY WHAT': -inf, 'TOY BUY': -inf, 'TOY GET': -inf, 'TOY BUT': -inf, 'TOY CHOCOLATE': -inf, 'TOY HOMEWORK': -inf, 'TOY FINISH': -inf, 'TOY LOVE': -inf, 'TOY VISIT': -inf, 'TOY SOMETHING-ONE': -inf, 'TOY POSS': -inf, 'TOY POTATO': -inf, 'TOY ANN': -inf, 'TOY TELL': -inf, 'TOY BREAK-DOWN': -inf, 'TOY NOT': -inf, 'TOY TEACHER': -inf, 'TOY IX-1P': -inf, 'TOY GIVE': -inf, 'TOY READ': -inf, 'TOY FISH': -inf, 'TOY KNOW': -inf, 'TOY DECIDE': -inf, 'TOY SEARCH-FOR': -inf, 'TOY NEW': -inf, 'TOY OLD': -inf, 'TOY APPLE': -inf, 'TOY SHOOT': -inf, 'TOY WHO': -inf, 'TOY SAY': -inf, 'TOY TOMORROW': -inf, 'TOY SEE': -inf, 'TOY ARRIVE': -inf, 'TOY FRIEND': -inf, 'TOY CORN': -inf, 'TOY HERE': -inf, 'TOY FRED': -inf, 'TOY WRITE': -inf, 'TOY VEGETABLE': -inf, 'TOY BLUE': -inf, 'TOY ALL': -inf, 'TOY JOHN': -inf, 'TOY LIKE': -inf, 'TOY LEG': -inf, 'TOY BILL': -inf, 'TOY LAST-WEEK': -inf, 'TOY YESTERDAY': -inf, 'TOY SHOULD': -inf, 'TOY BOOK': -inf, 'TOY CHINA': -inf, 'TOY STUDENT': -inf, 'TOY MARY': -inf, 'TOY TOY': -inf, 'TOY CAR': -inf, 'TOY CAN': -inf, 'TOY HIT': -inf, 'TOY COAT': -inf, 'TOY NEW-YORK': -inf, 'TOY BROCCOLI': -inf, 'TOY MOTHER': -inf, 'TOY EAT': -inf, 'TOY IX': -inf, 'TOY CANDY': -inf, 'TOY NEXT-WEEK': -inf, 'TOY THINK': -inf, 'TOY SELL': -inf, 'TOY STOLEN': -inf, 'TOY SELF': -inf, 'TOY SAY-1P': -inf, 'TOY CHICKEN': -inf, 'TOY JANA': -inf, 'TOY THROW': -inf, 'TOY <START>': -inf, 'TOY <END>': -5.8565035616738648, 'CAR BOX': -inf, 'CAR BOY': -inf, 'CAR PUTASIDE': -inf, 'CAR SUE': -inf, 'CAR HAVE': -inf, 'CAR GIRL': -inf, 'CAR WONT': -inf, 'CAR WOMAN': -inf, 'CAR MANY': -inf, 'CAR PEOPLE': -inf, 'CAR LIVE': -inf, 'CAR CHICAGO': -inf, 'CAR PAST': -inf, 'CAR GO': -inf, 'CAR PARTY': -inf, 'CAR NAME': -inf, 'CAR FRANK': -inf, 'CAR BLAME': -inf, 'CAR FUTURE': -5.4510384535657002, 'CAR HOUSE': -inf, 'CAR MAN': -inf, 'CAR GROUP': -inf, 'CAR WANT': -inf, 'CAR VIDEOTAPE': -inf, 'CAR MOVIE': -inf, 'CAR PREFER': -inf, 'CAR BROTHER': -inf, 'CAR BORROW': -inf, 'CAR LEAVE': -inf, 'CAR FIND': -inf, 'CAR WILL': -inf, 'CAR WHAT': -inf, 'CAR BUY': -inf, 'CAR GET': -inf, 'CAR BUT': -inf, 'CAR CHOCOLATE': -inf, 'CAR HOMEWORK': -inf, 'CAR FINISH': -inf, 'CAR LOVE': -inf, 'CAR VISIT': -inf, 'CAR SOMETHING-ONE': -inf, 'CAR POSS': -inf, 'CAR POTATO': -inf, 'CAR ANN': -inf, 'CAR TELL': -inf, 'CAR BREAK-DOWN': -5.4510384535657002, 'CAR NOT': -inf, 'CAR TEACHER': -inf, 'CAR IX-1P': -inf, 'CAR GIVE': -inf, 'CAR READ': -inf, 'CAR FISH': -inf, 'CAR KNOW': -inf, 'CAR DECIDE': -inf, 'CAR SEARCH-FOR': -inf, 'CAR NEW': -inf, 'CAR OLD': -inf, 'CAR APPLE': -inf, 'CAR SHOOT': -inf, 'CAR WHO': -inf, 'CAR SAY': -inf, 'CAR TOMORROW': -inf, 'CAR SEE': -inf, 'CAR ARRIVE': -inf, 'CAR FRIEND': -inf, 'CAR CORN': -inf, 'CAR HERE': -inf, 'CAR FRED': -inf, 'CAR WRITE': -inf, 'CAR VEGETABLE': -inf, 'CAR BLUE': -5.8565035616738648, 'CAR ALL': -inf, 'CAR JOHN': -inf, 'CAR LIKE': -inf, 'CAR LEG': -inf, 'CAR BILL': -inf, 'CAR LAST-WEEK': -inf, 'CAR YESTERDAY': -inf, 'CAR SHOULD': -inf, 'CAR BOOK': -inf, 'CAR CHINA': -inf, 'CAR STUDENT': -inf, 'CAR MARY': -inf, 'CAR TOY': -inf, 'CAR CAR': -inf, 'CAR CAN': -inf, 'CAR HIT': -inf, 'CAR COAT': -inf, 'CAR NEW-YORK': -inf, 'CAR BROCCOLI': -inf, 'CAR MOTHER': -inf, 'CAR EAT': -inf, 'CAR IX': -inf, 'CAR CANDY': -inf, 'CAR NEXT-WEEK': -inf, 'CAR THINK': -inf, 'CAR SELL': -inf, 'CAR STOLEN': -5.8565035616738648, 'CAR SELF': -inf, 'CAR SAY-1P': -inf, 'CAR CHICKEN': -inf, 'CAR JANA': -inf, 'CAR THROW': -inf, 'CAR <START>': -inf, 'CAR <END>': -6.5496507422338102, 'CAN BOX': -inf, 'CAN BOY': -inf, 'CAN PUTASIDE': -inf, 'CAN SUE': -inf, 'CAN HAVE': -inf, 'CAN GIRL': -inf, 'CAN WONT': -inf, 'CAN WOMAN': -inf, 'CAN MANY': -inf, 'CAN PEOPLE': -inf, 'CAN LIVE': -inf, 'CAN CHICAGO': -inf, 'CAN PAST': -inf, 'CAN GO': -5.1633563811139194, 'CAN PARTY': -inf, 'CAN NAME': -inf, 'CAN FRANK': -inf, 'CAN BLAME': -inf, 'CAN FUTURE': -inf, 'CAN HOUSE': -inf, 'CAN MAN': -inf, 'CAN GROUP': -inf, 'CAN WANT': -inf, 'CAN VIDEOTAPE': -inf, 'CAN MOVIE': -inf, 'CAN PREFER': -inf, 'CAN BROTHER': -inf, 'CAN BORROW': -inf, 'CAN LEAVE': -inf, 'CAN FIND': -inf, 'CAN WILL': -inf, 'CAN WHAT': -inf, 'CAN BUY': -6.5496507422338102, 'CAN GET': -6.5496507422338102, 'CAN BUT': -inf, 'CAN CHOCOLATE': -inf, 'CAN HOMEWORK': -inf, 'CAN FINISH': -inf, 'CAN LOVE': -inf, 'CAN VISIT': -inf, 'CAN SOMETHING-ONE': -inf, 'CAN POSS': -inf, 'CAN POTATO': -inf, 'CAN ANN': -inf, 'CAN TELL': -inf, 'CAN BREAK-DOWN': -inf, 'CAN NOT': -inf, 'CAN TEACHER': -inf, 'CAN IX-1P': -inf, 'CAN GIVE': -inf, 'CAN READ': -inf, 'CAN FISH': -inf, 'CAN KNOW': -inf, 'CAN DECIDE': -inf, 'CAN SEARCH-FOR': -inf, 'CAN NEW': -inf, 'CAN OLD': -inf, 'CAN APPLE': -inf, 'CAN SHOOT': -inf, 'CAN WHO': -inf, 'CAN SAY': -inf, 'CAN TOMORROW': -inf, 'CAN SEE': -inf, 'CAN ARRIVE': -inf, 'CAN FRIEND': -inf, 'CAN CORN': -inf, 'CAN HERE': -inf, 'CAN FRED': -inf, 'CAN WRITE': -inf, 'CAN VEGETABLE': -inf, 'CAN BLUE': -inf, 'CAN ALL': -inf, 'CAN JOHN': -inf, 'CAN LIKE': -inf, 'CAN LEG': -inf, 'CAN BILL': -inf, 'CAN LAST-WEEK': -inf, 'CAN YESTERDAY': -inf, 'CAN SHOULD': -inf, 'CAN BOOK': -inf, 'CAN CHINA': -inf, 'CAN STUDENT': -inf, 'CAN MARY': -inf, 'CAN TOY': -inf, 'CAN CAR': -inf, 'CAN CAN': -inf, 'CAN HIT': -inf, 'CAN COAT': -inf, 'CAN NEW-YORK': -inf, 'CAN BROCCOLI': -inf, 'CAN MOTHER': -inf, 'CAN EAT': -6.5496507422338102, 'CAN IX': -inf, 'CAN CANDY': -inf, 'CAN NEXT-WEEK': -inf, 'CAN THINK': -inf, 'CAN SELL': -inf, 'CAN STOLEN': -inf, 'CAN SELF': -inf, 'CAN SAY-1P': -inf, 'CAN CHICKEN': -inf, 'CAN JANA': -inf, 'CAN THROW': -inf, 'CAN <START>': -inf, 'CAN <END>': -4.9402128297997097, 'HIT BOX': -inf, 'HIT BOY': -inf, 'HIT PUTASIDE': -inf, 'HIT SUE': -inf, 'HIT HAVE': -inf, 'HIT GIRL': -inf, 'HIT WONT': -inf, 'HIT WOMAN': -inf, 'HIT MANY': -inf, 'HIT PEOPLE': -inf, 'HIT LIVE': -inf, 'HIT CHICAGO': -inf, 'HIT PAST': -inf, 'HIT GO': -inf, 'HIT PARTY': -inf, 'HIT NAME': -inf, 'HIT FRANK': -inf, 'HIT BLAME': -6.5496507422338102, 'HIT FUTURE': -inf, 'HIT HOUSE': -inf, 'HIT MAN': -inf, 'HIT GROUP': -inf, 'HIT WANT': -inf, 'HIT VIDEOTAPE': -inf, 'HIT MOVIE': -inf, 'HIT PREFER': -inf, 'HIT BROTHER': -inf, 'HIT BORROW': -inf, 'HIT LEAVE': -inf, 'HIT FIND': -inf, 'HIT WILL': -inf, 'HIT WHAT': -inf, 'HIT BUY': -inf, 'HIT GET': -inf, 'HIT BUT': -inf, 'HIT CHOCOLATE': -inf, 'HIT HOMEWORK': -inf, 'HIT FINISH': -inf, 'HIT LOVE': -inf, 'HIT VISIT': -inf, 'HIT SOMETHING-ONE': -inf, 'HIT POSS': -inf, 'HIT POTATO': -inf, 'HIT ANN': -inf, 'HIT TELL': -inf, 'HIT BREAK-DOWN': -inf, 'HIT NOT': -inf, 'HIT TEACHER': -inf, 'HIT IX-1P': -inf, 'HIT GIVE': -inf, 'HIT READ': -inf, 'HIT FISH': -inf, 'HIT KNOW': -inf, 'HIT DECIDE': -inf, 'HIT SEARCH-FOR': -inf, 'HIT NEW': -inf, 'HIT OLD': -inf, 'HIT APPLE': -inf, 'HIT SHOOT': -inf, 'HIT WHO': -inf, 'HIT SAY': -inf, 'HIT TOMORROW': -inf, 'HIT SEE': -inf, 'HIT ARRIVE': -inf, 'HIT FRIEND': -inf, 'HIT CORN': -inf, 'HIT HERE': -inf, 'HIT FRED': -inf, 'HIT WRITE': -inf, 'HIT VEGETABLE': -inf, 'HIT BLUE': -inf, 'HIT ALL': -inf, 'HIT JOHN': -inf, 'HIT LIKE': -inf, 'HIT LEG': -inf, 'HIT BILL': -inf, 'HIT LAST-WEEK': -inf, 'HIT YESTERDAY': -inf, 'HIT SHOULD': -inf, 'HIT BOOK': -inf, 'HIT CHINA': -inf, 'HIT STUDENT': -inf, 'HIT MARY': -inf, 'HIT TOY': -inf, 'HIT CAR': -inf, 'HIT CAN': -inf, 'HIT HIT': -inf, 'HIT COAT': -inf, 'HIT NEW-YORK': -inf, 'HIT BROCCOLI': -inf, 'HIT MOTHER': -inf, 'HIT EAT': -inf, 'HIT IX': -inf, 'HIT CANDY': -inf, 'HIT NEXT-WEEK': -inf, 'HIT THINK': -inf, 'HIT SELL': -inf, 'HIT STOLEN': -inf, 'HIT SELF': -inf, 'HIT SAY-1P': -inf, 'HIT CHICKEN': -inf, 'HIT JANA': -inf, 'HIT THROW': -inf, 'HIT <START>': -inf, 'HIT <END>': -inf, 'COAT BOX': -inf, 'COAT BOY': -inf, 'COAT PUTASIDE': -inf, 'COAT SUE': -inf, 'COAT HAVE': -inf, 'COAT GIRL': -inf, 'COAT WONT': -inf, 'COAT WOMAN': -inf, 'COAT MANY': -inf, 'COAT PEOPLE': -inf, 'COAT LIVE': -inf, 'COAT CHICAGO': -inf, 'COAT PAST': -inf, 'COAT GO': -inf, 'COAT PARTY': -inf, 'COAT NAME': -inf, 'COAT FRANK': -inf, 'COAT BLAME': -inf, 'COAT FUTURE': -inf, 'COAT HOUSE': -inf, 'COAT MAN': -inf, 'COAT GROUP': -inf, 'COAT WANT': -inf, 'COAT VIDEOTAPE': -inf, 'COAT MOVIE': -inf, 'COAT PREFER': -inf, 'COAT BROTHER': -inf, 'COAT BORROW': -inf, 'COAT LEAVE': -inf, 'COAT FIND': -inf, 'COAT WILL': -inf, 'COAT WHAT': -inf, 'COAT BUY': -inf, 'COAT GET': -inf, 'COAT BUT': -inf, 'COAT CHOCOLATE': -inf, 'COAT HOMEWORK': -inf, 'COAT FINISH': -inf, 'COAT LOVE': -inf, 'COAT VISIT': -inf, 'COAT SOMETHING-ONE': -inf, 'COAT POSS': -inf, 'COAT POTATO': -inf, 'COAT ANN': -inf, 'COAT TELL': -inf, 'COAT BREAK-DOWN': -inf, 'COAT NOT': -inf, 'COAT TEACHER': -inf, 'COAT IX-1P': -inf, 'COAT GIVE': -inf, 'COAT READ': -inf, 'COAT FISH': -inf, 'COAT KNOW': -inf, 'COAT DECIDE': -inf, 'COAT SEARCH-FOR': -inf, 'COAT NEW': -inf, 'COAT OLD': -inf, 'COAT APPLE': -inf, 'COAT SHOOT': -inf, 'COAT WHO': -inf, 'COAT SAY': -inf, 'COAT TOMORROW': -inf, 'COAT SEE': -inf, 'COAT ARRIVE': -inf, 'COAT FRIEND': -inf, 'COAT CORN': -inf, 'COAT HERE': -inf, 'COAT FRED': -inf, 'COAT WRITE': -inf, 'COAT VEGETABLE': -inf, 'COAT BLUE': -inf, 'COAT ALL': -inf, 'COAT JOHN': -inf, 'COAT LIKE': -inf, 'COAT LEG': -inf, 'COAT BILL': -inf, 'COAT LAST-WEEK': -inf, 'COAT YESTERDAY': -inf, 'COAT SHOULD': -inf, 'COAT BOOK': -inf, 'COAT CHINA': -inf, 'COAT STUDENT': -inf, 'COAT MARY': -inf, 'COAT TOY': -inf, 'COAT CAR': -inf, 'COAT CAN': -inf, 'COAT HIT': -inf, 'COAT COAT': -inf, 'COAT NEW-YORK': -inf, 'COAT BROCCOLI': -inf, 'COAT MOTHER': -inf, 'COAT EAT': -inf, 'COAT IX': -inf, 'COAT CANDY': -inf, 'COAT NEXT-WEEK': -inf, 'COAT THINK': -inf, 'COAT SELL': -inf, 'COAT STOLEN': -inf, 'COAT SELF': -inf, 'COAT SAY-1P': -inf, 'COAT CHICKEN': -inf, 'COAT JANA': -inf, 'COAT THROW': -inf, 'COAT <START>': -inf, 'COAT <END>': -6.5496507422338102, 'NEW-YORK BOX': -inf, 'NEW-YORK BOY': -inf, 'NEW-YORK PUTASIDE': -inf, 'NEW-YORK SUE': -inf, 'NEW-YORK HAVE': -inf, 'NEW-YORK GIRL': -inf, 'NEW-YORK WONT': -inf, 'NEW-YORK WOMAN': -inf, 'NEW-YORK MANY': -inf, 'NEW-YORK PEOPLE': -inf, 'NEW-YORK LIVE': -inf, 'NEW-YORK CHICAGO': -inf, 'NEW-YORK PAST': -inf, 'NEW-YORK GO': -inf, 'NEW-YORK PARTY': -inf, 'NEW-YORK NAME': -inf, 'NEW-YORK FRANK': -inf, 'NEW-YORK BLAME': -inf, 'NEW-YORK FUTURE': -inf, 'NEW-YORK HOUSE': -inf, 'NEW-YORK MAN': -inf, 'NEW-YORK GROUP': -inf, 'NEW-YORK WANT': -inf, 'NEW-YORK VIDEOTAPE': -inf, 'NEW-YORK MOVIE': -inf, 'NEW-YORK PREFER': -inf, 'NEW-YORK BROTHER': -inf, 'NEW-YORK BORROW': -inf, 'NEW-YORK LEAVE': -inf, 'NEW-YORK FIND': -inf, 'NEW-YORK WILL': -inf, 'NEW-YORK WHAT': -inf, 'NEW-YORK BUY': -inf, 'NEW-YORK GET': -inf, 'NEW-YORK BUT': -inf, 'NEW-YORK CHOCOLATE': -inf, 'NEW-YORK HOMEWORK': -inf, 'NEW-YORK FINISH': -inf, 'NEW-YORK LOVE': -inf, 'NEW-YORK VISIT': -inf, 'NEW-YORK SOMETHING-ONE': -inf, 'NEW-YORK POSS': -inf, 'NEW-YORK POTATO': -inf, 'NEW-YORK ANN': -inf, 'NEW-YORK TELL': -inf, 'NEW-YORK BREAK-DOWN': -inf, 'NEW-YORK NOT': -inf, 'NEW-YORK TEACHER': -inf, 'NEW-YORK IX-1P': -inf, 'NEW-YORK GIVE': -inf, 'NEW-YORK READ': -inf, 'NEW-YORK FISH': -inf, 'NEW-YORK KNOW': -inf, 'NEW-YORK DECIDE': -inf, 'NEW-YORK SEARCH-FOR': -inf, 'NEW-YORK NEW': -inf, 'NEW-YORK OLD': -inf, 'NEW-YORK APPLE': -inf, 'NEW-YORK SHOOT': -inf, 'NEW-YORK WHO': -inf, 'NEW-YORK SAY': -inf, 'NEW-YORK TOMORROW': -inf, 'NEW-YORK SEE': -inf, 'NEW-YORK ARRIVE': -inf, 'NEW-YORK FRIEND': -inf, 'NEW-YORK CORN': -inf, 'NEW-YORK HERE': -inf, 'NEW-YORK FRED': -inf, 'NEW-YORK WRITE': -inf, 'NEW-YORK VEGETABLE': -inf, 'NEW-YORK BLUE': -inf, 'NEW-YORK ALL': -inf, 'NEW-YORK JOHN': -inf, 'NEW-YORK LIKE': -inf, 'NEW-YORK LEG': -inf, 'NEW-YORK BILL': -inf, 'NEW-YORK LAST-WEEK': -inf, 'NEW-YORK YESTERDAY': -inf, 'NEW-YORK SHOULD': -inf, 'NEW-YORK BOOK': -inf, 'NEW-YORK CHINA': -inf, 'NEW-YORK STUDENT': -inf, 'NEW-YORK MARY': -inf, 'NEW-YORK TOY': -inf, 'NEW-YORK CAR': -inf, 'NEW-YORK CAN': -inf, 'NEW-YORK HIT': -inf, 'NEW-YORK COAT': -inf, 'NEW-YORK NEW-YORK': -inf, 'NEW-YORK BROCCOLI': -inf, 'NEW-YORK MOTHER': -inf, 'NEW-YORK EAT': -inf, 'NEW-YORK IX': -inf, 'NEW-YORK CANDY': -inf, 'NEW-YORK NEXT-WEEK': -inf, 'NEW-YORK THINK': -inf, 'NEW-YORK SELL': -inf, 'NEW-YORK STOLEN': -inf, 'NEW-YORK SELF': -inf, 'NEW-YORK SAY-1P': -inf, 'NEW-YORK CHICKEN': -inf, 'NEW-YORK JANA': -inf, 'NEW-YORK THROW': -inf, 'NEW-YORK <START>': -inf, 'NEW-YORK <END>': -5.8565035616738648, 'BROCCOLI BOX': -inf, 'BROCCOLI BOY': -inf, 'BROCCOLI PUTASIDE': -inf, 'BROCCOLI SUE': -inf, 'BROCCOLI HAVE': -inf, 'BROCCOLI GIRL': -inf, 'BROCCOLI WONT': -inf, 'BROCCOLI WOMAN': -inf, 'BROCCOLI MANY': -inf, 'BROCCOLI PEOPLE': -inf, 'BROCCOLI LIVE': -inf, 'BROCCOLI CHICAGO': -inf, 'BROCCOLI PAST': -inf, 'BROCCOLI GO': -inf, 'BROCCOLI PARTY': -inf, 'BROCCOLI NAME': -inf, 'BROCCOLI FRANK': -inf, 'BROCCOLI BLAME': -inf, 'BROCCOLI FUTURE': -inf, 'BROCCOLI HOUSE': -inf, 'BROCCOLI MAN': -inf, 'BROCCOLI GROUP': -inf, 'BROCCOLI WANT': -inf, 'BROCCOLI VIDEOTAPE': -inf, 'BROCCOLI MOVIE': -inf, 'BROCCOLI PREFER': -inf, 'BROCCOLI BROTHER': -inf, 'BROCCOLI BORROW': -inf, 'BROCCOLI LEAVE': -inf, 'BROCCOLI FIND': -inf, 'BROCCOLI WILL': -inf, 'BROCCOLI WHAT': -inf, 'BROCCOLI BUY': -inf, 'BROCCOLI GET': -inf, 'BROCCOLI BUT': -inf, 'BROCCOLI CHOCOLATE': -inf, 'BROCCOLI HOMEWORK': -inf, 'BROCCOLI FINISH': -inf, 'BROCCOLI LOVE': -inf, 'BROCCOLI VISIT': -inf, 'BROCCOLI SOMETHING-ONE': -inf, 'BROCCOLI POSS': -inf, 'BROCCOLI POTATO': -inf, 'BROCCOLI ANN': -inf, 'BROCCOLI TELL': -inf, 'BROCCOLI BREAK-DOWN': -inf, 'BROCCOLI NOT': -inf, 'BROCCOLI TEACHER': -inf, 'BROCCOLI IX-1P': -inf, 'BROCCOLI GIVE': -inf, 'BROCCOLI READ': -inf, 'BROCCOLI FISH': -inf, 'BROCCOLI KNOW': -inf, 'BROCCOLI DECIDE': -inf, 'BROCCOLI SEARCH-FOR': -inf, 'BROCCOLI NEW': -inf, 'BROCCOLI OLD': -inf, 'BROCCOLI APPLE': -inf, 'BROCCOLI SHOOT': -inf, 'BROCCOLI WHO': -inf, 'BROCCOLI SAY': -inf, 'BROCCOLI TOMORROW': -inf, 'BROCCOLI SEE': -inf, 'BROCCOLI ARRIVE': -inf, 'BROCCOLI FRIEND': -inf, 'BROCCOLI CORN': -inf, 'BROCCOLI HERE': -inf, 'BROCCOLI FRED': -inf, 'BROCCOLI WRITE': -inf, 'BROCCOLI VEGETABLE': -inf, 'BROCCOLI BLUE': -inf, 'BROCCOLI ALL': -inf, 'BROCCOLI JOHN': -inf, 'BROCCOLI LIKE': -inf, 'BROCCOLI LEG': -inf, 'BROCCOLI BILL': -inf, 'BROCCOLI LAST-WEEK': -inf, 'BROCCOLI YESTERDAY': -inf, 'BROCCOLI SHOULD': -inf, 'BROCCOLI BOOK': -inf, 'BROCCOLI CHINA': -inf, 'BROCCOLI STUDENT': -inf, 'BROCCOLI MARY': -inf, 'BROCCOLI TOY': -inf, 'BROCCOLI CAR': -inf, 'BROCCOLI CAN': -inf, 'BROCCOLI HIT': -inf, 'BROCCOLI COAT': -inf, 'BROCCOLI NEW-YORK': -inf, 'BROCCOLI BROCCOLI': -inf, 'BROCCOLI MOTHER': -inf, 'BROCCOLI EAT': -inf, 'BROCCOLI IX': -inf, 'BROCCOLI CANDY': -inf, 'BROCCOLI NEXT-WEEK': -inf, 'BROCCOLI THINK': -inf, 'BROCCOLI SELL': -inf, 'BROCCOLI STOLEN': -inf, 'BROCCOLI SELF': -inf, 'BROCCOLI SAY-1P': -inf, 'BROCCOLI CHICKEN': -inf, 'BROCCOLI JANA': -inf, 'BROCCOLI THROW': -inf, 'BROCCOLI <START>': -inf, 'BROCCOLI <END>': -6.5496507422338102, 'MOTHER BOX': -inf, 'MOTHER BOY': -inf, 'MOTHER PUTASIDE': -inf, 'MOTHER SUE': -inf, 'MOTHER HAVE': -inf, 'MOTHER GIRL': -inf, 'MOTHER WONT': -inf, 'MOTHER WOMAN': -inf, 'MOTHER MANY': -inf, 'MOTHER PEOPLE': -inf, 'MOTHER LIVE': -inf, 'MOTHER CHICAGO': -inf, 'MOTHER PAST': -inf, 'MOTHER GO': -inf, 'MOTHER PARTY': -inf, 'MOTHER NAME': -inf, 'MOTHER FRANK': -inf, 'MOTHER BLAME': -inf, 'MOTHER FUTURE': -inf, 'MOTHER HOUSE': -inf, 'MOTHER MAN': -inf, 'MOTHER GROUP': -inf, 'MOTHER WANT': -inf, 'MOTHER VIDEOTAPE': -inf, 'MOTHER MOVIE': -inf, 'MOTHER PREFER': -inf, 'MOTHER BROTHER': -inf, 'MOTHER BORROW': -inf, 'MOTHER LEAVE': -inf, 'MOTHER FIND': -inf, 'MOTHER WILL': -inf, 'MOTHER WHAT': -inf, 'MOTHER BUY': -inf, 'MOTHER GET': -inf, 'MOTHER BUT': -inf, 'MOTHER CHOCOLATE': -inf, 'MOTHER HOMEWORK': -inf, 'MOTHER FINISH': -inf, 'MOTHER LOVE': -inf, 'MOTHER VISIT': -inf, 'MOTHER SOMETHING-ONE': -inf, 'MOTHER POSS': -inf, 'MOTHER POTATO': -inf, 'MOTHER ANN': -inf, 'MOTHER TELL': -inf, 'MOTHER BREAK-DOWN': -inf, 'MOTHER NOT': -inf, 'MOTHER TEACHER': -inf, 'MOTHER IX-1P': -inf, 'MOTHER GIVE': -inf, 'MOTHER READ': -inf, 'MOTHER FISH': -inf, 'MOTHER KNOW': -inf, 'MOTHER DECIDE': -inf, 'MOTHER SEARCH-FOR': -inf, 'MOTHER NEW': -inf, 'MOTHER OLD': -inf, 'MOTHER APPLE': -inf, 'MOTHER SHOOT': -inf, 'MOTHER WHO': -inf, 'MOTHER SAY': -inf, 'MOTHER TOMORROW': -inf, 'MOTHER SEE': -inf, 'MOTHER ARRIVE': -5.8565035616738648, 'MOTHER FRIEND': -inf, 'MOTHER CORN': -inf, 'MOTHER HERE': -inf, 'MOTHER FRED': -inf, 'MOTHER WRITE': -inf, 'MOTHER VEGETABLE': -inf, 'MOTHER BLUE': -inf, 'MOTHER ALL': -inf, 'MOTHER JOHN': -inf, 'MOTHER LIKE': -inf, 'MOTHER LEG': -inf, 'MOTHER BILL': -inf, 'MOTHER LAST-WEEK': -inf, 'MOTHER YESTERDAY': -inf, 'MOTHER SHOULD': -inf, 'MOTHER BOOK': -inf, 'MOTHER CHINA': -inf, 'MOTHER STUDENT': -inf, 'MOTHER MARY': -inf, 'MOTHER TOY': -inf, 'MOTHER CAR': -inf, 'MOTHER CAN': -inf, 'MOTHER HIT': -inf, 'MOTHER COAT': -inf, 'MOTHER NEW-YORK': -inf, 'MOTHER BROCCOLI': -inf, 'MOTHER MOTHER': -inf, 'MOTHER EAT': -inf, 'MOTHER IX': -6.5496507422338102, 'MOTHER CANDY': -inf, 'MOTHER NEXT-WEEK': -inf, 'MOTHER THINK': -inf, 'MOTHER SELL': -inf, 'MOTHER STOLEN': -inf, 'MOTHER SELF': -inf, 'MOTHER SAY-1P': -inf, 'MOTHER CHICKEN': -inf, 'MOTHER JANA': -inf, 'MOTHER THROW': -inf, 'MOTHER <START>': -inf, 'MOTHER <END>': -inf, 'EAT BOX': -inf, 'EAT BOY': -inf, 'EAT PUTASIDE': -inf, 'EAT SUE': -inf, 'EAT HAVE': -inf, 'EAT GIRL': -inf, 'EAT WONT': -inf, 'EAT WOMAN': -inf, 'EAT MANY': -inf, 'EAT PEOPLE': -inf, 'EAT LIVE': -inf, 'EAT CHICAGO': -inf, 'EAT PAST': -inf, 'EAT GO': -inf, 'EAT PARTY': -inf, 'EAT NAME': -inf, 'EAT FRANK': -inf, 'EAT BLAME': -inf, 'EAT FUTURE': -inf, 'EAT HOUSE': -inf, 'EAT MAN': -inf, 'EAT GROUP': -inf, 'EAT WANT': -inf, 'EAT VIDEOTAPE': -inf, 'EAT MOVIE': -inf, 'EAT PREFER': -inf, 'EAT BROTHER': -inf, 'EAT BORROW': -inf, 'EAT LEAVE': -inf, 'EAT FIND': -inf, 'EAT WILL': -inf, 'EAT WHAT': -6.5496507422338102, 'EAT BUY': -inf, 'EAT GET': -inf, 'EAT BUT': -6.5496507422338102, 'EAT CHOCOLATE': -inf, 'EAT HOMEWORK': -inf, 'EAT FINISH': -inf, 'EAT LOVE': -inf, 'EAT VISIT': -inf, 'EAT SOMETHING-ONE': -inf, 'EAT POSS': -inf, 'EAT POTATO': -inf, 'EAT ANN': -inf, 'EAT TELL': -inf, 'EAT BREAK-DOWN': -inf, 'EAT NOT': -inf, 'EAT TEACHER': -inf, 'EAT IX-1P': -inf, 'EAT GIVE': -inf, 'EAT READ': -inf, 'EAT FISH': -inf, 'EAT KNOW': -inf, 'EAT DECIDE': -inf, 'EAT SEARCH-FOR': -inf, 'EAT NEW': -inf, 'EAT OLD': -inf, 'EAT APPLE': -inf, 'EAT SHOOT': -inf, 'EAT WHO': -inf, 'EAT SAY': -inf, 'EAT TOMORROW': -inf, 'EAT SEE': -inf, 'EAT ARRIVE': -inf, 'EAT FRIEND': -inf, 'EAT CORN': -inf, 'EAT HERE': -inf, 'EAT FRED': -inf, 'EAT WRITE': -inf, 'EAT VEGETABLE': -inf, 'EAT BLUE': -inf, 'EAT ALL': -inf, 'EAT JOHN': -inf, 'EAT LIKE': -inf, 'EAT LEG': -inf, 'EAT BILL': -inf, 'EAT LAST-WEEK': -inf, 'EAT YESTERDAY': -inf, 'EAT SHOULD': -inf, 'EAT BOOK': -inf, 'EAT CHINA': -inf, 'EAT STUDENT': -inf, 'EAT MARY': -inf, 'EAT TOY': -inf, 'EAT CAR': -inf, 'EAT CAN': -inf, 'EAT HIT': -inf, 'EAT COAT': -inf, 'EAT NEW-YORK': -inf, 'EAT BROCCOLI': -inf, 'EAT MOTHER': -inf, 'EAT EAT': -inf, 'EAT IX': -inf, 'EAT CANDY': -inf, 'EAT NEXT-WEEK': -inf, 'EAT THINK': -inf, 'EAT SELL': -inf, 'EAT STOLEN': -inf, 'EAT SELF': -inf, 'EAT SAY-1P': -inf, 'EAT CHICKEN': -6.5496507422338102, 'EAT JANA': -inf, 'EAT THROW': -inf, 'EAT <START>': -inf, 'EAT <END>': -inf, 'IX BOX': -inf, 'IX BOY': -inf, 'IX PUTASIDE': -inf, 'IX SUE': -inf, 'IX HAVE': -6.5496507422338102, 'IX GIRL': -5.4510384535657002, 'IX WONT': -inf, 'IX WOMAN': -5.8565035616738648, 'IX MANY': -inf, 'IX PEOPLE': -6.5496507422338102, 'IX LIVE': -inf, 'IX CHICAGO': -inf, 'IX PAST': -inf, 'IX GO': -inf, 'IX PARTY': -inf, 'IX NAME': -inf, 'IX FRANK': -inf, 'IX BLAME': -inf, 'IX FUTURE': -inf, 'IX HOUSE': -inf, 'IX MAN': -6.5496507422338102, 'IX GROUP': -inf, 'IX WANT': -inf, 'IX VIDEOTAPE': -inf, 'IX MOVIE': -inf, 'IX PREFER': -inf, 'IX BROTHER': -inf, 'IX BORROW': -inf, 'IX LEAVE': -inf, 'IX FIND': -inf, 'IX WILL': -inf, 'IX WHAT': -inf, 'IX BUY': -inf, 'IX GET': -inf, 'IX BUT': -inf, 'IX CHOCOLATE': -inf, 'IX HOMEWORK': -inf, 'IX FINISH': -inf, 'IX LOVE': -inf, 'IX VISIT': -inf, 'IX SOMETHING-ONE': -6.5496507422338102, 'IX POSS': -inf, 'IX POTATO': -inf, 'IX ANN': -inf, 'IX TELL': -inf, 'IX BREAK-DOWN': -inf, 'IX NOT': -inf, 'IX TEACHER': -inf, 'IX IX-1P': -inf, 'IX GIVE': -6.5496507422338102, 'IX READ': -inf, 'IX FISH': -inf, 'IX KNOW': -inf, 'IX DECIDE': -inf, 'IX SEARCH-FOR': -inf, 'IX NEW': -6.5496507422338102, 'IX OLD': -inf, 'IX APPLE': -inf, 'IX SHOOT': -inf, 'IX WHO': -6.5496507422338102, 'IX SAY': -inf, 'IX TOMORROW': -inf, 'IX SEE': -inf, 'IX ARRIVE': -inf, 'IX FRIEND': -inf, 'IX CORN': -inf, 'IX HERE': -inf, 'IX FRED': -inf, 'IX WRITE': -inf, 'IX VEGETABLE': -inf, 'IX BLUE': -inf, 'IX ALL': -inf, 'IX JOHN': -6.5496507422338102, 'IX LIKE': -5.4510384535657002, 'IX LEG': -inf, 'IX BILL': -inf, 'IX LAST-WEEK': -inf, 'IX YESTERDAY': -inf, 'IX SHOULD': -inf, 'IX BOOK': -5.8565035616738648, 'IX CHINA': -inf, 'IX STUDENT': -inf, 'IX MARY': -inf, 'IX TOY': -inf, 'IX CAR': -6.5496507422338102, 'IX CAN': -inf, 'IX HIT': -6.5496507422338102, 'IX COAT': -inf, 'IX NEW-YORK': -inf, 'IX BROCCOLI': -inf, 'IX MOTHER': -inf, 'IX EAT': -inf, 'IX IX': -4.7578912730057557, 'IX CANDY': -inf, 'IX NEXT-WEEK': -inf, 'IX THINK': -6.5496507422338102, 'IX SELL': -inf, 'IX STOLEN': -inf, 'IX SELF': -inf, 'IX SAY-1P': -6.5496507422338102, 'IX CHICKEN': -inf, 'IX JANA': -inf, 'IX THROW': -inf, 'IX <START>': -inf, 'IX <END>': -4.0647440924458103, 'CANDY BOX': -inf, 'CANDY BOY': -inf, 'CANDY PUTASIDE': -inf, 'CANDY SUE': -inf, 'CANDY HAVE': -inf, 'CANDY GIRL': -inf, 'CANDY WONT': -inf, 'CANDY WOMAN': -inf, 'CANDY MANY': -inf, 'CANDY PEOPLE': -inf, 'CANDY LIVE': -inf, 'CANDY CHICAGO': -inf, 'CANDY PAST': -inf, 'CANDY GO': -inf, 'CANDY PARTY': -inf, 'CANDY NAME': -inf, 'CANDY FRANK': -inf, 'CANDY BLAME': -inf, 'CANDY FUTURE': -inf, 'CANDY HOUSE': -inf, 'CANDY MAN': -inf, 'CANDY GROUP': -inf, 'CANDY WANT': -inf, 'CANDY VIDEOTAPE': -inf, 'CANDY MOVIE': -inf, 'CANDY PREFER': -inf, 'CANDY BROTHER': -inf, 'CANDY BORROW': -inf, 'CANDY LEAVE': -inf, 'CANDY FIND': -inf, 'CANDY WILL': -inf, 'CANDY WHAT': -inf, 'CANDY BUY': -inf, 'CANDY GET': -inf, 'CANDY BUT': -inf, 'CANDY CHOCOLATE': -inf, 'CANDY HOMEWORK': -inf, 'CANDY FINISH': -inf, 'CANDY LOVE': -inf, 'CANDY VISIT': -inf, 'CANDY SOMETHING-ONE': -inf, 'CANDY POSS': -inf, 'CANDY POTATO': -inf, 'CANDY ANN': -inf, 'CANDY TELL': -inf, 'CANDY BREAK-DOWN': -inf, 'CANDY NOT': -inf, 'CANDY TEACHER': -inf, 'CANDY IX-1P': -inf, 'CANDY GIVE': -inf, 'CANDY READ': -inf, 'CANDY FISH': -inf, 'CANDY KNOW': -inf, 'CANDY DECIDE': -inf, 'CANDY SEARCH-FOR': -inf, 'CANDY NEW': -inf, 'CANDY OLD': -inf, 'CANDY APPLE': -inf, 'CANDY SHOOT': -inf, 'CANDY WHO': -inf, 'CANDY SAY': -inf, 'CANDY TOMORROW': -inf, 'CANDY SEE': -inf, 'CANDY ARRIVE': -inf, 'CANDY FRIEND': -inf, 'CANDY CORN': -inf, 'CANDY HERE': -inf, 'CANDY FRED': -inf, 'CANDY WRITE': -inf, 'CANDY VEGETABLE': -inf, 'CANDY BLUE': -inf, 'CANDY ALL': -inf, 'CANDY JOHN': -inf, 'CANDY LIKE': -inf, 'CANDY LEG': -inf, 'CANDY BILL': -inf, 'CANDY LAST-WEEK': -inf, 'CANDY YESTERDAY': -inf, 'CANDY SHOULD': -inf, 'CANDY BOOK': -inf, 'CANDY CHINA': -inf, 'CANDY STUDENT': -inf, 'CANDY MARY': -inf, 'CANDY TOY': -inf, 'CANDY CAR': -inf, 'CANDY CAN': -inf, 'CANDY HIT': -inf, 'CANDY COAT': -inf, 'CANDY NEW-YORK': -inf, 'CANDY BROCCOLI': -inf, 'CANDY MOTHER': -inf, 'CANDY EAT': -inf, 'CANDY IX': -inf, 'CANDY CANDY': -inf, 'CANDY NEXT-WEEK': -inf, 'CANDY THINK': -inf, 'CANDY SELL': -inf, 'CANDY STOLEN': -inf, 'CANDY SELF': -inf, 'CANDY SAY-1P': -inf, 'CANDY CHICKEN': -inf, 'CANDY JANA': -inf, 'CANDY THROW': -inf, 'CANDY <START>': -inf, 'CANDY <END>': -6.5496507422338102, 'NEXT-WEEK BOX': -inf, 'NEXT-WEEK BOY': -inf, 'NEXT-WEEK PUTASIDE': -inf, 'NEXT-WEEK SUE': -inf, 'NEXT-WEEK HAVE': -inf, 'NEXT-WEEK GIRL': -inf, 'NEXT-WEEK WONT': -inf, 'NEXT-WEEK WOMAN': -inf, 'NEXT-WEEK MANY': -inf, 'NEXT-WEEK PEOPLE': -inf, 'NEXT-WEEK LIVE': -inf, 'NEXT-WEEK CHICAGO': -inf, 'NEXT-WEEK PAST': -inf, 'NEXT-WEEK GO': -inf, 'NEXT-WEEK PARTY': -inf, 'NEXT-WEEK NAME': -inf, 'NEXT-WEEK FRANK': -inf, 'NEXT-WEEK BLAME': -inf, 'NEXT-WEEK FUTURE': -inf, 'NEXT-WEEK HOUSE': -inf, 'NEXT-WEEK MAN': -inf, 'NEXT-WEEK GROUP': -inf, 'NEXT-WEEK WANT': -inf, 'NEXT-WEEK VIDEOTAPE': -inf, 'NEXT-WEEK MOVIE': -inf, 'NEXT-WEEK PREFER': -inf, 'NEXT-WEEK BROTHER': -inf, 'NEXT-WEEK BORROW': -inf, 'NEXT-WEEK LEAVE': -inf, 'NEXT-WEEK FIND': -inf, 'NEXT-WEEK WILL': -inf, 'NEXT-WEEK WHAT': -inf, 'NEXT-WEEK BUY': -inf, 'NEXT-WEEK GET': -inf, 'NEXT-WEEK BUT': -inf, 'NEXT-WEEK CHOCOLATE': -inf, 'NEXT-WEEK HOMEWORK': -inf, 'NEXT-WEEK FINISH': -inf, 'NEXT-WEEK LOVE': -inf, 'NEXT-WEEK VISIT': -inf, 'NEXT-WEEK SOMETHING-ONE': -inf, 'NEXT-WEEK POSS': -inf, 'NEXT-WEEK POTATO': -inf, 'NEXT-WEEK ANN': -inf, 'NEXT-WEEK TELL': -inf, 'NEXT-WEEK BREAK-DOWN': -inf, 'NEXT-WEEK NOT': -inf, 'NEXT-WEEK TEACHER': -inf, 'NEXT-WEEK IX-1P': -inf, 'NEXT-WEEK GIVE': -inf, 'NEXT-WEEK READ': -inf, 'NEXT-WEEK FISH': -inf, 'NEXT-WEEK KNOW': -inf, 'NEXT-WEEK DECIDE': -inf, 'NEXT-WEEK SEARCH-FOR': -inf, 'NEXT-WEEK NEW': -inf, 'NEXT-WEEK OLD': -inf, 'NEXT-WEEK APPLE': -inf, 'NEXT-WEEK SHOOT': -inf, 'NEXT-WEEK WHO': -inf, 'NEXT-WEEK SAY': -inf, 'NEXT-WEEK TOMORROW': -inf, 'NEXT-WEEK SEE': -inf, 'NEXT-WEEK ARRIVE': -inf, 'NEXT-WEEK FRIEND': -inf, 'NEXT-WEEK CORN': -inf, 'NEXT-WEEK HERE': -inf, 'NEXT-WEEK FRED': -inf, 'NEXT-WEEK WRITE': -inf, 'NEXT-WEEK VEGETABLE': -inf, 'NEXT-WEEK BLUE': -inf, 'NEXT-WEEK ALL': -inf, 'NEXT-WEEK JOHN': -6.5496507422338102, 'NEXT-WEEK LIKE': -inf, 'NEXT-WEEK LEG': -inf, 'NEXT-WEEK BILL': -inf, 'NEXT-WEEK LAST-WEEK': -inf, 'NEXT-WEEK YESTERDAY': -inf, 'NEXT-WEEK SHOULD': -inf, 'NEXT-WEEK BOOK': -inf, 'NEXT-WEEK CHINA': -inf, 'NEXT-WEEK STUDENT': -inf, 'NEXT-WEEK MARY': -inf, 'NEXT-WEEK TOY': -inf, 'NEXT-WEEK CAR': -inf, 'NEXT-WEEK CAN': -inf, 'NEXT-WEEK HIT': -inf, 'NEXT-WEEK COAT': -inf, 'NEXT-WEEK NEW-YORK': -inf, 'NEXT-WEEK BROCCOLI': -inf, 'NEXT-WEEK MOTHER': -inf, 'NEXT-WEEK EAT': -inf, 'NEXT-WEEK IX': -inf, 'NEXT-WEEK CANDY': -inf, 'NEXT-WEEK NEXT-WEEK': -inf, 'NEXT-WEEK THINK': -inf, 'NEXT-WEEK SELL': -inf, 'NEXT-WEEK STOLEN': -inf, 'NEXT-WEEK SELF': -inf, 'NEXT-WEEK SAY-1P': -inf, 'NEXT-WEEK CHICKEN': -inf, 'NEXT-WEEK JANA': -inf, 'NEXT-WEEK THROW': -inf, 'NEXT-WEEK <START>': -inf, 'NEXT-WEEK <END>': -inf, 'THINK BOX': -inf, 'THINK BOY': -inf, 'THINK PUTASIDE': -inf, 'THINK SUE': -inf, 'THINK HAVE': -inf, 'THINK GIRL': -inf, 'THINK WONT': -inf, 'THINK WOMAN': -inf, 'THINK MANY': -inf, 'THINK PEOPLE': -inf, 'THINK LIVE': -inf, 'THINK CHICAGO': -inf, 'THINK PAST': -inf, 'THINK GO': -inf, 'THINK PARTY': -inf, 'THINK NAME': -inf, 'THINK FRANK': -inf, 'THINK BLAME': -inf, 'THINK FUTURE': -inf, 'THINK HOUSE': -inf, 'THINK MAN': -inf, 'THINK GROUP': -inf, 'THINK WANT': -inf, 'THINK VIDEOTAPE': -inf, 'THINK MOVIE': -inf, 'THINK PREFER': -inf, 'THINK BROTHER': -inf, 'THINK BORROW': -inf, 'THINK LEAVE': -inf, 'THINK FIND': -inf, 'THINK WILL': -inf, 'THINK WHAT': -inf, 'THINK BUY': -inf, 'THINK GET': -inf, 'THINK BUT': -inf, 'THINK CHOCOLATE': -inf, 'THINK HOMEWORK': -inf, 'THINK FINISH': -inf, 'THINK LOVE': -inf, 'THINK VISIT': -inf, 'THINK SOMETHING-ONE': -inf, 'THINK POSS': -inf, 'THINK POTATO': -inf, 'THINK ANN': -inf, 'THINK TELL': -inf, 'THINK BREAK-DOWN': -inf, 'THINK NOT': -inf, 'THINK TEACHER': -inf, 'THINK IX-1P': -inf, 'THINK GIVE': -inf, 'THINK READ': -inf, 'THINK FISH': -inf, 'THINK KNOW': -inf, 'THINK DECIDE': -inf, 'THINK SEARCH-FOR': -inf, 'THINK NEW': -inf, 'THINK OLD': -inf, 'THINK APPLE': -inf, 'THINK SHOOT': -inf, 'THINK WHO': -inf, 'THINK SAY': -inf, 'THINK TOMORROW': -inf, 'THINK SEE': -inf, 'THINK ARRIVE': -inf, 'THINK FRIEND': -inf, 'THINK CORN': -inf, 'THINK HERE': -inf, 'THINK FRED': -inf, 'THINK WRITE': -inf, 'THINK VEGETABLE': -inf, 'THINK BLUE': -inf, 'THINK ALL': -inf, 'THINK JOHN': -inf, 'THINK LIKE': -inf, 'THINK LEG': -inf, 'THINK BILL': -inf, 'THINK LAST-WEEK': -inf, 'THINK YESTERDAY': -inf, 'THINK SHOULD': -inf, 'THINK BOOK': -inf, 'THINK CHINA': -inf, 'THINK STUDENT': -inf, 'THINK MARY': -6.5496507422338102, 'THINK TOY': -inf, 'THINK CAR': -inf, 'THINK CAN': -inf, 'THINK HIT': -inf, 'THINK COAT': -inf, 'THINK NEW-YORK': -inf, 'THINK BROCCOLI': -inf, 'THINK MOTHER': -inf, 'THINK EAT': -inf, 'THINK IX': -inf, 'THINK CANDY': -inf, 'THINK NEXT-WEEK': -inf, 'THINK THINK': -inf, 'THINK SELL': -inf, 'THINK STOLEN': -inf, 'THINK SELF': -inf, 'THINK SAY-1P': -inf, 'THINK CHICKEN': -inf, 'THINK JANA': -inf, 'THINK THROW': -inf, 'THINK <START>': -inf, 'THINK <END>': -inf, 'SELL BOX': -inf, 'SELL BOY': -inf, 'SELL PUTASIDE': -inf, 'SELL SUE': -inf, 'SELL HAVE': -inf, 'SELL GIRL': -inf, 'SELL WONT': -inf, 'SELL WOMAN': -inf, 'SELL MANY': -inf, 'SELL PEOPLE': -inf, 'SELL LIVE': -inf, 'SELL CHICAGO': -inf, 'SELL PAST': -inf, 'SELL GO': -inf, 'SELL PARTY': -inf, 'SELL NAME': -inf, 'SELL FRANK': -inf, 'SELL BLAME': -inf, 'SELL FUTURE': -inf, 'SELL HOUSE': -inf, 'SELL MAN': -inf, 'SELL GROUP': -inf, 'SELL WANT': -inf, 'SELL VIDEOTAPE': -inf, 'SELL MOVIE': -inf, 'SELL PREFER': -inf, 'SELL BROTHER': -inf, 'SELL BORROW': -inf, 'SELL LEAVE': -inf, 'SELL FIND': -inf, 'SELL WILL': -inf, 'SELL WHAT': -inf, 'SELL BUY': -inf, 'SELL GET': -inf, 'SELL BUT': -inf, 'SELL CHOCOLATE': -inf, 'SELL HOMEWORK': -inf, 'SELL FINISH': -inf, 'SELL LOVE': -inf, 'SELL VISIT': -inf, 'SELL SOMETHING-ONE': -inf, 'SELL POSS': -inf, 'SELL POTATO': -inf, 'SELL ANN': -inf, 'SELL TELL': -inf, 'SELL BREAK-DOWN': -inf, 'SELL NOT': -inf, 'SELL TEACHER': -inf, 'SELL IX-1P': -inf, 'SELL GIVE': -inf, 'SELL READ': -inf, 'SELL FISH': -inf, 'SELL KNOW': -inf, 'SELL DECIDE': -inf, 'SELL SEARCH-FOR': -inf, 'SELL NEW': -inf, 'SELL OLD': -inf, 'SELL APPLE': -inf, 'SELL SHOOT': -inf, 'SELL WHO': -inf, 'SELL SAY': -inf, 'SELL TOMORROW': -inf, 'SELL SEE': -inf, 'SELL ARRIVE': -inf, 'SELL FRIEND': -inf, 'SELL CORN': -inf, 'SELL HERE': -inf, 'SELL FRED': -inf, 'SELL WRITE': -inf, 'SELL VEGETABLE': -inf, 'SELL BLUE': -inf, 'SELL ALL': -inf, 'SELL JOHN': -inf, 'SELL LIKE': -inf, 'SELL LEG': -inf, 'SELL BILL': -inf, 'SELL LAST-WEEK': -inf, 'SELL YESTERDAY': -6.5496507422338102, 'SELL SHOULD': -inf, 'SELL BOOK': -inf, 'SELL CHINA': -inf, 'SELL STUDENT': -inf, 'SELL MARY': -inf, 'SELL TOY': -inf, 'SELL CAR': -6.5496507422338102, 'SELL CAN': -inf, 'SELL HIT': -inf, 'SELL COAT': -inf, 'SELL NEW-YORK': -inf, 'SELL BROCCOLI': -inf, 'SELL MOTHER': -inf, 'SELL EAT': -inf, 'SELL IX': -inf, 'SELL CANDY': -inf, 'SELL NEXT-WEEK': -inf, 'SELL THINK': -inf, 'SELL SELL': -inf, 'SELL STOLEN': -inf, 'SELL SELF': -inf, 'SELL SAY-1P': -inf, 'SELL CHICKEN': -inf, 'SELL JANA': -inf, 'SELL THROW': -inf, 'SELL <START>': -inf, 'SELL <END>': -inf, 'STOLEN BOX': -inf, 'STOLEN BOY': -inf, 'STOLEN PUTASIDE': -inf, 'STOLEN SUE': -inf, 'STOLEN HAVE': -inf, 'STOLEN GIRL': -inf, 'STOLEN WONT': -inf, 'STOLEN WOMAN': -inf, 'STOLEN MANY': -inf, 'STOLEN PEOPLE': -inf, 'STOLEN LIVE': -inf, 'STOLEN CHICAGO': -inf, 'STOLEN PAST': -inf, 'STOLEN GO': -inf, 'STOLEN PARTY': -inf, 'STOLEN NAME': -inf, 'STOLEN FRANK': -inf, 'STOLEN BLAME': -inf, 'STOLEN FUTURE': -inf, 'STOLEN HOUSE': -inf, 'STOLEN MAN': -inf, 'STOLEN GROUP': -inf, 'STOLEN WANT': -inf, 'STOLEN VIDEOTAPE': -inf, 'STOLEN MOVIE': -inf, 'STOLEN PREFER': -inf, 'STOLEN BROTHER': -inf, 'STOLEN BORROW': -inf, 'STOLEN LEAVE': -inf, 'STOLEN FIND': -inf, 'STOLEN WILL': -inf, 'STOLEN WHAT': -inf, 'STOLEN BUY': -inf, 'STOLEN GET': -inf, 'STOLEN BUT': -inf, 'STOLEN CHOCOLATE': -inf, 'STOLEN HOMEWORK': -inf, 'STOLEN FINISH': -inf, 'STOLEN LOVE': -inf, 'STOLEN VISIT': -inf, 'STOLEN SOMETHING-ONE': -inf, 'STOLEN POSS': -inf, 'STOLEN POTATO': -inf, 'STOLEN ANN': -inf, 'STOLEN TELL': -inf, 'STOLEN BREAK-DOWN': -inf, 'STOLEN NOT': -inf, 'STOLEN TEACHER': -inf, 'STOLEN IX-1P': -inf, 'STOLEN GIVE': -inf, 'STOLEN READ': -inf, 'STOLEN FISH': -inf, 'STOLEN KNOW': -inf, 'STOLEN DECIDE': -inf, 'STOLEN SEARCH-FOR': -inf, 'STOLEN NEW': -inf, 'STOLEN OLD': -inf, 'STOLEN APPLE': -inf, 'STOLEN SHOOT': -inf, 'STOLEN WHO': -inf, 'STOLEN SAY': -inf, 'STOLEN TOMORROW': -inf, 'STOLEN SEE': -inf, 'STOLEN ARRIVE': -inf, 'STOLEN FRIEND': -inf, 'STOLEN CORN': -inf, 'STOLEN HERE': -inf, 'STOLEN FRED': -inf, 'STOLEN WRITE': -inf, 'STOLEN VEGETABLE': -inf, 'STOLEN BLUE': -inf, 'STOLEN ALL': -inf, 'STOLEN JOHN': -inf, 'STOLEN LIKE': -inf, 'STOLEN LEG': -inf, 'STOLEN BILL': -inf, 'STOLEN LAST-WEEK': -inf, 'STOLEN YESTERDAY': -inf, 'STOLEN SHOULD': -inf, 'STOLEN BOOK': -inf, 'STOLEN CHINA': -inf, 'STOLEN STUDENT': -inf, 'STOLEN MARY': -inf, 'STOLEN TOY': -inf, 'STOLEN CAR': -inf, 'STOLEN CAN': -inf, 'STOLEN HIT': -inf, 'STOLEN COAT': -inf, 'STOLEN NEW-YORK': -inf, 'STOLEN BROCCOLI': -inf, 'STOLEN MOTHER': -inf, 'STOLEN EAT': -inf, 'STOLEN IX': -inf, 'STOLEN CANDY': -inf, 'STOLEN NEXT-WEEK': -inf, 'STOLEN THINK': -inf, 'STOLEN SELL': -inf, 'STOLEN STOLEN': -inf, 'STOLEN SELF': -inf, 'STOLEN SAY-1P': -inf, 'STOLEN CHICKEN': -inf, 'STOLEN JANA': -inf, 'STOLEN THROW': -inf, 'STOLEN <START>': -inf, 'STOLEN <END>': -5.8565035616738648, 'SELF BOX': -inf, 'SELF BOY': -inf, 'SELF PUTASIDE': -inf, 'SELF SUE': -inf, 'SELF HAVE': -inf, 'SELF GIRL': -inf, 'SELF WONT': -inf, 'SELF WOMAN': -inf, 'SELF MANY': -inf, 'SELF PEOPLE': -inf, 'SELF LIVE': -inf, 'SELF CHICAGO': -inf, 'SELF PAST': -inf, 'SELF GO': -inf, 'SELF PARTY': -inf, 'SELF NAME': -inf, 'SELF FRANK': -inf, 'SELF BLAME': -inf, 'SELF FUTURE': -inf, 'SELF HOUSE': -inf, 'SELF MAN': -inf, 'SELF GROUP': -inf, 'SELF WANT': -inf, 'SELF VIDEOTAPE': -inf, 'SELF MOVIE': -inf, 'SELF PREFER': -5.8565035616738648, 'SELF BROTHER': -inf, 'SELF BORROW': -inf, 'SELF LEAVE': -inf, 'SELF FIND': -inf, 'SELF WILL': -inf, 'SELF WHAT': -inf, 'SELF BUY': -inf, 'SELF GET': -inf, 'SELF BUT': -inf, 'SELF CHOCOLATE': -inf, 'SELF HOMEWORK': -inf, 'SELF FINISH': -inf, 'SELF LOVE': -inf, 'SELF VISIT': -inf, 'SELF SOMETHING-ONE': -inf, 'SELF POSS': -inf, 'SELF POTATO': -inf, 'SELF ANN': -inf, 'SELF TELL': -inf, 'SELF BREAK-DOWN': -inf, 'SELF NOT': -inf, 'SELF TEACHER': -inf, 'SELF IX-1P': -inf, 'SELF GIVE': -inf, 'SELF READ': -inf, 'SELF FISH': -inf, 'SELF KNOW': -inf, 'SELF DECIDE': -inf, 'SELF SEARCH-FOR': -inf, 'SELF NEW': -inf, 'SELF OLD': -inf, 'SELF APPLE': -inf, 'SELF SHOOT': -inf, 'SELF WHO': -inf, 'SELF SAY': -inf, 'SELF TOMORROW': -inf, 'SELF SEE': -inf, 'SELF ARRIVE': -inf, 'SELF FRIEND': -inf, 'SELF CORN': -inf, 'SELF HERE': -inf, 'SELF FRED': -inf, 'SELF WRITE': -inf, 'SELF VEGETABLE': -inf, 'SELF BLUE': -inf, 'SELF ALL': -inf, 'SELF JOHN': -inf, 'SELF LIKE': -inf, 'SELF LEG': -inf, 'SELF BILL': -inf, 'SELF LAST-WEEK': -inf, 'SELF YESTERDAY': -inf, 'SELF SHOULD': -inf, 'SELF BOOK': -inf, 'SELF CHINA': -inf, 'SELF STUDENT': -inf, 'SELF MARY': -inf, 'SELF TOY': -inf, 'SELF CAR': -inf, 'SELF CAN': -inf, 'SELF HIT': -inf, 'SELF COAT': -inf, 'SELF NEW-YORK': -inf, 'SELF BROCCOLI': -inf, 'SELF MOTHER': -inf, 'SELF EAT': -inf, 'SELF IX': -inf, 'SELF CANDY': -inf, 'SELF NEXT-WEEK': -inf, 'SELF THINK': -inf, 'SELF SELL': -inf, 'SELF STOLEN': -inf, 'SELF SELF': -inf, 'SELF SAY-1P': -inf, 'SELF CHICKEN': -inf, 'SELF JANA': -inf, 'SELF THROW': -inf, 'SELF <START>': -inf, 'SELF <END>': -inf, 'SAY-1P BOX': -inf, 'SAY-1P BOY': -inf, 'SAY-1P PUTASIDE': -inf, 'SAY-1P SUE': -inf, 'SAY-1P HAVE': -inf, 'SAY-1P GIRL': -inf, 'SAY-1P WONT': -inf, 'SAY-1P WOMAN': -inf, 'SAY-1P MANY': -inf, 'SAY-1P PEOPLE': -inf, 'SAY-1P LIVE': -inf, 'SAY-1P CHICAGO': -inf, 'SAY-1P PAST': -inf, 'SAY-1P GO': -inf, 'SAY-1P PARTY': -inf, 'SAY-1P NAME': -inf, 'SAY-1P FRANK': -inf, 'SAY-1P BLAME': -inf, 'SAY-1P FUTURE': -inf, 'SAY-1P HOUSE': -inf, 'SAY-1P MAN': -inf, 'SAY-1P GROUP': -inf, 'SAY-1P WANT': -inf, 'SAY-1P VIDEOTAPE': -inf, 'SAY-1P MOVIE': -inf, 'SAY-1P PREFER': -inf, 'SAY-1P BROTHER': -inf, 'SAY-1P BORROW': -inf, 'SAY-1P LEAVE': -inf, 'SAY-1P FIND': -inf, 'SAY-1P WILL': -inf, 'SAY-1P WHAT': -inf, 'SAY-1P BUY': -inf, 'SAY-1P GET': -inf, 'SAY-1P BUT': -inf, 'SAY-1P CHOCOLATE': -inf, 'SAY-1P HOMEWORK': -inf, 'SAY-1P FINISH': -inf, 'SAY-1P LOVE': -6.5496507422338102, 'SAY-1P VISIT': -inf, 'SAY-1P SOMETHING-ONE': -inf, 'SAY-1P POSS': -inf, 'SAY-1P POTATO': -inf, 'SAY-1P ANN': -inf, 'SAY-1P TELL': -inf, 'SAY-1P BREAK-DOWN': -inf, 'SAY-1P NOT': -inf, 'SAY-1P TEACHER': -inf, 'SAY-1P IX-1P': -inf, 'SAY-1P GIVE': -inf, 'SAY-1P READ': -inf, 'SAY-1P FISH': -inf, 'SAY-1P KNOW': -inf, 'SAY-1P DECIDE': -inf, 'SAY-1P SEARCH-FOR': -inf, 'SAY-1P NEW': -inf, 'SAY-1P OLD': -inf, 'SAY-1P APPLE': -inf, 'SAY-1P SHOOT': -inf, 'SAY-1P WHO': -inf, 'SAY-1P SAY': -inf, 'SAY-1P TOMORROW': -inf, 'SAY-1P SEE': -inf, 'SAY-1P ARRIVE': -inf, 'SAY-1P FRIEND': -inf, 'SAY-1P CORN': -inf, 'SAY-1P HERE': -inf, 'SAY-1P FRED': -inf, 'SAY-1P WRITE': -inf, 'SAY-1P VEGETABLE': -inf, 'SAY-1P BLUE': -inf, 'SAY-1P ALL': -inf, 'SAY-1P JOHN': -inf, 'SAY-1P LIKE': -inf, 'SAY-1P LEG': -inf, 'SAY-1P BILL': -inf, 'SAY-1P LAST-WEEK': -inf, 'SAY-1P YESTERDAY': -inf, 'SAY-1P SHOULD': -inf, 'SAY-1P BOOK': -inf, 'SAY-1P CHINA': -inf, 'SAY-1P STUDENT': -inf, 'SAY-1P MARY': -inf, 'SAY-1P TOY': -inf, 'SAY-1P CAR': -inf, 'SAY-1P CAN': -inf, 'SAY-1P HIT': -inf, 'SAY-1P COAT': -inf, 'SAY-1P NEW-YORK': -inf, 'SAY-1P BROCCOLI': -inf, 'SAY-1P MOTHER': -inf, 'SAY-1P EAT': -inf, 'SAY-1P IX': -inf, 'SAY-1P CANDY': -inf, 'SAY-1P NEXT-WEEK': -inf, 'SAY-1P THINK': -inf, 'SAY-1P SELL': -inf, 'SAY-1P STOLEN': -inf, 'SAY-1P SELF': -inf, 'SAY-1P SAY-1P': -inf, 'SAY-1P CHICKEN': -inf, 'SAY-1P JANA': -inf, 'SAY-1P THROW': -inf, 'SAY-1P <START>': -inf, 'SAY-1P <END>': -inf, 'CHICKEN BOX': -inf, 'CHICKEN BOY': -inf, 'CHICKEN PUTASIDE': -inf, 'CHICKEN SUE': -inf, 'CHICKEN HAVE': -inf, 'CHICKEN GIRL': -inf, 'CHICKEN WONT': -inf, 'CHICKEN WOMAN': -inf, 'CHICKEN MANY': -inf, 'CHICKEN PEOPLE': -inf, 'CHICKEN LIVE': -inf, 'CHICKEN CHICAGO': -inf, 'CHICKEN PAST': -inf, 'CHICKEN GO': -inf, 'CHICKEN PARTY': -inf, 'CHICKEN NAME': -inf, 'CHICKEN FRANK': -inf, 'CHICKEN BLAME': -inf, 'CHICKEN FUTURE': -inf, 'CHICKEN HOUSE': -inf, 'CHICKEN MAN': -inf, 'CHICKEN GROUP': -inf, 'CHICKEN WANT': -inf, 'CHICKEN VIDEOTAPE': -inf, 'CHICKEN MOVIE': -inf, 'CHICKEN PREFER': -inf, 'CHICKEN BROTHER': -inf, 'CHICKEN BORROW': -inf, 'CHICKEN LEAVE': -inf, 'CHICKEN FIND': -inf, 'CHICKEN WILL': -inf, 'CHICKEN WHAT': -inf, 'CHICKEN BUY': -inf, 'CHICKEN GET': -inf, 'CHICKEN BUT': -inf, 'CHICKEN CHOCOLATE': -inf, 'CHICKEN HOMEWORK': -inf, 'CHICKEN FINISH': -inf, 'CHICKEN LOVE': -inf, 'CHICKEN VISIT': -inf, 'CHICKEN SOMETHING-ONE': -inf, 'CHICKEN POSS': -inf, 'CHICKEN POTATO': -inf, 'CHICKEN ANN': -inf, 'CHICKEN TELL': -inf, 'CHICKEN BREAK-DOWN': -inf, 'CHICKEN NOT': -inf, 'CHICKEN TEACHER': -inf, 'CHICKEN IX-1P': -inf, 'CHICKEN GIVE': -inf, 'CHICKEN READ': -inf, 'CHICKEN FISH': -inf, 'CHICKEN KNOW': -inf, 'CHICKEN DECIDE': -inf, 'CHICKEN SEARCH-FOR': -inf, 'CHICKEN NEW': -inf, 'CHICKEN OLD': -inf, 'CHICKEN APPLE': -inf, 'CHICKEN SHOOT': -inf, 'CHICKEN WHO': -inf, 'CHICKEN SAY': -inf, 'CHICKEN TOMORROW': -inf, 'CHICKEN SEE': -inf, 'CHICKEN ARRIVE': -inf, 'CHICKEN FRIEND': -inf, 'CHICKEN CORN': -inf, 'CHICKEN HERE': -inf, 'CHICKEN FRED': -inf, 'CHICKEN WRITE': -inf, 'CHICKEN VEGETABLE': -inf, 'CHICKEN BLUE': -inf, 'CHICKEN ALL': -inf, 'CHICKEN JOHN': -inf, 'CHICKEN LIKE': -inf, 'CHICKEN LEG': -inf, 'CHICKEN BILL': -inf, 'CHICKEN LAST-WEEK': -inf, 'CHICKEN YESTERDAY': -inf, 'CHICKEN SHOULD': -inf, 'CHICKEN BOOK': -inf, 'CHICKEN CHINA': -inf, 'CHICKEN STUDENT': -inf, 'CHICKEN MARY': -inf, 'CHICKEN TOY': -inf, 'CHICKEN CAR': -inf, 'CHICKEN CAN': -inf, 'CHICKEN HIT': -inf, 'CHICKEN COAT': -inf, 'CHICKEN NEW-YORK': -inf, 'CHICKEN BROCCOLI': -inf, 'CHICKEN MOTHER': -inf, 'CHICKEN EAT': -inf, 'CHICKEN IX': -inf, 'CHICKEN CANDY': -inf, 'CHICKEN NEXT-WEEK': -inf, 'CHICKEN THINK': -inf, 'CHICKEN SELL': -inf, 'CHICKEN STOLEN': -inf, 'CHICKEN SELF': -inf, 'CHICKEN SAY-1P': -inf, 'CHICKEN CHICKEN': -inf, 'CHICKEN JANA': -inf, 'CHICKEN THROW': -inf, 'CHICKEN <START>': -inf, 'CHICKEN <END>': -6.5496507422338102, 'JANA BOX': -inf, 'JANA BOY': -inf, 'JANA PUTASIDE': -inf, 'JANA SUE': -inf, 'JANA HAVE': -inf, 'JANA GIRL': -inf, 'JANA WONT': -inf, 'JANA WOMAN': -inf, 'JANA MANY': -inf, 'JANA PEOPLE': -inf, 'JANA LIVE': -inf, 'JANA CHICAGO': -inf, 'JANA PAST': -inf, 'JANA GO': -inf, 'JANA PARTY': -inf, 'JANA NAME': -inf, 'JANA FRANK': -inf, 'JANA BLAME': -inf, 'JANA FUTURE': -inf, 'JANA HOUSE': -inf, 'JANA MAN': -inf, 'JANA GROUP': -inf, 'JANA WANT': -inf, 'JANA VIDEOTAPE': -inf, 'JANA MOVIE': -inf, 'JANA PREFER': -inf, 'JANA BROTHER': -inf, 'JANA BORROW': -inf, 'JANA LEAVE': -inf, 'JANA FIND': -inf, 'JANA WILL': -inf, 'JANA WHAT': -inf, 'JANA BUY': -inf, 'JANA GET': -inf, 'JANA BUT': -inf, 'JANA CHOCOLATE': -inf, 'JANA HOMEWORK': -inf, 'JANA FINISH': -inf, 'JANA LOVE': -inf, 'JANA VISIT': -inf, 'JANA SOMETHING-ONE': -inf, 'JANA POSS': -inf, 'JANA POTATO': -inf, 'JANA ANN': -inf, 'JANA TELL': -inf, 'JANA BREAK-DOWN': -inf, 'JANA NOT': -inf, 'JANA TEACHER': -inf, 'JANA IX-1P': -inf, 'JANA GIVE': -inf, 'JANA READ': -inf, 'JANA FISH': -inf, 'JANA KNOW': -inf, 'JANA DECIDE': -inf, 'JANA SEARCH-FOR': -inf, 'JANA NEW': -inf, 'JANA OLD': -inf, 'JANA APPLE': -inf, 'JANA SHOOT': -inf, 'JANA WHO': -inf, 'JANA SAY': -inf, 'JANA TOMORROW': -inf, 'JANA SEE': -inf, 'JANA ARRIVE': -inf, 'JANA FRIEND': -inf, 'JANA CORN': -inf, 'JANA HERE': -inf, 'JANA FRED': -inf, 'JANA WRITE': -inf, 'JANA VEGETABLE': -inf, 'JANA BLUE': -inf, 'JANA ALL': -inf, 'JANA JOHN': -inf, 'JANA LIKE': -inf, 'JANA LEG': -inf, 'JANA BILL': -inf, 'JANA LAST-WEEK': -inf, 'JANA YESTERDAY': -inf, 'JANA SHOULD': -inf, 'JANA BOOK': -inf, 'JANA CHINA': -inf, 'JANA STUDENT': -inf, 'JANA MARY': -inf, 'JANA TOY': -5.8565035616738648, 'JANA CAR': -inf, 'JANA CAN': -inf, 'JANA HIT': -inf, 'JANA COAT': -inf, 'JANA NEW-YORK': -inf, 'JANA BROCCOLI': -inf, 'JANA MOTHER': -inf, 'JANA EAT': -inf, 'JANA IX': -inf, 'JANA CANDY': -inf, 'JANA NEXT-WEEK': -inf, 'JANA THINK': -inf, 'JANA SELL': -inf, 'JANA STOLEN': -inf, 'JANA SELF': -inf, 'JANA SAY-1P': -inf, 'JANA CHICKEN': -inf, 'JANA JANA': -inf, 'JANA THROW': -inf, 'JANA <START>': -inf, 'JANA <END>': -inf, 'THROW BOX': -inf, 'THROW BOY': -inf, 'THROW PUTASIDE': -inf, 'THROW SUE': -inf, 'THROW HAVE': -inf, 'THROW GIRL': -inf, 'THROW WONT': -inf, 'THROW WOMAN': -inf, 'THROW MANY': -inf, 'THROW PEOPLE': -inf, 'THROW LIVE': -inf, 'THROW CHICAGO': -inf, 'THROW PAST': -inf, 'THROW GO': -inf, 'THROW PARTY': -inf, 'THROW NAME': -inf, 'THROW FRANK': -inf, 'THROW BLAME': -inf, 'THROW FUTURE': -inf, 'THROW HOUSE': -inf, 'THROW MAN': -inf, 'THROW GROUP': -inf, 'THROW WANT': -inf, 'THROW VIDEOTAPE': -inf, 'THROW MOVIE': -inf, 'THROW PREFER': -inf, 'THROW BROTHER': -inf, 'THROW BORROW': -inf, 'THROW LEAVE': -inf, 'THROW FIND': -inf, 'THROW WILL': -inf, 'THROW WHAT': -inf, 'THROW BUY': -inf, 'THROW GET': -inf, 'THROW BUT': -inf, 'THROW CHOCOLATE': -inf, 'THROW HOMEWORK': -inf, 'THROW FINISH': -inf, 'THROW LOVE': -inf, 'THROW VISIT': -inf, 'THROW SOMETHING-ONE': -inf, 'THROW POSS': -inf, 'THROW POTATO': -inf, 'THROW ANN': -inf, 'THROW TELL': -inf, 'THROW BREAK-DOWN': -inf, 'THROW NOT': -inf, 'THROW TEACHER': -inf, 'THROW IX-1P': -inf, 'THROW GIVE': -inf, 'THROW READ': -inf, 'THROW FISH': -inf, 'THROW KNOW': -inf, 'THROW DECIDE': -inf, 'THROW SEARCH-FOR': -inf, 'THROW NEW': -inf, 'THROW OLD': -inf, 'THROW APPLE': -5.8565035616738648, 'THROW SHOOT': -inf, 'THROW WHO': -inf, 'THROW SAY': -inf, 'THROW TOMORROW': -inf, 'THROW SEE': -inf, 'THROW ARRIVE': -inf, 'THROW FRIEND': -inf, 'THROW CORN': -inf, 'THROW HERE': -inf, 'THROW FRED': -inf, 'THROW WRITE': -inf, 'THROW VEGETABLE': -inf, 'THROW BLUE': -inf, 'THROW ALL': -inf, 'THROW JOHN': -inf, 'THROW LIKE': -inf, 'THROW LEG': -inf, 'THROW BILL': -inf, 'THROW LAST-WEEK': -inf, 'THROW YESTERDAY': -inf, 'THROW SHOULD': -inf, 'THROW BOOK': -inf, 'THROW CHINA': -inf, 'THROW STUDENT': -inf, 'THROW MARY': -inf, 'THROW TOY': -inf, 'THROW CAR': -inf, 'THROW CAN': -inf, 'THROW HIT': -inf, 'THROW COAT': -inf, 'THROW NEW-YORK': -inf, 'THROW BROCCOLI': -inf, 'THROW MOTHER': -inf, 'THROW EAT': -inf, 'THROW IX': -inf, 'THROW CANDY': -inf, 'THROW NEXT-WEEK': -inf, 'THROW THINK': -inf, 'THROW SELL': -inf, 'THROW STOLEN': -inf, 'THROW SELF': -inf, 'THROW SAY-1P': -inf, 'THROW CHICKEN': -inf, 'THROW JANA': -inf, 'THROW THROW': -inf, 'THROW <START>': -inf, 'THROW <END>': -inf, '<START> BOX': -inf, '<START> BOY': -inf, '<START> PUTASIDE': -inf, '<START> SUE': -5.8565035616738648, '<START> HAVE': -inf, '<START> GIRL': -inf, '<START> WONT': -inf, '<START> WOMAN': -6.5496507422338102, '<START> MANY': -6.5496507422338102, '<START> PEOPLE': -6.5496507422338102, '<START> LIVE': -inf, '<START> CHICAGO': -inf, '<START> PAST': -inf, '<START> GO': -inf, '<START> PARTY': -inf, '<START> NAME': -6.5496507422338102, '<START> FRANK': -5.8565035616738648, '<START> BLAME': -inf, '<START> FUTURE': -6.5496507422338102, '<START> HOUSE': -inf, '<START> MAN': -inf, '<START> GROUP': -inf, '<START> WANT': -inf, '<START> VIDEOTAPE': -inf, '<START> MOVIE': -inf, '<START> PREFER': -inf, '<START> BROTHER': -inf, '<START> BORROW': -inf, '<START> LEAVE': -inf, '<START> FIND': -inf, '<START> WILL': -inf, '<START> WHAT': -4.6037405931784967, '<START> BUY': -inf, '<START> GET': -inf, '<START> BUT': -inf, '<START> CHOCOLATE': -inf, '<START> HOMEWORK': -inf, '<START> FINISH': -inf, '<START> LOVE': -5.1633563811139194, '<START> VISIT': -inf, '<START> SOMETHING-ONE': -4.9402128297997097, '<START> POSS': -6.5496507422338102, '<START> POTATO': -inf, '<START> ANN': -6.5496507422338102, '<START> TELL': -5.8565035616738648, '<START> BREAK-DOWN': -inf, '<START> NOT': -inf, '<START> TEACHER': -6.5496507422338102, '<START> IX-1P': -5.8565035616738648, '<START> GIVE': -inf, '<START> READ': -inf, '<START> FISH': -inf, '<START> KNOW': -inf, '<START> DECIDE': -inf, '<START> SEARCH-FOR': -inf, '<START> NEW': -inf, '<START> OLD': -inf, '<START> APPLE': -inf, '<START> SHOOT': -6.5496507422338102, '<START> WHO': -4.6037405931784967, '<START> SAY': -inf, '<START> TOMORROW': -inf, '<START> SEE': -inf, '<START> ARRIVE': -5.8565035616738648, '<START> FRIEND': -inf, '<START> CORN': -inf, '<START> HERE': -inf, '<START> FRED': -inf, '<START> WRITE': -inf, '<START> VEGETABLE': -6.5496507422338102, '<START> BLUE': -inf, '<START> ALL': -6.5496507422338102, '<START> JOHN': -2.2729846232177549, '<START> LIKE': -6.5496507422338102, '<START> LEG': -inf, '<START> BILL': -inf, '<START> LAST-WEEK': -6.5496507422338102, '<START> YESTERDAY': -inf, '<START> SHOULD': -inf, '<START> BOOK': -inf, '<START> CHINA': -inf, '<START> STUDENT': -inf, '<START> MARY': -4.9402128297997097, '<START> TOY': -inf, '<START> CAR': -inf, '<START> CAN': -inf, '<START> HIT': -inf, '<START> COAT': -inf, '<START> NEW-YORK': -inf, '<START> BROCCOLI': -inf, '<START> MOTHER': -inf, '<START> EAT': -inf, '<START> IX': -4.6037405931784967, '<START> CANDY': -inf, '<START> NEXT-WEEK': -6.5496507422338102, '<START> THINK': -inf, '<START> SELL': -inf, '<START> STOLEN': -inf, '<START> SELF': -inf, '<START> SAY-1P': -inf, '<START> CHICKEN': -inf, '<START> JANA': -inf, '<START> THROW': -inf, '<START> <START>': -inf, '<START> <END>': -inf, '<END> BOX': -inf, '<END> BOY': -inf, '<END> PUTASIDE': -inf, '<END> SUE': -inf, '<END> HAVE': -inf, '<END> GIRL': -inf, '<END> WONT': -inf, '<END> WOMAN': -inf, '<END> MANY': -inf, '<END> PEOPLE': -inf, '<END> LIVE': -inf, '<END> CHICAGO': -inf, '<END> PAST': -inf, '<END> GO': -inf, '<END> PARTY': -inf, '<END> NAME': -inf, '<END> FRANK': -inf, '<END> BLAME': -inf, '<END> FUTURE': -inf, '<END> HOUSE': -inf, '<END> MAN': -inf, '<END> GROUP': -inf, '<END> WANT': -inf, '<END> VIDEOTAPE': -inf, '<END> MOVIE': -inf, '<END> PREFER': -inf, '<END> BROTHER': -inf, '<END> BORROW': -inf, '<END> LEAVE': -inf, '<END> FIND': -inf, '<END> WILL': -inf, '<END> WHAT': -inf, '<END> BUY': -inf, '<END> GET': -inf, '<END> BUT': -inf, '<END> CHOCOLATE': -inf, '<END> HOMEWORK': -inf, '<END> FINISH': -inf, '<END> LOVE': -inf, '<END> VISIT': -inf, '<END> SOMETHING-ONE': -inf, '<END> POSS': -inf, '<END> POTATO': -inf, '<END> ANN': -inf, '<END> TELL': -inf, '<END> BREAK-DOWN': -inf, '<END> NOT': -inf, '<END> TEACHER': -inf, '<END> IX-1P': -inf, '<END> GIVE': -inf, '<END> READ': -inf, '<END> FISH': -inf, '<END> KNOW': -inf, '<END> DECIDE': -inf, '<END> SEARCH-FOR': -inf, '<END> NEW': -inf, '<END> OLD': -inf, '<END> APPLE': -inf, '<END> SHOOT': -inf, '<END> WHO': -inf, '<END> SAY': -inf, '<END> TOMORROW': -inf, '<END> SEE': -inf, '<END> ARRIVE': -inf, '<END> FRIEND': -inf, '<END> CORN': -inf, '<END> HERE': -inf, '<END> FRED': -inf, '<END> WRITE': -inf, '<END> VEGETABLE': -inf, '<END> BLUE': -inf, '<END> ALL': -inf, '<END> JOHN': -inf, '<END> LIKE': -inf, '<END> LEG': -inf, '<END> BILL': -inf, '<END> LAST-WEEK': -inf, '<END> YESTERDAY': -inf, '<END> SHOULD': -inf, '<END> BOOK': -inf, '<END> CHINA': -inf, '<END> STUDENT': -inf, '<END> MARY': -inf, '<END> TOY': -inf, '<END> CAR': -inf, '<END> CAN': -inf, '<END> HIT': -inf, '<END> COAT': -inf, '<END> NEW-YORK': -inf, '<END> BROCCOLI': -inf, '<END> MOTHER': -inf, '<END> EAT': -inf, '<END> IX': -inf, '<END> CANDY': -inf, '<END> NEXT-WEEK': -inf, '<END> THINK': -inf, '<END> SELL': -inf, '<END> STOLEN': -inf, '<END> SELF': -inf, '<END> SAY-1P': -inf, '<END> CHICKEN': -inf, '<END> JANA': -inf, '<END> THROW': -inf, '<END> <START>': -inf, '<END> <END>': -inf}\n"
     ]
    }
   ],
   "source": [
    "# read in language model training data\n",
    "\n",
    "counter_unigram = 0\n",
    "counter_bigram = 0\n",
    "for line in open('data/devel-train.corpus.sentences-for-lm-training',\"r\").readlines():\n",
    "    sentence = line.strip().split(' ')\n",
    "    for word in sentence:\n",
    "        lm_counts_unigram[word] += 1\n",
    "        counter_unigram += 1\n",
    "    #sentence.insert(0,'<START>')\n",
    "    #sentence.append('<END>')\n",
    "    for i in range(len(sentence)):\n",
    "        try:\n",
    "            bigram = sentence[i] + ' ' + sentence[i+1]\n",
    "            lm_counts_bigram[bigram] += 1\n",
    "            counter_bigram += 1\n",
    "        except IndexError:\n",
    "            continue\n",
    "            \n",
    "for key in lm_probabilities_unigram.keys():\n",
    "    lm_probabilities_unigram[key] = np.log(lm_counts_unigram[key] / float(counter_unigram))\n",
    "for key in lm_probabilities_bigram.keys():\n",
    "    lm_probabilities_bigram[key] = np.log(lm_counts_bigram[key] / float(counter_bigram))\n",
    "\n",
    "print(lm_probabilities_unigram)\n",
    "print(lm_probabilities_bigram)"
   ]
  },
  {
   "cell_type": "code",
   "execution_count": 171,
   "metadata": {
    "collapsed": false
   },
   "outputs": [
    {
     "name": "stdout",
     "output_type": "stream",
     "text": [
      "{2: [0, 1, 2], 7: [3, 4, 5, 6], 12: [7, 8, 9, 10], 21: [11, 12, 13, 14, 15, 16, 17, 18], 25: [19, 20, 21, 22, 23], 28: [24, 25, 26, 27, 28], 30: [29, 30, 31, 32, 33], 36: [34, 35, 36, 37, 38, 39], 40: [40, 41, 42, 43, 44], 43: [45, 46, 47, 48], 50: [49, 50, 51, 52, 53], 54: [54, 55, 56, 57, 58], 57: [59, 60, 61, 62], 67: [63, 64, 65, 66, 67], 71: [68, 69, 70, 71], 74: [72, 73, 74, 75], 77: [76, 77, 78], 84: [79, 80, 81, 82], 89: [83, 84, 85, 86, 87, 88, 89], 90: [90, 91, 92, 93, 94, 95], 92: [96, 97, 98, 99, 100, 101], 100: [102, 103, 104, 105], 105: [106, 107], 107: [108, 109, 110, 111, 112], 108: [113, 114], 113: [115, 116, 117, 118, 119], 119: [120, 121, 122, 123, 124], 122: [125, 126, 127], 139: [128, 129, 130, 131, 132], 142: [133, 134, 135, 136, 137], 158: [138, 139, 140], 167: [141, 142, 143, 144, 145], 171: [146, 147, 148], 174: [149, 150, 151, 152, 153], 181: [154, 155], 184: [156, 157, 158, 159, 160], 189: [161, 162, 163, 164], 193: [165, 166, 167, 168], 199: [169, 170, 171], 201: [172, 173, 174, 175, 176, 177]}\n"
     ]
    },
    {
     "ename": "IndexError",
     "evalue": "list index out of range",
     "output_type": "error",
     "traceback": [
      "\u001b[0;31m---------------------------------------------------------------------------\u001b[0m",
      "\u001b[0;31mIndexError\u001b[0m                                Traceback (most recent call last)",
      "\u001b[0;32m<ipython-input-171-41f3014529af>\u001b[0m in \u001b[0;36m<module>\u001b[0;34m()\u001b[0m\n\u001b[1;32m      7\u001b[0m         \u001b[0mbestLogL\u001b[0m \u001b[0;34m=\u001b[0m \u001b[0;34m-\u001b[0m\u001b[0mfloat\u001b[0m\u001b[0;34m(\u001b[0m\u001b[0;34m'inf'\u001b[0m\u001b[0;34m)\u001b[0m\u001b[0;34m\u001b[0m\u001b[0m\n\u001b[1;32m      8\u001b[0m         \u001b[0mbestGuess\u001b[0m \u001b[0;34m=\u001b[0m \u001b[0;32mNone\u001b[0m\u001b[0;34m\u001b[0m\u001b[0m\n\u001b[0;32m----> 9\u001b[0;31m         \u001b[0mprevious_word\u001b[0m \u001b[0;34m=\u001b[0m \u001b[0mlm_sentence_guess\u001b[0m\u001b[0;34m[\u001b[0m\u001b[0;34m-\u001b[0m\u001b[0;36m1\u001b[0m\u001b[0;34m]\u001b[0m\u001b[0;34m\u001b[0m\u001b[0m\n\u001b[0m\u001b[1;32m     10\u001b[0m         \u001b[0;32mfor\u001b[0m \u001b[0mguess\u001b[0m \u001b[0;32min\u001b[0m \u001b[0mvocab\u001b[0m\u001b[0;34m:\u001b[0m\u001b[0;34m\u001b[0m\u001b[0m\n\u001b[1;32m     11\u001b[0m             \u001b[0;31m#if guess in ['<START>', '<END>']:\u001b[0m\u001b[0;34m\u001b[0m\u001b[0;34m\u001b[0m\u001b[0m\n",
      "\u001b[0;31mIndexError\u001b[0m: list index out of range"
     ]
    }
   ],
   "source": [
    "lm_guesses = []\n",
    "print(test_set.sentences_index) \n",
    "for key in test_set.sentences_index.keys():\n",
    "    #lm_sentence_guess = ['<START>']\n",
    "    lm_sentence_guess = []\n",
    "    for i in test_set.sentences_index[key]:\n",
    "        bestLogL = -float('inf')\n",
    "        bestGuess = None\n",
    "        previous_word = lm_sentence_guess[-1]\n",
    "        for guess in vocab:\n",
    "            #if guess in ['<START>', '<END>']:\n",
    "            #    continue\n",
    "            logL = probabilities[i][guess] + lm_probabilities_unigram[guess] + lm_probabilities_bigram[previous_word + ' ' + guess]\n",
    "            if logL > bestLogL:\n",
    "                bestLogL = logL\n",
    "                bestGuess = guess\n",
    "        lm_sentence_guess.append(bestGuess)\n",
    "        lm_guesses.append(bestGuess)\n",
    "print(lm_guesses)\n",
    "print(None in lm_guesses)"
   ]
  },
  {
   "cell_type": "code",
   "execution_count": 170,
   "metadata": {
    "collapsed": false
   },
   "outputs": [
    {
     "name": "stdout",
     "output_type": "stream",
     "text": [
      "\n",
      "**** WER = 0.6067415730337079\n",
      "Total correct: 70 out of 178\n",
      "Video  Recognized                                                    Correct\n",
      "=====================================================================================================\n",
      "    2: JOHN WRITE HOMEWORK                                           JOHN WRITE HOMEWORK\n",
      "    7: JOHN *VISIT *MARY *JOHN                                       JOHN CAN GO CAN\n",
      "   12: JOHN CAN GO CAN                                               JOHN CAN GO CAN\n",
      "   21: JOHN *VISIT *MARY *JOHN *VISIT *WHAT *YESTERDAY *WHO          JOHN FISH WONT EAT BUT CAN EAT CHICKEN\n",
      "   25: JOHN LIKE *MARY *JOHN *LOVE                                   JOHN LIKE IX IX IX\n",
      "   28: JOHN LIKE *MARY *JOHN *LOVE                                   JOHN LIKE IX IX IX\n",
      "   30: JOHN LIKE IX IX IX                                            JOHN LIKE IX IX IX\n",
      "   36: MARY *JOHN *IX IX LIKE *MARY                                  MARY VEGETABLE KNOW IX LIKE CORN1\n",
      "   40: JOHN IX *GIRL *GIVE *IX                                       JOHN IX THINK MARY LOVE\n",
      "   43: JOHN *MARY *JOHN *CAN                                         JOHN MUST BUY HOUSE\n",
      "   50: *JOHN *SEE *JOHN *CAN *GO                                     FUTURE JOHN BUY CAR SHOULD\n",
      "   54: JOHN *MARY *JOHN BUY HOUSE                                    JOHN SHOULD NOT BUY HOUSE\n",
      "   57: JOHN *WHO *IX *IX                                             JOHN DECIDE VISIT MARY\n",
      "   67: JOHN FUTURE *JOHN BUY HOUSE                                   JOHN FUTURE NOT BUY HOUSE\n",
      "   71: JOHN *FUTURE *GO *CAN                                         JOHN WILL VISIT MARY\n",
      "   74: JOHN *MARY *JOHN *IX                                          JOHN NOT VISIT MARY\n",
      "   77: *JOHN *ARRIVE *WHO                                            ANN BLAME MARY\n",
      "   84: *JOHN *ARRIVE *WHO *ARRIVE                                    IX-1P FIND SOMETHING-ONE BOOK\n",
      "   89: JOHN IX *IX *IX IX NEW COAT                                   JOHN IX GIVE MAN IX NEW COAT\n",
      "   90: *SUE *BUY IX *IX *IX BOOK                                     JOHN GIVE IX SOMETHING-ONE WOMAN BOOK\n",
      "   92: JOHN *IX IX *IX *IX BOOK                                      JOHN GIVE IX SOMETHING-ONE WOMAN BOOK\n",
      "  100: *IX NEW CAR BREAK-DOWN                                        POSS NEW CAR BREAK-DOWN\n",
      "  105: JOHN *MARY                                                    JOHN LEG\n",
      "  107: JOHN POSS *CAR *FUTURE *JOHN                                  JOHN POSS FRIEND HAVE CANDY\n",
      "  108: *JOHN *IX                                                     WOMAN ARRIVE\n",
      "  113: *JOHN *ARRIVE *WHO *JOHN *ARRIVE                              IX CAR BLUE SUE BUY\n",
      "  119: *WHO *ARRIVE *WHO *ARRIVE *WHO                                SUE BUY IX CAR BLUE\n",
      "  122: JOHN *VISIT *WHO                                              JOHN READ BOOK\n",
      "  139: JOHN *LOVE WHAT YESTERDAY BOOK                                JOHN BUY WHAT YESTERDAY BOOK\n",
      "  142: JOHN BUY YESTERDAY WHAT BOOK                                  JOHN BUY YESTERDAY WHAT BOOK\n",
      "  158: LOVE *WHO *MARY                                               LOVE JOHN WHO\n",
      "  167: JOHN IX *IX *JOHN *IX                                         JOHN IX SAY LOVE MARY\n",
      "  171: JOHN *FUTURE *GO                                              JOHN MARY BLAME\n",
      "  174: *ARRIVE *WHO *MARY *JOHN *CAN                                 PEOPLE GROUP GIVE1 JANA TOY\n",
      "  181: *SUE *BUY                                                     JOHN ARRIVE\n"
     ]
    },
    {
     "ename": "TypeError",
     "evalue": "must be str, not NoneType",
     "output_type": "error",
     "traceback": [
      "\u001b[0;31m---------------------------------------------------------------------------\u001b[0m",
      "\u001b[0;31mTypeError\u001b[0m                                 Traceback (most recent call last)",
      "\u001b[0;32m<ipython-input-170-55ed098cbd84>\u001b[0m in \u001b[0;36m<module>\u001b[0;34m()\u001b[0m\n\u001b[0;32m----> 1\u001b[0;31m \u001b[0mshow_errors\u001b[0m\u001b[0;34m(\u001b[0m\u001b[0mlm_guesses\u001b[0m\u001b[0;34m,\u001b[0m \u001b[0mtest_set\u001b[0m\u001b[0;34m)\u001b[0m\u001b[0;34m\u001b[0m\u001b[0m\n\u001b[0m",
      "\u001b[0;32m/Users/dwright/dev/udacity/aind/AIND-Recognizer/asl_utils.py\u001b[0m in \u001b[0;36mshow_errors\u001b[0;34m(guesses, test_set)\u001b[0m\n\u001b[1;32m     35\u001b[0m         \u001b[0;32mfor\u001b[0m \u001b[0mi\u001b[0m \u001b[0;32min\u001b[0m \u001b[0mrange\u001b[0m\u001b[0;34m(\u001b[0m\u001b[0mlen\u001b[0m\u001b[0;34m(\u001b[0m\u001b[0mrecognized_sentence\u001b[0m\u001b[0;34m)\u001b[0m\u001b[0;34m)\u001b[0m\u001b[0;34m:\u001b[0m\u001b[0;34m\u001b[0m\u001b[0m\n\u001b[1;32m     36\u001b[0m             \u001b[0;32mif\u001b[0m \u001b[0mrecognized_sentence\u001b[0m\u001b[0;34m[\u001b[0m\u001b[0mi\u001b[0m\u001b[0;34m]\u001b[0m \u001b[0;34m!=\u001b[0m \u001b[0mcorrect_sentence\u001b[0m\u001b[0;34m[\u001b[0m\u001b[0mi\u001b[0m\u001b[0;34m]\u001b[0m\u001b[0;34m:\u001b[0m\u001b[0;34m\u001b[0m\u001b[0m\n\u001b[0;32m---> 37\u001b[0;31m                 \u001b[0mrecognized_sentence\u001b[0m\u001b[0;34m[\u001b[0m\u001b[0mi\u001b[0m\u001b[0;34m]\u001b[0m \u001b[0;34m=\u001b[0m \u001b[0;34m'*'\u001b[0m \u001b[0;34m+\u001b[0m \u001b[0mrecognized_sentence\u001b[0m\u001b[0;34m[\u001b[0m\u001b[0mi\u001b[0m\u001b[0;34m]\u001b[0m\u001b[0;34m\u001b[0m\u001b[0m\n\u001b[0m\u001b[1;32m     38\u001b[0m         \u001b[0mprint\u001b[0m\u001b[0;34m(\u001b[0m\u001b[0;34m'{:5}: {:60}  {}'\u001b[0m\u001b[0;34m.\u001b[0m\u001b[0mformat\u001b[0m\u001b[0;34m(\u001b[0m\u001b[0mvideo_num\u001b[0m\u001b[0;34m,\u001b[0m \u001b[0;34m' '\u001b[0m\u001b[0;34m.\u001b[0m\u001b[0mjoin\u001b[0m\u001b[0;34m(\u001b[0m\u001b[0mrecognized_sentence\u001b[0m\u001b[0;34m)\u001b[0m\u001b[0;34m,\u001b[0m \u001b[0;34m' '\u001b[0m\u001b[0;34m.\u001b[0m\u001b[0mjoin\u001b[0m\u001b[0;34m(\u001b[0m\u001b[0mcorrect_sentence\u001b[0m\u001b[0;34m)\u001b[0m\u001b[0;34m)\u001b[0m\u001b[0;34m)\u001b[0m\u001b[0;34m\u001b[0m\u001b[0m\n\u001b[1;32m     39\u001b[0m \u001b[0;34m\u001b[0m\u001b[0m\n",
      "\u001b[0;31mTypeError\u001b[0m: must be str, not NoneType"
     ]
    }
   ],
   "source": [
    "show_errors(lm_guesses, test_set)"
   ]
  },
  {
   "cell_type": "code",
   "execution_count": 123,
   "metadata": {
    "collapsed": false
   },
   "outputs": [
    {
     "name": "stdout",
     "output_type": "stream",
     "text": [
      "\n",
      "**** WER = 0.5056179775280899\n",
      "Total correct: 88 out of 178\n",
      "Video  Recognized                                                    Correct\n",
      "=====================================================================================================\n",
      "    2: JOHN WRITE HOMEWORK                                           JOHN WRITE HOMEWORK\n",
      "    7: JOHN *PEOPLE GO *ARRIVE                                       JOHN CAN GO CAN\n",
      "   12: JOHN CAN *GO1 CAN                                             JOHN CAN GO CAN\n",
      "   21: JOHN *VIDEOTAPE *GO EAT *CAR *CAR *FUTURE *EAT                JOHN FISH WONT EAT BUT CAN EAT CHICKEN\n",
      "   25: JOHN LIKE *LOVE *LIKE *LOVE                                   JOHN LIKE IX IX IX\n",
      "   28: JOHN LIKE *LOVE *JOHN *LOVE                                   JOHN LIKE IX IX IX\n",
      "   30: JOHN LIKE *LOVE *JOHN IX                                      JOHN LIKE IX IX IX\n",
      "   36: MARY *WHO *IX IX *MARY *JOHN                                  MARY VEGETABLE KNOW IX LIKE CORN1\n",
      "   40: JOHN IX *SUE *WHO *MARY                                       JOHN IX THINK MARY LOVE\n",
      "   43: JOHN *JOHN BUY HOUSE                                          JOHN MUST BUY HOUSE\n",
      "   50: *JOHN *SEE BUY CAR *JOHN                                      FUTURE JOHN BUY CAR SHOULD\n",
      "   54: JOHN *JOHN *WHO BUY HOUSE                                     JOHN SHOULD NOT BUY HOUSE\n",
      "   57: JOHN *WHO *IX *IX                                             JOHN DECIDE VISIT MARY\n",
      "   67: JOHN FUTURE *JOHN BUY HOUSE                                   JOHN FUTURE NOT BUY HOUSE\n",
      "   71: JOHN *JOHN VISIT MARY                                         JOHN WILL VISIT MARY\n",
      "   74: JOHN *MARY *IX *IX                                            JOHN NOT VISIT MARY\n",
      "   77: *JOHN BLAME *LOVE                                             ANN BLAME MARY\n",
      "   84: *JOHN *ARRIVE *VISIT *NEW-YORK                                IX-1P FIND SOMETHING-ONE BOOK\n",
      "   89: JOHN IX *IX *IX IX NEW COAT                                   JOHN IX GIVE MAN IX NEW COAT\n",
      "   90: *PREFER *IX IX *IX WOMAN BOOK                                 JOHN GIVE IX SOMETHING-ONE WOMAN BOOK\n",
      "   92: JOHN *IX IX *IX *IX BOOK                                      JOHN GIVE IX SOMETHING-ONE WOMAN BOOK\n",
      "  100: *IX NEW CAR BREAK-DOWN                                        POSS NEW CAR BREAK-DOWN\n",
      "  105: JOHN *TELL                                                    JOHN LEG\n",
      "  107: JOHN POSS *ARRIVE *MARY *MARY                                 JOHN POSS FRIEND HAVE CANDY\n",
      "  108: *JOHN *IX                                                     WOMAN ARRIVE\n",
      "  113: *JOHN CAR *IX SUE *ARRIVE                                     IX CAR BLUE SUE BUY\n",
      "  119: *WHO *BUY1 IX CAR *FUTURE                                     SUE BUY IX CAR BLUE\n",
      "  122: JOHN *GIVE1 BOOK                                              JOHN READ BOOK\n",
      "  139: JOHN *BUY1 WHAT *WHAT BOOK                                    JOHN BUY WHAT YESTERDAY BOOK\n",
      "  142: JOHN BUY YESTERDAY WHAT *NEW-YORK                             JOHN BUY YESTERDAY WHAT BOOK\n",
      "  158: LOVE *WHO WHO                                                 LOVE JOHN WHO\n",
      "  167: JOHN IX *IX LOVE *IX                                          JOHN IX SAY LOVE MARY\n",
      "  171: JOHN *JOHN BLAME                                              JOHN MARY BLAME\n",
      "  174: *CAR *GIVE1 GIVE1 *WHO *CAR                                   PEOPLE GROUP GIVE1 JANA TOY\n",
      "  181: *VISIT ARRIVE                                                 JOHN ARRIVE\n",
      "  184: *IX *FUTURE *GIVE1 TEACHER *WHO                               ALL BOY GIVE TEACHER APPLE\n",
      "  189: JOHN *IX *WHO *ARRIVE                                         JOHN GIVE GIRL BOX\n",
      "  193: JOHN *IX *IX BOX                                              JOHN GIVE GIRL BOX\n",
      "  199: *JOHN CHOCOLATE WHO                                           LIKE CHOCOLATE WHO\n",
      "  201: JOHN *THINK MARY *WOMAN BUY HOUSE                             JOHN TELL MARY IX-1P BUY HOUSE\n"
     ]
    }
   ],
   "source": [
    "show_errors(guesses, test_set)"
   ]
  },
  {
   "cell_type": "code",
   "execution_count": null,
   "metadata": {
    "collapsed": true
   },
   "outputs": [],
   "source": []
  }
 ],
 "metadata": {
  "anaconda-cloud": {},
  "kernelspec": {
   "display_name": "Python 3",
   "language": "python",
   "name": "python3"
  },
  "language_info": {
   "codemirror_mode": {
    "name": "ipython",
    "version": 3
   },
   "file_extension": ".py",
   "mimetype": "text/x-python",
   "name": "python",
   "nbconvert_exporter": "python",
   "pygments_lexer": "ipython3",
   "version": "3.6.0"
  },
  "nbpresent": {
   "slides": {
    "0a2d4faf-9fb8-4cee-853b-ed68b90f3f8a": {
     "id": "0a2d4faf-9fb8-4cee-853b-ed68b90f3f8a",
     "prev": null,
     "regions": {
      "3fb9ce83-fbb2-4995-832a-f8f400734ad3": {
       "attrs": {
        "height": 0.8,
        "width": 0.8,
        "x": 0.1,
        "y": 0.1
       },
       "content": {
        "cell": "1dbb9346-179b-4835-b430-6369d88f1a1b",
        "part": "whole"
       },
       "id": "3fb9ce83-fbb2-4995-832a-f8f400734ad3"
      }
     }
    },
    "1519a4fa-1588-4644-98de-9c43bf0aceb5": {
     "id": "1519a4fa-1588-4644-98de-9c43bf0aceb5",
     "prev": "8a712017-49b7-449f-8264-43a032ace902",
     "regions": {
      "29546121-ed11-44b7-8144-0c44e874098f": {
       "attrs": {
        "height": 0.8,
        "width": 0.8,
        "x": 0.1,
        "y": 0.1
       },
       "content": {
        "cell": "365590a4-6963-4812-a1cf-688f7b6bb9ff",
        "part": "whole"
       },
       "id": "29546121-ed11-44b7-8144-0c44e874098f"
      }
     }
    },
    "176eaccb-15dd-455d-bf07-504213e7aa01": {
     "id": "176eaccb-15dd-455d-bf07-504213e7aa01",
     "prev": "de6b30f4-2463-4901-92ed-aabad78e5e0f",
     "regions": {
      "1542aa9e-dc55-4b90-adef-bf5181872b42": {
       "attrs": {
        "height": 0.8,
        "width": 0.8,
        "x": 0.1,
        "y": 0.1
       },
       "content": {
        "cell": "5c242050-c1f7-4b3b-8103-2ea9d71a40dc",
        "part": "whole"
       },
       "id": "1542aa9e-dc55-4b90-adef-bf5181872b42"
      }
     }
    },
    "19091b36-b0e7-49b1-b501-ec05937e0da9": {
     "id": "19091b36-b0e7-49b1-b501-ec05937e0da9",
     "prev": "1983c02e-fb99-4c05-a728-e0c0ad7c06d8",
     "regions": {
      "6529a31c-8d45-425c-b1d7-d0ac6fca6a32": {
       "attrs": {
        "height": 0.8,
        "width": 0.8,
        "x": 0.1,
        "y": 0.1
       },
       "content": {
        "cell": "e766909d-9421-4aaf-9fb1-bc90d27e49e3",
        "part": "whole"
       },
       "id": "6529a31c-8d45-425c-b1d7-d0ac6fca6a32"
      }
     }
    },
    "1983c02e-fb99-4c05-a728-e0c0ad7c06d8": {
     "id": "1983c02e-fb99-4c05-a728-e0c0ad7c06d8",
     "prev": "176eaccb-15dd-455d-bf07-504213e7aa01",
     "regions": {
      "1c4e605d-7f22-4f30-b3fb-74b2937e7a4a": {
       "attrs": {
        "height": 0.8,
        "width": 0.8,
        "x": 0.1,
        "y": 0.1
       },
       "content": {
        "cell": "4d217204-e5c0-4568-bd30-12c2e41b681d",
        "part": "whole"
       },
       "id": "1c4e605d-7f22-4f30-b3fb-74b2937e7a4a"
      }
     }
    },
    "212b111f-4527-459c-8297-1db5580ee5c9": {
     "id": "212b111f-4527-459c-8297-1db5580ee5c9",
     "prev": "76898529-e49e-4663-8d02-8261dfe1d94b",
     "regions": {
      "2e4bd280-3cd6-47d0-9c81-17737b24053b": {
       "attrs": {
        "height": 0.8,
        "width": 0.8,
        "x": 0.1,
        "y": 0.1
       },
       "content": {
        "cell": "0c316996-9933-4b3d-82ec-259518dc8bc9",
        "part": "whole"
       },
       "id": "2e4bd280-3cd6-47d0-9c81-17737b24053b"
      }
     }
    },
    "23a7337f-a0cf-4ed4-baa9-ec06bfdc0579": {
     "id": "23a7337f-a0cf-4ed4-baa9-ec06bfdc0579",
     "prev": "e76e9a02-54c1-4ec9-80fb-c611ed398122",
     "regions": {
      "b5721d20-d6f8-4ddb-a5aa-eb16f0cc8893": {
       "attrs": {
        "height": 0.8,
        "width": 0.8,
        "x": 0.1,
        "y": 0.1
       },
       "content": {
        "cell": "313015a2-b5a9-4136-a8ea-5d011e47d840",
        "part": "whole"
       },
       "id": "b5721d20-d6f8-4ddb-a5aa-eb16f0cc8893"
      }
     }
    },
    "732f1952-ee54-46fb-8067-099512824296": {
     "id": "732f1952-ee54-46fb-8067-099512824296",
     "prev": "0a2d4faf-9fb8-4cee-853b-ed68b90f3f8a",
     "regions": {
      "f31d4597-08ad-4c46-ad52-4bd2d775c624": {
       "attrs": {
        "height": 0.8,
        "width": 0.8,
        "x": 0.1,
        "y": 0.1
       },
       "content": {
        "cell": "aadfec52-27ca-4541-8920-fa9253d51827",
        "part": "whole"
       },
       "id": "f31d4597-08ad-4c46-ad52-4bd2d775c624"
      }
     }
    },
    "76898529-e49e-4663-8d02-8261dfe1d94b": {
     "id": "76898529-e49e-4663-8d02-8261dfe1d94b",
     "prev": "19091b36-b0e7-49b1-b501-ec05937e0da9",
     "regions": {
      "ec1746fc-aec9-4a7c-8225-9e9ac8d45889": {
       "attrs": {
        "height": 0.8,
        "width": 0.8,
        "x": 0.1,
        "y": 0.1
       },
       "content": {
        "cell": "b3e539be-84e2-49ce-a183-31cfc5c7ce7c",
        "part": "whole"
       },
       "id": "ec1746fc-aec9-4a7c-8225-9e9ac8d45889"
      }
     }
    },
    "8a712017-49b7-449f-8264-43a032ace902": {
     "id": "8a712017-49b7-449f-8264-43a032ace902",
     "prev": "bed9e696-630e-4747-be1c-bc3737ba992f",
     "regions": {
      "1faab517-cd16-4c63-bb01-a67246749d7a": {
       "attrs": {
        "height": 0.8,
        "width": 0.8,
        "x": 0.1,
        "y": 0.1
       },
       "content": {
        "cell": "3f14ddf0-4145-4687-9c33-712c3c32520f",
        "part": "whole"
       },
       "id": "1faab517-cd16-4c63-bb01-a67246749d7a"
      }
     }
    },
    "90af992d-eb6d-4496-b2d2-6aa9a95b6a61": {
     "id": "90af992d-eb6d-4496-b2d2-6aa9a95b6a61",
     "prev": "732f1952-ee54-46fb-8067-099512824296",
     "regions": {
      "4f448bec-5be9-4553-88ae-e35ed7612f25": {
       "attrs": {
        "height": 0.8,
        "width": 0.8,
        "x": 0.1,
        "y": 0.1
       },
       "content": {
        "cell": "c445fbfb-b8ab-4e9a-8d13-12231a1c588f",
        "part": "whole"
       },
       "id": "4f448bec-5be9-4553-88ae-e35ed7612f25"
      }
     }
    },
    "bed9e696-630e-4747-be1c-bc3737ba992f": {
     "id": "bed9e696-630e-4747-be1c-bc3737ba992f",
     "prev": "23a7337f-a0cf-4ed4-baa9-ec06bfdc0579",
     "regions": {
      "ac1513f0-404f-492b-8b42-0313e9a753b0": {
       "attrs": {
        "height": 0.8,
        "width": 0.8,
        "x": 0.1,
        "y": 0.1
       },
       "content": {
        "cell": "18dd2eee-8b6c-4a5e-9539-132d00a7c7e1",
        "part": "whole"
       },
       "id": "ac1513f0-404f-492b-8b42-0313e9a753b0"
      }
     }
    },
    "de6b30f4-2463-4901-92ed-aabad78e5e0f": {
     "id": "de6b30f4-2463-4901-92ed-aabad78e5e0f",
     "prev": "e36b4639-be8c-46f7-a8c9-bcfb134f9fd0",
     "regions": {
      "55ec36e0-362f-4fd3-8060-7cee056039aa": {
       "attrs": {
        "height": 0.8,
        "width": 0.8,
        "x": 0.1,
        "y": 0.1
       },
       "content": {
        "cell": "c3cf461e-4c9e-4dec-99d2-07bfa79cbe23",
        "part": "whole"
       },
       "id": "55ec36e0-362f-4fd3-8060-7cee056039aa"
      }
     }
    },
    "e36b4639-be8c-46f7-a8c9-bcfb134f9fd0": {
     "id": "e36b4639-be8c-46f7-a8c9-bcfb134f9fd0",
     "prev": "1519a4fa-1588-4644-98de-9c43bf0aceb5",
     "regions": {
      "4c1e9714-9ba0-45fd-8a2f-ef80a5c85c2e": {
       "attrs": {
        "height": 0.8,
        "width": 0.8,
        "x": 0.1,
        "y": 0.1
       },
       "content": {
        "cell": "6534d4dc-125f-47e6-a022-cf1e0d277174",
        "part": "whole"
       },
       "id": "4c1e9714-9ba0-45fd-8a2f-ef80a5c85c2e"
      }
     }
    },
    "e76e9a02-54c1-4ec9-80fb-c611ed398122": {
     "id": "e76e9a02-54c1-4ec9-80fb-c611ed398122",
     "prev": "90af992d-eb6d-4496-b2d2-6aa9a95b6a61",
     "regions": {
      "9491b84d-193b-40ff-9321-d21eb1ba88d4": {
       "attrs": {
        "height": 0.8,
        "width": 0.8,
        "x": 0.1,
        "y": 0.1
       },
       "content": {
        "cell": "b64ec10e-fa9d-4f3f-907f-6799611ed6b1",
        "part": "whole"
       },
       "id": "9491b84d-193b-40ff-9321-d21eb1ba88d4"
      }
     }
    }
   },
   "themes": {}
  }
 },
 "nbformat": 4,
 "nbformat_minor": 0
}
